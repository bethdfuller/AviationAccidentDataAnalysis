{
  "cells": [
    {
      "cell_type": "markdown",
      "metadata": {
        "id": "view-in-github",
        "colab_type": "text"
      },
      "source": [
        "<a href=\"https://colab.research.google.com/github/bethdfuller/AviationAccidentDataAnalysis/blob/main/BFC964.ipynb\" target=\"_parent\"><img src=\"https://colab.research.google.com/assets/colab-badge.svg\" alt=\"Open In Colab\"/></a>"
      ]
    },
    {
      "cell_type": "markdown",
      "metadata": {
        "id": "pKdl4EUI2lue"
      },
      "source": [
        "# Load Data & Import Libraries "
      ]
    },
    {
      "cell_type": "code",
      "execution_count": null,
      "metadata": {
        "id": "9n9_cTveKmse"
      },
      "outputs": [],
      "source": [
        "import pandas as pd\n",
        "import matplotlib.pyplot as plt\n",
        "import numpy as np \n",
        "import seaborn as sns\n",
        "import plotly.express as px\n",
        "import plotly.graph_objects as go \n",
        "from scipy import stats\n",
        "\n",
        "from sklearn.linear_model import LinearRegression , LogisticRegression\n",
        "lm = LinearRegression()\n",
        "\n",
        "url = 'https://raw.githubusercontent.com/bethdfuller/Capstone/main/AviationData.csv'"
      ]
    },
    {
      "cell_type": "markdown",
      "metadata": {
        "id": "4ZXF1RW56fL-"
      },
      "source": [
        "\n",
        "\n",
        "*   Read CSV File\n",
        "*   Print Head of Data\n",
        "\n"
      ]
    },
    {
      "cell_type": "code",
      "execution_count": null,
      "metadata": {
        "id": "C8uDhlF15xNZ"
      },
      "outputs": [],
      "source": [
        "dfAviation = pd.read_csv(url, encoding = 'ISO-8859-1',low_memory=False)"
      ]
    },
    {
      "cell_type": "code",
      "execution_count": null,
      "metadata": {
        "id": "rlIrq8b46FCx",
        "colab": {
          "base_uri": "https://localhost:8080/"
        },
        "outputId": "ffb59db1-f444-438d-a7ae-183f47b6d9fa"
      },
      "outputs": [
        {
          "output_type": "execute_result",
          "data": {
            "text/plain": [
              "         Event.Id Investigation.Type Accident.Number  Event.Date  \\\n",
              "0  20001218X45444           Accident      SEA87LA080  1948-10-24   \n",
              "1  20001218X45447           Accident      LAX94LA336  1962-07-19   \n",
              "2  20061025X01555           Accident      NYC07LA005  1974-08-30   \n",
              "3  20001218X45448           Accident      LAX96LA321  1977-06-19   \n",
              "4  20041105X01764           Accident      CHI79FA064  1979-08-02   \n",
              "\n",
              "          Location        Country   Latitude   Longitude Airport.Code  \\\n",
              "0  MOOSE CREEK, ID  United States        NaN         NaN          NaN   \n",
              "1   BRIDGEPORT, CA  United States        NaN         NaN          NaN   \n",
              "2    Saltville, VA  United States  36.922223  -81.878056          NaN   \n",
              "3       EUREKA, CA  United States        NaN         NaN          NaN   \n",
              "4       Canton, OH  United States        NaN         NaN          NaN   \n",
              "\n",
              "  Airport.Name  ... Purpose.of.flight Air.carrier Total.Fatal.Injuries  \\\n",
              "0          NaN  ...          Personal         NaN                  2.0   \n",
              "1          NaN  ...          Personal         NaN                  4.0   \n",
              "2          NaN  ...          Personal         NaN                  3.0   \n",
              "3          NaN  ...          Personal         NaN                  2.0   \n",
              "4          NaN  ...          Personal         NaN                  1.0   \n",
              "\n",
              "  Total.Serious.Injuries Total.Minor.Injuries Total.Uninjured  \\\n",
              "0                    0.0                  0.0             0.0   \n",
              "1                    0.0                  0.0             0.0   \n",
              "2                    NaN                  NaN             NaN   \n",
              "3                    0.0                  0.0             0.0   \n",
              "4                    2.0                  NaN             0.0   \n",
              "\n",
              "  Weather.Condition  Broad.phase.of.flight   Report.Status Publication.Date  \n",
              "0               UNK                 Cruise  Probable Cause              NaN  \n",
              "1               UNK                Unknown  Probable Cause       19-09-1996  \n",
              "2               IMC                 Cruise  Probable Cause       26-02-2007  \n",
              "3               IMC                 Cruise  Probable Cause       12-09-2000  \n",
              "4               VMC               Approach  Probable Cause       16-04-1980  \n",
              "\n",
              "[5 rows x 31 columns]"
            ],
            "text/html": [
              "\n",
              "  <div id=\"df-12df5f03-c891-44fd-b048-c9e499f70fc0\">\n",
              "    <div class=\"colab-df-container\">\n",
              "      <div>\n",
              "<style scoped>\n",
              "    .dataframe tbody tr th:only-of-type {\n",
              "        vertical-align: middle;\n",
              "    }\n",
              "\n",
              "    .dataframe tbody tr th {\n",
              "        vertical-align: top;\n",
              "    }\n",
              "\n",
              "    .dataframe thead th {\n",
              "        text-align: right;\n",
              "    }\n",
              "</style>\n",
              "<table border=\"1\" class=\"dataframe\">\n",
              "  <thead>\n",
              "    <tr style=\"text-align: right;\">\n",
              "      <th></th>\n",
              "      <th>Event.Id</th>\n",
              "      <th>Investigation.Type</th>\n",
              "      <th>Accident.Number</th>\n",
              "      <th>Event.Date</th>\n",
              "      <th>Location</th>\n",
              "      <th>Country</th>\n",
              "      <th>Latitude</th>\n",
              "      <th>Longitude</th>\n",
              "      <th>Airport.Code</th>\n",
              "      <th>Airport.Name</th>\n",
              "      <th>...</th>\n",
              "      <th>Purpose.of.flight</th>\n",
              "      <th>Air.carrier</th>\n",
              "      <th>Total.Fatal.Injuries</th>\n",
              "      <th>Total.Serious.Injuries</th>\n",
              "      <th>Total.Minor.Injuries</th>\n",
              "      <th>Total.Uninjured</th>\n",
              "      <th>Weather.Condition</th>\n",
              "      <th>Broad.phase.of.flight</th>\n",
              "      <th>Report.Status</th>\n",
              "      <th>Publication.Date</th>\n",
              "    </tr>\n",
              "  </thead>\n",
              "  <tbody>\n",
              "    <tr>\n",
              "      <th>0</th>\n",
              "      <td>20001218X45444</td>\n",
              "      <td>Accident</td>\n",
              "      <td>SEA87LA080</td>\n",
              "      <td>1948-10-24</td>\n",
              "      <td>MOOSE CREEK, ID</td>\n",
              "      <td>United States</td>\n",
              "      <td>NaN</td>\n",
              "      <td>NaN</td>\n",
              "      <td>NaN</td>\n",
              "      <td>NaN</td>\n",
              "      <td>...</td>\n",
              "      <td>Personal</td>\n",
              "      <td>NaN</td>\n",
              "      <td>2.0</td>\n",
              "      <td>0.0</td>\n",
              "      <td>0.0</td>\n",
              "      <td>0.0</td>\n",
              "      <td>UNK</td>\n",
              "      <td>Cruise</td>\n",
              "      <td>Probable Cause</td>\n",
              "      <td>NaN</td>\n",
              "    </tr>\n",
              "    <tr>\n",
              "      <th>1</th>\n",
              "      <td>20001218X45447</td>\n",
              "      <td>Accident</td>\n",
              "      <td>LAX94LA336</td>\n",
              "      <td>1962-07-19</td>\n",
              "      <td>BRIDGEPORT, CA</td>\n",
              "      <td>United States</td>\n",
              "      <td>NaN</td>\n",
              "      <td>NaN</td>\n",
              "      <td>NaN</td>\n",
              "      <td>NaN</td>\n",
              "      <td>...</td>\n",
              "      <td>Personal</td>\n",
              "      <td>NaN</td>\n",
              "      <td>4.0</td>\n",
              "      <td>0.0</td>\n",
              "      <td>0.0</td>\n",
              "      <td>0.0</td>\n",
              "      <td>UNK</td>\n",
              "      <td>Unknown</td>\n",
              "      <td>Probable Cause</td>\n",
              "      <td>19-09-1996</td>\n",
              "    </tr>\n",
              "    <tr>\n",
              "      <th>2</th>\n",
              "      <td>20061025X01555</td>\n",
              "      <td>Accident</td>\n",
              "      <td>NYC07LA005</td>\n",
              "      <td>1974-08-30</td>\n",
              "      <td>Saltville, VA</td>\n",
              "      <td>United States</td>\n",
              "      <td>36.922223</td>\n",
              "      <td>-81.878056</td>\n",
              "      <td>NaN</td>\n",
              "      <td>NaN</td>\n",
              "      <td>...</td>\n",
              "      <td>Personal</td>\n",
              "      <td>NaN</td>\n",
              "      <td>3.0</td>\n",
              "      <td>NaN</td>\n",
              "      <td>NaN</td>\n",
              "      <td>NaN</td>\n",
              "      <td>IMC</td>\n",
              "      <td>Cruise</td>\n",
              "      <td>Probable Cause</td>\n",
              "      <td>26-02-2007</td>\n",
              "    </tr>\n",
              "    <tr>\n",
              "      <th>3</th>\n",
              "      <td>20001218X45448</td>\n",
              "      <td>Accident</td>\n",
              "      <td>LAX96LA321</td>\n",
              "      <td>1977-06-19</td>\n",
              "      <td>EUREKA, CA</td>\n",
              "      <td>United States</td>\n",
              "      <td>NaN</td>\n",
              "      <td>NaN</td>\n",
              "      <td>NaN</td>\n",
              "      <td>NaN</td>\n",
              "      <td>...</td>\n",
              "      <td>Personal</td>\n",
              "      <td>NaN</td>\n",
              "      <td>2.0</td>\n",
              "      <td>0.0</td>\n",
              "      <td>0.0</td>\n",
              "      <td>0.0</td>\n",
              "      <td>IMC</td>\n",
              "      <td>Cruise</td>\n",
              "      <td>Probable Cause</td>\n",
              "      <td>12-09-2000</td>\n",
              "    </tr>\n",
              "    <tr>\n",
              "      <th>4</th>\n",
              "      <td>20041105X01764</td>\n",
              "      <td>Accident</td>\n",
              "      <td>CHI79FA064</td>\n",
              "      <td>1979-08-02</td>\n",
              "      <td>Canton, OH</td>\n",
              "      <td>United States</td>\n",
              "      <td>NaN</td>\n",
              "      <td>NaN</td>\n",
              "      <td>NaN</td>\n",
              "      <td>NaN</td>\n",
              "      <td>...</td>\n",
              "      <td>Personal</td>\n",
              "      <td>NaN</td>\n",
              "      <td>1.0</td>\n",
              "      <td>2.0</td>\n",
              "      <td>NaN</td>\n",
              "      <td>0.0</td>\n",
              "      <td>VMC</td>\n",
              "      <td>Approach</td>\n",
              "      <td>Probable Cause</td>\n",
              "      <td>16-04-1980</td>\n",
              "    </tr>\n",
              "  </tbody>\n",
              "</table>\n",
              "<p>5 rows × 31 columns</p>\n",
              "</div>\n",
              "      <button class=\"colab-df-convert\" onclick=\"convertToInteractive('df-12df5f03-c891-44fd-b048-c9e499f70fc0')\"\n",
              "              title=\"Convert this dataframe to an interactive table.\"\n",
              "              style=\"display:none;\">\n",
              "        \n",
              "  <svg xmlns=\"http://www.w3.org/2000/svg\" height=\"24px\"viewBox=\"0 0 24 24\"\n",
              "       width=\"24px\">\n",
              "    <path d=\"M0 0h24v24H0V0z\" fill=\"none\"/>\n",
              "    <path d=\"M18.56 5.44l.94 2.06.94-2.06 2.06-.94-2.06-.94-.94-2.06-.94 2.06-2.06.94zm-11 1L8.5 8.5l.94-2.06 2.06-.94-2.06-.94L8.5 2.5l-.94 2.06-2.06.94zm10 10l.94 2.06.94-2.06 2.06-.94-2.06-.94-.94-2.06-.94 2.06-2.06.94z\"/><path d=\"M17.41 7.96l-1.37-1.37c-.4-.4-.92-.59-1.43-.59-.52 0-1.04.2-1.43.59L10.3 9.45l-7.72 7.72c-.78.78-.78 2.05 0 2.83L4 21.41c.39.39.9.59 1.41.59.51 0 1.02-.2 1.41-.59l7.78-7.78 2.81-2.81c.8-.78.8-2.07 0-2.86zM5.41 20L4 18.59l7.72-7.72 1.47 1.35L5.41 20z\"/>\n",
              "  </svg>\n",
              "      </button>\n",
              "      \n",
              "  <style>\n",
              "    .colab-df-container {\n",
              "      display:flex;\n",
              "      flex-wrap:wrap;\n",
              "      gap: 12px;\n",
              "    }\n",
              "\n",
              "    .colab-df-convert {\n",
              "      background-color: #E8F0FE;\n",
              "      border: none;\n",
              "      border-radius: 50%;\n",
              "      cursor: pointer;\n",
              "      display: none;\n",
              "      fill: #1967D2;\n",
              "      height: 32px;\n",
              "      padding: 0 0 0 0;\n",
              "      width: 32px;\n",
              "    }\n",
              "\n",
              "    .colab-df-convert:hover {\n",
              "      background-color: #E2EBFA;\n",
              "      box-shadow: 0px 1px 2px rgba(60, 64, 67, 0.3), 0px 1px 3px 1px rgba(60, 64, 67, 0.15);\n",
              "      fill: #174EA6;\n",
              "    }\n",
              "\n",
              "    [theme=dark] .colab-df-convert {\n",
              "      background-color: #3B4455;\n",
              "      fill: #D2E3FC;\n",
              "    }\n",
              "\n",
              "    [theme=dark] .colab-df-convert:hover {\n",
              "      background-color: #434B5C;\n",
              "      box-shadow: 0px 1px 3px 1px rgba(0, 0, 0, 0.15);\n",
              "      filter: drop-shadow(0px 1px 2px rgba(0, 0, 0, 0.3));\n",
              "      fill: #FFFFFF;\n",
              "    }\n",
              "  </style>\n",
              "\n",
              "      <script>\n",
              "        const buttonEl =\n",
              "          document.querySelector('#df-12df5f03-c891-44fd-b048-c9e499f70fc0 button.colab-df-convert');\n",
              "        buttonEl.style.display =\n",
              "          google.colab.kernel.accessAllowed ? 'block' : 'none';\n",
              "\n",
              "        async function convertToInteractive(key) {\n",
              "          const element = document.querySelector('#df-12df5f03-c891-44fd-b048-c9e499f70fc0');\n",
              "          const dataTable =\n",
              "            await google.colab.kernel.invokeFunction('convertToInteractive',\n",
              "                                                     [key], {});\n",
              "          if (!dataTable) return;\n",
              "\n",
              "          const docLinkHtml = 'Like what you see? Visit the ' +\n",
              "            '<a target=\"_blank\" href=https://colab.research.google.com/notebooks/data_table.ipynb>data table notebook</a>'\n",
              "            + ' to learn more about interactive tables.';\n",
              "          element.innerHTML = '';\n",
              "          dataTable['output_type'] = 'display_data';\n",
              "          await google.colab.output.renderOutput(dataTable, element);\n",
              "          const docLink = document.createElement('div');\n",
              "          docLink.innerHTML = docLinkHtml;\n",
              "          element.appendChild(docLink);\n",
              "        }\n",
              "      </script>\n",
              "    </div>\n",
              "  </div>\n",
              "  "
            ]
          },
          "metadata": {},
          "execution_count": 6
        }
      ],
      "source": [
        "dfAviation.head()"
      ]
    },
    {
      "cell_type": "markdown",
      "metadata": {
        "id": "F5FeClzz7URa"
      },
      "source": [
        "# Data Clean"
      ]
    },
    {
      "cell_type": "markdown",
      "metadata": {
        "id": "l_Fu3xqC7Yw9"
      },
      "source": [
        "\n",
        "\n",
        "\n",
        "*   Separate Location into City & State\n",
        "*   Separate Date, Drop Dates before 1982\n",
        "*   Filter Alaska Data\n",
        "\n"
      ]
    },
    {
      "cell_type": "code",
      "execution_count": null,
      "metadata": {
        "id": "DA_kXbsakBFE"
      },
      "outputs": [],
      "source": [
        "dfAviation['City'] = dfAviation['Location'].str.split(',').str[0]\n",
        "dfAviation['State'] = dfAviation['Location'].str.split(',').str[1]"
      ]
    },
    {
      "cell_type": "code",
      "execution_count": null,
      "metadata": {
        "id": "AUkp85AnL3WN"
      },
      "outputs": [],
      "source": [
        "dfAviation['Event.Date'] = pd.to_datetime(dfAviation['Event.Date'])\n",
        "dfAviation['Year'] = dfAviation['Event.Date'].apply(lambda time: time.year)\n",
        "dfAviation['Month'] = dfAviation['Event.Date'].apply(lambda time: time.month)\n",
        "\n",
        "dfAviation = dfAviation[dfAviation['Year'] >= 1982]"
      ]
    },
    {
      "cell_type": "markdown",
      "metadata": {
        "id": "GMANeRu9f8mP"
      },
      "source": [
        "\n",
        "\n",
        "*   Filter United States\n",
        "*   Filter Accidents\n"
      ]
    },
    {
      "cell_type": "code",
      "execution_count": null,
      "metadata": {
        "id": "t9Y6iBORfrN0"
      },
      "outputs": [],
      "source": [
        "dfAviation = dfAviation[dfAviation['Country']=='United States']\n"
      ]
    },
    {
      "cell_type": "code",
      "execution_count": null,
      "metadata": {
        "id": "hCdSsOwDgCv1"
      },
      "outputs": [],
      "source": [
        "dfAviation = dfAviation[dfAviation['Investigation.Type']=='Accident']"
      ]
    },
    {
      "cell_type": "markdown",
      "metadata": {
        "id": "-sMVom1Fmh9e"
      },
      "source": [
        "Filter States for Alaska Data"
      ]
    },
    {
      "cell_type": "code",
      "execution_count": null,
      "metadata": {
        "colab": {
          "base_uri": "https://localhost:8080/"
        },
        "id": "hsX_EHB_l0D4",
        "outputId": "db615cef-3b25-4377-9502-768ecc268421"
      },
      "outputs": [
        {
          "output_type": "execute_result",
          "data": {
            "text/plain": [
              "           Event.Id Investigation.Type Accident.Number Event.Date  \\\n",
              "17   20020917X01656           Accident      ANC82FAG14 1982-01-02   \n",
              "44   20020917X01651           Accident      ANC82FA012 1982-01-05   \n",
              "74   20020917X01623           Accident      ANC82DA013 1982-01-10   \n",
              "95   20020917X01625           Accident      ANC82DA015 1982-01-15   \n",
              "105  20020917X01624           Accident      ANC82DA014 1982-01-17   \n",
              "\n",
              "             Location        Country Latitude Longitude Airport.Code  \\\n",
              "17        SKWENTA, AK  United States      NaN       NaN          NaN   \n",
              "44         BETHEL, AK  United States      NaN       NaN          BET   \n",
              "74      QUINHAGAK, AK  United States      NaN       NaN          NaN   \n",
              "95   NEAR NUIQSUT, AK  United States      NaN       NaN          NaN   \n",
              "105     ANCHORAGE, AK  United States      NaN       NaN          MRI   \n",
              "\n",
              "      Airport.Name  ... Total.Minor.Injuries Total.Uninjured  \\\n",
              "17             NaN  ...                  0.0             0.0   \n",
              "44          BETHEL  ...                  0.0             0.0   \n",
              "74             NaN  ...                  3.0             0.0   \n",
              "95             NaN  ...                  0.0             4.0   \n",
              "105  MERRILL FIELD  ...                  1.0             1.0   \n",
              "\n",
              "    Weather.Condition Broad.phase.of.flight   Report.Status Publication.Date  \\\n",
              "17                VMC               Unknown  Probable Cause       02-01-1983   \n",
              "44                VMC               Takeoff  Probable Cause       05-01-1983   \n",
              "74                VMC                Cruise  Probable Cause       10-01-1983   \n",
              "95                VMC               Landing  Probable Cause       15-01-1983   \n",
              "105               VMC               Takeoff  Probable Cause       17-01-1983   \n",
              "\n",
              "             City  State  Year Month  \n",
              "17        SKWENTA     AK  1982     1  \n",
              "44         BETHEL     AK  1982     1  \n",
              "74      QUINHAGAK     AK  1982     1  \n",
              "95   NEAR NUIQSUT     AK  1982     1  \n",
              "105     ANCHORAGE     AK  1982     1  \n",
              "\n",
              "[5 rows x 35 columns]"
            ],
            "text/html": [
              "\n",
              "  <div id=\"df-cc640220-49b2-47e9-a835-f34220fcd2ec\">\n",
              "    <div class=\"colab-df-container\">\n",
              "      <div>\n",
              "<style scoped>\n",
              "    .dataframe tbody tr th:only-of-type {\n",
              "        vertical-align: middle;\n",
              "    }\n",
              "\n",
              "    .dataframe tbody tr th {\n",
              "        vertical-align: top;\n",
              "    }\n",
              "\n",
              "    .dataframe thead th {\n",
              "        text-align: right;\n",
              "    }\n",
              "</style>\n",
              "<table border=\"1\" class=\"dataframe\">\n",
              "  <thead>\n",
              "    <tr style=\"text-align: right;\">\n",
              "      <th></th>\n",
              "      <th>Event.Id</th>\n",
              "      <th>Investigation.Type</th>\n",
              "      <th>Accident.Number</th>\n",
              "      <th>Event.Date</th>\n",
              "      <th>Location</th>\n",
              "      <th>Country</th>\n",
              "      <th>Latitude</th>\n",
              "      <th>Longitude</th>\n",
              "      <th>Airport.Code</th>\n",
              "      <th>Airport.Name</th>\n",
              "      <th>...</th>\n",
              "      <th>Total.Minor.Injuries</th>\n",
              "      <th>Total.Uninjured</th>\n",
              "      <th>Weather.Condition</th>\n",
              "      <th>Broad.phase.of.flight</th>\n",
              "      <th>Report.Status</th>\n",
              "      <th>Publication.Date</th>\n",
              "      <th>City</th>\n",
              "      <th>State</th>\n",
              "      <th>Year</th>\n",
              "      <th>Month</th>\n",
              "    </tr>\n",
              "  </thead>\n",
              "  <tbody>\n",
              "    <tr>\n",
              "      <th>17</th>\n",
              "      <td>20020917X01656</td>\n",
              "      <td>Accident</td>\n",
              "      <td>ANC82FAG14</td>\n",
              "      <td>1982-01-02</td>\n",
              "      <td>SKWENTA, AK</td>\n",
              "      <td>United States</td>\n",
              "      <td>NaN</td>\n",
              "      <td>NaN</td>\n",
              "      <td>NaN</td>\n",
              "      <td>NaN</td>\n",
              "      <td>...</td>\n",
              "      <td>0.0</td>\n",
              "      <td>0.0</td>\n",
              "      <td>VMC</td>\n",
              "      <td>Unknown</td>\n",
              "      <td>Probable Cause</td>\n",
              "      <td>02-01-1983</td>\n",
              "      <td>SKWENTA</td>\n",
              "      <td>AK</td>\n",
              "      <td>1982</td>\n",
              "      <td>1</td>\n",
              "    </tr>\n",
              "    <tr>\n",
              "      <th>44</th>\n",
              "      <td>20020917X01651</td>\n",
              "      <td>Accident</td>\n",
              "      <td>ANC82FA012</td>\n",
              "      <td>1982-01-05</td>\n",
              "      <td>BETHEL, AK</td>\n",
              "      <td>United States</td>\n",
              "      <td>NaN</td>\n",
              "      <td>NaN</td>\n",
              "      <td>BET</td>\n",
              "      <td>BETHEL</td>\n",
              "      <td>...</td>\n",
              "      <td>0.0</td>\n",
              "      <td>0.0</td>\n",
              "      <td>VMC</td>\n",
              "      <td>Takeoff</td>\n",
              "      <td>Probable Cause</td>\n",
              "      <td>05-01-1983</td>\n",
              "      <td>BETHEL</td>\n",
              "      <td>AK</td>\n",
              "      <td>1982</td>\n",
              "      <td>1</td>\n",
              "    </tr>\n",
              "    <tr>\n",
              "      <th>74</th>\n",
              "      <td>20020917X01623</td>\n",
              "      <td>Accident</td>\n",
              "      <td>ANC82DA013</td>\n",
              "      <td>1982-01-10</td>\n",
              "      <td>QUINHAGAK, AK</td>\n",
              "      <td>United States</td>\n",
              "      <td>NaN</td>\n",
              "      <td>NaN</td>\n",
              "      <td>NaN</td>\n",
              "      <td>NaN</td>\n",
              "      <td>...</td>\n",
              "      <td>3.0</td>\n",
              "      <td>0.0</td>\n",
              "      <td>VMC</td>\n",
              "      <td>Cruise</td>\n",
              "      <td>Probable Cause</td>\n",
              "      <td>10-01-1983</td>\n",
              "      <td>QUINHAGAK</td>\n",
              "      <td>AK</td>\n",
              "      <td>1982</td>\n",
              "      <td>1</td>\n",
              "    </tr>\n",
              "    <tr>\n",
              "      <th>95</th>\n",
              "      <td>20020917X01625</td>\n",
              "      <td>Accident</td>\n",
              "      <td>ANC82DA015</td>\n",
              "      <td>1982-01-15</td>\n",
              "      <td>NEAR NUIQSUT, AK</td>\n",
              "      <td>United States</td>\n",
              "      <td>NaN</td>\n",
              "      <td>NaN</td>\n",
              "      <td>NaN</td>\n",
              "      <td>NaN</td>\n",
              "      <td>...</td>\n",
              "      <td>0.0</td>\n",
              "      <td>4.0</td>\n",
              "      <td>VMC</td>\n",
              "      <td>Landing</td>\n",
              "      <td>Probable Cause</td>\n",
              "      <td>15-01-1983</td>\n",
              "      <td>NEAR NUIQSUT</td>\n",
              "      <td>AK</td>\n",
              "      <td>1982</td>\n",
              "      <td>1</td>\n",
              "    </tr>\n",
              "    <tr>\n",
              "      <th>105</th>\n",
              "      <td>20020917X01624</td>\n",
              "      <td>Accident</td>\n",
              "      <td>ANC82DA014</td>\n",
              "      <td>1982-01-17</td>\n",
              "      <td>ANCHORAGE, AK</td>\n",
              "      <td>United States</td>\n",
              "      <td>NaN</td>\n",
              "      <td>NaN</td>\n",
              "      <td>MRI</td>\n",
              "      <td>MERRILL FIELD</td>\n",
              "      <td>...</td>\n",
              "      <td>1.0</td>\n",
              "      <td>1.0</td>\n",
              "      <td>VMC</td>\n",
              "      <td>Takeoff</td>\n",
              "      <td>Probable Cause</td>\n",
              "      <td>17-01-1983</td>\n",
              "      <td>ANCHORAGE</td>\n",
              "      <td>AK</td>\n",
              "      <td>1982</td>\n",
              "      <td>1</td>\n",
              "    </tr>\n",
              "  </tbody>\n",
              "</table>\n",
              "<p>5 rows × 35 columns</p>\n",
              "</div>\n",
              "      <button class=\"colab-df-convert\" onclick=\"convertToInteractive('df-cc640220-49b2-47e9-a835-f34220fcd2ec')\"\n",
              "              title=\"Convert this dataframe to an interactive table.\"\n",
              "              style=\"display:none;\">\n",
              "        \n",
              "  <svg xmlns=\"http://www.w3.org/2000/svg\" height=\"24px\"viewBox=\"0 0 24 24\"\n",
              "       width=\"24px\">\n",
              "    <path d=\"M0 0h24v24H0V0z\" fill=\"none\"/>\n",
              "    <path d=\"M18.56 5.44l.94 2.06.94-2.06 2.06-.94-2.06-.94-.94-2.06-.94 2.06-2.06.94zm-11 1L8.5 8.5l.94-2.06 2.06-.94-2.06-.94L8.5 2.5l-.94 2.06-2.06.94zm10 10l.94 2.06.94-2.06 2.06-.94-2.06-.94-.94-2.06-.94 2.06-2.06.94z\"/><path d=\"M17.41 7.96l-1.37-1.37c-.4-.4-.92-.59-1.43-.59-.52 0-1.04.2-1.43.59L10.3 9.45l-7.72 7.72c-.78.78-.78 2.05 0 2.83L4 21.41c.39.39.9.59 1.41.59.51 0 1.02-.2 1.41-.59l7.78-7.78 2.81-2.81c.8-.78.8-2.07 0-2.86zM5.41 20L4 18.59l7.72-7.72 1.47 1.35L5.41 20z\"/>\n",
              "  </svg>\n",
              "      </button>\n",
              "      \n",
              "  <style>\n",
              "    .colab-df-container {\n",
              "      display:flex;\n",
              "      flex-wrap:wrap;\n",
              "      gap: 12px;\n",
              "    }\n",
              "\n",
              "    .colab-df-convert {\n",
              "      background-color: #E8F0FE;\n",
              "      border: none;\n",
              "      border-radius: 50%;\n",
              "      cursor: pointer;\n",
              "      display: none;\n",
              "      fill: #1967D2;\n",
              "      height: 32px;\n",
              "      padding: 0 0 0 0;\n",
              "      width: 32px;\n",
              "    }\n",
              "\n",
              "    .colab-df-convert:hover {\n",
              "      background-color: #E2EBFA;\n",
              "      box-shadow: 0px 1px 2px rgba(60, 64, 67, 0.3), 0px 1px 3px 1px rgba(60, 64, 67, 0.15);\n",
              "      fill: #174EA6;\n",
              "    }\n",
              "\n",
              "    [theme=dark] .colab-df-convert {\n",
              "      background-color: #3B4455;\n",
              "      fill: #D2E3FC;\n",
              "    }\n",
              "\n",
              "    [theme=dark] .colab-df-convert:hover {\n",
              "      background-color: #434B5C;\n",
              "      box-shadow: 0px 1px 3px 1px rgba(0, 0, 0, 0.15);\n",
              "      filter: drop-shadow(0px 1px 2px rgba(0, 0, 0, 0.3));\n",
              "      fill: #FFFFFF;\n",
              "    }\n",
              "  </style>\n",
              "\n",
              "      <script>\n",
              "        const buttonEl =\n",
              "          document.querySelector('#df-cc640220-49b2-47e9-a835-f34220fcd2ec button.colab-df-convert');\n",
              "        buttonEl.style.display =\n",
              "          google.colab.kernel.accessAllowed ? 'block' : 'none';\n",
              "\n",
              "        async function convertToInteractive(key) {\n",
              "          const element = document.querySelector('#df-cc640220-49b2-47e9-a835-f34220fcd2ec');\n",
              "          const dataTable =\n",
              "            await google.colab.kernel.invokeFunction('convertToInteractive',\n",
              "                                                     [key], {});\n",
              "          if (!dataTable) return;\n",
              "\n",
              "          const docLinkHtml = 'Like what you see? Visit the ' +\n",
              "            '<a target=\"_blank\" href=https://colab.research.google.com/notebooks/data_table.ipynb>data table notebook</a>'\n",
              "            + ' to learn more about interactive tables.';\n",
              "          element.innerHTML = '';\n",
              "          dataTable['output_type'] = 'display_data';\n",
              "          await google.colab.output.renderOutput(dataTable, element);\n",
              "          const docLink = document.createElement('div');\n",
              "          docLink.innerHTML = docLinkHtml;\n",
              "          element.appendChild(docLink);\n",
              "        }\n",
              "      </script>\n",
              "    </div>\n",
              "  </div>\n",
              "  "
            ]
          },
          "metadata": {},
          "execution_count": 11
        }
      ],
      "source": [
        "akAviation = dfAviation[dfAviation['State'].str.contains('AK', na = False)]\n",
        "akAviation.head()"
      ]
    },
    {
      "cell_type": "code",
      "execution_count": null,
      "metadata": {
        "colab": {
          "base_uri": "https://localhost:8080/"
        },
        "id": "zuNi4X2CmwOP",
        "outputId": "f250f83f-0348-4437-84d6-f2c8f28838a9"
      },
      "outputs": [
        {
          "output_type": "stream",
          "name": "stdout",
          "text": [
            "<class 'pandas.core.frame.DataFrame'>\n",
            "Int64Index: 5449 entries, 17 to 87232\n",
            "Data columns (total 35 columns):\n",
            " #   Column                  Non-Null Count  Dtype         \n",
            "---  ------                  --------------  -----         \n",
            " 0   Event.Id                5449 non-null   object        \n",
            " 1   Investigation.Type      5449 non-null   object        \n",
            " 2   Accident.Number         5449 non-null   object        \n",
            " 3   Event.Date              5449 non-null   datetime64[ns]\n",
            " 4   Location                5449 non-null   object        \n",
            " 5   Country                 5449 non-null   object        \n",
            " 6   Latitude                2091 non-null   object        \n",
            " 7   Longitude               2091 non-null   object        \n",
            " 8   Airport.Code            2026 non-null   object        \n",
            " 9   Airport.Name            2324 non-null   object        \n",
            " 10  Injury.Severity         5448 non-null   object        \n",
            " 11  Aircraft.damage         5420 non-null   object        \n",
            " 12  Aircraft.Category       1652 non-null   object        \n",
            " 13  Registration.Number     5449 non-null   object        \n",
            " 14  Make                    5449 non-null   object        \n",
            " 15  Model                   5448 non-null   object        \n",
            " 16  Amateur.Built           5449 non-null   object        \n",
            " 17  Number.of.Engines       5406 non-null   float64       \n",
            " 18  Engine.Type             5369 non-null   object        \n",
            " 19  FAR.Description         1654 non-null   object        \n",
            " 20  Schedule                1201 non-null   object        \n",
            " 21  Purpose.of.flight       5039 non-null   object        \n",
            " 22  Air.carrier             1286 non-null   object        \n",
            " 23  Total.Fatal.Injuries    4697 non-null   float64       \n",
            " 24  Total.Serious.Injuries  4686 non-null   float64       \n",
            " 25  Total.Minor.Injuries    4725 non-null   float64       \n",
            " 26  Total.Uninjured         5283 non-null   float64       \n",
            " 27  Weather.Condition       5422 non-null   object        \n",
            " 28  Broad.phase.of.flight   4150 non-null   object        \n",
            " 29  Report.Status           5358 non-null   object        \n",
            " 30  Publication.Date        4634 non-null   object        \n",
            " 31  City                    5449 non-null   object        \n",
            " 32  State                   5449 non-null   object        \n",
            " 33  Year                    5449 non-null   int64         \n",
            " 34  Month                   5449 non-null   int64         \n",
            "dtypes: datetime64[ns](1), float64(5), int64(2), object(27)\n",
            "memory usage: 1.5+ MB\n"
          ]
        }
      ],
      "source": [
        "akAviation.info()"
      ]
    },
    {
      "cell_type": "markdown",
      "metadata": {
        "id": "9WiH4GTQsbsh"
      },
      "source": [
        "Drop Irrelevant Columns: Event ID, Accident Number, Country, Airport Name, Registration Number, Schedule, Report Status, Publication Date\n",
        "\n"
      ]
    },
    {
      "cell_type": "markdown",
      "metadata": {
        "id": "x-HvWJxrg-o3"
      },
      "source": [
        "Clean Data"
      ]
    },
    {
      "cell_type": "code",
      "execution_count": null,
      "metadata": {
        "colab": {
          "base_uri": "https://localhost:8080/"
        },
        "id": "7Q0BLdl7gL87",
        "outputId": "678307f1-dffb-4760-afa6-5c8ea2ca52f8"
      },
      "outputs": [
        {
          "output_type": "execute_result",
          "data": {
            "text/plain": [
              "      Investigation.Type Accident.Number Event.Date        Country Latitude  \\\n",
              "17              Accident      ANC82FAG14 1982-01-02  United States      NaN   \n",
              "44              Accident      ANC82FA012 1982-01-05  United States      NaN   \n",
              "74              Accident      ANC82DA013 1982-01-10  United States      NaN   \n",
              "95              Accident      ANC82DA015 1982-01-15  United States      NaN   \n",
              "105             Accident      ANC82DA014 1982-01-17  United States      NaN   \n",
              "...                  ...             ...        ...            ...      ...   \n",
              "87150           Accident      ANC22LA006 2021-11-09  United States  065181N   \n",
              "87200           Accident      ANC22LA007 2021-11-21  United States  604645N   \n",
              "87216           Accident      ANC22LA008 2021-11-26  United States      NaN   \n",
              "87224           Accident      ANC22LA010 2021-11-29  United States      NaN   \n",
              "87232           Accident      ANC22LA009 2021-12-02  United States  060120N   \n",
              "\n",
              "      Longitude Airport.Code Injury.Severity Aircraft.damage  \\\n",
              "17          NaN          NaN        Fatal(3)       Destroyed   \n",
              "44          NaN          BET       Non-Fatal     Substantial   \n",
              "74          NaN          NaN       Non-Fatal     Substantial   \n",
              "95          NaN          NaN       Non-Fatal     Substantial   \n",
              "105         NaN          MRI       Non-Fatal       Destroyed   \n",
              "...         ...          ...             ...             ...   \n",
              "87150  0014380W          L20       Non-Fatal     Substantial   \n",
              "87200  1615012W          BET       Non-Fatal     Substantial   \n",
              "87216       NaN          NaN       Non-Fatal             NaN   \n",
              "87224       NaN          NaN             NaN             NaN   \n",
              "87232  1542012W         PAKX       Non-Fatal     Substantial   \n",
              "\n",
              "      Aircraft.Category  ... Total.Fatal.Injuries Total.Serious.Injuries  \\\n",
              "17             Airplane  ...                  3.0                    0.0   \n",
              "44             Airplane  ...                  0.0                    2.0   \n",
              "74             Airplane  ...                  0.0                    0.0   \n",
              "95             Airplane  ...                  0.0                    0.0   \n",
              "105            Airplane  ...                  0.0                    0.0   \n",
              "...                 ...  ...                  ...                    ...   \n",
              "87150          Airplane  ...                  0.0                    0.0   \n",
              "87200          Airplane  ...                  0.0                    0.0   \n",
              "87216               NaN  ...                  0.0                    1.0   \n",
              "87224               NaN  ...                  0.0                    0.0   \n",
              "87232          Airplane  ...                  0.0                    1.0   \n",
              "\n",
              "      Total.Minor.Injuries  Total.Uninjured Weather.Condition  \\\n",
              "17                     0.0              0.0               VMC   \n",
              "44                     0.0              0.0               VMC   \n",
              "74                     3.0              0.0               VMC   \n",
              "95                     0.0              4.0               VMC   \n",
              "105                    1.0              1.0               VMC   \n",
              "...                    ...              ...               ...   \n",
              "87150                  0.0              1.0               VMC   \n",
              "87200                  0.0              6.0               VMC   \n",
              "87216                  0.0              0.0               NaN   \n",
              "87224                  0.0              0.0               NaN   \n",
              "87232                  0.0              0.0               VMC   \n",
              "\n",
              "      Broad.phase.of.flight                 City State  Year  Month  \n",
              "17                  Unknown              SKWENTA    AK  1982      1  \n",
              "44                  Takeoff               BETHEL    AK  1982      1  \n",
              "74                   Cruise            QUINHAGAK    AK  1982      1  \n",
              "95                  Landing         NEAR NUIQSUT    AK  1982      1  \n",
              "105                 Takeoff            ANCHORAGE    AK  1982      1  \n",
              "...                     ...                  ...   ...   ...    ...  \n",
              "87150                   NaN  Yukon Charlie River    AK  2021     11  \n",
              "87200                   NaN               Bethel    AK  2021     11  \n",
              "87216                   NaN               Palmer    AK  2021     11  \n",
              "87224                   NaN              Nikiski    AK  2021     11  \n",
              "87232                   NaN        Port Alsworth    AK  2021     12  \n",
              "\n",
              "[5449 rows x 28 columns]"
            ],
            "text/html": [
              "\n",
              "  <div id=\"df-e2e401c1-c4d7-42c5-8105-7d12184f817b\">\n",
              "    <div class=\"colab-df-container\">\n",
              "      <div>\n",
              "<style scoped>\n",
              "    .dataframe tbody tr th:only-of-type {\n",
              "        vertical-align: middle;\n",
              "    }\n",
              "\n",
              "    .dataframe tbody tr th {\n",
              "        vertical-align: top;\n",
              "    }\n",
              "\n",
              "    .dataframe thead th {\n",
              "        text-align: right;\n",
              "    }\n",
              "</style>\n",
              "<table border=\"1\" class=\"dataframe\">\n",
              "  <thead>\n",
              "    <tr style=\"text-align: right;\">\n",
              "      <th></th>\n",
              "      <th>Investigation.Type</th>\n",
              "      <th>Accident.Number</th>\n",
              "      <th>Event.Date</th>\n",
              "      <th>Country</th>\n",
              "      <th>Latitude</th>\n",
              "      <th>Longitude</th>\n",
              "      <th>Airport.Code</th>\n",
              "      <th>Injury.Severity</th>\n",
              "      <th>Aircraft.damage</th>\n",
              "      <th>Aircraft.Category</th>\n",
              "      <th>...</th>\n",
              "      <th>Total.Fatal.Injuries</th>\n",
              "      <th>Total.Serious.Injuries</th>\n",
              "      <th>Total.Minor.Injuries</th>\n",
              "      <th>Total.Uninjured</th>\n",
              "      <th>Weather.Condition</th>\n",
              "      <th>Broad.phase.of.flight</th>\n",
              "      <th>City</th>\n",
              "      <th>State</th>\n",
              "      <th>Year</th>\n",
              "      <th>Month</th>\n",
              "    </tr>\n",
              "  </thead>\n",
              "  <tbody>\n",
              "    <tr>\n",
              "      <th>17</th>\n",
              "      <td>Accident</td>\n",
              "      <td>ANC82FAG14</td>\n",
              "      <td>1982-01-02</td>\n",
              "      <td>United States</td>\n",
              "      <td>NaN</td>\n",
              "      <td>NaN</td>\n",
              "      <td>NaN</td>\n",
              "      <td>Fatal(3)</td>\n",
              "      <td>Destroyed</td>\n",
              "      <td>Airplane</td>\n",
              "      <td>...</td>\n",
              "      <td>3.0</td>\n",
              "      <td>0.0</td>\n",
              "      <td>0.0</td>\n",
              "      <td>0.0</td>\n",
              "      <td>VMC</td>\n",
              "      <td>Unknown</td>\n",
              "      <td>SKWENTA</td>\n",
              "      <td>AK</td>\n",
              "      <td>1982</td>\n",
              "      <td>1</td>\n",
              "    </tr>\n",
              "    <tr>\n",
              "      <th>44</th>\n",
              "      <td>Accident</td>\n",
              "      <td>ANC82FA012</td>\n",
              "      <td>1982-01-05</td>\n",
              "      <td>United States</td>\n",
              "      <td>NaN</td>\n",
              "      <td>NaN</td>\n",
              "      <td>BET</td>\n",
              "      <td>Non-Fatal</td>\n",
              "      <td>Substantial</td>\n",
              "      <td>Airplane</td>\n",
              "      <td>...</td>\n",
              "      <td>0.0</td>\n",
              "      <td>2.0</td>\n",
              "      <td>0.0</td>\n",
              "      <td>0.0</td>\n",
              "      <td>VMC</td>\n",
              "      <td>Takeoff</td>\n",
              "      <td>BETHEL</td>\n",
              "      <td>AK</td>\n",
              "      <td>1982</td>\n",
              "      <td>1</td>\n",
              "    </tr>\n",
              "    <tr>\n",
              "      <th>74</th>\n",
              "      <td>Accident</td>\n",
              "      <td>ANC82DA013</td>\n",
              "      <td>1982-01-10</td>\n",
              "      <td>United States</td>\n",
              "      <td>NaN</td>\n",
              "      <td>NaN</td>\n",
              "      <td>NaN</td>\n",
              "      <td>Non-Fatal</td>\n",
              "      <td>Substantial</td>\n",
              "      <td>Airplane</td>\n",
              "      <td>...</td>\n",
              "      <td>0.0</td>\n",
              "      <td>0.0</td>\n",
              "      <td>3.0</td>\n",
              "      <td>0.0</td>\n",
              "      <td>VMC</td>\n",
              "      <td>Cruise</td>\n",
              "      <td>QUINHAGAK</td>\n",
              "      <td>AK</td>\n",
              "      <td>1982</td>\n",
              "      <td>1</td>\n",
              "    </tr>\n",
              "    <tr>\n",
              "      <th>95</th>\n",
              "      <td>Accident</td>\n",
              "      <td>ANC82DA015</td>\n",
              "      <td>1982-01-15</td>\n",
              "      <td>United States</td>\n",
              "      <td>NaN</td>\n",
              "      <td>NaN</td>\n",
              "      <td>NaN</td>\n",
              "      <td>Non-Fatal</td>\n",
              "      <td>Substantial</td>\n",
              "      <td>Airplane</td>\n",
              "      <td>...</td>\n",
              "      <td>0.0</td>\n",
              "      <td>0.0</td>\n",
              "      <td>0.0</td>\n",
              "      <td>4.0</td>\n",
              "      <td>VMC</td>\n",
              "      <td>Landing</td>\n",
              "      <td>NEAR NUIQSUT</td>\n",
              "      <td>AK</td>\n",
              "      <td>1982</td>\n",
              "      <td>1</td>\n",
              "    </tr>\n",
              "    <tr>\n",
              "      <th>105</th>\n",
              "      <td>Accident</td>\n",
              "      <td>ANC82DA014</td>\n",
              "      <td>1982-01-17</td>\n",
              "      <td>United States</td>\n",
              "      <td>NaN</td>\n",
              "      <td>NaN</td>\n",
              "      <td>MRI</td>\n",
              "      <td>Non-Fatal</td>\n",
              "      <td>Destroyed</td>\n",
              "      <td>Airplane</td>\n",
              "      <td>...</td>\n",
              "      <td>0.0</td>\n",
              "      <td>0.0</td>\n",
              "      <td>1.0</td>\n",
              "      <td>1.0</td>\n",
              "      <td>VMC</td>\n",
              "      <td>Takeoff</td>\n",
              "      <td>ANCHORAGE</td>\n",
              "      <td>AK</td>\n",
              "      <td>1982</td>\n",
              "      <td>1</td>\n",
              "    </tr>\n",
              "    <tr>\n",
              "      <th>...</th>\n",
              "      <td>...</td>\n",
              "      <td>...</td>\n",
              "      <td>...</td>\n",
              "      <td>...</td>\n",
              "      <td>...</td>\n",
              "      <td>...</td>\n",
              "      <td>...</td>\n",
              "      <td>...</td>\n",
              "      <td>...</td>\n",
              "      <td>...</td>\n",
              "      <td>...</td>\n",
              "      <td>...</td>\n",
              "      <td>...</td>\n",
              "      <td>...</td>\n",
              "      <td>...</td>\n",
              "      <td>...</td>\n",
              "      <td>...</td>\n",
              "      <td>...</td>\n",
              "      <td>...</td>\n",
              "      <td>...</td>\n",
              "      <td>...</td>\n",
              "    </tr>\n",
              "    <tr>\n",
              "      <th>87150</th>\n",
              "      <td>Accident</td>\n",
              "      <td>ANC22LA006</td>\n",
              "      <td>2021-11-09</td>\n",
              "      <td>United States</td>\n",
              "      <td>065181N</td>\n",
              "      <td>0014380W</td>\n",
              "      <td>L20</td>\n",
              "      <td>Non-Fatal</td>\n",
              "      <td>Substantial</td>\n",
              "      <td>Airplane</td>\n",
              "      <td>...</td>\n",
              "      <td>0.0</td>\n",
              "      <td>0.0</td>\n",
              "      <td>0.0</td>\n",
              "      <td>1.0</td>\n",
              "      <td>VMC</td>\n",
              "      <td>NaN</td>\n",
              "      <td>Yukon Charlie River</td>\n",
              "      <td>AK</td>\n",
              "      <td>2021</td>\n",
              "      <td>11</td>\n",
              "    </tr>\n",
              "    <tr>\n",
              "      <th>87200</th>\n",
              "      <td>Accident</td>\n",
              "      <td>ANC22LA007</td>\n",
              "      <td>2021-11-21</td>\n",
              "      <td>United States</td>\n",
              "      <td>604645N</td>\n",
              "      <td>1615012W</td>\n",
              "      <td>BET</td>\n",
              "      <td>Non-Fatal</td>\n",
              "      <td>Substantial</td>\n",
              "      <td>Airplane</td>\n",
              "      <td>...</td>\n",
              "      <td>0.0</td>\n",
              "      <td>0.0</td>\n",
              "      <td>0.0</td>\n",
              "      <td>6.0</td>\n",
              "      <td>VMC</td>\n",
              "      <td>NaN</td>\n",
              "      <td>Bethel</td>\n",
              "      <td>AK</td>\n",
              "      <td>2021</td>\n",
              "      <td>11</td>\n",
              "    </tr>\n",
              "    <tr>\n",
              "      <th>87216</th>\n",
              "      <td>Accident</td>\n",
              "      <td>ANC22LA008</td>\n",
              "      <td>2021-11-26</td>\n",
              "      <td>United States</td>\n",
              "      <td>NaN</td>\n",
              "      <td>NaN</td>\n",
              "      <td>NaN</td>\n",
              "      <td>Non-Fatal</td>\n",
              "      <td>NaN</td>\n",
              "      <td>NaN</td>\n",
              "      <td>...</td>\n",
              "      <td>0.0</td>\n",
              "      <td>1.0</td>\n",
              "      <td>0.0</td>\n",
              "      <td>0.0</td>\n",
              "      <td>NaN</td>\n",
              "      <td>NaN</td>\n",
              "      <td>Palmer</td>\n",
              "      <td>AK</td>\n",
              "      <td>2021</td>\n",
              "      <td>11</td>\n",
              "    </tr>\n",
              "    <tr>\n",
              "      <th>87224</th>\n",
              "      <td>Accident</td>\n",
              "      <td>ANC22LA010</td>\n",
              "      <td>2021-11-29</td>\n",
              "      <td>United States</td>\n",
              "      <td>NaN</td>\n",
              "      <td>NaN</td>\n",
              "      <td>NaN</td>\n",
              "      <td>NaN</td>\n",
              "      <td>NaN</td>\n",
              "      <td>NaN</td>\n",
              "      <td>...</td>\n",
              "      <td>0.0</td>\n",
              "      <td>0.0</td>\n",
              "      <td>0.0</td>\n",
              "      <td>0.0</td>\n",
              "      <td>NaN</td>\n",
              "      <td>NaN</td>\n",
              "      <td>Nikiski</td>\n",
              "      <td>AK</td>\n",
              "      <td>2021</td>\n",
              "      <td>11</td>\n",
              "    </tr>\n",
              "    <tr>\n",
              "      <th>87232</th>\n",
              "      <td>Accident</td>\n",
              "      <td>ANC22LA009</td>\n",
              "      <td>2021-12-02</td>\n",
              "      <td>United States</td>\n",
              "      <td>060120N</td>\n",
              "      <td>1542012W</td>\n",
              "      <td>PAKX</td>\n",
              "      <td>Non-Fatal</td>\n",
              "      <td>Substantial</td>\n",
              "      <td>Airplane</td>\n",
              "      <td>...</td>\n",
              "      <td>0.0</td>\n",
              "      <td>1.0</td>\n",
              "      <td>0.0</td>\n",
              "      <td>0.0</td>\n",
              "      <td>VMC</td>\n",
              "      <td>NaN</td>\n",
              "      <td>Port Alsworth</td>\n",
              "      <td>AK</td>\n",
              "      <td>2021</td>\n",
              "      <td>12</td>\n",
              "    </tr>\n",
              "  </tbody>\n",
              "</table>\n",
              "<p>5449 rows × 28 columns</p>\n",
              "</div>\n",
              "      <button class=\"colab-df-convert\" onclick=\"convertToInteractive('df-e2e401c1-c4d7-42c5-8105-7d12184f817b')\"\n",
              "              title=\"Convert this dataframe to an interactive table.\"\n",
              "              style=\"display:none;\">\n",
              "        \n",
              "  <svg xmlns=\"http://www.w3.org/2000/svg\" height=\"24px\"viewBox=\"0 0 24 24\"\n",
              "       width=\"24px\">\n",
              "    <path d=\"M0 0h24v24H0V0z\" fill=\"none\"/>\n",
              "    <path d=\"M18.56 5.44l.94 2.06.94-2.06 2.06-.94-2.06-.94-.94-2.06-.94 2.06-2.06.94zm-11 1L8.5 8.5l.94-2.06 2.06-.94-2.06-.94L8.5 2.5l-.94 2.06-2.06.94zm10 10l.94 2.06.94-2.06 2.06-.94-2.06-.94-.94-2.06-.94 2.06-2.06.94z\"/><path d=\"M17.41 7.96l-1.37-1.37c-.4-.4-.92-.59-1.43-.59-.52 0-1.04.2-1.43.59L10.3 9.45l-7.72 7.72c-.78.78-.78 2.05 0 2.83L4 21.41c.39.39.9.59 1.41.59.51 0 1.02-.2 1.41-.59l7.78-7.78 2.81-2.81c.8-.78.8-2.07 0-2.86zM5.41 20L4 18.59l7.72-7.72 1.47 1.35L5.41 20z\"/>\n",
              "  </svg>\n",
              "      </button>\n",
              "      \n",
              "  <style>\n",
              "    .colab-df-container {\n",
              "      display:flex;\n",
              "      flex-wrap:wrap;\n",
              "      gap: 12px;\n",
              "    }\n",
              "\n",
              "    .colab-df-convert {\n",
              "      background-color: #E8F0FE;\n",
              "      border: none;\n",
              "      border-radius: 50%;\n",
              "      cursor: pointer;\n",
              "      display: none;\n",
              "      fill: #1967D2;\n",
              "      height: 32px;\n",
              "      padding: 0 0 0 0;\n",
              "      width: 32px;\n",
              "    }\n",
              "\n",
              "    .colab-df-convert:hover {\n",
              "      background-color: #E2EBFA;\n",
              "      box-shadow: 0px 1px 2px rgba(60, 64, 67, 0.3), 0px 1px 3px 1px rgba(60, 64, 67, 0.15);\n",
              "      fill: #174EA6;\n",
              "    }\n",
              "\n",
              "    [theme=dark] .colab-df-convert {\n",
              "      background-color: #3B4455;\n",
              "      fill: #D2E3FC;\n",
              "    }\n",
              "\n",
              "    [theme=dark] .colab-df-convert:hover {\n",
              "      background-color: #434B5C;\n",
              "      box-shadow: 0px 1px 3px 1px rgba(0, 0, 0, 0.15);\n",
              "      filter: drop-shadow(0px 1px 2px rgba(0, 0, 0, 0.3));\n",
              "      fill: #FFFFFF;\n",
              "    }\n",
              "  </style>\n",
              "\n",
              "      <script>\n",
              "        const buttonEl =\n",
              "          document.querySelector('#df-e2e401c1-c4d7-42c5-8105-7d12184f817b button.colab-df-convert');\n",
              "        buttonEl.style.display =\n",
              "          google.colab.kernel.accessAllowed ? 'block' : 'none';\n",
              "\n",
              "        async function convertToInteractive(key) {\n",
              "          const element = document.querySelector('#df-e2e401c1-c4d7-42c5-8105-7d12184f817b');\n",
              "          const dataTable =\n",
              "            await google.colab.kernel.invokeFunction('convertToInteractive',\n",
              "                                                     [key], {});\n",
              "          if (!dataTable) return;\n",
              "\n",
              "          const docLinkHtml = 'Like what you see? Visit the ' +\n",
              "            '<a target=\"_blank\" href=https://colab.research.google.com/notebooks/data_table.ipynb>data table notebook</a>'\n",
              "            + ' to learn more about interactive tables.';\n",
              "          element.innerHTML = '';\n",
              "          dataTable['output_type'] = 'display_data';\n",
              "          await google.colab.output.renderOutput(dataTable, element);\n",
              "          const docLink = document.createElement('div');\n",
              "          docLink.innerHTML = docLinkHtml;\n",
              "          element.appendChild(docLink);\n",
              "        }\n",
              "      </script>\n",
              "    </div>\n",
              "  </div>\n",
              "  "
            ]
          },
          "metadata": {},
          "execution_count": 13
        }
      ],
      "source": [
        "akAviation.drop(['Event.Id', 'Location', 'Airport.Name', 'Registration.Number',\n",
        "                 'Schedule', 'Report.Status', 'Publication.Date'], axis=1)"
      ]
    },
    {
      "cell_type": "markdown",
      "metadata": {
        "id": "jiRbh0N8K_0k"
      },
      "source": [
        "# Analysis"
      ]
    },
    {
      "cell_type": "markdown",
      "metadata": {
        "id": "qKrkaORs2lSW"
      },
      "source": [
        "# Plot: Aviation Accidents by Year"
      ]
    },
    {
      "cell_type": "markdown",
      "metadata": {
        "id": "ss56-8wE58ta"
      },
      "source": [
        "Aviation Accients by Year: United States"
      ]
    },
    {
      "cell_type": "code",
      "execution_count": null,
      "metadata": {
        "colab": {
          "base_uri": "https://localhost:8080/"
        },
        "id": "c-dqagZW1qyS",
        "outputId": "06ca0ea2-99ae-4d5a-ea13-a5c5c1e88f7f"
      },
      "outputs": [
        {
          "output_type": "stream",
          "name": "stderr",
          "text": [
            "/usr/local/lib/python3.8/dist-packages/seaborn/_decorators.py:36: FutureWarning: Pass the following variable as a keyword arg: x. From version 0.12, the only valid positional argument will be `data`, and passing other arguments without an explicit keyword will result in an error or misinterpretation.\n",
            "  warnings.warn(\n"
          ]
        },
        {
          "output_type": "execute_result",
          "data": {
            "text/plain": [
              "<matplotlib.axes._subplots.AxesSubplot at 0x7f007cad49d0>"
            ]
          },
          "metadata": {},
          "execution_count": 14
        },
        {
          "output_type": "display_data",
          "data": {
            "text/plain": [
              "<Figure size 1440x576 with 1 Axes>"
            ],
            "image/png": "[encoded data removed]"
          },
          "metadata": {
            "needs_background": "light"
          }
        }
      ],
      "source": [
        "plt.figure(figsize=(20,8))\n",
        "sns.countplot(dfAviation['Year'], palette = 'icefire')"
      ]
    },
    {
      "cell_type": "markdown",
      "metadata": {
        "id": "OYzJIKjs53qt"
      },
      "source": [
        "Aviation Accidents by Year: Alaska "
      ]
    },
    {
      "cell_type": "code",
      "execution_count": null,
      "metadata": {
        "colab": {
          "base_uri": "https://localhost:8080/"
        },
        "id": "ykopTeXfLezK",
        "outputId": "8c647107-287b-457f-968a-9d9255298bda"
      },
      "outputs": [
        {
          "output_type": "stream",
          "name": "stderr",
          "text": [
            "/usr/local/lib/python3.8/dist-packages/seaborn/_decorators.py:36: FutureWarning: Pass the following variable as a keyword arg: x. From version 0.12, the only valid positional argument will be `data`, and passing other arguments without an explicit keyword will result in an error or misinterpretation.\n",
            "  warnings.warn(\n"
          ]
        },
        {
          "output_type": "execute_result",
          "data": {
            "text/plain": [
              "<matplotlib.axes._subplots.AxesSubplot at 0x7f007cad4ee0>"
            ]
          },
          "metadata": {},
          "execution_count": 15
        },
        {
          "output_type": "display_data",
          "data": {
            "text/plain": [
              "<Figure size 1440x576 with 1 Axes>"
            ],
            "image/png": "[encoded data removed]"
          },
          "metadata": {
            "needs_background": "light"
          }
        }
      ],
      "source": [
        "plt.figure(figsize=(20,8))\n",
        "sns.countplot(akAviation['Year'], palette = 'icefire')"
      ]
    },
    {
      "cell_type": "markdown",
      "metadata": {
        "id": "4auMtNjfNtSh"
      },
      "source": [
        "# Plot: Aviation Accidents by Month"
      ]
    },
    {
      "cell_type": "markdown",
      "metadata": {
        "id": "EbyYy6n161rb"
      },
      "source": [
        "Aviation Accidents by Month: United States"
      ]
    },
    {
      "cell_type": "code",
      "execution_count": null,
      "metadata": {
        "colab": {
          "base_uri": "https://localhost:8080/"
        },
        "id": "cRN_L09k65u3",
        "outputId": "b6dcea1d-dfcf-4aee-944e-390aaff92164"
      },
      "outputs": [
        {
          "output_type": "stream",
          "name": "stderr",
          "text": [
            "/usr/local/lib/python3.8/dist-packages/seaborn/_decorators.py:36: FutureWarning: Pass the following variable as a keyword arg: x. From version 0.12, the only valid positional argument will be `data`, and passing other arguments without an explicit keyword will result in an error or misinterpretation.\n",
            "  warnings.warn(\n"
          ]
        },
        {
          "output_type": "execute_result",
          "data": {
            "text/plain": [
              "<matplotlib.axes._subplots.AxesSubplot at 0x7f007c6fdd00>"
            ]
          },
          "metadata": {},
          "execution_count": 16
        },
        {
          "output_type": "display_data",
          "data": {
            "text/plain": [
              "<Figure size 1440x576 with 1 Axes>"
            ],
            "image/png": "[encoded data removed]"
          },
          "metadata": {
            "needs_background": "light"
          }
        }
      ],
      "source": [
        "plt.figure(figsize = (20,8))\n",
        "sns.countplot(dfAviation['Month'], palette = 'icefire')"
      ]
    },
    {
      "cell_type": "markdown",
      "metadata": {
        "id": "MBNOQZEv6-In"
      },
      "source": [
        "Aviation Accidents by Month: Alaska "
      ]
    },
    {
      "cell_type": "code",
      "execution_count": null,
      "metadata": {
        "colab": {
          "base_uri": "https://localhost:8080/"
        },
        "id": "hYht0jp2Nw-G",
        "outputId": "7d686b0a-5a67-4964-e219-87983f5385d3"
      },
      "outputs": [
        {
          "output_type": "stream",
          "name": "stderr",
          "text": [
            "/usr/local/lib/python3.8/dist-packages/seaborn/_decorators.py:36: FutureWarning: Pass the following variable as a keyword arg: x. From version 0.12, the only valid positional argument will be `data`, and passing other arguments without an explicit keyword will result in an error or misinterpretation.\n",
            "  warnings.warn(\n"
          ]
        },
        {
          "output_type": "execute_result",
          "data": {
            "text/plain": [
              "<matplotlib.axes._subplots.AxesSubplot at 0x7f007bf8e4f0>"
            ]
          },
          "metadata": {},
          "execution_count": 17
        },
        {
          "output_type": "display_data",
          "data": {
            "text/plain": [
              "<Figure size 1440x576 with 1 Axes>"
            ],
            "image/png": "[encoded data removed]"
          },
          "metadata": {
            "needs_background": "light"
          }
        }
      ],
      "source": [
        "plt.figure(figsize = (20,8))\n",
        "sns.countplot(akAviation['Month'], palette = 'icefire')"
      ]
    },
    {
      "cell_type": "markdown",
      "metadata": {
        "id": "t0qvkaXdFR--"
      },
      "source": [
        "# Plot: Accidents During Phase of Flight Alaska"
      ]
    },
    {
      "cell_type": "code",
      "execution_count": null,
      "metadata": {
        "colab": {
          "base_uri": "https://localhost:8080/"
        },
        "id": "vz6HA74AFdx-",
        "outputId": "4776497b-bf58-4770-8899-c52b201fe94d"
      },
      "outputs": [
        {
          "output_type": "stream",
          "name": "stderr",
          "text": [
            "/usr/local/lib/python3.8/dist-packages/seaborn/_decorators.py:36: FutureWarning: Pass the following variable as a keyword arg: x. From version 0.12, the only valid positional argument will be `data`, and passing other arguments without an explicit keyword will result in an error or misinterpretation.\n",
            "  warnings.warn(\n"
          ]
        },
        {
          "output_type": "execute_result",
          "data": {
            "text/plain": [
              "<matplotlib.axes._subplots.AxesSubplot at 0x7f007b8c9a30>"
            ]
          },
          "metadata": {},
          "execution_count": 18
        },
        {
          "output_type": "display_data",
          "data": {
            "text/plain": [
              "<Figure size 1440x576 with 1 Axes>"
            ],
            "image/png": "[encoded data removed]"
          },
          "metadata": {
            "needs_background": "light"
          }
        }
      ],
      "source": [
        "plt.figure(figsize = (20,8))\n",
        "sns.countplot(akAviation['Broad.phase.of.flight'], palette = 'icefire')"
      ]
    },
    {
      "cell_type": "markdown",
      "metadata": {
        "id": "lM3hTRe5F5cM"
      },
      "source": [
        "# Plot: Weather Condition Alaska"
      ]
    },
    {
      "cell_type": "code",
      "execution_count": null,
      "metadata": {
        "colab": {
          "base_uri": "https://localhost:8080/"
        },
        "id": "P-kKuEWRF9Q6",
        "outputId": "ba934716-7047-4294-f5fa-b49044908cf7"
      },
      "outputs": [
        {
          "output_type": "stream",
          "name": "stderr",
          "text": [
            "/usr/local/lib/python3.8/dist-packages/seaborn/_decorators.py:36: FutureWarning: Pass the following variable as a keyword arg: x. From version 0.12, the only valid positional argument will be `data`, and passing other arguments without an explicit keyword will result in an error or misinterpretation.\n",
            "  warnings.warn(\n"
          ]
        },
        {
          "output_type": "execute_result",
          "data": {
            "text/plain": [
              "<matplotlib.axes._subplots.AxesSubplot at 0x7f007b8c9bb0>"
            ]
          },
          "metadata": {},
          "execution_count": 19
        },
        {
          "output_type": "display_data",
          "data": {
            "text/plain": [
              "<Figure size 1440x576 with 1 Axes>"
            ],
            "image/png": "[encoded data removed]"
          },
          "metadata": {
            "needs_background": "light"
          }
        }
      ],
      "source": [
        "plt.figure(figsize = (20,8))\n",
        "sns.countplot(akAviation['Weather.Condition'], palette = 'icefire')"
      ]
    },
    {
      "cell_type": "markdown",
      "metadata": {
        "id": "EkIDxcAjGhI_"
      },
      "source": [
        "# Plot: Aircraft Make Alaska "
      ]
    },
    {
      "cell_type": "code",
      "execution_count": null,
      "metadata": {
        "colab": {
          "base_uri": "https://localhost:8080/"
        },
        "id": "ZgB0Y7JuYBXV",
        "outputId": "0c0b7540-fb73-42c7-a369-68a73eec5635"
      },
      "outputs": [
        {
          "output_type": "stream",
          "name": "stderr",
          "text": [
            "/usr/local/lib/python3.8/dist-packages/seaborn/_decorators.py:36: FutureWarning: Pass the following variables as keyword args: x, y. From version 0.12, the only valid positional argument will be `data`, and passing other arguments without an explicit keyword will result in an error or misinterpretation.\n",
            "  warnings.warn(\n"
          ]
        },
        {
          "output_type": "display_data",
          "data": {
            "text/plain": [
              "<Figure size 1440x576 with 1 Axes>"
            ],
            "image/png": "[encoded data removed]"
          },
          "metadata": {
            "needs_background": "light"
          }
        }
      ],
      "source": [
        "make_count = akAviation['Make'].str.upper().value_counts()\n",
        "make_count = make_count[:10]\n",
        "plt.figure(figsize=(20,8))\n",
        "sns.barplot(make_count.index, make_count.values, alpha=0.8)\n",
        "plt.title('Top Aircraft Makes Involved in Accidents')\n",
        "plt.xlabel('Make')\n",
        "plt.ylabel('Count')\n",
        "plt.show()"
      ]
    },
    {
      "cell_type": "markdown",
      "metadata": {
        "id": "qn1U83LTjnVY"
      },
      "source": [
        "# Interactive Map: Alaska Accidents"
      ]
    },
    {
      "cell_type": "code",
      "execution_count": null,
      "metadata": {
        "colab": {
          "base_uri": "https://localhost:8080/"
        },
        "id": "SHmcGX3gjiqx",
        "outputId": "91eb2f29-0493-4de6-9963-77fbcf4a2a45"
      },
      "outputs": [
        {
          "output_type": "stream",
          "name": "stderr",
          "text": [
            "<ipython-input-21-e3bd27bc996d>:1: SettingWithCopyWarning: \n",
            "A value is trying to be set on a copy of a slice from a DataFrame.\n",
            "Try using .loc[row_indexer,col_indexer] = value instead\n",
            "\n",
            "See the caveats in the documentation: https://pandas.pydata.org/pandas-docs/stable/user_guide/indexing.html#returning-a-view-versus-a-copy\n",
            "  akAviation['text'] = 'Accident Number: ' + (akAviation['Accident.Number'].astype(str)) + '<br>Fatalities: ' + (akAviation['Total.Fatal.Injuries'].astype(str))\n"
          ]
        },
        {
          "output_type": "display_data",
          "data": {
            "text/html": [
              "<html>\n",
              "<head><meta charset=\"utf-8\" /></head>\n",
              "<body>\n",
              "    <div>            <script src=\"https://cdnjs.cloudflare.com/ajax/libs/mathjax/2.7.5/MathJax.js?config=TeX-AMS-MML_SVG\"></script><script type=\"text/javascript\">if (window.MathJax) {MathJax.Hub.Config({SVG: {font: \"STIX-Web\"}});}</script>                <script type=\"text/javascript\">window.PlotlyConfig = {MathJaxConfig: 'local'};</script>\n",
              "        <script src=\"https://cdn.plot.ly/plotly-2.8.3.min.js\"></script>                <div id=\"38e47097-40bc-41fc-b9ff-cf121fa8f4ae\" class=\"plotly-graph-div\" style=\"height:525px; width:100%;\"></div>            <script type=\"text/javascript\">                                    window.PLOTLYENV=window.PLOTLYENV || {};                                    if (document.getElementById(\"38e47097-40bc-41fc-b9ff-cf121fa8f4ae\")) {                    Plotly.newPlot(                        \"38e47097-40bc-41fc-b9ff-cf121fa8f4ae\",                        [{\"lat\":[null,null,null,null,null,null,null,null,null,null,null,null,null,null,null,null,null,null,null,null,null,null,null,null,null,null,null,null,null,null,null,null,null,null,null,null,null,null,null,null,null,null,null,null,null,null,null,null,null,null,null,null,null,null,null,null,null,null,null,null,null,null,null,null,null,null,null,null,null,null,null,null,null,null,null,null,null,null,null,null,null,null,null,null,null,null,null,null,null,null,null,null,null,null,null,null,null,null,null,null,null,null,null,null,null,null,null,null,null,null,null,null,null,null,null,null,null,null,null,null,null,null,null,null,null,null,null,null,null,null,null,null,null,null,null,null,null,null,null,null,null,null,null,null,null,null,null,null,null,null,null,null,null,null,null,null,null,null,null,null,null,null,null,null,null,null,null,null,null,null,null,null,null,null,null,null,null,null,null,null,null,null,null,null,null,null,null,null,null,null,null,null,null,null,null,null,null,null,null,null,null,null,null,null,null,null,null,null,null,null,null,null,null,null,null,null,\"70.333333\",null,null,null,null,null,null,null,null,null,null,null,null,null,null,null,null,null,null,null,null,null,null,null,null,null,null,null,null,null,null,null,null,null,null,null,null,null,null,null,null,null,null,null,null,null,null,null,null,null,null,null,null,null,null,null,null,null,null,null,null,null,null,null,null,null,null,null,null,null,null,null,null,null,null,null,null,null,null,null,null,null,null,null,null,null,null,null,null,null,null,null,null,null,null,null,null,null,null,null,null,null,null,null,null,null,null,null,null,null,null,null,null,null,null,null,null,null,null,null,null,null,null,null,null,null,null,null,null,null,null,null,null,null,null,null,null,null,null,null,null,null,null,null,null,null,null,null,null,null,null,null,null,null,null,null,null,null,null,null,null,null,null,null,null,null,null,null,null,null,null,null,null,null,null,null,null,\"60.8\",null,null,null,\"70.205556\",\"61.040277\",null,\"60.363056\",\"58.358333\",\"53.96\",\"60\",\"66.060833\",\"59.189722\",\"59.066667\",\"61.385277\",\"66.833333\",null,\"61.168611\",\"59.273889\",\"61.267223\",\"58.939166\",\"58.358333\",\"61.865556\",\"65.501944\",\"61.594722\",\"63.293611\",\"60.126667\",\"61.95\",\"57.646111\",\"55.425\",\"59.433333\",\"56.8\",\"57.619445\",\"62.878889\",\"59.585555\",\"59.765278\",\"57.097777\",\"59.353611\",\"58.431111\",\"59.466945\",\"70.9825\",null,\"61.817223\",\"69.466667\",\"55.261667\",\"57.761667\",\"62.987222\",\"61.934166\",\"60.773889\",\"60.116667\",\"61.646111\",\"63.172223\",\"59.9125\",\"57.047222\",\"61.226389\",\"60.282223\",\"64.813889\",\"58.943055\",\"60.007222\",\"64.318889\",\"63.5\",\"64.634444\",\"60.155278\",\"55.358333\",\"61.5\",\"61.5\",\"60.621945\",\"64.753333\",\"61.03\",\"70.309722\",\"62.580556\",\"58.601667\",\"60.557778\",\"57.176389\",\"60.681945\",\"61.636666\",\"61.521667\",\"55.551389\",\"57.051111\",\"68.76\",\"55.7\",\"62.858333\",\"60.635833\",\"58.968056\",\"60.809722\",\"057452N\",\"061147N\",\"615018N\",\"059285N\",\"613512N\",\"605242N\",\"005895N\",\"573922N\",\"622417N\",\"611249N\",\"061240N\",\"643818N\",\"625741N\",\"613541N\",\"633710N\",\"551958N\",\"612616N\",\"615442N\",\"611256N\",\"532723N\",\"055242N\",\"634334N\",\"591926N\",\"632946N\",\"565739N\",\"603017N\",\"612453N\",\"612536N\",\"064151N\",\"058160N\",\"621054N\",\"006367N\",\"060222N\",\"603620N\",\"057417N\",\"594037N\",\"613426N\",\"615627N\",\"593824N\",\"652714N\",\"581533N\",\"642632N\",\"593134N\",\"595820N\",\"602822N\",\"061501N\",\"621428N\",\"059194N\",\"621917N\",\"056475N\",\"631526N\",\"602831N\",\"611257N\",\"614728N\",\"621733N\",\"062324N\",\"612734N\",\"593012N\",\"644746N\",\"006233N\",\"603129N\",\"061254N\",\"611252N\",\"611926N\",\"604226N\",\"601957N\",\"062559N\",\"552723N\",\"058207N\",\"621938N\",\"612545N\",\"601820N\",\"594640N\",\"613519N\",\"061139N\",\"571640N\",\"612319N\",\"059271N\",\"612514N\",\"614753N\",\"061731N\",\"059956N\",\"612856N\",\"061541N\",\"643231N\",\"601750N\",\"605640N\",\"642653N\",\"056825N\",\"059538N\",\"643851N\",\"613623N\",\"602217N\",\"611140N\",\"613824N\",\"604550N\",\"571018N\",\"611615N\",\"635131N\",\"614356N\",\"624725N\",\"063541N\",\"062422N\",\"583543N\",\"565942N\",\"062637N\",\"552532N\",\"055754N\",\"605438N\",\"613433N\",\"595630N\",\"603221N\",\"055184N\",\"059289N\",\"061213N\",\"535354N\",\"603015N\",\"060216N\",\"070447N\",\"602944N\",\"644842N\",\"061355N\",\"585221N\",\"061276N\",\"611154N\",\"552857N\",\"061438N\",\"574820N\"],\"lon\":[null,null,null,null,null,null,null,null,null,null,null,null,null,null,null,null,null,null,null,null,null,null,null,null,null,null,null,null,null,null,null,null,null,null,null,null,null,null,null,null,null,null,null,null,null,null,null,null,null,null,null,null,null,null,null,null,null,null,null,null,null,null,null,null,null,null,null,null,null,null,null,null,null,null,null,null,null,null,null,null,null,null,null,null,null,null,null,null,null,null,null,null,null,null,null,null,null,null,null,null,null,null,null,null,null,null,null,null,null,null,null,null,null,null,null,null,null,null,null,null,null,null,null,null,null,null,null,null,null,null,null,null,null,null,null,null,null,null,null,null,null,null,null,null,null,null,null,null,null,null,null,null,null,null,null,null,null,null,null,null,null,null,null,null,null,null,null,null,null,null,null,null,null,null,null,null,null,null,null,null,null,null,null,null,null,null,null,null,null,null,null,null,null,null,null,null,null,null,null,null,null,null,null,null,null,null,null,null,null,null,null,null,null,null,null,null,\"-150.933333\",null,null,null,null,null,null,null,null,null,null,null,null,null,null,null,null,null,null,null,null,null,null,null,null,null,null,null,null,null,null,null,null,null,null,null,null,null,null,null,null,null,null,null,null,null,null,null,null,null,null,null,null,null,null,null,null,null,null,null,null,null,null,null,null,null,null,null,null,null,null,null,null,null,null,null,null,null,null,null,null,null,null,null,null,null,null,null,null,null,null,null,null,null,null,null,null,null,null,null,null,null,null,null,null,null,null,null,null,null,null,null,null,null,null,null,null,null,null,null,null,null,null,null,null,null,null,null,null,null,null,null,null,null,null,null,null,null,null,null,null,null,null,null,null,null,null,null,null,null,null,null,null,null,null,null,null,null,null,null,null,null,null,null,null,null,null,null,null,null,null,null,null,null,null,null,null,\"-148.25\",null,null,null,\"-151.019167\",\"-157.173056\",null,\"-152.616945\",\"-134.582778\",\"-166.621389\",\"-156.715556\",\"-151.333333\",\"-138.443055\",\"-135.783333\",\"-151.389166\",\"-162.55\",null,\"-150.087777\",\"-135.3675\",\"-164.263611\",\"-159.253056\",\"-134.582778\",\"-154.268334\",\"-145.386111\",\"-149.088889\",\"-150.254167\",\"-154.111667\",\"-151.166667\",\"-153.307222\",\"-130.808333\",\"-158.85\",\"-132.933333\",\"-165.5025\",\"-151.066667\",\"-135.166945\",\"-152.050833\",\"-135.368889\",\"-151.930834\",\"-135.7125\",\"-135.311389\",\"-158.083333\",null,\"-147.634444\",\"-149.783333\",\"-162.726667\",\"-152.303056\",\"-149.892222\",\"-150.075556\",\"-151.902222\",\"-149.420278\",\"-149.2925\",\"-156.812222\",\"-157.0125\",\"-135.361667\",\"-149.988611\",\"-154.208333\",\"-147.918611\",\"-152.021667\",\"-148.767778\",\"-147.818334\",\"-149\",\"-148.617223\",\"-149.215556\",\"-131.695833\",\"-149.5525\",\"-149.5525\",\"-149.752222\",\"-150.195\",\"-150.618611\",\"-152.056111\",\"-152.583333\",\"-153.75\",\"-145.837777\",\"-158.416667\",\"-151.725834\",\"-149.308889\",\"-149.540277\",\"-130.685555\",\"-135.340555\",\"-145.334722\",\"-131.633333\",\"-152.626667\",\"-148.335\",\"-155.468334\",\"-148.555278\",\"0152287W\",\"1512355W\",\"1472237W\",\"0161475W\",\"0149145W\",\"0152454W\",\"1343019W\",\"1351950W\",\"1484740W\",\"1495040W\",\"1493050W\",\"0162140W\",\"1415545W\",\"1492813W\",\"0149544W\",\"1603228W\",\"0149269W\",\"0015050W\",\"0149522W\",\"1675220W\",\"1314411W\",\"1485423W\",\"1582215W\",\"1545455W\",\"1583445W\",\"0150337W\",\"1493024W\",\"1514651W\",\"1453513W\",\"0134320W\",\"1503024W\",\"1565925W\",\"0143359W\",\"1643555W\",\"1523033W\",\"0155612W\",\"1591725W\",\"1573713W\",\"0151304W\",\"1473322W\",\"0135711W\",\"0144535W\",\"1512030W\",\"0158211W\",\"0151120W\",\"1503338W\",\"0153916W\",\"0158214W\",\"0149562W\",\"0132345W\",\"0149152W\",\"0151237W\",\"1495122W\",\"0149050W\",\"1522112W\",\"1473635W\",\"0150525W\",\"1393937W\",\"1475251W\",\"0163169W\",\"0161514W\",\"0149303W\",\"0149511W\",\"1492924W\",\"0148613W\",\"0161316W\",\"1453148W\",\"0131846W\",\"0013541W\",\"0150168W\",\"1493337W\",\"1512245W\",\"0154554W\",\"1494852W\",\"0149549W\",\"1341434W\",\"1493342W\",\"1351220W\",\"1492942W\",\"1612956W\",\"1494456W\",\"1603912W\",\"1484626W\",\"1532649W\",\"1474528W\",\"0015472W\",\"1593715W\",\"0165529W\",\"1584818W\",\"1352236W\",\"1455243W\",\"1503024W\",\"1541432W\",\"0152139W\",\"1612644W\",\"1484257W\",\"1351636W\",\"0150338W\",\"1462935W\",\"0150253W\",\"1511331W\",\"0147440W\",\"0153115W\",\"1373540W\",\"0134282W\",\"0152104W\",\"1313018W\",\"1313414W\",\"1474615W\",\"1493154W\",\"1483952W\",\"1493240W\",\"0131397W\",\"1512921W\",\"0149243W\",\"1663239W\",\"0015095W\",\"0163123W\",\"1534416W\",\"0015111W\",\"1475528W\",\"0144245W\",\"0152815W\",\"1482156W\",\"0149750W\",\"1311331W\",\"0150315W\",\"1522156W\"],\"marker\":{\"line\":{\"color\":\"darkred\",\"width\":2},\"size\":[3.0,2.0,3.0,2.0,1.0,1.0,4.0,1.0,2.0,1.0,1.0,1.0,2.0,4.0,1.0,1.0,1.0,3.0,1.0,2.0,3.0,4.0,4.0,1.0,2.0,2.0,8.0,1.0,3.0,3.0,1.0,2.0,2.0,1.0,1.0,1.0,1.0,1.0,1.0,2.0,2.0,3.0,3.0,3.0,1.0,2.0,1.0,4.0,1.0,2.0,2.0,1.0,2.0,2.0,2.0,3.0,2.0,2.0,1.0,4.0,5.0,2.0,2.0,4.0,2.0,1.0,1.0,1.0,1.0,2.0,1.0,1.0,1.0,1.0,1.0,1.0,9.0,1.0,1.0,1.0,1.0,3.0,2.0,1.0,1.0,1.0,3.0,1.0,2.0,4.0,2.0,2.0,4.0,3.0,1.0,6.0,6.0,1.0,3.0,4.0,2.0,4.0,2.0,1.0,1.0,3.0,1.0,2.0,1.0,1.0,3.0,1.0,1.0,1.0,1.0,2.0,2.0,2.0,3.0,2.0,1.0,2.0,1.0,1.0,1.0,1.0,2.0,1.0,2.0,1.0,1.0,2.0,1.0,1.0,1.0,2.0,2.0,1.0,1.0,1.0,1.0,2.0,3.0,5.0,3.0,18.0,3.0,1.0,6.0,2.0,1.0,1.0,2.0,1.0,1.0,1.0,3.0,1.0,4.0,4.0,3.0,1.0,1.0,1.0,4.0,2.0,1.0,1.0,3.0,2.0,2.0,1.0,4.0,1.0,2.0,1.0,2.0,1.0,2.0,2.0,1.0,1.0,3.0,1.0,4.0,2.0,1.0,1.0,4.0,2.0,1.0,1.0,1.0,6.0,1.0,1.0,1.0,1.0,2.0,1.0,2.0,5.0,2.0,1.0,3.0,1.0,2.0,2.0,2.0,2.0,5.0,3.0,2.0,2.0,2.0,1.0,3.0,1.0,1.0,2.0,4.0,1.0,1.0,1.0,1.0,2.0,1.0,1.0,1.0,2.0,6.0,3.0,4.0,3.0,2.0,1.0,1.0,1.0,1.0,6.0,2.0,5.0,1.0,1.0,1.0,6.0,1.0,2.0,4.0,2.0,3.0,1.0,4.0,2.0,3.0,2.0,1.0,2.0,1.0,2.0,2.0,2.0,1.0,1.0,4.0,4.0,2.0,2.0,1.0,1.0,1.0,3.0,2.0,1.0,1.0,1.0,1.0,1.0,1.0,1.0,1.0,7.0,3.0,3.0,6.0,2.0,3.0,3.0,2.0,2.0,1.0,2.0,1.0,1.0,5.0,1.0,2.0,2.0,1.0,5.0,5.0,4.0,4.0,1.0,6.0,2.0,2.0,4.0,2.0,1.0,1.0,2.0,2.0,1.0,2.0,1.0,2.0,1.0,1.0,1.0,1.0,4.0,2.0,1.0,2.0,2.0,1.0,3.0,2.0,2.0,1.0,3.0,1.0,3.0,1.0,2.0,1.0,1.0,3.0,1.0,2.0,2.0,2.0,2.0,2.0,5.0,2.0,2.0,4.0,4.0,4.0,3.0,1.0,2.0,1.0,1.0,1.0,2.0,8.0,1.0,2.0,1.0,2.0,2.0,2.0,1.0,2.0,2.0,1.0,1.0,1.0,5.0,1.0,1.0,1.0,2.0,1.0,1.0,1.0,7.0,1.0,2.0,2.0,4.0,1.0,2.0,1.0,6.0,6.0,1.0,4.0,1.0,1.0,1.0,1.0,3.0,1.0,5.0,1.0,1.0,2.0,2.0,2.0,1.0,4.0,1.0,6.0,1.0,1.0,10.0,3.0,1.0,1.0,1.0,1.0,2.0,1.0,1.0,2.0,4.0,2.0,2.0,2.0,1.0,1.0,1.0,4.0,2.0,3.0,5.0,1.0,4.0,3.0,2.0,2.0,3.0,1.0,1.0,1.0,1.0,4.0,4.0,2.0,1.0,1.0,2.0,5.0,1.0,3.0,1.0,3.0,1.0,2.0,2.0,2.0,1.0,1.0,5.0,5.0,1.0,1.0,3.0,1.0,2.0,1.0,1.0,2.0,1.0,1.0,2.0,5.0,4.0,2.0,5.0,1.0,1.0,4.0,4.0,6.0,1.0,4.0,1.0,1.0,3.0,2.0,2.0,1.0,2.0,1.0,2.0,2.0,2.0,1.0,2.0,1.0,1.0,1.0,1.0,1.0,3.0,5.0,2.0,4.0,2.0,5.0,1.0,1.0,2.0,4.0,2.0,2.0,1.0,1.0,1.0,1.0,2.0,1.0,2.0,1.0,1.0,1.0,1.0,1.0,1.0,3.0,2.0,3.0,1.0,3.0,10.0,2.0,2.0,1.0,1.0,1.0,1.0,1.0,4.0,2.0,1.0,1.0,1.0,1.0,1.0,1.0,9.0,1.0,1.0,2.0,2.0,3.0,1.0,1.0,3.0,4.0,1.0,1.0,5.0,1.0,3.0,1.0,1.0,1.0,4.0,2.0,1.0,1.0,2.0,2.0,1.0,1.0,1.0,1.0,1.0,2.0,1.0,2.0,1.0,5.0,2.0,1.0,3.0,3.0,1.0,6.0,2.0,1.0,1.0,3.0,3.0,1.0,1.0,4.0,1.0,3.0,5.0,1.0,7.0,2.0,2.0,1.0,5.0,2.0,6.0,1.0,1.0],\"sizemode\":\"area\"},\"name\":\"0 - 100\",\"opacity\":1,\"text\":[\"Accident Number: ANC82FAG14<br>Fatalities: 3.0\",\"Accident Number: ANC82DAG16<br>Fatalities: 2.0\",\"Accident Number: ANC82FA036<br>Fatalities: 3.0\",\"Accident Number: ANC82FA035<br>Fatalities: 2.0\",\"Accident Number: ANC82FA037<br>Fatalities: 1.0\",\"Accident Number: ANC82DAG26<br>Fatalities: 1.0\",\"Accident Number: ANC82DAG27<br>Fatalities: 4.0\",\"Accident Number: ANC82DAG28<br>Fatalities: 1.0\",\"Accident Number: ANC82FAG30<br>Fatalities: 2.0\",\"Accident Number: ANC82FAG32<br>Fatalities: 1.0\",\"Accident Number: ANC82DA050<br>Fatalities: 1.0\",\"Accident Number: ANC82DAG33<br>Fatalities: 1.0\",\"Accident Number: ANC82FAA07<br>Fatalities: 2.0\",\"Accident Number: SEA82FA129<br>Fatalities: 4.0\",\"Accident Number: ANC82DA062<br>Fatalities: 1.0\",\"Accident Number: SEA82FAD01<br>Fatalities: 1.0\",\"Accident Number: ANC82DAG48<br>Fatalities: 1.0\",\"Accident Number: ANC82DAG60<br>Fatalities: 3.0\",\"Accident Number: ANC82FA079<br>Fatalities: 1.0\",\"Accident Number: ANC82DAG53<br>Fatalities: 2.0\",\"Accident Number: ANC82DAG59<br>Fatalities: 3.0\",\"Accident Number: ANC82FA091<br>Fatalities: 4.0\",\"Accident Number: ANC82FA094<br>Fatalities: 4.0\",\"Accident Number: ANC82DAA20<br>Fatalities: 1.0\",\"Accident Number: ANC83LAA02<br>Fatalities: 2.0\",\"Accident Number: SEA83FAD01<br>Fatalities: 2.0\",\"Accident Number: SEA83AA028<br>Fatalities: 8.0\",\"Accident Number: ANC83FA032<br>Fatalities: 1.0\",\"Accident Number: ANC83FAG03<br>Fatalities: 3.0\",\"Accident Number: ANC83FA042<br>Fatalities: 3.0\",\"Accident Number: ANC83FU002<br>Fatalities: 1.0\",\"Accident Number: ANC83FA064<br>Fatalities: 2.0\",\"Accident Number: ANC83FA068<br>Fatalities: 2.0\",\"Accident Number: ANC83FU003<br>Fatalities: 1.0\",\"Accident Number: ANC83FA071<br>Fatalities: 1.0\",\"Accident Number: ANC83FAA06<br>Fatalities: 1.0\",\"Accident Number: ANC83LA085<br>Fatalities: 1.0\",\"Accident Number: ANC83FA126<br>Fatalities: 1.0\",\"Accident Number: ANC83FA137<br>Fatalities: 1.0\",\"Accident Number: ANC83FA139<br>Fatalities: 2.0\",\"Accident Number: ANC83FA146<br>Fatalities: 2.0\",\"Accident Number: ANC83FA152<br>Fatalities: 3.0\",\"Accident Number: ANC83FA154<br>Fatalities: 3.0\",\"Accident Number: ANC83FA161<br>Fatalities: 3.0\",\"Accident Number: ANC83FA167<br>Fatalities: 1.0\",\"Accident Number: ANC83FA180<br>Fatalities: 2.0\",\"Accident Number: ANC84FA004<br>Fatalities: 1.0\",\"Accident Number: ANC84FA013<br>Fatalities: 4.0\",\"Accident Number: ANC84FA016<br>Fatalities: 1.0\",\"Accident Number: SEA84FA055<br>Fatalities: 2.0\",\"Accident Number: ANC84FA042<br>Fatalities: 2.0\",\"Accident Number: ANC84FA051<br>Fatalities: 1.0\",\"Accident Number: ANC84FA073B<br>Fatalities: 2.0\",\"Accident Number: ANC84FA073A<br>Fatalities: 2.0\",\"Accident Number: ANC84FA074<br>Fatalities: 2.0\",\"Accident Number: ANC84FA078<br>Fatalities: 3.0\",\"Accident Number: ANC84FA080A<br>Fatalities: 2.0\",\"Accident Number: ANC84FA080B<br>Fatalities: 2.0\",\"Accident Number: ANC84FA120<br>Fatalities: 1.0\",\"Accident Number: ANC84FA119<br>Fatalities: 4.0\",\"Accident Number: ANC84LAMS1<br>Fatalities: 5.0\",\"Accident Number: SEA84FA185<br>Fatalities: 2.0\",\"Accident Number: ANC84FA132<br>Fatalities: 2.0\",\"Accident Number: ANC84FA141<br>Fatalities: 4.0\",\"Accident Number: ANC84LA148<br>Fatalities: 2.0\",\"Accident Number: ANC84FA166<br>Fatalities: 1.0\",\"Accident Number: ANC84FA169<br>Fatalities: 1.0\",\"Accident Number: ANC84LA185<br>Fatalities: 1.0\",\"Accident Number: ANC84FAMS3<br>Fatalities: 1.0\",\"Accident Number: ANC84FAMS2<br>Fatalities: 2.0\",\"Accident Number: ANC85LA009<br>Fatalities: 1.0\",\"Accident Number: ANC85FA026<br>Fatalities: 1.0\",\"Accident Number: ANC85FA036<br>Fatalities: 1.0\",\"Accident Number: ANC85FA095<br>Fatalities: 1.0\",\"Accident Number: ANC85FA040<br>Fatalities: 1.0\",\"Accident Number: ANC85LA187<br>Fatalities: 1.0\",\"Accident Number: DCA85AA012<br>Fatalities: 9.0\",\"Accident Number: ANC85LA046<br>Fatalities: 1.0\",\"Accident Number: ANC85FA047<br>Fatalities: 1.0\",\"Accident Number: ANC85FA052<br>Fatalities: 1.0\",\"Accident Number: ANC85FA056<br>Fatalities: 1.0\",\"Accident Number: ANC85FA078<br>Fatalities: 3.0\",\"Accident Number: ANC85FA085<br>Fatalities: 2.0\",\"Accident Number: SEA85FA134<br>Fatalities: 1.0\",\"Accident Number: ANC85FA099<br>Fatalities: 1.0\",\"Accident Number: ANC85FA107<br>Fatalities: 1.0\",\"Accident Number: ANC85FA111<br>Fatalities: 3.0\",\"Accident Number: ANC85LA132<br>Fatalities: 1.0\",\"Accident Number: ANC85FA135<br>Fatalities: 2.0\",\"Accident Number: ANC85FA138<br>Fatalities: 4.0\",\"Accident Number: ANC85FA146<br>Fatalities: 2.0\",\"Accident Number: ANC85LA188<br>Fatalities: 2.0\",\"Accident Number: ANC85FA154<br>Fatalities: 4.0\",\"Accident Number: ANC85MA157<br>Fatalities: 3.0\",\"Accident Number: ANC85LA159<br>Fatalities: 1.0\",\"Accident Number: ANC85FA163B<br>Fatalities: 6.0\",\"Accident Number: ANC85FA163A<br>Fatalities: 6.0\",\"Accident Number: ANC85LA171<br>Fatalities: 1.0\",\"Accident Number: ANC85FA184<br>Fatalities: 3.0\",\"Accident Number: SEA86MA018<br>Fatalities: 4.0\",\"Accident Number: ANC86FA007<br>Fatalities: 2.0\",\"Accident Number: ANC86FA009<br>Fatalities: 4.0\",\"Accident Number: ANC86FA020<br>Fatalities: 2.0\",\"Accident Number: SEA86FA041<br>Fatalities: 1.0\",\"Accident Number: ANC86LA026<br>Fatalities: 1.0\",\"Accident Number: ANC86MA027<br>Fatalities: 3.0\",\"Accident Number: ANC86FA032<br>Fatalities: 1.0\",\"Accident Number: ANC86FA037<br>Fatalities: 2.0\",\"Accident Number: ANC86FA055<br>Fatalities: 1.0\",\"Accident Number: ANC86LA060<br>Fatalities: 1.0\",\"Accident Number: ANC86LA062<br>Fatalities: 3.0\",\"Accident Number: ANC86FA074<br>Fatalities: 1.0\",\"Accident Number: ANC86FA081<br>Fatalities: 1.0\",\"Accident Number: ANC86FA078<br>Fatalities: 1.0\",\"Accident Number: ANC86LA105<br>Fatalities: 1.0\",\"Accident Number: ANC86FA116<br>Fatalities: 2.0\",\"Accident Number: ANC86FA114<br>Fatalities: 2.0\",\"Accident Number: SEA86FA213<br>Fatalities: 2.0\",\"Accident Number: ANC86FA130<br>Fatalities: 3.0\",\"Accident Number: ANC86LA149<br>Fatalities: 2.0\",\"Accident Number: ANC86FA151<br>Fatalities: 1.0\",\"Accident Number: ANC86FA167<br>Fatalities: 2.0\",\"Accident Number: ANC87LA007<br>Fatalities: 1.0\",\"Accident Number: SEA87LA030<br>Fatalities: 1.0\",\"Accident Number: ANC87FA023<br>Fatalities: 1.0\",\"Accident Number: ANC87FA051<br>Fatalities: 1.0\",\"Accident Number: ANC87MA057<br>Fatalities: 2.0\",\"Accident Number: ANC87FA067<br>Fatalities: 1.0\",\"Accident Number: SEA87FA135<br>Fatalities: 2.0\",\"Accident Number: ANC87FA097<br>Fatalities: 1.0\",\"Accident Number: ANC87FA101<br>Fatalities: 1.0\",\"Accident Number: ANC87LA113<br>Fatalities: 2.0\",\"Accident Number: ANC87LA114<br>Fatalities: 1.0\",\"Accident Number: ANC87FA115<br>Fatalities: 1.0\",\"Accident Number: ANC87FA117<br>Fatalities: 1.0\",\"Accident Number: SEA87FA162A<br>Fatalities: 2.0\",\"Accident Number: SEA87FA162B<br>Fatalities: 2.0\",\"Accident Number: SEA87FA180<br>Fatalities: 1.0\",\"Accident Number: ANC87LA142<br>Fatalities: 1.0\",\"Accident Number: ANC87FA140<br>Fatalities: 1.0\",\"Accident Number: ANC87FA137<br>Fatalities: 1.0\",\"Accident Number: ANC87FA146<br>Fatalities: 2.0\",\"Accident Number: ANC87FA153<br>Fatalities: 3.0\",\"Accident Number: ANC87FA165<br>Fatalities: 5.0\",\"Accident Number: ANC88FA011<br>Fatalities: 3.0\",\"Accident Number: DCA88MA005<br>Fatalities: 18.0\",\"Accident Number: ANC88FA021<br>Fatalities: 3.0\",\"Accident Number: ANC88FA020<br>Fatalities: 1.0\",\"Accident Number: DCA88MA011<br>Fatalities: 6.0\",\"Accident Number: SEA88LA043<br>Fatalities: 2.0\",\"Accident Number: ANC88FA037<br>Fatalities: 1.0\",\"Accident Number: ANC88FA045<br>Fatalities: 1.0\",\"Accident Number: ANC88FA051<br>Fatalities: 2.0\",\"Accident Number: ANC88LA053<br>Fatalities: 1.0\",\"Accident Number: ANC88FA052B<br>Fatalities: 1.0\",\"Accident Number: ANC88FA052A<br>Fatalities: 1.0\",\"Accident Number: ANC88FA059<br>Fatalities: 3.0\",\"Accident Number: ANC88FA062<br>Fatalities: 1.0\",\"Accident Number: ANC88FA063B<br>Fatalities: 4.0\",\"Accident Number: ANC88FA063A<br>Fatalities: 4.0\",\"Accident Number: ANC88FA065<br>Fatalities: 3.0\",\"Accident Number: ANC88FA067<br>Fatalities: 1.0\",\"Accident Number: ANC88LA152<br>Fatalities: 1.0\",\"Accident Number: ANC88LA081<br>Fatalities: 1.0\",\"Accident Number: ANC88FA083<br>Fatalities: 4.0\",\"Accident Number: ANC88DAG05<br>Fatalities: 2.0\",\"Accident Number: ANC88LA085<br>Fatalities: 1.0\",\"Accident Number: ANC88LA151<br>Fatalities: 1.0\",\"Accident Number: SEA88FA140<br>Fatalities: 3.0\",\"Accident Number: ANC88LA107<br>Fatalities: 2.0\",\"Accident Number: ANC88FA111<br>Fatalities: 2.0\",\"Accident Number: SEA88FA156<br>Fatalities: 1.0\",\"Accident Number: SEA88FA169<br>Fatalities: 4.0\",\"Accident Number: SEA88FA167<br>Fatalities: 1.0\",\"Accident Number: ANC89FA009<br>Fatalities: 2.0\",\"Accident Number: SEA89FA027<br>Fatalities: 1.0\",\"Accident Number: SEA89FA036<br>Fatalities: 2.0\",\"Accident Number: ANC89FA041<br>Fatalities: 1.0\",\"Accident Number: ANC89FA057<br>Fatalities: 2.0\",\"Accident Number: SEA89FA074<br>Fatalities: 2.0\",\"Accident Number: SEA89FA092<br>Fatalities: 1.0\",\"Accident Number: ANC89FA084<br>Fatalities: 1.0\",\"Accident Number: ANC89FA090<br>Fatalities: 3.0\",\"Accident Number: ANC89FA092<br>Fatalities: 1.0\",\"Accident Number: ANC89FA094<br>Fatalities: 4.0\",\"Accident Number: SEA89FA143<br>Fatalities: 2.0\",\"Accident Number: ANC89FA133<br>Fatalities: 1.0\",\"Accident Number: ANC89FA137<br>Fatalities: 1.0\",\"Accident Number: ANC89LA181<br>Fatalities: 4.0\",\"Accident Number: ANC89FA144<br>Fatalities: 2.0\",\"Accident Number: ANC89FA160<br>Fatalities: 1.0\",\"Accident Number: ANC89DAG02<br>Fatalities: 1.0\",\"Accident Number: ANC90FA021<br>Fatalities: 1.0\",\"Accident Number: DEN90FA053<br>Fatalities: 6.0\",\"Accident Number: ANC90FA034<br>Fatalities: 1.0\",\"Accident Number: ANC90FA039<br>Fatalities: 1.0\",\"Accident Number: ANC90FA042<br>Fatalities: 1.0\",\"Accident Number: ANC90FA061<br>Fatalities: 1.0\",\"Accident Number: ANC90FA075<br>Fatalities: 2.0\",\"Accident Number: ANC90FA086<br>Fatalities: 1.0\",\"Accident Number: ANC90FA088<br>Fatalities: 2.0\",\"Accident Number: ANC90FA101<br>Fatalities: 5.0\",\"Accident Number: ANC90FA105<br>Fatalities: 2.0\",\"Accident Number: ANC90LA112<br>Fatalities: 1.0\",\"Accident Number: ANC90FA134<br>Fatalities: 3.0\",\"Accident Number: SEA90FA163<br>Fatalities: 1.0\",\"Accident Number: ANC90LA190<br>Fatalities: 2.0\",\"Accident Number: ANC90LA143<br>Fatalities: 2.0\",\"Accident Number: ANC90FA146<br>Fatalities: 2.0\",\"Accident Number: ANC90FA158<br>Fatalities: 2.0\",\"Accident Number: ANC90FA164<br>Fatalities: 5.0\",\"Accident Number: ANC90FA161<br>Fatalities: 3.0\",\"Accident Number: ANC90LA173<br>Fatalities: 2.0\",\"Accident Number: ANC90FA167B<br>Fatalities: 2.0\",\"Accident Number: ANC90FA167A<br>Fatalities: 2.0\",\"Accident Number: ANC90LA189<br>Fatalities: 1.0\",\"Accident Number: ANC91GAMS1<br>Fatalities: 3.0\",\"Accident Number: ANC91FA014<br>Fatalities: 1.0\",\"Accident Number: ANC91FA018<br>Fatalities: 1.0\",\"Accident Number: ANC91LA036<br>Fatalities: 2.0\",\"Accident Number: ANC91FA042<br>Fatalities: 4.0\",\"Accident Number: ANC91FA050B<br>Fatalities: 1.0\",\"Accident Number: ANC91FA050A<br>Fatalities: 1.0\",\"Accident Number: ANC91LA058<br>Fatalities: 1.0\",\"Accident Number: ANC91LA061<br>Fatalities: 1.0\",\"Accident Number: ANC91LA076<br>Fatalities: 2.0\",\"Accident Number: ANC91LA077<br>Fatalities: 1.0\",\"Accident Number: ANC91FA094<br>Fatalities: 1.0\",\"Accident Number: ANC91FA107<br>Fatalities: 1.0\",\"Accident Number: ANC91FA115<br>Fatalities: 2.0\",\"Accident Number: SEA91FA207<br>Fatalities: 6.0\",\"Accident Number: ANC91FA128<br>Fatalities: 3.0\",\"Accident Number: SEA91FA216<br>Fatalities: 4.0\",\"Accident Number: ANC91FA132<br>Fatalities: 3.0\",\"Accident Number: ANC91FA147<br>Fatalities: 2.0\",\"Accident Number: ANC92FA083<br>Fatalities: 1.0\",\"Accident Number: ANC92LA019<br>Fatalities: 1.0\",\"Accident Number: ANC92FA022<br>Fatalities: 1.0\",\"Accident Number: ANC92LA033<br>Fatalities: 1.0\",\"Accident Number: ANC92FA040<br>Fatalities: 6.0\",\"Accident Number: ANC92LA056<br>Fatalities: 2.0\",\"Accident Number: ANC92FAMS2<br>Fatalities: 5.0\",\"Accident Number: ANC92LA085<br>Fatalities: 1.0\",\"Accident Number: ANC92FA106<br>Fatalities: 1.0\",\"Accident Number: ANC92LA115<br>Fatalities: 1.0\",\"Accident Number: ANC92FA116<br>Fatalities: 6.0\",\"Accident Number: ANC92LA132<br>Fatalities: 1.0\",\"Accident Number: ANC92FAMS3<br>Fatalities: 2.0\",\"Accident Number: ANC92FA141<br>Fatalities: 4.0\",\"Accident Number: ANC92FA162<br>Fatalities: 2.0\",\"Accident Number: ANC92FA164<br>Fatalities: 3.0\",\"Accident Number: ANC93FA148<br>Fatalities: 1.0\",\"Accident Number: ANC93FA067<br>Fatalities: 4.0\",\"Accident Number: ANC93FA012<br>Fatalities: 2.0\",\"Accident Number: ANC93FA013<br>Fatalities: 3.0\",\"Accident Number: ANC93GA020<br>Fatalities: 2.0\",\"Accident Number: ANC93FA027<br>Fatalities: 1.0\",\"Accident Number: ANC93FA033<br>Fatalities: 2.0\",\"Accident Number: ANC93FA045<br>Fatalities: 1.0\",\"Accident Number: ANC93FA050<br>Fatalities: 2.0\",\"Accident Number: DCA93MA037<br>Fatalities: 2.0\",\"Accident Number: ANC93FA054<br>Fatalities: 2.0\",\"Accident Number: ANC93LA055<br>Fatalities: 1.0\",\"Accident Number: ANC93FA056<br>Fatalities: 1.0\",\"Accident Number: ANC93FA114B<br>Fatalities: 4.0\",\"Accident Number: ANC93FA114A<br>Fatalities: 4.0\",\"Accident Number: ANC93LA130<br>Fatalities: 2.0\",\"Accident Number: ANC93LA143<br>Fatalities: 2.0\",\"Accident Number: ANC93FA134<br>Fatalities: 1.0\",\"Accident Number: ANC93LA159<br>Fatalities: 1.0\",\"Accident Number: ANC93LA170<br>Fatalities: 1.0\",\"Accident Number: ANC93FA161<br>Fatalities: 3.0\",\"Accident Number: ANC93FA167<br>Fatalities: 2.0\",\"Accident Number: ANC93LA171<br>Fatalities: 1.0\",\"Accident Number: ANC93LA174<br>Fatalities: 1.0\",\"Accident Number: ANC93FA175<br>Fatalities: 1.0\",\"Accident Number: ANC94FA001<br>Fatalities: 1.0\",\"Accident Number: ANC94LA003<br>Fatalities: 1.0\",\"Accident Number: ANC94FA011<br>Fatalities: 1.0\",\"Accident Number: ANC94FA029<br>Fatalities: 1.0\",\"Accident Number: ANC94FA032<br>Fatalities: 1.0\",\"Accident Number: ANC94FA070<br>Fatalities: 7.0\",\"Accident Number: ANC94FA074<br>Fatalities: 3.0\",\"Accident Number: ANC94FA080<br>Fatalities: 3.0\",\"Accident Number: ANC94FA100<br>Fatalities: 6.0\",\"Accident Number: ANC94FA104<br>Fatalities: 2.0\",\"Accident Number: ANC94FA105<br>Fatalities: 3.0\",\"Accident Number: ANC94FA106<br>Fatalities: 3.0\",\"Accident Number: ANC94FA109<br>Fatalities: 2.0\",\"Accident Number: ANC94LA124<br>Fatalities: 2.0\",\"Accident Number: ANC94FA130<br>Fatalities: 1.0\",\"Accident Number: SEA94FA245<br>Fatalities: 2.0\",\"Accident Number: ANC95LA012<br>Fatalities: 1.0\",\"Accident Number: ANC95FAMS1<br>Fatalities: 1.0\",\"Accident Number: ANC95FA016<br>Fatalities: 5.0\",\"Accident Number: LAX95FA120<br>Fatalities: 1.0\",\"Accident Number: ANC95FA044<br>Fatalities: 2.0\",\"Accident Number: ANC95FA073<br>Fatalities: 2.0\",\"Accident Number: ANC95FA056<br>Fatalities: 1.0\",\"Accident Number: ANC95FA078B<br>Fatalities: 5.0\",\"Accident Number: ANC95FA078A<br>Fatalities: 5.0\",\"Accident Number: ANC95FA086<br>Fatalities: 4.0\",\"Accident Number: ANC95FA090<br>Fatalities: 4.0\",\"Accident Number: ANC95FA095<br>Fatalities: 1.0\",\"Accident Number: ANC95FA101<br>Fatalities: 6.0\",\"Accident Number: ANC95FA104B<br>Fatalities: 2.0\",\"Accident Number: ANC95FA104A<br>Fatalities: 2.0\",\"Accident Number: ANC95LA119<br>Fatalities: 4.0\",\"Accident Number: ANC95FA129<br>Fatalities: 2.0\",\"Accident Number: ANC95FA157<br>Fatalities: 1.0\",\"Accident Number: ANC95FA169<br>Fatalities: 1.0\",\"Accident Number: ANC95FA147<br>Fatalities: 2.0\",\"Accident Number: ANC95FA150<br>Fatalities: 2.0\",\"Accident Number: ANC95LA158<br>Fatalities: 1.0\",\"Accident Number: ANC95FA167<br>Fatalities: 2.0\",\"Accident Number: ANC96FA059<br>Fatalities: 1.0\",\"Accident Number: ANC96FA079<br>Fatalities: 2.0\",\"Accident Number: ANC96FA081<br>Fatalities: 1.0\",\"Accident Number: ANC96FA098<br>Fatalities: 1.0\",\"Accident Number: ANC96FA099<br>Fatalities: 1.0\",\"Accident Number: ANC96FA101<br>Fatalities: 1.0\",\"Accident Number: ANC96FA102<br>Fatalities: 4.0\",\"Accident Number: ANC96FA109<br>Fatalities: 2.0\",\"Accident Number: ANC96FA118<br>Fatalities: 1.0\",\"Accident Number: ANC96FAMS1<br>Fatalities: 2.0\",\"Accident Number: ANC96FA131<br>Fatalities: 2.0\",\"Accident Number: ANC96FA139<br>Fatalities: 1.0\",\"Accident Number: ANC96FA141<br>Fatalities: 3.0\",\"Accident Number: ANC96FA149<br>Fatalities: 2.0\",\"Accident Number: ANC96FA158<br>Fatalities: 2.0\",\"Accident Number: ANC96FA161<br>Fatalities: 1.0\",\"Accident Number: ANC96FA162<br>Fatalities: 3.0\",\"Accident Number: ANC97FA002<br>Fatalities: 1.0\",\"Accident Number: ANC97FA001<br>Fatalities: 3.0\",\"Accident Number: ANC97FA008<br>Fatalities: 1.0\",\"Accident Number: ANC97FA009<br>Fatalities: 2.0\",\"Accident Number: ANC97LA014<br>Fatalities: 1.0\",\"Accident Number: ANC97FA024<br>Fatalities: 1.0\",\"Accident Number: ANC97LA025<br>Fatalities: 3.0\",\"Accident Number: ANC97FA026<br>Fatalities: 1.0\",\"Accident Number: ANC97FA031<br>Fatalities: 2.0\",\"Accident Number: ANC97FA037B<br>Fatalities: 2.0\",\"Accident Number: ANC97FA037A<br>Fatalities: 2.0\",\"Accident Number: ANC97FA051B<br>Fatalities: 2.0\",\"Accident Number: ANC97FA051A<br>Fatalities: 2.0\",\"Accident Number: ANC97MA161<br>Fatalities: 5.0\",\"Accident Number: ANC97LA054<br>Fatalities: 2.0\",\"Accident Number: ANC97FA092<br>Fatalities: 2.0\",\"Accident Number: ANC97FAMS1<br>Fatalities: 4.0\",\"Accident Number: ANC97FA097<br>Fatalities: 4.0\",\"Accident Number: ANC97FA099<br>Fatalities: 4.0\",\"Accident Number: ANC97FA121<br>Fatalities: 3.0\",\"Accident Number: ANC97GA126<br>Fatalities: 1.0\",\"Accident Number: ANC97FA143<br>Fatalities: 2.0\",\"Accident Number: ANC97FA155<br>Fatalities: 1.0\",\"Accident Number: ANC97FA159<br>Fatalities: 1.0\",\"Accident Number: ANC98LA001<br>Fatalities: 1.0\",\"Accident Number: ANC98FA006<br>Fatalities: 2.0\",\"Accident Number: ANC98MA008<br>Fatalities: 8.0\",\"Accident Number: ANC98FA019<br>Fatalities: 1.0\",\"Accident Number: ANC98GA036<br>Fatalities: 2.0\",\"Accident Number: ANC98FA043<br>Fatalities: 1.0\",\"Accident Number: ANC98FA048<br>Fatalities: 2.0\",\"Accident Number: ANC98FA061B<br>Fatalities: 2.0\",\"Accident Number: ANC98FA061A<br>Fatalities: 2.0\",\"Accident Number: ANC98FA079<br>Fatalities: 1.0\",\"Accident Number: ANC98FA091<br>Fatalities: 2.0\",\"Accident Number: ANC98FA110<br>Fatalities: 2.0\",\"Accident Number: ANC98LA112<br>Fatalities: 1.0\",\"Accident Number: ANC98LA105<br>Fatalities: 1.0\",\"Accident Number: ANC98FA116<br>Fatalities: 1.0\",\"Accident Number: ANC98FA145<br>Fatalities: 5.0\",\"Accident Number: ANC98FA152<br>Fatalities: 1.0\",\"Accident Number: ANC98FA168<br>Fatalities: 1.0\",\"Accident Number: ANC99FA047<br>Fatalities: 1.0\",\"Accident Number: ANC99FAMS1<br>Fatalities: 2.0\",\"Accident Number: ANC99TA058<br>Fatalities: 1.0\",\"Accident Number: ANC99LA065<br>Fatalities: 1.0\",\"Accident Number: ANC99FA070<br>Fatalities: 1.0\",\"Accident Number: ANC99FA073<br>Fatalities: 7.0\",\"Accident Number: ANC99FA074<br>Fatalities: 1.0\",\"Accident Number: ANC99FA106<br>Fatalities: 2.0\",\"Accident Number: ANC99FA110<br>Fatalities: 2.0\",\"Accident Number: ANC99FA108<br>Fatalities: 4.0\",\"Accident Number: ANC99FAMS2<br>Fatalities: 1.0\",\"Accident Number: ANC99FA128<br>Fatalities: 2.0\",\"Accident Number: ANC99FA130<br>Fatalities: 1.0\",\"Accident Number: ANC00FA018<br>Fatalities: 6.0\",\"Accident Number: ANC00FA024<br>Fatalities: 6.0\",\"Accident Number: ANC00FA052<br>Fatalities: 1.0\",\"Accident Number: ANC00GA071<br>Fatalities: 4.0\",\"Accident Number: ANC00FA076<br>Fatalities: 1.0\",\"Accident Number: ANC00FA081<br>Fatalities: 1.0\",\"Accident Number: ANC00FA082<br>Fatalities: 1.0\",\"Accident Number: ANC00FA093<br>Fatalities: 1.0\",\"Accident Number: ANC00LA108<br>Fatalities: 3.0\",\"Accident Number: ANC00FA110<br>Fatalities: 1.0\",\"Accident Number: ANC00MA125<br>Fatalities: 5.0\",\"Accident Number: ANC00FA128<br>Fatalities: 1.0\",\"Accident Number: ANC01FA012<br>Fatalities: 1.0\",\"Accident Number: ANC01FA026<br>Fatalities: 2.0\",\"Accident Number: ANC01FAMS1<br>Fatalities: 2.0\",\"Accident Number: ANC01FA033<br>Fatalities: 2.0\",\"Accident Number: ANC01GA075<br>Fatalities: 1.0\",\"Accident Number: ANC01FA084<br>Fatalities: 4.0\",\"Accident Number: ANC01WA091<br>Fatalities: 1.0\",\"Accident Number: ANC01FA093<br>Fatalities: 6.0\",\"Accident Number: ANC01FA102<br>Fatalities: 1.0\",\"Accident Number: ANC01FA106<br>Fatalities: 1.0\",\"Accident Number: DCA02MA003<br>Fatalities: 10.0\",\"Accident Number: SEA02FA008<br>Fatalities: 3.0\",\"Accident Number: ANC02FA010<br>Fatalities: 1.0\",\"Accident Number: ANC02FA014<br>Fatalities: 1.0\",\"Accident Number: ANC02FA025<br>Fatalities: 1.0\",\"Accident Number: ANC02FA028<br>Fatalities: 1.0\",\"Accident Number: ANC02FA038<br>Fatalities: 2.0\",\"Accident Number: ANC02FA057<br>Fatalities: 1.0\",\"Accident Number: ANC02FA064<br>Fatalities: 1.0\",\"Accident Number: ANC02FA070<br>Fatalities: 2.0\",\"Accident Number: ANC02FA075<br>Fatalities: 4.0\",\"Accident Number: ANC02FA097<br>Fatalities: 2.0\",\"Accident Number: ANC02FA107<br>Fatalities: 2.0\",\"Accident Number: ANC02FA108<br>Fatalities: 2.0\",\"Accident Number: ANC02FA106<br>Fatalities: 1.0\",\"Accident Number: ANC03LA022<br>Fatalities: 1.0\",\"Accident Number: ANC03GA020<br>Fatalities: 1.0\",\"Accident Number: ANC03FA051<br>Fatalities: 4.0\",\"Accident Number: ANC03FA061<br>Fatalities: 2.0\",\"Accident Number: ANC03LA067<br>Fatalities: 3.0\",\"Accident Number: ANC03FA066<br>Fatalities: 5.0\",\"Accident Number: ANC03FA075<br>Fatalities: 1.0\",\"Accident Number: ANC03LA076<br>Fatalities: 4.0\",\"Accident Number: ANC03FA094<br>Fatalities: 3.0\",\"Accident Number: ANC03FA096<br>Fatalities: 2.0\",\"Accident Number: ANC03FAMS1<br>Fatalities: 2.0\",\"Accident Number: ANC03FA106<br>Fatalities: 3.0\",\"Accident Number: ANC04FA049<br>Fatalities: 1.0\",\"Accident Number: ANC04FA056<br>Fatalities: 1.0\",\"Accident Number: ANC04FA063<br>Fatalities: 1.0\",\"Accident Number: ANC04FA070<br>Fatalities: 1.0\",\"Accident Number: ANC04FA080<br>Fatalities: 4.0\",\"Accident Number: ANC04FA084<br>Fatalities: 4.0\",\"Accident Number: ANC04FA092<br>Fatalities: 2.0\",\"Accident Number: ANC04LA093<br>Fatalities: 1.0\",\"Accident Number: ANC04LA098<br>Fatalities: 1.0\",\"Accident Number: ANC04FA102<br>Fatalities: 2.0\",\"Accident Number: ANC04FAMS2<br>Fatalities: 5.0\",\"Accident Number: ANC05FA008<br>Fatalities: 1.0\",\"Accident Number: ANC05LA027<br>Fatalities: 3.0\",\"Accident Number: ANC05FA070<br>Fatalities: 1.0\",\"Accident Number: ANC05FA090<br>Fatalities: 3.0\",\"Accident Number: ANC05FA098<br>Fatalities: 1.0\",\"Accident Number: ANC05FA116<br>Fatalities: 2.0\",\"Accident Number: ANC05FA121<br>Fatalities: 2.0\",\"Accident Number: ANC05FA144<br>Fatalities: 2.0\",\"Accident Number: ANC06LA015<br>Fatalities: 1.0\",\"Accident Number: ANC06FA018<br>Fatalities: 1.0\",\"Accident Number: ANC06FA048B<br>Fatalities: 5.0\",\"Accident Number: ANC06FA048A<br>Fatalities: 5.0\",\"Accident Number: ANC06FA080<br>Fatalities: 1.0\",\"Accident Number: ANC06FA089<br>Fatalities: 1.0\",\"Accident Number: ANC06FAMS1<br>Fatalities: 3.0\",\"Accident Number: ANC06GA121<br>Fatalities: 1.0\",\"Accident Number: ANC06FA131<br>Fatalities: 2.0\",\"Accident Number: ANC06FA136<br>Fatalities: 1.0\",\"Accident Number: ANC07FA006<br>Fatalities: 1.0\",\"Accident Number: ANC07FA007<br>Fatalities: 2.0\",\"Accident Number: ANC07FA013<br>Fatalities: 1.0\",\"Accident Number: ANC07FA037<br>Fatalities: 1.0\",\"Accident Number: ANC07FA054<br>Fatalities: 2.0\",\"Accident Number: ANC07FA068<br>Fatalities: 5.0\",\"Accident Number: ANC07FA073<br>Fatalities: 4.0\",\"Accident Number: ANC07FA082<br>Fatalities: 2.0\",\"Accident Number: ANC07MA083<br>Fatalities: 5.0\",\"Accident Number: ANC07FA103<br>Fatalities: 1.0\",\"Accident Number: ANC07FA102<br>Fatalities: 1.0\",\"Accident Number: ANC07FA109<br>Fatalities: 4.0\",\"Accident Number: ANC08FA025<br>Fatalities: 4.0\",\"Accident Number: ANC08MA038<br>Fatalities: 6.0\",\"Accident Number: ANC08FA037<br>Fatalities: 1.0\",\"Accident Number: ANC08FA053<br>Fatalities: 4.0\",\"Accident Number: ANC08FA072<br>Fatalities: 1.0\",\"Accident Number: ANC08FA079<br>Fatalities: 1.0\",\"Accident Number: ANC08FA087<br>Fatalities: 3.0\",\"Accident Number: ANC08FA133<br>Fatalities: 2.0\",\"Accident Number: ANC08FA104<br>Fatalities: 2.0\",\"Accident Number: ANC08LA122<br>Fatalities: 1.0\",\"Accident Number: ANC09FA001<br>Fatalities: 2.0\",\"Accident Number: ANC09FA003<br>Fatalities: 1.0\",\"Accident Number: ANC09FA052<br>Fatalities: 2.0\",\"Accident Number: ANC09FAMS1<br>Fatalities: 2.0\",\"Accident Number: ANC09FA062<br>Fatalities: 2.0\",\"Accident Number: ANC10FA004<br>Fatalities: 1.0\",\"Accident Number: ANC10FA014<br>Fatalities: 2.0\",\"Accident Number: ANC10FA022<br>Fatalities: 1.0\",\"Accident Number: ANC10FA038<br>Fatalities: 1.0\",\"Accident Number: ANC10FA048<br>Fatalities: 1.0\",\"Accident Number: ANC10LA053<br>Fatalities: 1.0\",\"Accident Number: ANC10FA064<br>Fatalities: 1.0\",\"Accident Number: ANC10FA067<br>Fatalities: 3.0\",\"Accident Number: ANC10MA068<br>Fatalities: 5.0\",\"Accident Number: ANC10FA069<br>Fatalities: 2.0\",\"Accident Number: ANC10FA100<br>Fatalities: 4.0\",\"Accident Number: ANC10FA076<br>Fatalities: 2.0\",\"Accident Number: ANC11FA037<br>Fatalities: 5.0\",\"Accident Number: ANC11FA055<br>Fatalities: 1.0\",\"Accident Number: ANC11FA065<br>Fatalities: 1.0\",\"Accident Number: ANC11FA069<br>Fatalities: 2.0\",\"Accident Number: ANC11FA071<br>Fatalities: 4.0\",\"Accident Number: ANC11FA077<br>Fatalities: 2.0\",\"Accident Number: ANC11LA080<br>Fatalities: 2.0\",\"Accident Number: ANC11FA091<br>Fatalities: 1.0\",\"Accident Number: ANC11FA107<br>Fatalities: 1.0\",\"Accident Number: ANC12FA006<br>Fatalities: 1.0\",\"Accident Number: ANC12FA009<br>Fatalities: 1.0\",\"Accident Number: ANC12FA028<br>Fatalities: 2.0\",\"Accident Number: ANC12FA073<br>Fatalities: 1.0\",\"Accident Number: ANC12FA066<br>Fatalities: 2.0\",\"Accident Number: ANC12FA083<br>Fatalities: 1.0\",\"Accident Number: ANC12FA084<br>Fatalities: 1.0\",\"Accident Number: ANC12FA095<br>Fatalities: 1.0\",\"Accident Number: ANC13FA001<br>Fatalities: 1.0\",\"Accident Number: ANC13FAMS1<br>Fatalities: 1.0\",\"Accident Number: ANC13FA004<br>Fatalities: 1.0\",\"Accident Number: ANC13FA027<br>Fatalities: 3.0\",\"Accident Number: ANC13FA030<br>Fatalities: 2.0\",\"Accident Number: ANC13GA036<br>Fatalities: 3.0\",\"Accident Number: ANC13FA054<br>Fatalities: 1.0\",\"Accident Number: ANC13FA058<br>Fatalities: 3.0\",\"Accident Number: DCA13MA121<br>Fatalities: 10.0\",\"Accident Number: ANC13FA084<br>Fatalities: 2.0\",\"Accident Number: ANC13FA090<br>Fatalities: 2.0\",\"Accident Number: ANC13FA091<br>Fatalities: 1.0\",\"Accident Number: ANC13FA093<br>Fatalities: 1.0\",\"Accident Number: ANC13FA095<br>Fatalities: 1.0\",\"Accident Number: ANC13FAMS2<br>Fatalities: 1.0\",\"Accident Number: ANC14FA002<br>Fatalities: 1.0\",\"Accident Number: ANC14MA008<br>Fatalities: 4.0\",\"Accident Number: ANC14FA022<br>Fatalities: 2.0\",\"Accident Number: ANC14FA030<br>Fatalities: 1.0\",\"Accident Number: ANC14FA050<br>Fatalities: 1.0\",\"Accident Number: ANC14FA062<br>Fatalities: 1.0\",\"Accident Number: ANC15FA021<br>Fatalities: 1.0\",\"Accident Number: ANC15FA032<br>Fatalities: 1.0\",\"Accident Number: ANC15LA035<br>Fatalities: 1.0\",\"Accident Number: ANC15MA041<br>Fatalities: 9.0\",\"Accident Number: ANC15FA049<br>Fatalities: 1.0\",\"Accident Number: ANC15FA050<br>Fatalities: 1.0\",\"Accident Number: ANC15FA062<br>Fatalities: 2.0\",\"Accident Number: ANC15FA066<br>Fatalities: 2.0\",\"Accident Number: ANC15FA071<br>Fatalities: 3.0\",\"Accident Number: ANC16FA001<br>Fatalities: 1.0\",\"Accident Number: ANC16LA011<br>Fatalities: 1.0\",\"Accident Number: ANC16FA017<br>Fatalities: 3.0\",\"Accident Number: ANC16FA019<br>Fatalities: 4.0\",\"Accident Number: ANC16FA023<br>Fatalities: 1.0\",\"Accident Number: ANC16FA057<br>Fatalities: 1.0\",\"Accident Number: ANC16FA061<br>Fatalities: 5.0\",\"Accident Number: ANC16FA065<br>Fatalities: 1.0\",\"Accident Number: ANC17MA001<br>Fatalities: 3.0\",\"Accident Number: ANC17FA003<br>Fatalities: 1.0\",\"Accident Number: ANC17FA004<br>Fatalities: 1.0\",\"Accident Number: ANC17FA009<br>Fatalities: 1.0\",\"Accident Number: ANC17FA010<br>Fatalities: 4.0\",\"Accident Number: ANC17FA012<br>Fatalities: 2.0\",\"Accident Number: ANC17FA018<br>Fatalities: 1.0\",\"Accident Number: ANC17FA021<br>Fatalities: 1.0\",\"Accident Number: WPR17FA108<br>Fatalities: 2.0\",\"Accident Number: ANC17FA026<br>Fatalities: 2.0\",\"Accident Number: ANC17FA035<br>Fatalities: 1.0\",\"Accident Number: ANC17FA039<br>Fatalities: 1.0\",\"Accident Number: ANC17FA049<br>Fatalities: 1.0\",\"Accident Number: ANC18FA003<br>Fatalities: 1.0\",\"Accident Number: ANC18FA036<br>Fatalities: 1.0\",\"Accident Number: ANC18FA044<br>Fatalities: 2.0\",\"Accident Number: ANC18FA045<br>Fatalities: 1.0\",\"Accident Number: ANC18FA050<br>Fatalities: 2.0\",\"Accident Number: ANC18FA055<br>Fatalities: 1.0\",\"Accident Number: ANC18FA063<br>Fatalities: 5.0\",\"Accident Number: ANC18FA071<br>Fatalities: 2.0\",\"Accident Number: CEN18FA386<br>Fatalities: 1.0\",\"Accident Number: CEN18FA391<br>Fatalities: 3.0\",\"Accident Number: ANC19FA012<br>Fatalities: 3.0\",\"Accident Number: ANC19FA038<br>Fatalities: 1.0\",\"Accident Number: CEN19MA141<br>Fatalities: 6.0\",\"Accident Number: ANC19FA019<br>Fatalities: 2.0\",\"Accident Number: WPR19FA152<br>Fatalities: 1.0\",\"Accident Number: ANC19FA021<br>Fatalities: 1.0\",\"Accident Number: ANC19FA026<br>Fatalities: 3.0\",\"Accident Number: ANC19FA029<br>Fatalities: 3.0\",\"Accident Number: ANC19FA033<br>Fatalities: 1.0\",\"Accident Number: ANC19FA035<br>Fatalities: 1.0\",\"Accident Number: ANC19FA042<br>Fatalities: 4.0\",\"Accident Number: DCA20MA002<br>Fatalities: 1.0\",\"Accident Number: ANC20FA007<br>Fatalities: 3.0\",\"Accident Number: ANC20FA017<br>Fatalities: 5.0\",\"Accident Number: ANC20LA046<br>Fatalities: 1.0\",\"Accident Number: ANC20LA074<br>Fatalities: 7.0\",\"Accident Number: ANC20LA085<br>Fatalities: 2.0\",\"Accident Number: ANC21FA015<br>Fatalities: 2.0\",\"Accident Number: ANC21LA020<br>Fatalities: 1.0\",\"Accident Number: WPR21FA143<br>Fatalities: 5.0\",\"Accident Number: ANC21FA065<br>Fatalities: 2.0\",\"Accident Number: ANC21FA069<br>Fatalities: 6.0\",\"Accident Number: ANC22LA004<br>Fatalities: 1.0\",\"Accident Number: ANC22FA005<br>Fatalities: 1.0\"],\"type\":\"scattergeo\"}],                        {\"template\":{\"data\":{\"bar\":[{\"error_x\":{\"color\":\"#2a3f5f\"},\"error_y\":{\"color\":\"#2a3f5f\"},\"marker\":{\"line\":{\"color\":\"#E5ECF6\",\"width\":0.5},\"pattern\":{\"fillmode\":\"overlay\",\"size\":10,\"solidity\":0.2}},\"type\":\"bar\"}],\"barpolar\":[{\"marker\":{\"line\":{\"color\":\"#E5ECF6\",\"width\":0.5},\"pattern\":{\"fillmode\":\"overlay\",\"size\":10,\"solidity\":0.2}},\"type\":\"barpolar\"}],\"carpet\":[{\"aaxis\":{\"endlinecolor\":\"#2a3f5f\",\"gridcolor\":\"white\",\"linecolor\":\"white\",\"minorgridcolor\":\"white\",\"startlinecolor\":\"#2a3f5f\"},\"baxis\":{\"endlinecolor\":\"#2a3f5f\",\"gridcolor\":\"white\",\"linecolor\":\"white\",\"minorgridcolor\":\"white\",\"startlinecolor\":\"#2a3f5f\"},\"type\":\"carpet\"}],\"choropleth\":[{\"colorbar\":{\"outlinewidth\":0,\"ticks\":\"\"},\"type\":\"choropleth\"}],\"contour\":[{\"colorbar\":{\"outlinewidth\":0,\"ticks\":\"\"},\"colorscale\":[[0.0,\"#0d0887\"],[0.1111111111111111,\"#46039f\"],[0.2222222222222222,\"#7201a8\"],[0.3333333333333333,\"#9c179e\"],[0.4444444444444444,\"#bd3786\"],[0.5555555555555556,\"#d8576b\"],[0.6666666666666666,\"#ed7953\"],[0.7777777777777778,\"#fb9f3a\"],[0.8888888888888888,\"#fdca26\"],[1.0,\"#f0f921\"]],\"type\":\"contour\"}],\"contourcarpet\":[{\"colorbar\":{\"outlinewidth\":0,\"ticks\":\"\"},\"type\":\"contourcarpet\"}],\"heatmap\":[{\"colorbar\":{\"outlinewidth\":0,\"ticks\":\"\"},\"colorscale\":[[0.0,\"#0d0887\"],[0.1111111111111111,\"#46039f\"],[0.2222222222222222,\"#7201a8\"],[0.3333333333333333,\"#9c179e\"],[0.4444444444444444,\"#bd3786\"],[0.5555555555555556,\"#d8576b\"],[0.6666666666666666,\"#ed7953\"],[0.7777777777777778,\"#fb9f3a\"],[0.8888888888888888,\"#fdca26\"],[1.0,\"#f0f921\"]],\"type\":\"heatmap\"}],\"heatmapgl\":[{\"colorbar\":{\"outlinewidth\":0,\"ticks\":\"\"},\"colorscale\":[[0.0,\"#0d0887\"],[0.1111111111111111,\"#46039f\"],[0.2222222222222222,\"#7201a8\"],[0.3333333333333333,\"#9c179e\"],[0.4444444444444444,\"#bd3786\"],[0.5555555555555556,\"#d8576b\"],[0.6666666666666666,\"#ed7953\"],[0.7777777777777778,\"#fb9f3a\"],[0.8888888888888888,\"#fdca26\"],[1.0,\"#f0f921\"]],\"type\":\"heatmapgl\"}],\"histogram\":[{\"marker\":{\"pattern\":{\"fillmode\":\"overlay\",\"size\":10,\"solidity\":0.2}},\"type\":\"histogram\"}],\"histogram2d\":[{\"colorbar\":{\"outlinewidth\":0,\"ticks\":\"\"},\"colorscale\":[[0.0,\"#0d0887\"],[0.1111111111111111,\"#46039f\"],[0.2222222222222222,\"#7201a8\"],[0.3333333333333333,\"#9c179e\"],[0.4444444444444444,\"#bd3786\"],[0.5555555555555556,\"#d8576b\"],[0.6666666666666666,\"#ed7953\"],[0.7777777777777778,\"#fb9f3a\"],[0.8888888888888888,\"#fdca26\"],[1.0,\"#f0f921\"]],\"type\":\"histogram2d\"}],\"histogram2dcontour\":[{\"colorbar\":{\"outlinewidth\":0,\"ticks\":\"\"},\"colorscale\":[[0.0,\"#0d0887\"],[0.1111111111111111,\"#46039f\"],[0.2222222222222222,\"#7201a8\"],[0.3333333333333333,\"#9c179e\"],[0.4444444444444444,\"#bd3786\"],[0.5555555555555556,\"#d8576b\"],[0.6666666666666666,\"#ed7953\"],[0.7777777777777778,\"#fb9f3a\"],[0.8888888888888888,\"#fdca26\"],[1.0,\"#f0f921\"]],\"type\":\"histogram2dcontour\"}],\"mesh3d\":[{\"colorbar\":{\"outlinewidth\":0,\"ticks\":\"\"},\"type\":\"mesh3d\"}],\"parcoords\":[{\"line\":{\"colorbar\":{\"outlinewidth\":0,\"ticks\":\"\"}},\"type\":\"parcoords\"}],\"pie\":[{\"automargin\":true,\"type\":\"pie\"}],\"scatter\":[{\"marker\":{\"colorbar\":{\"outlinewidth\":0,\"ticks\":\"\"}},\"type\":\"scatter\"}],\"scatter3d\":[{\"line\":{\"colorbar\":{\"outlinewidth\":0,\"ticks\":\"\"}},\"marker\":{\"colorbar\":{\"outlinewidth\":0,\"ticks\":\"\"}},\"type\":\"scatter3d\"}],\"scattercarpet\":[{\"marker\":{\"colorbar\":{\"outlinewidth\":0,\"ticks\":\"\"}},\"type\":\"scattercarpet\"}],\"scattergeo\":[{\"marker\":{\"colorbar\":{\"outlinewidth\":0,\"ticks\":\"\"}},\"type\":\"scattergeo\"}],\"scattergl\":[{\"marker\":{\"colorbar\":{\"outlinewidth\":0,\"ticks\":\"\"}},\"type\":\"scattergl\"}],\"scattermapbox\":[{\"marker\":{\"colorbar\":{\"outlinewidth\":0,\"ticks\":\"\"}},\"type\":\"scattermapbox\"}],\"scatterpolar\":[{\"marker\":{\"colorbar\":{\"outlinewidth\":0,\"ticks\":\"\"}},\"type\":\"scatterpolar\"}],\"scatterpolargl\":[{\"marker\":{\"colorbar\":{\"outlinewidth\":0,\"ticks\":\"\"}},\"type\":\"scatterpolargl\"}],\"scatterternary\":[{\"marker\":{\"colorbar\":{\"outlinewidth\":0,\"ticks\":\"\"}},\"type\":\"scatterternary\"}],\"surface\":[{\"colorbar\":{\"outlinewidth\":0,\"ticks\":\"\"},\"colorscale\":[[0.0,\"#0d0887\"],[0.1111111111111111,\"#46039f\"],[0.2222222222222222,\"#7201a8\"],[0.3333333333333333,\"#9c179e\"],[0.4444444444444444,\"#bd3786\"],[0.5555555555555556,\"#d8576b\"],[0.6666666666666666,\"#ed7953\"],[0.7777777777777778,\"#fb9f3a\"],[0.8888888888888888,\"#fdca26\"],[1.0,\"#f0f921\"]],\"type\":\"surface\"}],\"table\":[{\"cells\":{\"fill\":{\"color\":\"#EBF0F8\"},\"line\":{\"color\":\"white\"}},\"header\":{\"fill\":{\"color\":\"#C8D4E3\"},\"line\":{\"color\":\"white\"}},\"type\":\"table\"}]},\"layout\":{\"annotationdefaults\":{\"arrowcolor\":\"#2a3f5f\",\"arrowhead\":0,\"arrowwidth\":1},\"autotypenumbers\":\"strict\",\"coloraxis\":{\"colorbar\":{\"outlinewidth\":0,\"ticks\":\"\"}},\"colorscale\":{\"diverging\":[[0,\"#8e0152\"],[0.1,\"#c51b7d\"],[0.2,\"#de77ae\"],[0.3,\"#f1b6da\"],[0.4,\"#fde0ef\"],[0.5,\"#f7f7f7\"],[0.6,\"#e6f5d0\"],[0.7,\"#b8e186\"],[0.8,\"#7fbc41\"],[0.9,\"#4d9221\"],[1,\"#276419\"]],\"sequential\":[[0.0,\"#0d0887\"],[0.1111111111111111,\"#46039f\"],[0.2222222222222222,\"#7201a8\"],[0.3333333333333333,\"#9c179e\"],[0.4444444444444444,\"#bd3786\"],[0.5555555555555556,\"#d8576b\"],[0.6666666666666666,\"#ed7953\"],[0.7777777777777778,\"#fb9f3a\"],[0.8888888888888888,\"#fdca26\"],[1.0,\"#f0f921\"]],\"sequentialminus\":[[0.0,\"#0d0887\"],[0.1111111111111111,\"#46039f\"],[0.2222222222222222,\"#7201a8\"],[0.3333333333333333,\"#9c179e\"],[0.4444444444444444,\"#bd3786\"],[0.5555555555555556,\"#d8576b\"],[0.6666666666666666,\"#ed7953\"],[0.7777777777777778,\"#fb9f3a\"],[0.8888888888888888,\"#fdca26\"],[1.0,\"#f0f921\"]]},\"colorway\":[\"#636efa\",\"#EF553B\",\"#00cc96\",\"#ab63fa\",\"#FFA15A\",\"#19d3f3\",\"#FF6692\",\"#B6E880\",\"#FF97FF\",\"#FECB52\"],\"font\":{\"color\":\"#2a3f5f\"},\"geo\":{\"bgcolor\":\"white\",\"lakecolor\":\"white\",\"landcolor\":\"#E5ECF6\",\"showlakes\":true,\"showland\":true,\"subunitcolor\":\"white\"},\"hoverlabel\":{\"align\":\"left\"},\"hovermode\":\"closest\",\"mapbox\":{\"style\":\"light\"},\"paper_bgcolor\":\"white\",\"plot_bgcolor\":\"#E5ECF6\",\"polar\":{\"angularaxis\":{\"gridcolor\":\"white\",\"linecolor\":\"white\",\"ticks\":\"\"},\"bgcolor\":\"#E5ECF6\",\"radialaxis\":{\"gridcolor\":\"white\",\"linecolor\":\"white\",\"ticks\":\"\"}},\"scene\":{\"xaxis\":{\"backgroundcolor\":\"#E5ECF6\",\"gridcolor\":\"white\",\"gridwidth\":2,\"linecolor\":\"white\",\"showbackground\":true,\"ticks\":\"\",\"zerolinecolor\":\"white\"},\"yaxis\":{\"backgroundcolor\":\"#E5ECF6\",\"gridcolor\":\"white\",\"gridwidth\":2,\"linecolor\":\"white\",\"showbackground\":true,\"ticks\":\"\",\"zerolinecolor\":\"white\"},\"zaxis\":{\"backgroundcolor\":\"#E5ECF6\",\"gridcolor\":\"white\",\"gridwidth\":2,\"linecolor\":\"white\",\"showbackground\":true,\"ticks\":\"\",\"zerolinecolor\":\"white\"}},\"shapedefaults\":{\"line\":{\"color\":\"#2a3f5f\"}},\"ternary\":{\"aaxis\":{\"gridcolor\":\"white\",\"linecolor\":\"white\",\"ticks\":\"\"},\"baxis\":{\"gridcolor\":\"white\",\"linecolor\":\"white\",\"ticks\":\"\"},\"bgcolor\":\"#E5ECF6\",\"caxis\":{\"gridcolor\":\"white\",\"linecolor\":\"white\",\"ticks\":\"\"}},\"title\":{\"x\":0.05},\"xaxis\":{\"automargin\":true,\"gridcolor\":\"white\",\"linecolor\":\"white\",\"ticks\":\"\",\"title\":{\"standoff\":15},\"zerolinecolor\":\"white\",\"zerolinewidth\":2},\"yaxis\":{\"automargin\":true,\"gridcolor\":\"white\",\"linecolor\":\"white\",\"ticks\":\"\",\"title\":{\"standoff\":15},\"zerolinecolor\":\"white\",\"zerolinewidth\":2}}},\"geo\":{\"resolution\":50,\"fitbounds\":\"locations\",\"showland\":true,\"landcolor\":\"darkkhaki\",\"showocean\":true,\"oceancolor\":\"lightseagreen\",\"showlakes\":true,\"lakecolor\":\"darkblue\",\"showrivers\":true,\"rivercolor\":\"mediumblue\",\"scope\":\"usa\"},\"title\":{\"text\":\"Fatal Injuries in Alaska\"}},                        {\"responsive\": true}                    ).then(function(){\n",
              "                            \n",
              "var gd = document.getElementById('38e47097-40bc-41fc-b9ff-cf121fa8f4ae');\n",
              "var x = new MutationObserver(function (mutations, observer) {{\n",
              "        var display = window.getComputedStyle(gd).display;\n",
              "        if (!display || display === 'none') {{\n",
              "            console.log([gd, 'removed!']);\n",
              "            Plotly.purge(gd);\n",
              "            observer.disconnect();\n",
              "        }}\n",
              "}});\n",
              "\n",
              "// Listen for the removal of the full notebook cells\n",
              "var notebookContainer = gd.closest('#notebook-container');\n",
              "if (notebookContainer) {{\n",
              "    x.observe(notebookContainer, {childList: true});\n",
              "}}\n",
              "\n",
              "// Listen for the clearing of the current output cell\n",
              "var outputEl = gd.closest('.output');\n",
              "if (outputEl) {{\n",
              "    x.observe(outputEl, {childList: true});\n",
              "}}\n",
              "\n",
              "                        })                };                            </script>        </div>\n",
              "</body>\n",
              "</html>"
            ]
          },
          "metadata": {}
        }
      ],
      "source": [
        "akAviation['text'] = 'Accident Number: ' + (akAviation['Accident.Number'].astype(str)) + '<br>Fatalities: ' + (akAviation['Total.Fatal.Injuries'].astype(str))\n",
        "limits = [(0,100)]\n",
        "accidentState = []\n",
        "\n",
        "fig = go.Figure()\n",
        "\n",
        "for i in range(len(limits)):\n",
        "    lim = limits[i]\n",
        "    Injuries_Count = akAviation[((akAviation['Total.Fatal.Injuries'] > lim[0]) & (akAviation['Total.Fatal.Injuries'] <lim[1]))]\n",
        "    fig.add_trace(go.Scattergeo(\n",
        "        lon = Injuries_Count['Longitude'],\n",
        "        lat = Injuries_Count['Latitude'],\n",
        "        opacity = 1,\n",
        "        text = Injuries_Count['text'],\n",
        "        marker = dict(\n",
        "            size = Injuries_Count['Total.Fatal.Injuries'],\n",
        "            line_color='darkred',\n",
        "            line_width= 2,\n",
        "            sizemode = 'area'\n",
        "        ),\n",
        "        name = '{0} - {1}'.format(lim[0],lim[1])))\n",
        "    accidentState.append(Injuries_Count)\n",
        "\n",
        "fig.update_geos(\n",
        "    resolution=50, \n",
        "    fitbounds=\"locations\", \n",
        "    showland=True, landcolor=\"darkkhaki\", \n",
        "    showocean=True, oceancolor=\"lightseagreen\",\n",
        "    showlakes=True, lakecolor=\"darkblue\", \n",
        "    showrivers=True, rivercolor=\"mediumblue\")\n",
        "fig.update_layout(\n",
        "        title_text = 'Fatal Injuries in Alaska',\n",
        "        geo = dict(\n",
        "            scope = 'usa',\n",
        "        )\n",
        "        \n",
        "\n",
        "    )\n",
        "fig.show()"
      ]
    },
    {
      "cell_type": "markdown",
      "source": [],
      "metadata": {
        "id": "qzRcv2GBUbuT"
      }
    },
    {
      "cell_type": "markdown",
      "source": [
        "# Search: Accident Number"
      ],
      "metadata": {
        "id": "Vogt7WLSUcBE"
      }
    },
    {
      "cell_type": "markdown",
      "source": [
        "*   Search database with an Accident Number.\n",
        "*   Example Accident Number: ANC82FAG14"
      ],
      "metadata": {
        "id": "QSZ9W2FoUj4S"
      }
    },
    {
      "cell_type": "code",
      "source": [
        "inputAccidentNumber = input(\"Input Accident Number: \")\n",
        "print(akAviation.loc[akAviation['Accident.Number']==inputAccidentNumber])"
      ],
      "metadata": {
        "id": "-mBb6NDpUiKT"
      },
      "execution_count": null,
      "outputs": []
    },
    {
      "cell_type": "markdown",
      "source": [
        "# Machine Learning: Linear Regression for Accident Prediction"
      ],
      "metadata": {
        "id": "uz-_9AjslKTj"
      }
    },
    {
      "cell_type": "code",
      "source": [
        "yearly_accidents = akAviation.groupby(['Year'])['Event.Id'].count().reset_index(name=\"Total Accidents\")\n",
        "yearly_accidents.head()"
      ],
      "metadata": {
        "id": "UjrYXx-cMghM"
      },
      "execution_count": null,
      "outputs": []
    },
    {
      "cell_type": "code",
      "source": [
        "x = yearly_accidents['Year'].to_numpy()\n",
        "y = yearly_accidents['Total Accidents'].to_numpy()\n",
        "\n",
        "print (x.shape)\n",
        "print (y.shape)"
      ],
      "metadata": {
        "id": "prv92PeyNPU1"
      },
      "execution_count": null,
      "outputs": []
    },
    {
      "cell_type": "code",
      "source": [
        "x = x.reshape((-1, 1))\n",
        "print (x.shape)"
      ],
      "metadata": {
        "id": "SSkHRD4COXln"
      },
      "execution_count": null,
      "outputs": []
    },
    {
      "cell_type": "markdown",
      "source": [
        "Split into Training/Test Data"
      ],
      "metadata": {
        "id": "EfDTfrB2RBtt"
      }
    },
    {
      "cell_type": "code",
      "source": [
        "from sklearn.model_selection import train_test_split\n",
        "\n",
        "x_train, x_test, y_train, y_test = train_test_split(x, y, train_size=0.7 , random_state=0000)"
      ],
      "metadata": {
        "id": "ikRXN-XTQYyG"
      },
      "execution_count": null,
      "outputs": []
    },
    {
      "cell_type": "code",
      "source": [
        "from sklearn.linear_model import LinearRegression\n",
        "\n",
        "lr = LinearRegression()\n",
        "\n",
        "lr.fit(x_train, y_train)"
      ],
      "metadata": {
        "id": "R0IbaMAZS9NN"
      },
      "execution_count": null,
      "outputs": []
    },
    {
      "cell_type": "code",
      "source": [
        "x_predict=[[y] for y in range (1982, 2022)]\n",
        "y_predict=lr.predict(x_predict)\n",
        "\n",
        "f, axes = plt.subplots(1,1, figsize=(20,8))\n",
        "plt.plot(x,y)\n",
        "plt.plot(x_predict, y_predict, alpha = 0.5)\n",
        "\n",
        "#Predict next 7 years of accidents \n",
        "\n",
        "print('Accident predictions for the next 7 years:')\n",
        "for i in range (0,7):\n",
        "  year=2022+i\n",
        "  n=-7+i\n",
        "  print('%d: %d' % (year, y_predict[n]))\n",
        "print('Slope: ', lr.coef_)  "
      ],
      "metadata": {
        "id": "mFeHLffcTYk6"
      },
      "execution_count": null,
      "outputs": []
    },
    {
      "cell_type": "markdown",
      "source": [
        "This linear regression model is predicting the number of aviation accidents in Alaska will go down by approximately 3 per year. "
      ],
      "metadata": {
        "id": "1tmY20UBQ6Zj"
      }
    },
    {
      "cell_type": "markdown",
      "source": [
        "Accident Prediction: Input a year to predict the number of aviation accidents. "
      ],
      "metadata": {
        "id": "Xf1e2lqt2WM9"
      }
    },
    {
      "cell_type": "code",
      "source": [
        "print(lr.predict([[2023]]))"
      ],
      "metadata": {
        "id": "ZdCO73sw5NPp"
      },
      "execution_count": null,
      "outputs": []
    },
    {
      "cell_type": "markdown",
      "source": [
        "Mean Square Error"
      ],
      "metadata": {
        "id": "PnFU581iRTfr"
      }
    },
    {
      "cell_type": "code",
      "source": [
        "print(y.shape)\n",
        "print(y_predict.shape)"
      ],
      "metadata": {
        "id": "TggJi8Y5VUPk"
      },
      "execution_count": null,
      "outputs": []
    },
    {
      "cell_type": "code",
      "source": [
        "from sklearn.metrics import mean_squared_error, r2_score\n",
        "mse = mean_squared_error(y, y_predict)\n",
        "print('Mean Square Error: ', mse)\n",
        "\n",
        "r2 = r2_score(y, y_predict)\n",
        "print('R2: ', r2)"
      ],
      "metadata": {
        "id": "RhJ-YTKtRU6C"
      },
      "execution_count": null,
      "outputs": []
    }
  ],
  "metadata": {
    "colab": {
      "toc_visible": true,
      "provenance": [],
      "history_visible": true,
      "collapsed_sections": [
        "pKdl4EUI2lue",
        "F5FeClzz7URa",
        "Vogt7WLSUcBE",
        "uz-_9AjslKTj"
      ],
      "authorship_tag": "ABX9TyOILKcatXc3Whs+wiycJfpl",
      "include_colab_link": true
    },
    "kernelspec": {
      "display_name": "Python 3",
      "name": "python3"
    },
    "language_info": {
      "name": "python"
    }
  },
  "nbformat": 4,
  "nbformat_minor": 0
}