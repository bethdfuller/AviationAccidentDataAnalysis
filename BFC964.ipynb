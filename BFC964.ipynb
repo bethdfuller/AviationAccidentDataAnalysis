{
  "cells": [
    {
      "cell_type": "markdown",
      "metadata": {
        "id": "view-in-github",
        "colab_type": "text"
      },
      "source": [
        "<a href=\"https://colab.research.google.com/github/bethdfuller/AviationAccidentDataAnalysis/blob/main/BFC964.ipynb\" target=\"_parent\"><img src=\"https://colab.research.google.com/assets/colab-badge.svg\" alt=\"Open In Colab\"/></a>"
      ]
    },
    {
      "cell_type": "markdown",
      "metadata": {
        "id": "pKdl4EUI2lue"
      },
      "source": [
        "# Load Data & Import Libraries"
      ]
    },
    {
      "cell_type": "code",
      "execution_count": 1,
      "metadata": {
        "id": "9n9_cTveKmse"
      },
      "outputs": [],
      "source": [
        "import pandas as pd\n",
        "import matplotlib.pyplot as plt\n",
        "import numpy as np\n",
        "import seaborn as sns\n",
        "import plotly.express as px\n",
        "import plotly.graph_objects as go\n",
        "from scipy import stats\n",
        "\n",
        "from sklearn.linear_model import LinearRegression , LogisticRegression\n",
        "lm = LinearRegression()\n",
        "\n",
        "url = 'https://raw.githubusercontent.com/bethdfuller/AviationAccidentDataAnalysis/main/AviationData.csv'"
      ]
    },
    {
      "cell_type": "markdown",
      "metadata": {
        "id": "4ZXF1RW56fL-"
      },
      "source": [
        "\n",
        "\n",
        "*   Read CSV File\n",
        "*   Print Head of Data\n",
        "\n"
      ]
    },
    {
      "cell_type": "code",
      "execution_count": 2,
      "metadata": {
        "id": "C8uDhlF15xNZ"
      },
      "outputs": [],
      "source": [
        "dfAviation = pd.read_csv(url, encoding = 'ISO-8859-1',low_memory=False)"
      ]
    },
    {
      "cell_type": "code",
      "execution_count": 3,
      "metadata": {
        "id": "rlIrq8b46FCx",
        "colab": {
          "base_uri": "https://localhost:8080/",
          "height": 342
        },
        "outputId": "62aeb718-3bd2-4cca-8339-7f2ddbd7e9b0"
      },
      "outputs": [
        {
          "output_type": "execute_result",
          "data": {
            "text/plain": [
              "         Event.Id Investigation.Type Accident.Number  Event.Date  \\\n",
              "0  20001218X45444           Accident      SEA87LA080  1948-10-24   \n",
              "1  20001218X45447           Accident      LAX94LA336  1962-07-19   \n",
              "2  20061025X01555           Accident      NYC07LA005  1974-08-30   \n",
              "3  20001218X45448           Accident      LAX96LA321  1977-06-19   \n",
              "4  20041105X01764           Accident      CHI79FA064  1979-08-02   \n",
              "\n",
              "          Location        Country   Latitude   Longitude Airport.Code  \\\n",
              "0  MOOSE CREEK, ID  United States        NaN         NaN          NaN   \n",
              "1   BRIDGEPORT, CA  United States        NaN         NaN          NaN   \n",
              "2    Saltville, VA  United States  36.922223  -81.878056          NaN   \n",
              "3       EUREKA, CA  United States        NaN         NaN          NaN   \n",
              "4       Canton, OH  United States        NaN         NaN          NaN   \n",
              "\n",
              "  Airport.Name  ... Purpose.of.flight Air.carrier Total.Fatal.Injuries  \\\n",
              "0          NaN  ...          Personal         NaN                  2.0   \n",
              "1          NaN  ...          Personal         NaN                  4.0   \n",
              "2          NaN  ...          Personal         NaN                  3.0   \n",
              "3          NaN  ...          Personal         NaN                  2.0   \n",
              "4          NaN  ...          Personal         NaN                  1.0   \n",
              "\n",
              "  Total.Serious.Injuries Total.Minor.Injuries Total.Uninjured  \\\n",
              "0                    0.0                  0.0             0.0   \n",
              "1                    0.0                  0.0             0.0   \n",
              "2                    NaN                  NaN             NaN   \n",
              "3                    0.0                  0.0             0.0   \n",
              "4                    2.0                  NaN             0.0   \n",
              "\n",
              "  Weather.Condition  Broad.phase.of.flight   Report.Status Publication.Date  \n",
              "0               UNK                 Cruise  Probable Cause              NaN  \n",
              "1               UNK                Unknown  Probable Cause       19-09-1996  \n",
              "2               IMC                 Cruise  Probable Cause       26-02-2007  \n",
              "3               IMC                 Cruise  Probable Cause       12-09-2000  \n",
              "4               VMC               Approach  Probable Cause       16-04-1980  \n",
              "\n",
              "[5 rows x 31 columns]"
            ],
            "text/html": [
              "\n",
              "  <div id=\"df-083d603b-21fd-4cad-958a-ec7cceec3f25\" class=\"colab-df-container\">\n",
              "    <div>\n",
              "<style scoped>\n",
              "    .dataframe tbody tr th:only-of-type {\n",
              "        vertical-align: middle;\n",
              "    }\n",
              "\n",
              "    .dataframe tbody tr th {\n",
              "        vertical-align: top;\n",
              "    }\n",
              "\n",
              "    .dataframe thead th {\n",
              "        text-align: right;\n",
              "    }\n",
              "</style>\n",
              "<table border=\"1\" class=\"dataframe\">\n",
              "  <thead>\n",
              "    <tr style=\"text-align: right;\">\n",
              "      <th></th>\n",
              "      <th>Event.Id</th>\n",
              "      <th>Investigation.Type</th>\n",
              "      <th>Accident.Number</th>\n",
              "      <th>Event.Date</th>\n",
              "      <th>Location</th>\n",
              "      <th>Country</th>\n",
              "      <th>Latitude</th>\n",
              "      <th>Longitude</th>\n",
              "      <th>Airport.Code</th>\n",
              "      <th>Airport.Name</th>\n",
              "      <th>...</th>\n",
              "      <th>Purpose.of.flight</th>\n",
              "      <th>Air.carrier</th>\n",
              "      <th>Total.Fatal.Injuries</th>\n",
              "      <th>Total.Serious.Injuries</th>\n",
              "      <th>Total.Minor.Injuries</th>\n",
              "      <th>Total.Uninjured</th>\n",
              "      <th>Weather.Condition</th>\n",
              "      <th>Broad.phase.of.flight</th>\n",
              "      <th>Report.Status</th>\n",
              "      <th>Publication.Date</th>\n",
              "    </tr>\n",
              "  </thead>\n",
              "  <tbody>\n",
              "    <tr>\n",
              "      <th>0</th>\n",
              "      <td>20001218X45444</td>\n",
              "      <td>Accident</td>\n",
              "      <td>SEA87LA080</td>\n",
              "      <td>1948-10-24</td>\n",
              "      <td>MOOSE CREEK, ID</td>\n",
              "      <td>United States</td>\n",
              "      <td>NaN</td>\n",
              "      <td>NaN</td>\n",
              "      <td>NaN</td>\n",
              "      <td>NaN</td>\n",
              "      <td>...</td>\n",
              "      <td>Personal</td>\n",
              "      <td>NaN</td>\n",
              "      <td>2.0</td>\n",
              "      <td>0.0</td>\n",
              "      <td>0.0</td>\n",
              "      <td>0.0</td>\n",
              "      <td>UNK</td>\n",
              "      <td>Cruise</td>\n",
              "      <td>Probable Cause</td>\n",
              "      <td>NaN</td>\n",
              "    </tr>\n",
              "    <tr>\n",
              "      <th>1</th>\n",
              "      <td>20001218X45447</td>\n",
              "      <td>Accident</td>\n",
              "      <td>LAX94LA336</td>\n",
              "      <td>1962-07-19</td>\n",
              "      <td>BRIDGEPORT, CA</td>\n",
              "      <td>United States</td>\n",
              "      <td>NaN</td>\n",
              "      <td>NaN</td>\n",
              "      <td>NaN</td>\n",
              "      <td>NaN</td>\n",
              "      <td>...</td>\n",
              "      <td>Personal</td>\n",
              "      <td>NaN</td>\n",
              "      <td>4.0</td>\n",
              "      <td>0.0</td>\n",
              "      <td>0.0</td>\n",
              "      <td>0.0</td>\n",
              "      <td>UNK</td>\n",
              "      <td>Unknown</td>\n",
              "      <td>Probable Cause</td>\n",
              "      <td>19-09-1996</td>\n",
              "    </tr>\n",
              "    <tr>\n",
              "      <th>2</th>\n",
              "      <td>20061025X01555</td>\n",
              "      <td>Accident</td>\n",
              "      <td>NYC07LA005</td>\n",
              "      <td>1974-08-30</td>\n",
              "      <td>Saltville, VA</td>\n",
              "      <td>United States</td>\n",
              "      <td>36.922223</td>\n",
              "      <td>-81.878056</td>\n",
              "      <td>NaN</td>\n",
              "      <td>NaN</td>\n",
              "      <td>...</td>\n",
              "      <td>Personal</td>\n",
              "      <td>NaN</td>\n",
              "      <td>3.0</td>\n",
              "      <td>NaN</td>\n",
              "      <td>NaN</td>\n",
              "      <td>NaN</td>\n",
              "      <td>IMC</td>\n",
              "      <td>Cruise</td>\n",
              "      <td>Probable Cause</td>\n",
              "      <td>26-02-2007</td>\n",
              "    </tr>\n",
              "    <tr>\n",
              "      <th>3</th>\n",
              "      <td>20001218X45448</td>\n",
              "      <td>Accident</td>\n",
              "      <td>LAX96LA321</td>\n",
              "      <td>1977-06-19</td>\n",
              "      <td>EUREKA, CA</td>\n",
              "      <td>United States</td>\n",
              "      <td>NaN</td>\n",
              "      <td>NaN</td>\n",
              "      <td>NaN</td>\n",
              "      <td>NaN</td>\n",
              "      <td>...</td>\n",
              "      <td>Personal</td>\n",
              "      <td>NaN</td>\n",
              "      <td>2.0</td>\n",
              "      <td>0.0</td>\n",
              "      <td>0.0</td>\n",
              "      <td>0.0</td>\n",
              "      <td>IMC</td>\n",
              "      <td>Cruise</td>\n",
              "      <td>Probable Cause</td>\n",
              "      <td>12-09-2000</td>\n",
              "    </tr>\n",
              "    <tr>\n",
              "      <th>4</th>\n",
              "      <td>20041105X01764</td>\n",
              "      <td>Accident</td>\n",
              "      <td>CHI79FA064</td>\n",
              "      <td>1979-08-02</td>\n",
              "      <td>Canton, OH</td>\n",
              "      <td>United States</td>\n",
              "      <td>NaN</td>\n",
              "      <td>NaN</td>\n",
              "      <td>NaN</td>\n",
              "      <td>NaN</td>\n",
              "      <td>...</td>\n",
              "      <td>Personal</td>\n",
              "      <td>NaN</td>\n",
              "      <td>1.0</td>\n",
              "      <td>2.0</td>\n",
              "      <td>NaN</td>\n",
              "      <td>0.0</td>\n",
              "      <td>VMC</td>\n",
              "      <td>Approach</td>\n",
              "      <td>Probable Cause</td>\n",
              "      <td>16-04-1980</td>\n",
              "    </tr>\n",
              "  </tbody>\n",
              "</table>\n",
              "<p>5 rows × 31 columns</p>\n",
              "</div>\n",
              "    <div class=\"colab-df-buttons\">\n",
              "\n",
              "  <div class=\"colab-df-container\">\n",
              "    <button class=\"colab-df-convert\" onclick=\"convertToInteractive('df-083d603b-21fd-4cad-958a-ec7cceec3f25')\"\n",
              "            title=\"Convert this dataframe to an interactive table.\"\n",
              "            style=\"display:none;\">\n",
              "\n",
              "  <svg xmlns=\"http://www.w3.org/2000/svg\" height=\"24px\" viewBox=\"0 -960 960 960\">\n",
              "    <path d=\"M120-120v-720h720v720H120Zm60-500h600v-160H180v160Zm220 220h160v-160H400v160Zm0 220h160v-160H400v160ZM180-400h160v-160H180v160Zm440 0h160v-160H620v160ZM180-180h160v-160H180v160Zm440 0h160v-160H620v160Z\"/>\n",
              "  </svg>\n",
              "    </button>\n",
              "\n",
              "  <style>\n",
              "    .colab-df-container {\n",
              "      display:flex;\n",
              "      gap: 12px;\n",
              "    }\n",
              "\n",
              "    .colab-df-convert {\n",
              "      background-color: #E8F0FE;\n",
              "      border: none;\n",
              "      border-radius: 50%;\n",
              "      cursor: pointer;\n",
              "      display: none;\n",
              "      fill: #1967D2;\n",
              "      height: 32px;\n",
              "      padding: 0 0 0 0;\n",
              "      width: 32px;\n",
              "    }\n",
              "\n",
              "    .colab-df-convert:hover {\n",
              "      background-color: #E2EBFA;\n",
              "      box-shadow: 0px 1px 2px rgba(60, 64, 67, 0.3), 0px 1px 3px 1px rgba(60, 64, 67, 0.15);\n",
              "      fill: #174EA6;\n",
              "    }\n",
              "\n",
              "    .colab-df-buttons div {\n",
              "      margin-bottom: 4px;\n",
              "    }\n",
              "\n",
              "    [theme=dark] .colab-df-convert {\n",
              "      background-color: #3B4455;\n",
              "      fill: #D2E3FC;\n",
              "    }\n",
              "\n",
              "    [theme=dark] .colab-df-convert:hover {\n",
              "      background-color: #434B5C;\n",
              "      box-shadow: 0px 1px 3px 1px rgba(0, 0, 0, 0.15);\n",
              "      filter: drop-shadow(0px 1px 2px rgba(0, 0, 0, 0.3));\n",
              "      fill: #FFFFFF;\n",
              "    }\n",
              "  </style>\n",
              "\n",
              "    <script>\n",
              "      const buttonEl =\n",
              "        document.querySelector('#df-083d603b-21fd-4cad-958a-ec7cceec3f25 button.colab-df-convert');\n",
              "      buttonEl.style.display =\n",
              "        google.colab.kernel.accessAllowed ? 'block' : 'none';\n",
              "\n",
              "      async function convertToInteractive(key) {\n",
              "        const element = document.querySelector('#df-083d603b-21fd-4cad-958a-ec7cceec3f25');\n",
              "        const dataTable =\n",
              "          await google.colab.kernel.invokeFunction('convertToInteractive',\n",
              "                                                    [key], {});\n",
              "        if (!dataTable) return;\n",
              "\n",
              "        const docLinkHtml = 'Like what you see? Visit the ' +\n",
              "          '<a target=\"_blank\" href=https://colab.research.google.com/notebooks/data_table.ipynb>data table notebook</a>'\n",
              "          + ' to learn more about interactive tables.';\n",
              "        element.innerHTML = '';\n",
              "        dataTable['output_type'] = 'display_data';\n",
              "        await google.colab.output.renderOutput(dataTable, element);\n",
              "        const docLink = document.createElement('div');\n",
              "        docLink.innerHTML = docLinkHtml;\n",
              "        element.appendChild(docLink);\n",
              "      }\n",
              "    </script>\n",
              "  </div>\n",
              "\n",
              "\n",
              "<div id=\"df-d1d6168b-b2b7-4028-8171-5060abba2060\">\n",
              "  <button class=\"colab-df-quickchart\" onclick=\"quickchart('df-d1d6168b-b2b7-4028-8171-5060abba2060')\"\n",
              "            title=\"Suggest charts\"\n",
              "            style=\"display:none;\">\n",
              "\n",
              "<svg xmlns=\"http://www.w3.org/2000/svg\" height=\"24px\"viewBox=\"0 0 24 24\"\n",
              "     width=\"24px\">\n",
              "    <g>\n",
              "        <path d=\"M19 3H5c-1.1 0-2 .9-2 2v14c0 1.1.9 2 2 2h14c1.1 0 2-.9 2-2V5c0-1.1-.9-2-2-2zM9 17H7v-7h2v7zm4 0h-2V7h2v10zm4 0h-2v-4h2v4z\"/>\n",
              "    </g>\n",
              "</svg>\n",
              "  </button>\n",
              "\n",
              "<style>\n",
              "  .colab-df-quickchart {\n",
              "      --bg-color: #E8F0FE;\n",
              "      --fill-color: #1967D2;\n",
              "      --hover-bg-color: #E2EBFA;\n",
              "      --hover-fill-color: #174EA6;\n",
              "      --disabled-fill-color: #AAA;\n",
              "      --disabled-bg-color: #DDD;\n",
              "  }\n",
              "\n",
              "  [theme=dark] .colab-df-quickchart {\n",
              "      --bg-color: #3B4455;\n",
              "      --fill-color: #D2E3FC;\n",
              "      --hover-bg-color: #434B5C;\n",
              "      --hover-fill-color: #FFFFFF;\n",
              "      --disabled-bg-color: #3B4455;\n",
              "      --disabled-fill-color: #666;\n",
              "  }\n",
              "\n",
              "  .colab-df-quickchart {\n",
              "    background-color: var(--bg-color);\n",
              "    border: none;\n",
              "    border-radius: 50%;\n",
              "    cursor: pointer;\n",
              "    display: none;\n",
              "    fill: var(--fill-color);\n",
              "    height: 32px;\n",
              "    padding: 0;\n",
              "    width: 32px;\n",
              "  }\n",
              "\n",
              "  .colab-df-quickchart:hover {\n",
              "    background-color: var(--hover-bg-color);\n",
              "    box-shadow: 0 1px 2px rgba(60, 64, 67, 0.3), 0 1px 3px 1px rgba(60, 64, 67, 0.15);\n",
              "    fill: var(--button-hover-fill-color);\n",
              "  }\n",
              "\n",
              "  .colab-df-quickchart-complete:disabled,\n",
              "  .colab-df-quickchart-complete:disabled:hover {\n",
              "    background-color: var(--disabled-bg-color);\n",
              "    fill: var(--disabled-fill-color);\n",
              "    box-shadow: none;\n",
              "  }\n",
              "\n",
              "  .colab-df-spinner {\n",
              "    border: 2px solid var(--fill-color);\n",
              "    border-color: transparent;\n",
              "    border-bottom-color: var(--fill-color);\n",
              "    animation:\n",
              "      spin 1s steps(1) infinite;\n",
              "  }\n",
              "\n",
              "  @keyframes spin {\n",
              "    0% {\n",
              "      border-color: transparent;\n",
              "      border-bottom-color: var(--fill-color);\n",
              "      border-left-color: var(--fill-color);\n",
              "    }\n",
              "    20% {\n",
              "      border-color: transparent;\n",
              "      border-left-color: var(--fill-color);\n",
              "      border-top-color: var(--fill-color);\n",
              "    }\n",
              "    30% {\n",
              "      border-color: transparent;\n",
              "      border-left-color: var(--fill-color);\n",
              "      border-top-color: var(--fill-color);\n",
              "      border-right-color: var(--fill-color);\n",
              "    }\n",
              "    40% {\n",
              "      border-color: transparent;\n",
              "      border-right-color: var(--fill-color);\n",
              "      border-top-color: var(--fill-color);\n",
              "    }\n",
              "    60% {\n",
              "      border-color: transparent;\n",
              "      border-right-color: var(--fill-color);\n",
              "    }\n",
              "    80% {\n",
              "      border-color: transparent;\n",
              "      border-right-color: var(--fill-color);\n",
              "      border-bottom-color: var(--fill-color);\n",
              "    }\n",
              "    90% {\n",
              "      border-color: transparent;\n",
              "      border-bottom-color: var(--fill-color);\n",
              "    }\n",
              "  }\n",
              "</style>\n",
              "\n",
              "  <script>\n",
              "    async function quickchart(key) {\n",
              "      const quickchartButtonEl =\n",
              "        document.querySelector('#' + key + ' button');\n",
              "      quickchartButtonEl.disabled = true;  // To prevent multiple clicks.\n",
              "      quickchartButtonEl.classList.add('colab-df-spinner');\n",
              "      try {\n",
              "        const charts = await google.colab.kernel.invokeFunction(\n",
              "            'suggestCharts', [key], {});\n",
              "      } catch (error) {\n",
              "        console.error('Error during call to suggestCharts:', error);\n",
              "      }\n",
              "      quickchartButtonEl.classList.remove('colab-df-spinner');\n",
              "      quickchartButtonEl.classList.add('colab-df-quickchart-complete');\n",
              "    }\n",
              "    (() => {\n",
              "      let quickchartButtonEl =\n",
              "        document.querySelector('#df-d1d6168b-b2b7-4028-8171-5060abba2060 button');\n",
              "      quickchartButtonEl.style.display =\n",
              "        google.colab.kernel.accessAllowed ? 'block' : 'none';\n",
              "    })();\n",
              "  </script>\n",
              "</div>\n",
              "\n",
              "    </div>\n",
              "  </div>\n"
            ]
          },
          "metadata": {},
          "execution_count": 3
        }
      ],
      "source": [
        "dfAviation.head()"
      ]
    },
    {
      "cell_type": "markdown",
      "metadata": {
        "id": "F5FeClzz7URa"
      },
      "source": [
        "# Data Clean"
      ]
    },
    {
      "cell_type": "markdown",
      "metadata": {
        "id": "l_Fu3xqC7Yw9"
      },
      "source": [
        "\n",
        "\n",
        "\n",
        "*   Separate Location into City & State\n",
        "*   Separate Date, Drop Dates before 1982\n",
        "*   Filter Alaska Data\n",
        "\n"
      ]
    },
    {
      "cell_type": "code",
      "execution_count": 11,
      "metadata": {
        "id": "DA_kXbsakBFE"
      },
      "outputs": [],
      "source": [
        "dfAviation['City'] = dfAviation['Location'].str.split(',').str[0]\n",
        "dfAviation['State'] = dfAviation['Location'].str.split(',').str[1]"
      ]
    },
    {
      "cell_type": "code",
      "execution_count": 12,
      "metadata": {
        "id": "AUkp85AnL3WN"
      },
      "outputs": [],
      "source": [
        "dfAviation['Event.Date'] = pd.to_datetime(dfAviation['Event.Date'])\n",
        "dfAviation['Year'] = dfAviation['Event.Date'].apply(lambda time: time.year)\n",
        "dfAviation['Month'] = dfAviation['Event.Date'].apply(lambda time: time.month)\n",
        "\n",
        "dfAviation = dfAviation[dfAviation['Year'] >= 1982]"
      ]
    },
    {
      "cell_type": "markdown",
      "metadata": {
        "id": "GMANeRu9f8mP"
      },
      "source": [
        "\n",
        "\n",
        "*   Filter United States\n",
        "*   Filter Accidents\n"
      ]
    },
    {
      "cell_type": "code",
      "execution_count": 13,
      "metadata": {
        "id": "t9Y6iBORfrN0"
      },
      "outputs": [],
      "source": [
        "dfAviation = dfAviation[dfAviation['Country']=='United States']\n"
      ]
    },
    {
      "cell_type": "code",
      "execution_count": 14,
      "metadata": {
        "id": "hCdSsOwDgCv1"
      },
      "outputs": [],
      "source": [
        "dfAviation = dfAviation[dfAviation['Investigation.Type']=='Accident']"
      ]
    },
    {
      "cell_type": "markdown",
      "metadata": {
        "id": "-sMVom1Fmh9e"
      },
      "source": [
        "Filter States for Alaska Data"
      ]
    },
    {
      "cell_type": "code",
      "execution_count": 15,
      "metadata": {
        "colab": {
          "base_uri": "https://localhost:8080/",
          "height": 342
        },
        "id": "hsX_EHB_l0D4",
        "outputId": "71acf879-2b29-4949-8aea-0aebdff186f5"
      },
      "outputs": [
        {
          "output_type": "execute_result",
          "data": {
            "text/plain": [
              "           Event.Id Investigation.Type Accident.Number Event.Date  \\\n",
              "17   20020917X01656           Accident      ANC82FAG14 1982-01-02   \n",
              "44   20020917X01651           Accident      ANC82FA012 1982-01-05   \n",
              "74   20020917X01623           Accident      ANC82DA013 1982-01-10   \n",
              "95   20020917X01625           Accident      ANC82DA015 1982-01-15   \n",
              "105  20020917X01624           Accident      ANC82DA014 1982-01-17   \n",
              "\n",
              "             Location        Country Latitude Longitude Airport.Code  \\\n",
              "17        SKWENTA, AK  United States      NaN       NaN          NaN   \n",
              "44         BETHEL, AK  United States      NaN       NaN          BET   \n",
              "74      QUINHAGAK, AK  United States      NaN       NaN          NaN   \n",
              "95   NEAR NUIQSUT, AK  United States      NaN       NaN          NaN   \n",
              "105     ANCHORAGE, AK  United States      NaN       NaN          MRI   \n",
              "\n",
              "      Airport.Name  ... Total.Minor.Injuries Total.Uninjured  \\\n",
              "17             NaN  ...                  0.0             0.0   \n",
              "44          BETHEL  ...                  0.0             0.0   \n",
              "74             NaN  ...                  3.0             0.0   \n",
              "95             NaN  ...                  0.0             4.0   \n",
              "105  MERRILL FIELD  ...                  1.0             1.0   \n",
              "\n",
              "    Weather.Condition Broad.phase.of.flight   Report.Status Publication.Date  \\\n",
              "17                VMC               Unknown  Probable Cause       02-01-1983   \n",
              "44                VMC               Takeoff  Probable Cause       05-01-1983   \n",
              "74                VMC                Cruise  Probable Cause       10-01-1983   \n",
              "95                VMC               Landing  Probable Cause       15-01-1983   \n",
              "105               VMC               Takeoff  Probable Cause       17-01-1983   \n",
              "\n",
              "             City  State  Year Month  \n",
              "17        SKWENTA     AK  1982     1  \n",
              "44         BETHEL     AK  1982     1  \n",
              "74      QUINHAGAK     AK  1982     1  \n",
              "95   NEAR NUIQSUT     AK  1982     1  \n",
              "105     ANCHORAGE     AK  1982     1  \n",
              "\n",
              "[5 rows x 35 columns]"
            ],
            "text/html": [
              "\n",
              "  <div id=\"df-71b1d925-a51a-4cc4-8b8f-5d21a2b7b45f\" class=\"colab-df-container\">\n",
              "    <div>\n",
              "<style scoped>\n",
              "    .dataframe tbody tr th:only-of-type {\n",
              "        vertical-align: middle;\n",
              "    }\n",
              "\n",
              "    .dataframe tbody tr th {\n",
              "        vertical-align: top;\n",
              "    }\n",
              "\n",
              "    .dataframe thead th {\n",
              "        text-align: right;\n",
              "    }\n",
              "</style>\n",
              "<table border=\"1\" class=\"dataframe\">\n",
              "  <thead>\n",
              "    <tr style=\"text-align: right;\">\n",
              "      <th></th>\n",
              "      <th>Event.Id</th>\n",
              "      <th>Investigation.Type</th>\n",
              "      <th>Accident.Number</th>\n",
              "      <th>Event.Date</th>\n",
              "      <th>Location</th>\n",
              "      <th>Country</th>\n",
              "      <th>Latitude</th>\n",
              "      <th>Longitude</th>\n",
              "      <th>Airport.Code</th>\n",
              "      <th>Airport.Name</th>\n",
              "      <th>...</th>\n",
              "      <th>Total.Minor.Injuries</th>\n",
              "      <th>Total.Uninjured</th>\n",
              "      <th>Weather.Condition</th>\n",
              "      <th>Broad.phase.of.flight</th>\n",
              "      <th>Report.Status</th>\n",
              "      <th>Publication.Date</th>\n",
              "      <th>City</th>\n",
              "      <th>State</th>\n",
              "      <th>Year</th>\n",
              "      <th>Month</th>\n",
              "    </tr>\n",
              "  </thead>\n",
              "  <tbody>\n",
              "    <tr>\n",
              "      <th>17</th>\n",
              "      <td>20020917X01656</td>\n",
              "      <td>Accident</td>\n",
              "      <td>ANC82FAG14</td>\n",
              "      <td>1982-01-02</td>\n",
              "      <td>SKWENTA, AK</td>\n",
              "      <td>United States</td>\n",
              "      <td>NaN</td>\n",
              "      <td>NaN</td>\n",
              "      <td>NaN</td>\n",
              "      <td>NaN</td>\n",
              "      <td>...</td>\n",
              "      <td>0.0</td>\n",
              "      <td>0.0</td>\n",
              "      <td>VMC</td>\n",
              "      <td>Unknown</td>\n",
              "      <td>Probable Cause</td>\n",
              "      <td>02-01-1983</td>\n",
              "      <td>SKWENTA</td>\n",
              "      <td>AK</td>\n",
              "      <td>1982</td>\n",
              "      <td>1</td>\n",
              "    </tr>\n",
              "    <tr>\n",
              "      <th>44</th>\n",
              "      <td>20020917X01651</td>\n",
              "      <td>Accident</td>\n",
              "      <td>ANC82FA012</td>\n",
              "      <td>1982-01-05</td>\n",
              "      <td>BETHEL, AK</td>\n",
              "      <td>United States</td>\n",
              "      <td>NaN</td>\n",
              "      <td>NaN</td>\n",
              "      <td>BET</td>\n",
              "      <td>BETHEL</td>\n",
              "      <td>...</td>\n",
              "      <td>0.0</td>\n",
              "      <td>0.0</td>\n",
              "      <td>VMC</td>\n",
              "      <td>Takeoff</td>\n",
              "      <td>Probable Cause</td>\n",
              "      <td>05-01-1983</td>\n",
              "      <td>BETHEL</td>\n",
              "      <td>AK</td>\n",
              "      <td>1982</td>\n",
              "      <td>1</td>\n",
              "    </tr>\n",
              "    <tr>\n",
              "      <th>74</th>\n",
              "      <td>20020917X01623</td>\n",
              "      <td>Accident</td>\n",
              "      <td>ANC82DA013</td>\n",
              "      <td>1982-01-10</td>\n",
              "      <td>QUINHAGAK, AK</td>\n",
              "      <td>United States</td>\n",
              "      <td>NaN</td>\n",
              "      <td>NaN</td>\n",
              "      <td>NaN</td>\n",
              "      <td>NaN</td>\n",
              "      <td>...</td>\n",
              "      <td>3.0</td>\n",
              "      <td>0.0</td>\n",
              "      <td>VMC</td>\n",
              "      <td>Cruise</td>\n",
              "      <td>Probable Cause</td>\n",
              "      <td>10-01-1983</td>\n",
              "      <td>QUINHAGAK</td>\n",
              "      <td>AK</td>\n",
              "      <td>1982</td>\n",
              "      <td>1</td>\n",
              "    </tr>\n",
              "    <tr>\n",
              "      <th>95</th>\n",
              "      <td>20020917X01625</td>\n",
              "      <td>Accident</td>\n",
              "      <td>ANC82DA015</td>\n",
              "      <td>1982-01-15</td>\n",
              "      <td>NEAR NUIQSUT, AK</td>\n",
              "      <td>United States</td>\n",
              "      <td>NaN</td>\n",
              "      <td>NaN</td>\n",
              "      <td>NaN</td>\n",
              "      <td>NaN</td>\n",
              "      <td>...</td>\n",
              "      <td>0.0</td>\n",
              "      <td>4.0</td>\n",
              "      <td>VMC</td>\n",
              "      <td>Landing</td>\n",
              "      <td>Probable Cause</td>\n",
              "      <td>15-01-1983</td>\n",
              "      <td>NEAR NUIQSUT</td>\n",
              "      <td>AK</td>\n",
              "      <td>1982</td>\n",
              "      <td>1</td>\n",
              "    </tr>\n",
              "    <tr>\n",
              "      <th>105</th>\n",
              "      <td>20020917X01624</td>\n",
              "      <td>Accident</td>\n",
              "      <td>ANC82DA014</td>\n",
              "      <td>1982-01-17</td>\n",
              "      <td>ANCHORAGE, AK</td>\n",
              "      <td>United States</td>\n",
              "      <td>NaN</td>\n",
              "      <td>NaN</td>\n",
              "      <td>MRI</td>\n",
              "      <td>MERRILL FIELD</td>\n",
              "      <td>...</td>\n",
              "      <td>1.0</td>\n",
              "      <td>1.0</td>\n",
              "      <td>VMC</td>\n",
              "      <td>Takeoff</td>\n",
              "      <td>Probable Cause</td>\n",
              "      <td>17-01-1983</td>\n",
              "      <td>ANCHORAGE</td>\n",
              "      <td>AK</td>\n",
              "      <td>1982</td>\n",
              "      <td>1</td>\n",
              "    </tr>\n",
              "  </tbody>\n",
              "</table>\n",
              "<p>5 rows × 35 columns</p>\n",
              "</div>\n",
              "    <div class=\"colab-df-buttons\">\n",
              "\n",
              "  <div class=\"colab-df-container\">\n",
              "    <button class=\"colab-df-convert\" onclick=\"convertToInteractive('df-71b1d925-a51a-4cc4-8b8f-5d21a2b7b45f')\"\n",
              "            title=\"Convert this dataframe to an interactive table.\"\n",
              "            style=\"display:none;\">\n",
              "\n",
              "  <svg xmlns=\"http://www.w3.org/2000/svg\" height=\"24px\" viewBox=\"0 -960 960 960\">\n",
              "    <path d=\"M120-120v-720h720v720H120Zm60-500h600v-160H180v160Zm220 220h160v-160H400v160Zm0 220h160v-160H400v160ZM180-400h160v-160H180v160Zm440 0h160v-160H620v160ZM180-180h160v-160H180v160Zm440 0h160v-160H620v160Z\"/>\n",
              "  </svg>\n",
              "    </button>\n",
              "\n",
              "  <style>\n",
              "    .colab-df-container {\n",
              "      display:flex;\n",
              "      gap: 12px;\n",
              "    }\n",
              "\n",
              "    .colab-df-convert {\n",
              "      background-color: #E8F0FE;\n",
              "      border: none;\n",
              "      border-radius: 50%;\n",
              "      cursor: pointer;\n",
              "      display: none;\n",
              "      fill: #1967D2;\n",
              "      height: 32px;\n",
              "      padding: 0 0 0 0;\n",
              "      width: 32px;\n",
              "    }\n",
              "\n",
              "    .colab-df-convert:hover {\n",
              "      background-color: #E2EBFA;\n",
              "      box-shadow: 0px 1px 2px rgba(60, 64, 67, 0.3), 0px 1px 3px 1px rgba(60, 64, 67, 0.15);\n",
              "      fill: #174EA6;\n",
              "    }\n",
              "\n",
              "    .colab-df-buttons div {\n",
              "      margin-bottom: 4px;\n",
              "    }\n",
              "\n",
              "    [theme=dark] .colab-df-convert {\n",
              "      background-color: #3B4455;\n",
              "      fill: #D2E3FC;\n",
              "    }\n",
              "\n",
              "    [theme=dark] .colab-df-convert:hover {\n",
              "      background-color: #434B5C;\n",
              "      box-shadow: 0px 1px 3px 1px rgba(0, 0, 0, 0.15);\n",
              "      filter: drop-shadow(0px 1px 2px rgba(0, 0, 0, 0.3));\n",
              "      fill: #FFFFFF;\n",
              "    }\n",
              "  </style>\n",
              "\n",
              "    <script>\n",
              "      const buttonEl =\n",
              "        document.querySelector('#df-71b1d925-a51a-4cc4-8b8f-5d21a2b7b45f button.colab-df-convert');\n",
              "      buttonEl.style.display =\n",
              "        google.colab.kernel.accessAllowed ? 'block' : 'none';\n",
              "\n",
              "      async function convertToInteractive(key) {\n",
              "        const element = document.querySelector('#df-71b1d925-a51a-4cc4-8b8f-5d21a2b7b45f');\n",
              "        const dataTable =\n",
              "          await google.colab.kernel.invokeFunction('convertToInteractive',\n",
              "                                                    [key], {});\n",
              "        if (!dataTable) return;\n",
              "\n",
              "        const docLinkHtml = 'Like what you see? Visit the ' +\n",
              "          '<a target=\"_blank\" href=https://colab.research.google.com/notebooks/data_table.ipynb>data table notebook</a>'\n",
              "          + ' to learn more about interactive tables.';\n",
              "        element.innerHTML = '';\n",
              "        dataTable['output_type'] = 'display_data';\n",
              "        await google.colab.output.renderOutput(dataTable, element);\n",
              "        const docLink = document.createElement('div');\n",
              "        docLink.innerHTML = docLinkHtml;\n",
              "        element.appendChild(docLink);\n",
              "      }\n",
              "    </script>\n",
              "  </div>\n",
              "\n",
              "\n",
              "<div id=\"df-84a0fd98-d050-486d-8d7f-6913996f0c99\">\n",
              "  <button class=\"colab-df-quickchart\" onclick=\"quickchart('df-84a0fd98-d050-486d-8d7f-6913996f0c99')\"\n",
              "            title=\"Suggest charts\"\n",
              "            style=\"display:none;\">\n",
              "\n",
              "<svg xmlns=\"http://www.w3.org/2000/svg\" height=\"24px\"viewBox=\"0 0 24 24\"\n",
              "     width=\"24px\">\n",
              "    <g>\n",
              "        <path d=\"M19 3H5c-1.1 0-2 .9-2 2v14c0 1.1.9 2 2 2h14c1.1 0 2-.9 2-2V5c0-1.1-.9-2-2-2zM9 17H7v-7h2v7zm4 0h-2V7h2v10zm4 0h-2v-4h2v4z\"/>\n",
              "    </g>\n",
              "</svg>\n",
              "  </button>\n",
              "\n",
              "<style>\n",
              "  .colab-df-quickchart {\n",
              "      --bg-color: #E8F0FE;\n",
              "      --fill-color: #1967D2;\n",
              "      --hover-bg-color: #E2EBFA;\n",
              "      --hover-fill-color: #174EA6;\n",
              "      --disabled-fill-color: #AAA;\n",
              "      --disabled-bg-color: #DDD;\n",
              "  }\n",
              "\n",
              "  [theme=dark] .colab-df-quickchart {\n",
              "      --bg-color: #3B4455;\n",
              "      --fill-color: #D2E3FC;\n",
              "      --hover-bg-color: #434B5C;\n",
              "      --hover-fill-color: #FFFFFF;\n",
              "      --disabled-bg-color: #3B4455;\n",
              "      --disabled-fill-color: #666;\n",
              "  }\n",
              "\n",
              "  .colab-df-quickchart {\n",
              "    background-color: var(--bg-color);\n",
              "    border: none;\n",
              "    border-radius: 50%;\n",
              "    cursor: pointer;\n",
              "    display: none;\n",
              "    fill: var(--fill-color);\n",
              "    height: 32px;\n",
              "    padding: 0;\n",
              "    width: 32px;\n",
              "  }\n",
              "\n",
              "  .colab-df-quickchart:hover {\n",
              "    background-color: var(--hover-bg-color);\n",
              "    box-shadow: 0 1px 2px rgba(60, 64, 67, 0.3), 0 1px 3px 1px rgba(60, 64, 67, 0.15);\n",
              "    fill: var(--button-hover-fill-color);\n",
              "  }\n",
              "\n",
              "  .colab-df-quickchart-complete:disabled,\n",
              "  .colab-df-quickchart-complete:disabled:hover {\n",
              "    background-color: var(--disabled-bg-color);\n",
              "    fill: var(--disabled-fill-color);\n",
              "    box-shadow: none;\n",
              "  }\n",
              "\n",
              "  .colab-df-spinner {\n",
              "    border: 2px solid var(--fill-color);\n",
              "    border-color: transparent;\n",
              "    border-bottom-color: var(--fill-color);\n",
              "    animation:\n",
              "      spin 1s steps(1) infinite;\n",
              "  }\n",
              "\n",
              "  @keyframes spin {\n",
              "    0% {\n",
              "      border-color: transparent;\n",
              "      border-bottom-color: var(--fill-color);\n",
              "      border-left-color: var(--fill-color);\n",
              "    }\n",
              "    20% {\n",
              "      border-color: transparent;\n",
              "      border-left-color: var(--fill-color);\n",
              "      border-top-color: var(--fill-color);\n",
              "    }\n",
              "    30% {\n",
              "      border-color: transparent;\n",
              "      border-left-color: var(--fill-color);\n",
              "      border-top-color: var(--fill-color);\n",
              "      border-right-color: var(--fill-color);\n",
              "    }\n",
              "    40% {\n",
              "      border-color: transparent;\n",
              "      border-right-color: var(--fill-color);\n",
              "      border-top-color: var(--fill-color);\n",
              "    }\n",
              "    60% {\n",
              "      border-color: transparent;\n",
              "      border-right-color: var(--fill-color);\n",
              "    }\n",
              "    80% {\n",
              "      border-color: transparent;\n",
              "      border-right-color: var(--fill-color);\n",
              "      border-bottom-color: var(--fill-color);\n",
              "    }\n",
              "    90% {\n",
              "      border-color: transparent;\n",
              "      border-bottom-color: var(--fill-color);\n",
              "    }\n",
              "  }\n",
              "</style>\n",
              "\n",
              "  <script>\n",
              "    async function quickchart(key) {\n",
              "      const quickchartButtonEl =\n",
              "        document.querySelector('#' + key + ' button');\n",
              "      quickchartButtonEl.disabled = true;  // To prevent multiple clicks.\n",
              "      quickchartButtonEl.classList.add('colab-df-spinner');\n",
              "      try {\n",
              "        const charts = await google.colab.kernel.invokeFunction(\n",
              "            'suggestCharts', [key], {});\n",
              "      } catch (error) {\n",
              "        console.error('Error during call to suggestCharts:', error);\n",
              "      }\n",
              "      quickchartButtonEl.classList.remove('colab-df-spinner');\n",
              "      quickchartButtonEl.classList.add('colab-df-quickchart-complete');\n",
              "    }\n",
              "    (() => {\n",
              "      let quickchartButtonEl =\n",
              "        document.querySelector('#df-84a0fd98-d050-486d-8d7f-6913996f0c99 button');\n",
              "      quickchartButtonEl.style.display =\n",
              "        google.colab.kernel.accessAllowed ? 'block' : 'none';\n",
              "    })();\n",
              "  </script>\n",
              "</div>\n",
              "\n",
              "    </div>\n",
              "  </div>\n"
            ]
          },
          "metadata": {},
          "execution_count": 15
        }
      ],
      "source": [
        "akAviation = dfAviation[dfAviation['State'].str.contains('AK', na = False)]\n",
        "akAviation.head()"
      ]
    },
    {
      "cell_type": "code",
      "execution_count": 16,
      "metadata": {
        "colab": {
          "base_uri": "https://localhost:8080/"
        },
        "id": "zuNi4X2CmwOP",
        "outputId": "573bfa35-6ecf-4f4b-8297-831b7e370a16"
      },
      "outputs": [
        {
          "output_type": "stream",
          "name": "stdout",
          "text": [
            "<class 'pandas.core.frame.DataFrame'>\n",
            "Int64Index: 5449 entries, 17 to 87232\n",
            "Data columns (total 35 columns):\n",
            " #   Column                  Non-Null Count  Dtype         \n",
            "---  ------                  --------------  -----         \n",
            " 0   Event.Id                5449 non-null   object        \n",
            " 1   Investigation.Type      5449 non-null   object        \n",
            " 2   Accident.Number         5449 non-null   object        \n",
            " 3   Event.Date              5449 non-null   datetime64[ns]\n",
            " 4   Location                5449 non-null   object        \n",
            " 5   Country                 5449 non-null   object        \n",
            " 6   Latitude                2091 non-null   object        \n",
            " 7   Longitude               2091 non-null   object        \n",
            " 8   Airport.Code            2026 non-null   object        \n",
            " 9   Airport.Name            2324 non-null   object        \n",
            " 10  Injury.Severity         5448 non-null   object        \n",
            " 11  Aircraft.damage         5420 non-null   object        \n",
            " 12  Aircraft.Category       1652 non-null   object        \n",
            " 13  Registration.Number     5449 non-null   object        \n",
            " 14  Make                    5449 non-null   object        \n",
            " 15  Model                   5448 non-null   object        \n",
            " 16  Amateur.Built           5449 non-null   object        \n",
            " 17  Number.of.Engines       5406 non-null   float64       \n",
            " 18  Engine.Type             5369 non-null   object        \n",
            " 19  FAR.Description         1654 non-null   object        \n",
            " 20  Schedule                1201 non-null   object        \n",
            " 21  Purpose.of.flight       5039 non-null   object        \n",
            " 22  Air.carrier             1286 non-null   object        \n",
            " 23  Total.Fatal.Injuries    4697 non-null   float64       \n",
            " 24  Total.Serious.Injuries  4686 non-null   float64       \n",
            " 25  Total.Minor.Injuries    4725 non-null   float64       \n",
            " 26  Total.Uninjured         5283 non-null   float64       \n",
            " 27  Weather.Condition       5422 non-null   object        \n",
            " 28  Broad.phase.of.flight   4150 non-null   object        \n",
            " 29  Report.Status           5358 non-null   object        \n",
            " 30  Publication.Date        4634 non-null   object        \n",
            " 31  City                    5449 non-null   object        \n",
            " 32  State                   5449 non-null   object        \n",
            " 33  Year                    5449 non-null   int64         \n",
            " 34  Month                   5449 non-null   int64         \n",
            "dtypes: datetime64[ns](1), float64(5), int64(2), object(27)\n",
            "memory usage: 1.5+ MB\n"
          ]
        }
      ],
      "source": [
        "akAviation.info()"
      ]
    },
    {
      "cell_type": "markdown",
      "metadata": {
        "id": "9WiH4GTQsbsh"
      },
      "source": [
        "Drop Irrelevant Columns: Event ID, Accident Number, Country, Airport Name, Registration Number, Schedule, Report Status, Publication Date\n",
        "\n"
      ]
    },
    {
      "cell_type": "markdown",
      "metadata": {
        "id": "x-HvWJxrg-o3"
      },
      "source": [
        "Clean Data"
      ]
    },
    {
      "cell_type": "code",
      "execution_count": 17,
      "metadata": {
        "colab": {
          "base_uri": "https://localhost:8080/",
          "height": 617
        },
        "id": "7Q0BLdl7gL87",
        "outputId": "d430f46b-1c4b-4a0e-c150-09f1eecfe54c"
      },
      "outputs": [
        {
          "output_type": "execute_result",
          "data": {
            "text/plain": [
              "      Investigation.Type Accident.Number Event.Date        Country Latitude  \\\n",
              "17              Accident      ANC82FAG14 1982-01-02  United States      NaN   \n",
              "44              Accident      ANC82FA012 1982-01-05  United States      NaN   \n",
              "74              Accident      ANC82DA013 1982-01-10  United States      NaN   \n",
              "95              Accident      ANC82DA015 1982-01-15  United States      NaN   \n",
              "105             Accident      ANC82DA014 1982-01-17  United States      NaN   \n",
              "...                  ...             ...        ...            ...      ...   \n",
              "87150           Accident      ANC22LA006 2021-11-09  United States  065181N   \n",
              "87200           Accident      ANC22LA007 2021-11-21  United States  604645N   \n",
              "87216           Accident      ANC22LA008 2021-11-26  United States      NaN   \n",
              "87224           Accident      ANC22LA010 2021-11-29  United States      NaN   \n",
              "87232           Accident      ANC22LA009 2021-12-02  United States  060120N   \n",
              "\n",
              "      Longitude Airport.Code Injury.Severity Aircraft.damage  \\\n",
              "17          NaN          NaN        Fatal(3)       Destroyed   \n",
              "44          NaN          BET       Non-Fatal     Substantial   \n",
              "74          NaN          NaN       Non-Fatal     Substantial   \n",
              "95          NaN          NaN       Non-Fatal     Substantial   \n",
              "105         NaN          MRI       Non-Fatal       Destroyed   \n",
              "...         ...          ...             ...             ...   \n",
              "87150  0014380W          L20       Non-Fatal     Substantial   \n",
              "87200  1615012W          BET       Non-Fatal     Substantial   \n",
              "87216       NaN          NaN       Non-Fatal             NaN   \n",
              "87224       NaN          NaN             NaN             NaN   \n",
              "87232  1542012W         PAKX       Non-Fatal     Substantial   \n",
              "\n",
              "      Aircraft.Category  ... Total.Fatal.Injuries Total.Serious.Injuries  \\\n",
              "17             Airplane  ...                  3.0                    0.0   \n",
              "44             Airplane  ...                  0.0                    2.0   \n",
              "74             Airplane  ...                  0.0                    0.0   \n",
              "95             Airplane  ...                  0.0                    0.0   \n",
              "105            Airplane  ...                  0.0                    0.0   \n",
              "...                 ...  ...                  ...                    ...   \n",
              "87150          Airplane  ...                  0.0                    0.0   \n",
              "87200          Airplane  ...                  0.0                    0.0   \n",
              "87216               NaN  ...                  0.0                    1.0   \n",
              "87224               NaN  ...                  0.0                    0.0   \n",
              "87232          Airplane  ...                  0.0                    1.0   \n",
              "\n",
              "      Total.Minor.Injuries  Total.Uninjured Weather.Condition  \\\n",
              "17                     0.0              0.0               VMC   \n",
              "44                     0.0              0.0               VMC   \n",
              "74                     3.0              0.0               VMC   \n",
              "95                     0.0              4.0               VMC   \n",
              "105                    1.0              1.0               VMC   \n",
              "...                    ...              ...               ...   \n",
              "87150                  0.0              1.0               VMC   \n",
              "87200                  0.0              6.0               VMC   \n",
              "87216                  0.0              0.0               NaN   \n",
              "87224                  0.0              0.0               NaN   \n",
              "87232                  0.0              0.0               VMC   \n",
              "\n",
              "      Broad.phase.of.flight                 City State  Year  Month  \n",
              "17                  Unknown              SKWENTA    AK  1982      1  \n",
              "44                  Takeoff               BETHEL    AK  1982      1  \n",
              "74                   Cruise            QUINHAGAK    AK  1982      1  \n",
              "95                  Landing         NEAR NUIQSUT    AK  1982      1  \n",
              "105                 Takeoff            ANCHORAGE    AK  1982      1  \n",
              "...                     ...                  ...   ...   ...    ...  \n",
              "87150                   NaN  Yukon Charlie River    AK  2021     11  \n",
              "87200                   NaN               Bethel    AK  2021     11  \n",
              "87216                   NaN               Palmer    AK  2021     11  \n",
              "87224                   NaN              Nikiski    AK  2021     11  \n",
              "87232                   NaN        Port Alsworth    AK  2021     12  \n",
              "\n",
              "[5449 rows x 28 columns]"
            ],
            "text/html": [
              "\n",
              "  <div id=\"df-b6d377dc-c224-42b2-baf0-727039502ad4\" class=\"colab-df-container\">\n",
              "    <div>\n",
              "<style scoped>\n",
              "    .dataframe tbody tr th:only-of-type {\n",
              "        vertical-align: middle;\n",
              "    }\n",
              "\n",
              "    .dataframe tbody tr th {\n",
              "        vertical-align: top;\n",
              "    }\n",
              "\n",
              "    .dataframe thead th {\n",
              "        text-align: right;\n",
              "    }\n",
              "</style>\n",
              "<table border=\"1\" class=\"dataframe\">\n",
              "  <thead>\n",
              "    <tr style=\"text-align: right;\">\n",
              "      <th></th>\n",
              "      <th>Investigation.Type</th>\n",
              "      <th>Accident.Number</th>\n",
              "      <th>Event.Date</th>\n",
              "      <th>Country</th>\n",
              "      <th>Latitude</th>\n",
              "      <th>Longitude</th>\n",
              "      <th>Airport.Code</th>\n",
              "      <th>Injury.Severity</th>\n",
              "      <th>Aircraft.damage</th>\n",
              "      <th>Aircraft.Category</th>\n",
              "      <th>...</th>\n",
              "      <th>Total.Fatal.Injuries</th>\n",
              "      <th>Total.Serious.Injuries</th>\n",
              "      <th>Total.Minor.Injuries</th>\n",
              "      <th>Total.Uninjured</th>\n",
              "      <th>Weather.Condition</th>\n",
              "      <th>Broad.phase.of.flight</th>\n",
              "      <th>City</th>\n",
              "      <th>State</th>\n",
              "      <th>Year</th>\n",
              "      <th>Month</th>\n",
              "    </tr>\n",
              "  </thead>\n",
              "  <tbody>\n",
              "    <tr>\n",
              "      <th>17</th>\n",
              "      <td>Accident</td>\n",
              "      <td>ANC82FAG14</td>\n",
              "      <td>1982-01-02</td>\n",
              "      <td>United States</td>\n",
              "      <td>NaN</td>\n",
              "      <td>NaN</td>\n",
              "      <td>NaN</td>\n",
              "      <td>Fatal(3)</td>\n",
              "      <td>Destroyed</td>\n",
              "      <td>Airplane</td>\n",
              "      <td>...</td>\n",
              "      <td>3.0</td>\n",
              "      <td>0.0</td>\n",
              "      <td>0.0</td>\n",
              "      <td>0.0</td>\n",
              "      <td>VMC</td>\n",
              "      <td>Unknown</td>\n",
              "      <td>SKWENTA</td>\n",
              "      <td>AK</td>\n",
              "      <td>1982</td>\n",
              "      <td>1</td>\n",
              "    </tr>\n",
              "    <tr>\n",
              "      <th>44</th>\n",
              "      <td>Accident</td>\n",
              "      <td>ANC82FA012</td>\n",
              "      <td>1982-01-05</td>\n",
              "      <td>United States</td>\n",
              "      <td>NaN</td>\n",
              "      <td>NaN</td>\n",
              "      <td>BET</td>\n",
              "      <td>Non-Fatal</td>\n",
              "      <td>Substantial</td>\n",
              "      <td>Airplane</td>\n",
              "      <td>...</td>\n",
              "      <td>0.0</td>\n",
              "      <td>2.0</td>\n",
              "      <td>0.0</td>\n",
              "      <td>0.0</td>\n",
              "      <td>VMC</td>\n",
              "      <td>Takeoff</td>\n",
              "      <td>BETHEL</td>\n",
              "      <td>AK</td>\n",
              "      <td>1982</td>\n",
              "      <td>1</td>\n",
              "    </tr>\n",
              "    <tr>\n",
              "      <th>74</th>\n",
              "      <td>Accident</td>\n",
              "      <td>ANC82DA013</td>\n",
              "      <td>1982-01-10</td>\n",
              "      <td>United States</td>\n",
              "      <td>NaN</td>\n",
              "      <td>NaN</td>\n",
              "      <td>NaN</td>\n",
              "      <td>Non-Fatal</td>\n",
              "      <td>Substantial</td>\n",
              "      <td>Airplane</td>\n",
              "      <td>...</td>\n",
              "      <td>0.0</td>\n",
              "      <td>0.0</td>\n",
              "      <td>3.0</td>\n",
              "      <td>0.0</td>\n",
              "      <td>VMC</td>\n",
              "      <td>Cruise</td>\n",
              "      <td>QUINHAGAK</td>\n",
              "      <td>AK</td>\n",
              "      <td>1982</td>\n",
              "      <td>1</td>\n",
              "    </tr>\n",
              "    <tr>\n",
              "      <th>95</th>\n",
              "      <td>Accident</td>\n",
              "      <td>ANC82DA015</td>\n",
              "      <td>1982-01-15</td>\n",
              "      <td>United States</td>\n",
              "      <td>NaN</td>\n",
              "      <td>NaN</td>\n",
              "      <td>NaN</td>\n",
              "      <td>Non-Fatal</td>\n",
              "      <td>Substantial</td>\n",
              "      <td>Airplane</td>\n",
              "      <td>...</td>\n",
              "      <td>0.0</td>\n",
              "      <td>0.0</td>\n",
              "      <td>0.0</td>\n",
              "      <td>4.0</td>\n",
              "      <td>VMC</td>\n",
              "      <td>Landing</td>\n",
              "      <td>NEAR NUIQSUT</td>\n",
              "      <td>AK</td>\n",
              "      <td>1982</td>\n",
              "      <td>1</td>\n",
              "    </tr>\n",
              "    <tr>\n",
              "      <th>105</th>\n",
              "      <td>Accident</td>\n",
              "      <td>ANC82DA014</td>\n",
              "      <td>1982-01-17</td>\n",
              "      <td>United States</td>\n",
              "      <td>NaN</td>\n",
              "      <td>NaN</td>\n",
              "      <td>MRI</td>\n",
              "      <td>Non-Fatal</td>\n",
              "      <td>Destroyed</td>\n",
              "      <td>Airplane</td>\n",
              "      <td>...</td>\n",
              "      <td>0.0</td>\n",
              "      <td>0.0</td>\n",
              "      <td>1.0</td>\n",
              "      <td>1.0</td>\n",
              "      <td>VMC</td>\n",
              "      <td>Takeoff</td>\n",
              "      <td>ANCHORAGE</td>\n",
              "      <td>AK</td>\n",
              "      <td>1982</td>\n",
              "      <td>1</td>\n",
              "    </tr>\n",
              "    <tr>\n",
              "      <th>...</th>\n",
              "      <td>...</td>\n",
              "      <td>...</td>\n",
              "      <td>...</td>\n",
              "      <td>...</td>\n",
              "      <td>...</td>\n",
              "      <td>...</td>\n",
              "      <td>...</td>\n",
              "      <td>...</td>\n",
              "      <td>...</td>\n",
              "      <td>...</td>\n",
              "      <td>...</td>\n",
              "      <td>...</td>\n",
              "      <td>...</td>\n",
              "      <td>...</td>\n",
              "      <td>...</td>\n",
              "      <td>...</td>\n",
              "      <td>...</td>\n",
              "      <td>...</td>\n",
              "      <td>...</td>\n",
              "      <td>...</td>\n",
              "      <td>...</td>\n",
              "    </tr>\n",
              "    <tr>\n",
              "      <th>87150</th>\n",
              "      <td>Accident</td>\n",
              "      <td>ANC22LA006</td>\n",
              "      <td>2021-11-09</td>\n",
              "      <td>United States</td>\n",
              "      <td>065181N</td>\n",
              "      <td>0014380W</td>\n",
              "      <td>L20</td>\n",
              "      <td>Non-Fatal</td>\n",
              "      <td>Substantial</td>\n",
              "      <td>Airplane</td>\n",
              "      <td>...</td>\n",
              "      <td>0.0</td>\n",
              "      <td>0.0</td>\n",
              "      <td>0.0</td>\n",
              "      <td>1.0</td>\n",
              "      <td>VMC</td>\n",
              "      <td>NaN</td>\n",
              "      <td>Yukon Charlie River</td>\n",
              "      <td>AK</td>\n",
              "      <td>2021</td>\n",
              "      <td>11</td>\n",
              "    </tr>\n",
              "    <tr>\n",
              "      <th>87200</th>\n",
              "      <td>Accident</td>\n",
              "      <td>ANC22LA007</td>\n",
              "      <td>2021-11-21</td>\n",
              "      <td>United States</td>\n",
              "      <td>604645N</td>\n",
              "      <td>1615012W</td>\n",
              "      <td>BET</td>\n",
              "      <td>Non-Fatal</td>\n",
              "      <td>Substantial</td>\n",
              "      <td>Airplane</td>\n",
              "      <td>...</td>\n",
              "      <td>0.0</td>\n",
              "      <td>0.0</td>\n",
              "      <td>0.0</td>\n",
              "      <td>6.0</td>\n",
              "      <td>VMC</td>\n",
              "      <td>NaN</td>\n",
              "      <td>Bethel</td>\n",
              "      <td>AK</td>\n",
              "      <td>2021</td>\n",
              "      <td>11</td>\n",
              "    </tr>\n",
              "    <tr>\n",
              "      <th>87216</th>\n",
              "      <td>Accident</td>\n",
              "      <td>ANC22LA008</td>\n",
              "      <td>2021-11-26</td>\n",
              "      <td>United States</td>\n",
              "      <td>NaN</td>\n",
              "      <td>NaN</td>\n",
              "      <td>NaN</td>\n",
              "      <td>Non-Fatal</td>\n",
              "      <td>NaN</td>\n",
              "      <td>NaN</td>\n",
              "      <td>...</td>\n",
              "      <td>0.0</td>\n",
              "      <td>1.0</td>\n",
              "      <td>0.0</td>\n",
              "      <td>0.0</td>\n",
              "      <td>NaN</td>\n",
              "      <td>NaN</td>\n",
              "      <td>Palmer</td>\n",
              "      <td>AK</td>\n",
              "      <td>2021</td>\n",
              "      <td>11</td>\n",
              "    </tr>\n",
              "    <tr>\n",
              "      <th>87224</th>\n",
              "      <td>Accident</td>\n",
              "      <td>ANC22LA010</td>\n",
              "      <td>2021-11-29</td>\n",
              "      <td>United States</td>\n",
              "      <td>NaN</td>\n",
              "      <td>NaN</td>\n",
              "      <td>NaN</td>\n",
              "      <td>NaN</td>\n",
              "      <td>NaN</td>\n",
              "      <td>NaN</td>\n",
              "      <td>...</td>\n",
              "      <td>0.0</td>\n",
              "      <td>0.0</td>\n",
              "      <td>0.0</td>\n",
              "      <td>0.0</td>\n",
              "      <td>NaN</td>\n",
              "      <td>NaN</td>\n",
              "      <td>Nikiski</td>\n",
              "      <td>AK</td>\n",
              "      <td>2021</td>\n",
              "      <td>11</td>\n",
              "    </tr>\n",
              "    <tr>\n",
              "      <th>87232</th>\n",
              "      <td>Accident</td>\n",
              "      <td>ANC22LA009</td>\n",
              "      <td>2021-12-02</td>\n",
              "      <td>United States</td>\n",
              "      <td>060120N</td>\n",
              "      <td>1542012W</td>\n",
              "      <td>PAKX</td>\n",
              "      <td>Non-Fatal</td>\n",
              "      <td>Substantial</td>\n",
              "      <td>Airplane</td>\n",
              "      <td>...</td>\n",
              "      <td>0.0</td>\n",
              "      <td>1.0</td>\n",
              "      <td>0.0</td>\n",
              "      <td>0.0</td>\n",
              "      <td>VMC</td>\n",
              "      <td>NaN</td>\n",
              "      <td>Port Alsworth</td>\n",
              "      <td>AK</td>\n",
              "      <td>2021</td>\n",
              "      <td>12</td>\n",
              "    </tr>\n",
              "  </tbody>\n",
              "</table>\n",
              "<p>5449 rows × 28 columns</p>\n",
              "</div>\n",
              "    <div class=\"colab-df-buttons\">\n",
              "\n",
              "  <div class=\"colab-df-container\">\n",
              "    <button class=\"colab-df-convert\" onclick=\"convertToInteractive('df-b6d377dc-c224-42b2-baf0-727039502ad4')\"\n",
              "            title=\"Convert this dataframe to an interactive table.\"\n",
              "            style=\"display:none;\">\n",
              "\n",
              "  <svg xmlns=\"http://www.w3.org/2000/svg\" height=\"24px\" viewBox=\"0 -960 960 960\">\n",
              "    <path d=\"M120-120v-720h720v720H120Zm60-500h600v-160H180v160Zm220 220h160v-160H400v160Zm0 220h160v-160H400v160ZM180-400h160v-160H180v160Zm440 0h160v-160H620v160ZM180-180h160v-160H180v160Zm440 0h160v-160H620v160Z\"/>\n",
              "  </svg>\n",
              "    </button>\n",
              "\n",
              "  <style>\n",
              "    .colab-df-container {\n",
              "      display:flex;\n",
              "      gap: 12px;\n",
              "    }\n",
              "\n",
              "    .colab-df-convert {\n",
              "      background-color: #E8F0FE;\n",
              "      border: none;\n",
              "      border-radius: 50%;\n",
              "      cursor: pointer;\n",
              "      display: none;\n",
              "      fill: #1967D2;\n",
              "      height: 32px;\n",
              "      padding: 0 0 0 0;\n",
              "      width: 32px;\n",
              "    }\n",
              "\n",
              "    .colab-df-convert:hover {\n",
              "      background-color: #E2EBFA;\n",
              "      box-shadow: 0px 1px 2px rgba(60, 64, 67, 0.3), 0px 1px 3px 1px rgba(60, 64, 67, 0.15);\n",
              "      fill: #174EA6;\n",
              "    }\n",
              "\n",
              "    .colab-df-buttons div {\n",
              "      margin-bottom: 4px;\n",
              "    }\n",
              "\n",
              "    [theme=dark] .colab-df-convert {\n",
              "      background-color: #3B4455;\n",
              "      fill: #D2E3FC;\n",
              "    }\n",
              "\n",
              "    [theme=dark] .colab-df-convert:hover {\n",
              "      background-color: #434B5C;\n",
              "      box-shadow: 0px 1px 3px 1px rgba(0, 0, 0, 0.15);\n",
              "      filter: drop-shadow(0px 1px 2px rgba(0, 0, 0, 0.3));\n",
              "      fill: #FFFFFF;\n",
              "    }\n",
              "  </style>\n",
              "\n",
              "    <script>\n",
              "      const buttonEl =\n",
              "        document.querySelector('#df-b6d377dc-c224-42b2-baf0-727039502ad4 button.colab-df-convert');\n",
              "      buttonEl.style.display =\n",
              "        google.colab.kernel.accessAllowed ? 'block' : 'none';\n",
              "\n",
              "      async function convertToInteractive(key) {\n",
              "        const element = document.querySelector('#df-b6d377dc-c224-42b2-baf0-727039502ad4');\n",
              "        const dataTable =\n",
              "          await google.colab.kernel.invokeFunction('convertToInteractive',\n",
              "                                                    [key], {});\n",
              "        if (!dataTable) return;\n",
              "\n",
              "        const docLinkHtml = 'Like what you see? Visit the ' +\n",
              "          '<a target=\"_blank\" href=https://colab.research.google.com/notebooks/data_table.ipynb>data table notebook</a>'\n",
              "          + ' to learn more about interactive tables.';\n",
              "        element.innerHTML = '';\n",
              "        dataTable['output_type'] = 'display_data';\n",
              "        await google.colab.output.renderOutput(dataTable, element);\n",
              "        const docLink = document.createElement('div');\n",
              "        docLink.innerHTML = docLinkHtml;\n",
              "        element.appendChild(docLink);\n",
              "      }\n",
              "    </script>\n",
              "  </div>\n",
              "\n",
              "\n",
              "<div id=\"df-de6fe4bc-a6f0-4c23-9f10-a3fa35e678ce\">\n",
              "  <button class=\"colab-df-quickchart\" onclick=\"quickchart('df-de6fe4bc-a6f0-4c23-9f10-a3fa35e678ce')\"\n",
              "            title=\"Suggest charts\"\n",
              "            style=\"display:none;\">\n",
              "\n",
              "<svg xmlns=\"http://www.w3.org/2000/svg\" height=\"24px\"viewBox=\"0 0 24 24\"\n",
              "     width=\"24px\">\n",
              "    <g>\n",
              "        <path d=\"M19 3H5c-1.1 0-2 .9-2 2v14c0 1.1.9 2 2 2h14c1.1 0 2-.9 2-2V5c0-1.1-.9-2-2-2zM9 17H7v-7h2v7zm4 0h-2V7h2v10zm4 0h-2v-4h2v4z\"/>\n",
              "    </g>\n",
              "</svg>\n",
              "  </button>\n",
              "\n",
              "<style>\n",
              "  .colab-df-quickchart {\n",
              "      --bg-color: #E8F0FE;\n",
              "      --fill-color: #1967D2;\n",
              "      --hover-bg-color: #E2EBFA;\n",
              "      --hover-fill-color: #174EA6;\n",
              "      --disabled-fill-color: #AAA;\n",
              "      --disabled-bg-color: #DDD;\n",
              "  }\n",
              "\n",
              "  [theme=dark] .colab-df-quickchart {\n",
              "      --bg-color: #3B4455;\n",
              "      --fill-color: #D2E3FC;\n",
              "      --hover-bg-color: #434B5C;\n",
              "      --hover-fill-color: #FFFFFF;\n",
              "      --disabled-bg-color: #3B4455;\n",
              "      --disabled-fill-color: #666;\n",
              "  }\n",
              "\n",
              "  .colab-df-quickchart {\n",
              "    background-color: var(--bg-color);\n",
              "    border: none;\n",
              "    border-radius: 50%;\n",
              "    cursor: pointer;\n",
              "    display: none;\n",
              "    fill: var(--fill-color);\n",
              "    height: 32px;\n",
              "    padding: 0;\n",
              "    width: 32px;\n",
              "  }\n",
              "\n",
              "  .colab-df-quickchart:hover {\n",
              "    background-color: var(--hover-bg-color);\n",
              "    box-shadow: 0 1px 2px rgba(60, 64, 67, 0.3), 0 1px 3px 1px rgba(60, 64, 67, 0.15);\n",
              "    fill: var(--button-hover-fill-color);\n",
              "  }\n",
              "\n",
              "  .colab-df-quickchart-complete:disabled,\n",
              "  .colab-df-quickchart-complete:disabled:hover {\n",
              "    background-color: var(--disabled-bg-color);\n",
              "    fill: var(--disabled-fill-color);\n",
              "    box-shadow: none;\n",
              "  }\n",
              "\n",
              "  .colab-df-spinner {\n",
              "    border: 2px solid var(--fill-color);\n",
              "    border-color: transparent;\n",
              "    border-bottom-color: var(--fill-color);\n",
              "    animation:\n",
              "      spin 1s steps(1) infinite;\n",
              "  }\n",
              "\n",
              "  @keyframes spin {\n",
              "    0% {\n",
              "      border-color: transparent;\n",
              "      border-bottom-color: var(--fill-color);\n",
              "      border-left-color: var(--fill-color);\n",
              "    }\n",
              "    20% {\n",
              "      border-color: transparent;\n",
              "      border-left-color: var(--fill-color);\n",
              "      border-top-color: var(--fill-color);\n",
              "    }\n",
              "    30% {\n",
              "      border-color: transparent;\n",
              "      border-left-color: var(--fill-color);\n",
              "      border-top-color: var(--fill-color);\n",
              "      border-right-color: var(--fill-color);\n",
              "    }\n",
              "    40% {\n",
              "      border-color: transparent;\n",
              "      border-right-color: var(--fill-color);\n",
              "      border-top-color: var(--fill-color);\n",
              "    }\n",
              "    60% {\n",
              "      border-color: transparent;\n",
              "      border-right-color: var(--fill-color);\n",
              "    }\n",
              "    80% {\n",
              "      border-color: transparent;\n",
              "      border-right-color: var(--fill-color);\n",
              "      border-bottom-color: var(--fill-color);\n",
              "    }\n",
              "    90% {\n",
              "      border-color: transparent;\n",
              "      border-bottom-color: var(--fill-color);\n",
              "    }\n",
              "  }\n",
              "</style>\n",
              "\n",
              "  <script>\n",
              "    async function quickchart(key) {\n",
              "      const quickchartButtonEl =\n",
              "        document.querySelector('#' + key + ' button');\n",
              "      quickchartButtonEl.disabled = true;  // To prevent multiple clicks.\n",
              "      quickchartButtonEl.classList.add('colab-df-spinner');\n",
              "      try {\n",
              "        const charts = await google.colab.kernel.invokeFunction(\n",
              "            'suggestCharts', [key], {});\n",
              "      } catch (error) {\n",
              "        console.error('Error during call to suggestCharts:', error);\n",
              "      }\n",
              "      quickchartButtonEl.classList.remove('colab-df-spinner');\n",
              "      quickchartButtonEl.classList.add('colab-df-quickchart-complete');\n",
              "    }\n",
              "    (() => {\n",
              "      let quickchartButtonEl =\n",
              "        document.querySelector('#df-de6fe4bc-a6f0-4c23-9f10-a3fa35e678ce button');\n",
              "      quickchartButtonEl.style.display =\n",
              "        google.colab.kernel.accessAllowed ? 'block' : 'none';\n",
              "    })();\n",
              "  </script>\n",
              "</div>\n",
              "\n",
              "    </div>\n",
              "  </div>\n"
            ]
          },
          "metadata": {},
          "execution_count": 17
        }
      ],
      "source": [
        "akAviation.drop(['Event.Id', 'Location', 'Airport.Name', 'Registration.Number',\n",
        "                 'Schedule', 'Report.Status', 'Publication.Date'], axis=1)"
      ]
    },
    {
      "cell_type": "markdown",
      "metadata": {
        "id": "jiRbh0N8K_0k"
      },
      "source": [
        "# Analysis"
      ]
    },
    {
      "cell_type": "markdown",
      "source": [
        "# Plot: Aviation Accidents by Year"
      ],
      "metadata": {
        "id": "LBnhps7811kF"
      }
    },
    {
      "cell_type": "markdown",
      "metadata": {
        "id": "ss56-8wE58ta"
      },
      "source": [
        "Aviation Accients by Year: United States"
      ]
    },
    {
      "cell_type": "code",
      "execution_count": 55,
      "metadata": {
        "colab": {
          "base_uri": "https://localhost:8080/",
          "height": 337
        },
        "id": "c-dqagZW1qyS",
        "outputId": "f0108db6-fdda-4e17-94be-6cf225353bff"
      },
      "outputs": [
        {
          "output_type": "execute_result",
          "data": {
            "text/plain": [
              "<Axes: xlabel='Year', ylabel='count'>"
            ]
          },
          "metadata": {},
          "execution_count": 55
        },
        {
          "output_type": "display_data",
          "data": {
            "text/plain": [
              "<Figure size 2000x800 with 1 Axes>"
            ],
            "image/png": "[encoded data removed]"
          },
          "metadata": {}
        }
      ],
      "source": [
        "plt.figure(figsize=(20, 8))\n",
        "sns.countplot(x='Year', data=dfAviation, color='lightseagreen')"
      ]
    },
    {
      "cell_type": "markdown",
      "metadata": {
        "id": "OYzJIKjs53qt"
      },
      "source": [
        "Alaska Aviation Accidents by Year"
      ]
    },
    {
      "cell_type": "code",
      "execution_count": 56,
      "metadata": {
        "colab": {
          "base_uri": "https://localhost:8080/",
          "height": 339
        },
        "id": "ykopTeXfLezK",
        "outputId": "1a4d4db8-7508-439f-f17c-54f8cffd2b51"
      },
      "outputs": [
        {
          "output_type": "execute_result",
          "data": {
            "text/plain": [
              "<Axes: xlabel='Year', ylabel='count'>"
            ]
          },
          "metadata": {},
          "execution_count": 56
        },
        {
          "output_type": "display_data",
          "data": {
            "text/plain": [
              "<Figure size 2000x800 with 1 Axes>"
            ],
            "image/png": "[encoded data removed]"
          },
          "metadata": {}
        }
      ],
      "source": [
        "plt.figure(figsize=(20,8))\n",
        "sns.countplot(x='Year', data=akAviation, color='lightseagreen')"
      ]
    },
    {
      "cell_type": "markdown",
      "metadata": {
        "id": "4auMtNjfNtSh"
      },
      "source": [
        "# Plot: Aviation Accidents by Month"
      ]
    },
    {
      "cell_type": "markdown",
      "metadata": {
        "id": "EbyYy6n161rb"
      },
      "source": [
        "Aviation Accidents by Month: United States"
      ]
    },
    {
      "cell_type": "code",
      "execution_count": 50,
      "metadata": {
        "colab": {
          "base_uri": "https://localhost:8080/",
          "height": 0
        },
        "id": "cRN_L09k65u3",
        "outputId": "720f7353-c70d-4044-f047-f095b81713a9"
      },
      "outputs": [
        {
          "output_type": "execute_result",
          "data": {
            "text/plain": [
              "<Axes: xlabel='Month', ylabel='count'>"
            ]
          },
          "metadata": {},
          "execution_count": 50
        },
        {
          "output_type": "display_data",
          "data": {
            "text/plain": [
              "<Figure size 2000x800 with 1 Axes>"
            ],
            "image/png": "[encoded data removed]"
          },
          "metadata": {}
        }
      ],
      "source": [
        "plt.figure(figsize = (20,8))\n",
        "sns.countplot(x='Month', data=dfAviation, color='thistle')"
      ]
    },
    {
      "cell_type": "markdown",
      "metadata": {
        "id": "MBNOQZEv6-In"
      },
      "source": [
        "Aviation Accidents by Month: Alaska"
      ]
    },
    {
      "cell_type": "code",
      "execution_count": 51,
      "metadata": {
        "colab": {
          "base_uri": "https://localhost:8080/",
          "height": 0
        },
        "id": "hYht0jp2Nw-G",
        "outputId": "c8721c07-053e-48bb-8f64-52d95debe044"
      },
      "outputs": [
        {
          "output_type": "execute_result",
          "data": {
            "text/plain": [
              "<Axes: xlabel='Month', ylabel='count'>"
            ]
          },
          "metadata": {},
          "execution_count": 51
        },
        {
          "output_type": "display_data",
          "data": {
            "text/plain": [
              "<Figure size 2000x800 with 1 Axes>"
            ],
            "image/png": "[encoded data removed]"
          },
          "metadata": {}
        }
      ],
      "source": [
        "plt.figure(figsize = (20,8))\n",
        "sns.countplot(x='Month', data=akAviation, color='thistle')"
      ]
    },
    {
      "cell_type": "markdown",
      "metadata": {
        "id": "t0qvkaXdFR--"
      },
      "source": [
        "# Plot: Accidents During Phase of Flight Alaska"
      ]
    },
    {
      "cell_type": "code",
      "execution_count": 52,
      "metadata": {
        "colab": {
          "base_uri": "https://localhost:8080/",
          "height": 0
        },
        "id": "vz6HA74AFdx-",
        "outputId": "0adb47f2-6f2a-405a-d198-1390c3f0f902"
      },
      "outputs": [
        {
          "output_type": "execute_result",
          "data": {
            "text/plain": [
              "<Axes: xlabel='Broad.phase.of.flight', ylabel='count'>"
            ]
          },
          "metadata": {},
          "execution_count": 52
        },
        {
          "output_type": "display_data",
          "data": {
            "text/plain": [
              "<Figure size 2000x800 with 1 Axes>"
            ],
            "image/png": "[encoded data removed]"
          },
          "metadata": {}
        }
      ],
      "source": [
        "plt.figure(figsize = (20,8))\n",
        "sns.countplot(x='Broad.phase.of.flight', data=akAviation, color='palegoldenrod')"
      ]
    },
    {
      "cell_type": "markdown",
      "metadata": {
        "id": "lM3hTRe5F5cM"
      },
      "source": [
        "# Plot: Weather Condition Alaska"
      ]
    },
    {
      "cell_type": "code",
      "execution_count": 53,
      "metadata": {
        "colab": {
          "base_uri": "https://localhost:8080/",
          "height": 0
        },
        "id": "P-kKuEWRF9Q6",
        "outputId": "7392bb70-c060-4db2-df63-b3f61224ed8b"
      },
      "outputs": [
        {
          "output_type": "execute_result",
          "data": {
            "text/plain": [
              "<Axes: xlabel='Weather.Condition', ylabel='count'>"
            ]
          },
          "metadata": {},
          "execution_count": 53
        },
        {
          "output_type": "display_data",
          "data": {
            "text/plain": [
              "<Figure size 2000x800 with 1 Axes>"
            ],
            "image/png": "[encoded data removed]"
          },
          "metadata": {}
        }
      ],
      "source": [
        "plt.figure(figsize = (20,8))\n",
        "sns.countplot(x='Weather.Condition', data=akAviation, color='lightsalmon')"
      ]
    },
    {
      "cell_type": "markdown",
      "metadata": {
        "id": "EkIDxcAjGhI_"
      },
      "source": [
        "# Plot: Aircraft Make Alaska"
      ]
    },
    {
      "cell_type": "code",
      "execution_count": 54,
      "metadata": {
        "colab": {
          "base_uri": "https://localhost:8080/",
          "height": 388
        },
        "id": "ZgB0Y7JuYBXV",
        "outputId": "44dfa3ad-b929-448d-a869-b9d42b40690e"
      },
      "outputs": [
        {
          "output_type": "display_data",
          "data": {
            "text/plain": [
              "<Figure size 2000x800 with 1 Axes>"
            ],
            "image/png": "[encoded data removed]"
          },
          "metadata": {}
        }
      ],
      "source": [
        "make_count = akAviation['Make'].str.upper().value_counts()\n",
        "make_count = make_count[:10]\n",
        "plt.figure(figsize=(20,8))\n",
        "sns.barplot(x=make_count.index, y=make_count.values, alpha=0.8)\n",
        "plt.title('Top Aircraft Makes Involved in Accidents')\n",
        "plt.xlabel('Make')\n",
        "plt.ylabel('Count')\n",
        "plt.show()"
      ]
    },
    {
      "cell_type": "markdown",
      "metadata": {
        "id": "qn1U83LTjnVY"
      },
      "source": [
        "# Interactive Map: Alaska Accidents"
      ]
    },
    {
      "cell_type": "code",
      "execution_count": 60,
      "metadata": {
        "colab": {
          "base_uri": "https://localhost:8080/",
          "height": 705
        },
        "id": "SHmcGX3gjiqx",
        "outputId": "68a26a79-96e2-44e0-e8de-90a408a42f59"
      },
      "outputs": [
        {
          "output_type": "stream",
          "name": "stderr",
          "text": [
            "<ipython-input-60-5eb7cc4f0b3b>:1: SettingWithCopyWarning:\n",
            "\n",
            "\n",
            "A value is trying to be set on a copy of a slice from a DataFrame.\n",
            "Try using .loc[row_indexer,col_indexer] = value instead\n",
            "\n",
            "See the caveats in the documentation: https://pandas.pydata.org/pandas-docs/stable/user_guide/indexing.html#returning-a-view-versus-a-copy\n",
            "\n"
          ]
        },
        {
          "output_type": "display_data",
          "data": {
            "text/html": [
              "<html>\n",
              "<head><meta charset=\"utf-8\" /></head>\n",
              "<body>\n",
              "    <div>            <script src=\"https://cdnjs.cloudflare.com/ajax/libs/mathjax/2.7.5/MathJax.js?config=TeX-AMS-MML_SVG\"></script><script type=\"text/javascript\">if (window.MathJax && window.MathJax.Hub && window.MathJax.Hub.Config) {window.MathJax.Hub.Config({SVG: {font: \"STIX-Web\"}});}</script>                <script type=\"text/javascript\">window.PlotlyConfig = {MathJaxConfig: 'local'};</script>\n",
              "        <script charset=\"utf-8\" src=\"https://cdn.plot.ly/plotly-2.24.1.min.js\"></script>                <div id=\"43ea318f-9e6b-4fd1-8a43-24c193db7407\" class=\"plotly-graph-div\" style=\"height:525px; width:100%;\"></div>            <script type=\"text/javascript\">                                    window.PLOTLYENV=window.PLOTLYENV || {};                                    if (document.getElementById(\"43ea318f-9e6b-4fd1-8a43-24c193db7407\")) {                    Plotly.newPlot(                        \"43ea318f-9e6b-4fd1-8a43-24c193db7407\",                        [{\"lat\":[null,null,null,null,null,null,null,null,null,null,null,null,null,null,null,null,null,null,null,null,null,null,null,null,null,null,null,null,null,null,null,null,null,null,null,null,null,null,null,null,null,null,null,null,null,null,null,null,null,null,null,null,null,null,null,null,null,null,null,null,null,null,null,null,null,null,null,null,null,null,null,null,null,null,null,null,null,null,null,null,null,null,null,null,null,null,null,null,null,null,null,null,null,null,null,null,null,null,null,null,null,null,null,null,null,null,null,null,null,null,null,null,null,null,null,null,null,null,null,null,null,null,null,null,null,null,null,null,null,null,null,null,null,null,null,null,null,null,null,null,null,null,null,null,null,null,null,null,null,null,null,null,null,null,null,null,null,null,null,null,null,null,null,null,null,null,null,null,null,null,null,null,null,null,null,null,null,null,null,null,null,null,null,null,null,null,null,null,null,null,null,null,null,null,null,null,null,null,null,null,null,null,null,null,null,null,null,null,null,null,null,null,null,null,null,null,\"70.333333\",null,null,null,null,null,null,null,null,null,null,null,null,null,null,null,null,null,null,null,null,null,null,null,null,null,null,null,null,null,null,null,null,null,null,null,null,null,null,null,null,null,null,null,null,null,null,null,null,null,null,null,null,null,null,null,null,null,null,null,null,null,null,null,null,null,null,null,null,null,null,null,null,null,null,null,null,null,null,null,null,null,null,null,null,null,null,null,null,null,null,null,null,null,null,null,null,null,null,null,null,null,null,null,null,null,null,null,null,null,null,null,null,null,null,null,null,null,null,null,null,null,null,null,null,null,null,null,null,null,null,null,null,null,null,null,null,null,null,null,null,null,null,null,null,null,null,null,null,null,null,null,null,null,null,null,null,null,null,null,null,null,null,null,null,null,null,null,null,null,null,null,null,null,null,null,null,\"60.8\",null,null,null,\"70.205556\",\"61.040277\",null,\"60.363056\",\"58.358333\",\"53.96\",\"60\",\"66.060833\",\"59.189722\",\"59.066667\",\"61.385277\",\"66.833333\",null,\"61.168611\",\"59.273889\",\"61.267223\",\"58.939166\",\"58.358333\",\"61.865556\",\"65.501944\",\"61.594722\",\"63.293611\",\"60.126667\",\"61.95\",\"57.646111\",\"55.425\",\"59.433333\",\"56.8\",\"57.619445\",\"62.878889\",\"59.585555\",\"59.765278\",\"57.097777\",\"59.353611\",\"58.431111\",\"59.466945\",\"70.9825\",null,\"61.817223\",\"69.466667\",\"55.261667\",\"57.761667\",\"62.987222\",\"61.934166\",\"60.773889\",\"60.116667\",\"61.646111\",\"63.172223\",\"59.9125\",\"57.047222\",\"61.226389\",\"60.282223\",\"64.813889\",\"58.943055\",\"60.007222\",\"64.318889\",\"63.5\",\"64.634444\",\"60.155278\",\"55.358333\",\"61.5\",\"61.5\",\"60.621945\",\"64.753333\",\"61.03\",\"70.309722\",\"62.580556\",\"58.601667\",\"60.557778\",\"57.176389\",\"60.681945\",\"61.636666\",\"61.521667\",\"55.551389\",\"57.051111\",\"68.76\",\"55.7\",\"62.858333\",\"60.635833\",\"58.968056\",\"60.809722\",\"057452N\",\"061147N\",\"615018N\",\"059285N\",\"613512N\",\"605242N\",\"005895N\",\"573922N\",\"622417N\",\"611249N\",\"061240N\",\"643818N\",\"625741N\",\"613541N\",\"633710N\",\"551958N\",\"612616N\",\"615442N\",\"611256N\",\"532723N\",\"055242N\",\"634334N\",\"591926N\",\"632946N\",\"565739N\",\"603017N\",\"612453N\",\"612536N\",\"064151N\",\"058160N\",\"621054N\",\"006367N\",\"060222N\",\"603620N\",\"057417N\",\"594037N\",\"613426N\",\"615627N\",\"593824N\",\"652714N\",\"581533N\",\"642632N\",\"593134N\",\"595820N\",\"602822N\",\"061501N\",\"621428N\",\"059194N\",\"621917N\",\"056475N\",\"631526N\",\"602831N\",\"611257N\",\"614728N\",\"621733N\",\"062324N\",\"612734N\",\"593012N\",\"644746N\",\"006233N\",\"603129N\",\"061254N\",\"611252N\",\"611926N\",\"604226N\",\"601957N\",\"062559N\",\"552723N\",\"058207N\",\"621938N\",\"612545N\",\"601820N\",\"594640N\",\"613519N\",\"061139N\",\"571640N\",\"612319N\",\"059271N\",\"612514N\",\"614753N\",\"061731N\",\"059956N\",\"612856N\",\"061541N\",\"643231N\",\"601750N\",\"605640N\",\"642653N\",\"056825N\",\"059538N\",\"643851N\",\"613623N\",\"602217N\",\"611140N\",\"613824N\",\"604550N\",\"571018N\",\"611615N\",\"635131N\",\"614356N\",\"624725N\",\"063541N\",\"062422N\",\"583543N\",\"565942N\",\"062637N\",\"552532N\",\"055754N\",\"605438N\",\"613433N\",\"595630N\",\"603221N\",\"055184N\",\"059289N\",\"061213N\",\"535354N\",\"603015N\",\"060216N\",\"070447N\",\"602944N\",\"644842N\",\"061355N\",\"585221N\",\"061276N\",\"611154N\",\"552857N\",\"061438N\",\"574820N\"],\"lon\":[null,null,null,null,null,null,null,null,null,null,null,null,null,null,null,null,null,null,null,null,null,null,null,null,null,null,null,null,null,null,null,null,null,null,null,null,null,null,null,null,null,null,null,null,null,null,null,null,null,null,null,null,null,null,null,null,null,null,null,null,null,null,null,null,null,null,null,null,null,null,null,null,null,null,null,null,null,null,null,null,null,null,null,null,null,null,null,null,null,null,null,null,null,null,null,null,null,null,null,null,null,null,null,null,null,null,null,null,null,null,null,null,null,null,null,null,null,null,null,null,null,null,null,null,null,null,null,null,null,null,null,null,null,null,null,null,null,null,null,null,null,null,null,null,null,null,null,null,null,null,null,null,null,null,null,null,null,null,null,null,null,null,null,null,null,null,null,null,null,null,null,null,null,null,null,null,null,null,null,null,null,null,null,null,null,null,null,null,null,null,null,null,null,null,null,null,null,null,null,null,null,null,null,null,null,null,null,null,null,null,null,null,null,null,null,null,\"-150.933333\",null,null,null,null,null,null,null,null,null,null,null,null,null,null,null,null,null,null,null,null,null,null,null,null,null,null,null,null,null,null,null,null,null,null,null,null,null,null,null,null,null,null,null,null,null,null,null,null,null,null,null,null,null,null,null,null,null,null,null,null,null,null,null,null,null,null,null,null,null,null,null,null,null,null,null,null,null,null,null,null,null,null,null,null,null,null,null,null,null,null,null,null,null,null,null,null,null,null,null,null,null,null,null,null,null,null,null,null,null,null,null,null,null,null,null,null,null,null,null,null,null,null,null,null,null,null,null,null,null,null,null,null,null,null,null,null,null,null,null,null,null,null,null,null,null,null,null,null,null,null,null,null,null,null,null,null,null,null,null,null,null,null,null,null,null,null,null,null,null,null,null,null,null,null,null,null,\"-148.25\",null,null,null,\"-151.019167\",\"-157.173056\",null,\"-152.616945\",\"-134.582778\",\"-166.621389\",\"-156.715556\",\"-151.333333\",\"-138.443055\",\"-135.783333\",\"-151.389166\",\"-162.55\",null,\"-150.087777\",\"-135.3675\",\"-164.263611\",\"-159.253056\",\"-134.582778\",\"-154.268334\",\"-145.386111\",\"-149.088889\",\"-150.254167\",\"-154.111667\",\"-151.166667\",\"-153.307222\",\"-130.808333\",\"-158.85\",\"-132.933333\",\"-165.5025\",\"-151.066667\",\"-135.166945\",\"-152.050833\",\"-135.368889\",\"-151.930834\",\"-135.7125\",\"-135.311389\",\"-158.083333\",null,\"-147.634444\",\"-149.783333\",\"-162.726667\",\"-152.303056\",\"-149.892222\",\"-150.075556\",\"-151.902222\",\"-149.420278\",\"-149.2925\",\"-156.812222\",\"-157.0125\",\"-135.361667\",\"-149.988611\",\"-154.208333\",\"-147.918611\",\"-152.021667\",\"-148.767778\",\"-147.818334\",\"-149\",\"-148.617223\",\"-149.215556\",\"-131.695833\",\"-149.5525\",\"-149.5525\",\"-149.752222\",\"-150.195\",\"-150.618611\",\"-152.056111\",\"-152.583333\",\"-153.75\",\"-145.837777\",\"-158.416667\",\"-151.725834\",\"-149.308889\",\"-149.540277\",\"-130.685555\",\"-135.340555\",\"-145.334722\",\"-131.633333\",\"-152.626667\",\"-148.335\",\"-155.468334\",\"-148.555278\",\"0152287W\",\"1512355W\",\"1472237W\",\"0161475W\",\"0149145W\",\"0152454W\",\"1343019W\",\"1351950W\",\"1484740W\",\"1495040W\",\"1493050W\",\"0162140W\",\"1415545W\",\"1492813W\",\"0149544W\",\"1603228W\",\"0149269W\",\"0015050W\",\"0149522W\",\"1675220W\",\"1314411W\",\"1485423W\",\"1582215W\",\"1545455W\",\"1583445W\",\"0150337W\",\"1493024W\",\"1514651W\",\"1453513W\",\"0134320W\",\"1503024W\",\"1565925W\",\"0143359W\",\"1643555W\",\"1523033W\",\"0155612W\",\"1591725W\",\"1573713W\",\"0151304W\",\"1473322W\",\"0135711W\",\"0144535W\",\"1512030W\",\"0158211W\",\"0151120W\",\"1503338W\",\"0153916W\",\"0158214W\",\"0149562W\",\"0132345W\",\"0149152W\",\"0151237W\",\"1495122W\",\"0149050W\",\"1522112W\",\"1473635W\",\"0150525W\",\"1393937W\",\"1475251W\",\"0163169W\",\"0161514W\",\"0149303W\",\"0149511W\",\"1492924W\",\"0148613W\",\"0161316W\",\"1453148W\",\"0131846W\",\"0013541W\",\"0150168W\",\"1493337W\",\"1512245W\",\"0154554W\",\"1494852W\",\"0149549W\",\"1341434W\",\"1493342W\",\"1351220W\",\"1492942W\",\"1612956W\",\"1494456W\",\"1603912W\",\"1484626W\",\"1532649W\",\"1474528W\",\"0015472W\",\"1593715W\",\"0165529W\",\"1584818W\",\"1352236W\",\"1455243W\",\"1503024W\",\"1541432W\",\"0152139W\",\"1612644W\",\"1484257W\",\"1351636W\",\"0150338W\",\"1462935W\",\"0150253W\",\"1511331W\",\"0147440W\",\"0153115W\",\"1373540W\",\"0134282W\",\"0152104W\",\"1313018W\",\"1313414W\",\"1474615W\",\"1493154W\",\"1483952W\",\"1493240W\",\"0131397W\",\"1512921W\",\"0149243W\",\"1663239W\",\"0015095W\",\"0163123W\",\"1534416W\",\"0015111W\",\"1475528W\",\"0144245W\",\"0152815W\",\"1482156W\",\"0149750W\",\"1311331W\",\"0150315W\",\"1522156W\"],\"marker\":{\"line\":{\"color\":\"darkred\",\"width\":2},\"size\":[3.0,2.0,3.0,2.0,1.0,1.0,4.0,1.0,2.0,1.0,1.0,1.0,2.0,4.0,1.0,1.0,1.0,3.0,1.0,2.0,3.0,4.0,4.0,1.0,2.0,2.0,8.0,1.0,3.0,3.0,1.0,2.0,2.0,1.0,1.0,1.0,1.0,1.0,1.0,2.0,2.0,3.0,3.0,3.0,1.0,2.0,1.0,4.0,1.0,2.0,2.0,1.0,2.0,2.0,2.0,3.0,2.0,2.0,1.0,4.0,5.0,2.0,2.0,4.0,2.0,1.0,1.0,1.0,1.0,2.0,1.0,1.0,1.0,1.0,1.0,1.0,9.0,1.0,1.0,1.0,1.0,3.0,2.0,1.0,1.0,1.0,3.0,1.0,2.0,4.0,2.0,2.0,4.0,3.0,1.0,6.0,6.0,1.0,3.0,4.0,2.0,4.0,2.0,1.0,1.0,3.0,1.0,2.0,1.0,1.0,3.0,1.0,1.0,1.0,1.0,2.0,2.0,2.0,3.0,2.0,1.0,2.0,1.0,1.0,1.0,1.0,2.0,1.0,2.0,1.0,1.0,2.0,1.0,1.0,1.0,2.0,2.0,1.0,1.0,1.0,1.0,2.0,3.0,5.0,3.0,18.0,3.0,1.0,6.0,2.0,1.0,1.0,2.0,1.0,1.0,1.0,3.0,1.0,4.0,4.0,3.0,1.0,1.0,1.0,4.0,2.0,1.0,1.0,3.0,2.0,2.0,1.0,4.0,1.0,2.0,1.0,2.0,1.0,2.0,2.0,1.0,1.0,3.0,1.0,4.0,2.0,1.0,1.0,4.0,2.0,1.0,1.0,1.0,6.0,1.0,1.0,1.0,1.0,2.0,1.0,2.0,5.0,2.0,1.0,3.0,1.0,2.0,2.0,2.0,2.0,5.0,3.0,2.0,2.0,2.0,1.0,3.0,1.0,1.0,2.0,4.0,1.0,1.0,1.0,1.0,2.0,1.0,1.0,1.0,2.0,6.0,3.0,4.0,3.0,2.0,1.0,1.0,1.0,1.0,6.0,2.0,5.0,1.0,1.0,1.0,6.0,1.0,2.0,4.0,2.0,3.0,1.0,4.0,2.0,3.0,2.0,1.0,2.0,1.0,2.0,2.0,2.0,1.0,1.0,4.0,4.0,2.0,2.0,1.0,1.0,1.0,3.0,2.0,1.0,1.0,1.0,1.0,1.0,1.0,1.0,1.0,7.0,3.0,3.0,6.0,2.0,3.0,3.0,2.0,2.0,1.0,2.0,1.0,1.0,5.0,1.0,2.0,2.0,1.0,5.0,5.0,4.0,4.0,1.0,6.0,2.0,2.0,4.0,2.0,1.0,1.0,2.0,2.0,1.0,2.0,1.0,2.0,1.0,1.0,1.0,1.0,4.0,2.0,1.0,2.0,2.0,1.0,3.0,2.0,2.0,1.0,3.0,1.0,3.0,1.0,2.0,1.0,1.0,3.0,1.0,2.0,2.0,2.0,2.0,2.0,5.0,2.0,2.0,4.0,4.0,4.0,3.0,1.0,2.0,1.0,1.0,1.0,2.0,8.0,1.0,2.0,1.0,2.0,2.0,2.0,1.0,2.0,2.0,1.0,1.0,1.0,5.0,1.0,1.0,1.0,2.0,1.0,1.0,1.0,7.0,1.0,2.0,2.0,4.0,1.0,2.0,1.0,6.0,6.0,1.0,4.0,1.0,1.0,1.0,1.0,3.0,1.0,5.0,1.0,1.0,2.0,2.0,2.0,1.0,4.0,1.0,6.0,1.0,1.0,10.0,3.0,1.0,1.0,1.0,1.0,2.0,1.0,1.0,2.0,4.0,2.0,2.0,2.0,1.0,1.0,1.0,4.0,2.0,3.0,5.0,1.0,4.0,3.0,2.0,2.0,3.0,1.0,1.0,1.0,1.0,4.0,4.0,2.0,1.0,1.0,2.0,5.0,1.0,3.0,1.0,3.0,1.0,2.0,2.0,2.0,1.0,1.0,5.0,5.0,1.0,1.0,3.0,1.0,2.0,1.0,1.0,2.0,1.0,1.0,2.0,5.0,4.0,2.0,5.0,1.0,1.0,4.0,4.0,6.0,1.0,4.0,1.0,1.0,3.0,2.0,2.0,1.0,2.0,1.0,2.0,2.0,2.0,1.0,2.0,1.0,1.0,1.0,1.0,1.0,3.0,5.0,2.0,4.0,2.0,5.0,1.0,1.0,2.0,4.0,2.0,2.0,1.0,1.0,1.0,1.0,2.0,1.0,2.0,1.0,1.0,1.0,1.0,1.0,1.0,3.0,2.0,3.0,1.0,3.0,10.0,2.0,2.0,1.0,1.0,1.0,1.0,1.0,4.0,2.0,1.0,1.0,1.0,1.0,1.0,1.0,9.0,1.0,1.0,2.0,2.0,3.0,1.0,1.0,3.0,4.0,1.0,1.0,5.0,1.0,3.0,1.0,1.0,1.0,4.0,2.0,1.0,1.0,2.0,2.0,1.0,1.0,1.0,1.0,1.0,2.0,1.0,2.0,1.0,5.0,2.0,1.0,3.0,3.0,1.0,6.0,2.0,1.0,1.0,3.0,3.0,1.0,1.0,4.0,1.0,3.0,5.0,1.0,7.0,2.0,2.0,1.0,5.0,2.0,6.0,1.0,1.0],\"sizemode\":\"area\"},\"name\":\"0 - 100\",\"opacity\":1,\"text\":[\"Accident Number: ANC82FAG14Fatalities: 3.0\",\"Accident Number: ANC82DAG16Fatalities: 2.0\",\"Accident Number: ANC82FA036Fatalities: 3.0\",\"Accident Number: ANC82FA035Fatalities: 2.0\",\"Accident Number: ANC82FA037Fatalities: 1.0\",\"Accident Number: ANC82DAG26Fatalities: 1.0\",\"Accident Number: ANC82DAG27Fatalities: 4.0\",\"Accident Number: ANC82DAG28Fatalities: 1.0\",\"Accident Number: ANC82FAG30Fatalities: 2.0\",\"Accident Number: ANC82FAG32Fatalities: 1.0\",\"Accident Number: ANC82DA050Fatalities: 1.0\",\"Accident Number: ANC82DAG33Fatalities: 1.0\",\"Accident Number: ANC82FAA07Fatalities: 2.0\",\"Accident Number: SEA82FA129Fatalities: 4.0\",\"Accident Number: ANC82DA062Fatalities: 1.0\",\"Accident Number: SEA82FAD01Fatalities: 1.0\",\"Accident Number: ANC82DAG48Fatalities: 1.0\",\"Accident Number: ANC82DAG60Fatalities: 3.0\",\"Accident Number: ANC82FA079Fatalities: 1.0\",\"Accident Number: ANC82DAG53Fatalities: 2.0\",\"Accident Number: ANC82DAG59Fatalities: 3.0\",\"Accident Number: ANC82FA091Fatalities: 4.0\",\"Accident Number: ANC82FA094Fatalities: 4.0\",\"Accident Number: ANC82DAA20Fatalities: 1.0\",\"Accident Number: ANC83LAA02Fatalities: 2.0\",\"Accident Number: SEA83FAD01Fatalities: 2.0\",\"Accident Number: SEA83AA028Fatalities: 8.0\",\"Accident Number: ANC83FA032Fatalities: 1.0\",\"Accident Number: ANC83FAG03Fatalities: 3.0\",\"Accident Number: ANC83FA042Fatalities: 3.0\",\"Accident Number: ANC83FU002Fatalities: 1.0\",\"Accident Number: ANC83FA064Fatalities: 2.0\",\"Accident Number: ANC83FA068Fatalities: 2.0\",\"Accident Number: ANC83FU003Fatalities: 1.0\",\"Accident Number: ANC83FA071Fatalities: 1.0\",\"Accident Number: ANC83FAA06Fatalities: 1.0\",\"Accident Number: ANC83LA085Fatalities: 1.0\",\"Accident Number: ANC83FA126Fatalities: 1.0\",\"Accident Number: ANC83FA137Fatalities: 1.0\",\"Accident Number: ANC83FA139Fatalities: 2.0\",\"Accident Number: ANC83FA146Fatalities: 2.0\",\"Accident Number: ANC83FA152Fatalities: 3.0\",\"Accident Number: ANC83FA154Fatalities: 3.0\",\"Accident Number: ANC83FA161Fatalities: 3.0\",\"Accident Number: ANC83FA167Fatalities: 1.0\",\"Accident Number: ANC83FA180Fatalities: 2.0\",\"Accident Number: ANC84FA004Fatalities: 1.0\",\"Accident Number: ANC84FA013Fatalities: 4.0\",\"Accident Number: ANC84FA016Fatalities: 1.0\",\"Accident Number: SEA84FA055Fatalities: 2.0\",\"Accident Number: ANC84FA042Fatalities: 2.0\",\"Accident Number: ANC84FA051Fatalities: 1.0\",\"Accident Number: ANC84FA073BFatalities: 2.0\",\"Accident Number: ANC84FA073AFatalities: 2.0\",\"Accident Number: ANC84FA074Fatalities: 2.0\",\"Accident Number: ANC84FA078Fatalities: 3.0\",\"Accident Number: ANC84FA080AFatalities: 2.0\",\"Accident Number: ANC84FA080BFatalities: 2.0\",\"Accident Number: ANC84FA120Fatalities: 1.0\",\"Accident Number: ANC84FA119Fatalities: 4.0\",\"Accident Number: ANC84LAMS1Fatalities: 5.0\",\"Accident Number: SEA84FA185Fatalities: 2.0\",\"Accident Number: ANC84FA132Fatalities: 2.0\",\"Accident Number: ANC84FA141Fatalities: 4.0\",\"Accident Number: ANC84LA148Fatalities: 2.0\",\"Accident Number: ANC84FA166Fatalities: 1.0\",\"Accident Number: ANC84FA169Fatalities: 1.0\",\"Accident Number: ANC84LA185Fatalities: 1.0\",\"Accident Number: ANC84FAMS3Fatalities: 1.0\",\"Accident Number: ANC84FAMS2Fatalities: 2.0\",\"Accident Number: ANC85LA009Fatalities: 1.0\",\"Accident Number: ANC85FA026Fatalities: 1.0\",\"Accident Number: ANC85FA036Fatalities: 1.0\",\"Accident Number: ANC85FA095Fatalities: 1.0\",\"Accident Number: ANC85FA040Fatalities: 1.0\",\"Accident Number: ANC85LA187Fatalities: 1.0\",\"Accident Number: DCA85AA012Fatalities: 9.0\",\"Accident Number: ANC85LA046Fatalities: 1.0\",\"Accident Number: ANC85FA047Fatalities: 1.0\",\"Accident Number: ANC85FA052Fatalities: 1.0\",\"Accident Number: ANC85FA056Fatalities: 1.0\",\"Accident Number: ANC85FA078Fatalities: 3.0\",\"Accident Number: ANC85FA085Fatalities: 2.0\",\"Accident Number: SEA85FA134Fatalities: 1.0\",\"Accident Number: ANC85FA099Fatalities: 1.0\",\"Accident Number: ANC85FA107Fatalities: 1.0\",\"Accident Number: ANC85FA111Fatalities: 3.0\",\"Accident Number: ANC85LA132Fatalities: 1.0\",\"Accident Number: ANC85FA135Fatalities: 2.0\",\"Accident Number: ANC85FA138Fatalities: 4.0\",\"Accident Number: ANC85FA146Fatalities: 2.0\",\"Accident Number: ANC85LA188Fatalities: 2.0\",\"Accident Number: ANC85FA154Fatalities: 4.0\",\"Accident Number: ANC85MA157Fatalities: 3.0\",\"Accident Number: ANC85LA159Fatalities: 1.0\",\"Accident Number: ANC85FA163BFatalities: 6.0\",\"Accident Number: ANC85FA163AFatalities: 6.0\",\"Accident Number: ANC85LA171Fatalities: 1.0\",\"Accident Number: ANC85FA184Fatalities: 3.0\",\"Accident Number: SEA86MA018Fatalities: 4.0\",\"Accident Number: ANC86FA007Fatalities: 2.0\",\"Accident Number: ANC86FA009Fatalities: 4.0\",\"Accident Number: ANC86FA020Fatalities: 2.0\",\"Accident Number: SEA86FA041Fatalities: 1.0\",\"Accident Number: ANC86LA026Fatalities: 1.0\",\"Accident Number: ANC86MA027Fatalities: 3.0\",\"Accident Number: ANC86FA032Fatalities: 1.0\",\"Accident Number: ANC86FA037Fatalities: 2.0\",\"Accident Number: ANC86FA055Fatalities: 1.0\",\"Accident Number: ANC86LA060Fatalities: 1.0\",\"Accident Number: ANC86LA062Fatalities: 3.0\",\"Accident Number: ANC86FA074Fatalities: 1.0\",\"Accident Number: ANC86FA081Fatalities: 1.0\",\"Accident Number: ANC86FA078Fatalities: 1.0\",\"Accident Number: ANC86LA105Fatalities: 1.0\",\"Accident Number: ANC86FA116Fatalities: 2.0\",\"Accident Number: ANC86FA114Fatalities: 2.0\",\"Accident Number: SEA86FA213Fatalities: 2.0\",\"Accident Number: ANC86FA130Fatalities: 3.0\",\"Accident Number: ANC86LA149Fatalities: 2.0\",\"Accident Number: ANC86FA151Fatalities: 1.0\",\"Accident Number: ANC86FA167Fatalities: 2.0\",\"Accident Number: ANC87LA007Fatalities: 1.0\",\"Accident Number: SEA87LA030Fatalities: 1.0\",\"Accident Number: ANC87FA023Fatalities: 1.0\",\"Accident Number: ANC87FA051Fatalities: 1.0\",\"Accident Number: ANC87MA057Fatalities: 2.0\",\"Accident Number: ANC87FA067Fatalities: 1.0\",\"Accident Number: SEA87FA135Fatalities: 2.0\",\"Accident Number: ANC87FA097Fatalities: 1.0\",\"Accident Number: ANC87FA101Fatalities: 1.0\",\"Accident Number: ANC87LA113Fatalities: 2.0\",\"Accident Number: ANC87LA114Fatalities: 1.0\",\"Accident Number: ANC87FA115Fatalities: 1.0\",\"Accident Number: ANC87FA117Fatalities: 1.0\",\"Accident Number: SEA87FA162AFatalities: 2.0\",\"Accident Number: SEA87FA162BFatalities: 2.0\",\"Accident Number: SEA87FA180Fatalities: 1.0\",\"Accident Number: ANC87LA142Fatalities: 1.0\",\"Accident Number: ANC87FA140Fatalities: 1.0\",\"Accident Number: ANC87FA137Fatalities: 1.0\",\"Accident Number: ANC87FA146Fatalities: 2.0\",\"Accident Number: ANC87FA153Fatalities: 3.0\",\"Accident Number: ANC87FA165Fatalities: 5.0\",\"Accident Number: ANC88FA011Fatalities: 3.0\",\"Accident Number: DCA88MA005Fatalities: 18.0\",\"Accident Number: ANC88FA021Fatalities: 3.0\",\"Accident Number: ANC88FA020Fatalities: 1.0\",\"Accident Number: DCA88MA011Fatalities: 6.0\",\"Accident Number: SEA88LA043Fatalities: 2.0\",\"Accident Number: ANC88FA037Fatalities: 1.0\",\"Accident Number: ANC88FA045Fatalities: 1.0\",\"Accident Number: ANC88FA051Fatalities: 2.0\",\"Accident Number: ANC88LA053Fatalities: 1.0\",\"Accident Number: ANC88FA052BFatalities: 1.0\",\"Accident Number: ANC88FA052AFatalities: 1.0\",\"Accident Number: ANC88FA059Fatalities: 3.0\",\"Accident Number: ANC88FA062Fatalities: 1.0\",\"Accident Number: ANC88FA063BFatalities: 4.0\",\"Accident Number: ANC88FA063AFatalities: 4.0\",\"Accident Number: ANC88FA065Fatalities: 3.0\",\"Accident Number: ANC88FA067Fatalities: 1.0\",\"Accident Number: ANC88LA152Fatalities: 1.0\",\"Accident Number: ANC88LA081Fatalities: 1.0\",\"Accident Number: ANC88FA083Fatalities: 4.0\",\"Accident Number: ANC88DAG05Fatalities: 2.0\",\"Accident Number: ANC88LA085Fatalities: 1.0\",\"Accident Number: ANC88LA151Fatalities: 1.0\",\"Accident Number: SEA88FA140Fatalities: 3.0\",\"Accident Number: ANC88LA107Fatalities: 2.0\",\"Accident Number: ANC88FA111Fatalities: 2.0\",\"Accident Number: SEA88FA156Fatalities: 1.0\",\"Accident Number: SEA88FA169Fatalities: 4.0\",\"Accident Number: SEA88FA167Fatalities: 1.0\",\"Accident Number: ANC89FA009Fatalities: 2.0\",\"Accident Number: SEA89FA027Fatalities: 1.0\",\"Accident Number: SEA89FA036Fatalities: 2.0\",\"Accident Number: ANC89FA041Fatalities: 1.0\",\"Accident Number: ANC89FA057Fatalities: 2.0\",\"Accident Number: SEA89FA074Fatalities: 2.0\",\"Accident Number: SEA89FA092Fatalities: 1.0\",\"Accident Number: ANC89FA084Fatalities: 1.0\",\"Accident Number: ANC89FA090Fatalities: 3.0\",\"Accident Number: ANC89FA092Fatalities: 1.0\",\"Accident Number: ANC89FA094Fatalities: 4.0\",\"Accident Number: SEA89FA143Fatalities: 2.0\",\"Accident Number: ANC89FA133Fatalities: 1.0\",\"Accident Number: ANC89FA137Fatalities: 1.0\",\"Accident Number: ANC89LA181Fatalities: 4.0\",\"Accident Number: ANC89FA144Fatalities: 2.0\",\"Accident Number: ANC89FA160Fatalities: 1.0\",\"Accident Number: ANC89DAG02Fatalities: 1.0\",\"Accident Number: ANC90FA021Fatalities: 1.0\",\"Accident Number: DEN90FA053Fatalities: 6.0\",\"Accident Number: ANC90FA034Fatalities: 1.0\",\"Accident Number: ANC90FA039Fatalities: 1.0\",\"Accident Number: ANC90FA042Fatalities: 1.0\",\"Accident Number: ANC90FA061Fatalities: 1.0\",\"Accident Number: ANC90FA075Fatalities: 2.0\",\"Accident Number: ANC90FA086Fatalities: 1.0\",\"Accident Number: ANC90FA088Fatalities: 2.0\",\"Accident Number: ANC90FA101Fatalities: 5.0\",\"Accident Number: ANC90FA105Fatalities: 2.0\",\"Accident Number: ANC90LA112Fatalities: 1.0\",\"Accident Number: ANC90FA134Fatalities: 3.0\",\"Accident Number: SEA90FA163Fatalities: 1.0\",\"Accident Number: ANC90LA190Fatalities: 2.0\",\"Accident Number: ANC90LA143Fatalities: 2.0\",\"Accident Number: ANC90FA146Fatalities: 2.0\",\"Accident Number: ANC90FA158Fatalities: 2.0\",\"Accident Number: ANC90FA164Fatalities: 5.0\",\"Accident Number: ANC90FA161Fatalities: 3.0\",\"Accident Number: ANC90LA173Fatalities: 2.0\",\"Accident Number: ANC90FA167BFatalities: 2.0\",\"Accident Number: ANC90FA167AFatalities: 2.0\",\"Accident Number: ANC90LA189Fatalities: 1.0\",\"Accident Number: ANC91GAMS1Fatalities: 3.0\",\"Accident Number: ANC91FA014Fatalities: 1.0\",\"Accident Number: ANC91FA018Fatalities: 1.0\",\"Accident Number: ANC91LA036Fatalities: 2.0\",\"Accident Number: ANC91FA042Fatalities: 4.0\",\"Accident Number: ANC91FA050BFatalities: 1.0\",\"Accident Number: ANC91FA050AFatalities: 1.0\",\"Accident Number: ANC91LA058Fatalities: 1.0\",\"Accident Number: ANC91LA061Fatalities: 1.0\",\"Accident Number: ANC91LA076Fatalities: 2.0\",\"Accident Number: ANC91LA077Fatalities: 1.0\",\"Accident Number: ANC91FA094Fatalities: 1.0\",\"Accident Number: ANC91FA107Fatalities: 1.0\",\"Accident Number: ANC91FA115Fatalities: 2.0\",\"Accident Number: SEA91FA207Fatalities: 6.0\",\"Accident Number: ANC91FA128Fatalities: 3.0\",\"Accident Number: SEA91FA216Fatalities: 4.0\",\"Accident Number: ANC91FA132Fatalities: 3.0\",\"Accident Number: ANC91FA147Fatalities: 2.0\",\"Accident Number: ANC92FA083Fatalities: 1.0\",\"Accident Number: ANC92LA019Fatalities: 1.0\",\"Accident Number: ANC92FA022Fatalities: 1.0\",\"Accident Number: ANC92LA033Fatalities: 1.0\",\"Accident Number: ANC92FA040Fatalities: 6.0\",\"Accident Number: ANC92LA056Fatalities: 2.0\",\"Accident Number: ANC92FAMS2Fatalities: 5.0\",\"Accident Number: ANC92LA085Fatalities: 1.0\",\"Accident Number: ANC92FA106Fatalities: 1.0\",\"Accident Number: ANC92LA115Fatalities: 1.0\",\"Accident Number: ANC92FA116Fatalities: 6.0\",\"Accident Number: ANC92LA132Fatalities: 1.0\",\"Accident Number: ANC92FAMS3Fatalities: 2.0\",\"Accident Number: ANC92FA141Fatalities: 4.0\",\"Accident Number: ANC92FA162Fatalities: 2.0\",\"Accident Number: ANC92FA164Fatalities: 3.0\",\"Accident Number: ANC93FA148Fatalities: 1.0\",\"Accident Number: ANC93FA067Fatalities: 4.0\",\"Accident Number: ANC93FA012Fatalities: 2.0\",\"Accident Number: ANC93FA013Fatalities: 3.0\",\"Accident Number: ANC93GA020Fatalities: 2.0\",\"Accident Number: ANC93FA027Fatalities: 1.0\",\"Accident Number: ANC93FA033Fatalities: 2.0\",\"Accident Number: ANC93FA045Fatalities: 1.0\",\"Accident Number: ANC93FA050Fatalities: 2.0\",\"Accident Number: DCA93MA037Fatalities: 2.0\",\"Accident Number: ANC93FA054Fatalities: 2.0\",\"Accident Number: ANC93LA055Fatalities: 1.0\",\"Accident Number: ANC93FA056Fatalities: 1.0\",\"Accident Number: ANC93FA114BFatalities: 4.0\",\"Accident Number: ANC93FA114AFatalities: 4.0\",\"Accident Number: ANC93LA130Fatalities: 2.0\",\"Accident Number: ANC93LA143Fatalities: 2.0\",\"Accident Number: ANC93FA134Fatalities: 1.0\",\"Accident Number: ANC93LA159Fatalities: 1.0\",\"Accident Number: ANC93LA170Fatalities: 1.0\",\"Accident Number: ANC93FA161Fatalities: 3.0\",\"Accident Number: ANC93FA167Fatalities: 2.0\",\"Accident Number: ANC93LA171Fatalities: 1.0\",\"Accident Number: ANC93LA174Fatalities: 1.0\",\"Accident Number: ANC93FA175Fatalities: 1.0\",\"Accident Number: ANC94FA001Fatalities: 1.0\",\"Accident Number: ANC94LA003Fatalities: 1.0\",\"Accident Number: ANC94FA011Fatalities: 1.0\",\"Accident Number: ANC94FA029Fatalities: 1.0\",\"Accident Number: ANC94FA032Fatalities: 1.0\",\"Accident Number: ANC94FA070Fatalities: 7.0\",\"Accident Number: ANC94FA074Fatalities: 3.0\",\"Accident Number: ANC94FA080Fatalities: 3.0\",\"Accident Number: ANC94FA100Fatalities: 6.0\",\"Accident Number: ANC94FA104Fatalities: 2.0\",\"Accident Number: ANC94FA105Fatalities: 3.0\",\"Accident Number: ANC94FA106Fatalities: 3.0\",\"Accident Number: ANC94FA109Fatalities: 2.0\",\"Accident Number: ANC94LA124Fatalities: 2.0\",\"Accident Number: ANC94FA130Fatalities: 1.0\",\"Accident Number: SEA94FA245Fatalities: 2.0\",\"Accident Number: ANC95LA012Fatalities: 1.0\",\"Accident Number: ANC95FAMS1Fatalities: 1.0\",\"Accident Number: ANC95FA016Fatalities: 5.0\",\"Accident Number: LAX95FA120Fatalities: 1.0\",\"Accident Number: ANC95FA044Fatalities: 2.0\",\"Accident Number: ANC95FA073Fatalities: 2.0\",\"Accident Number: ANC95FA056Fatalities: 1.0\",\"Accident Number: ANC95FA078BFatalities: 5.0\",\"Accident Number: ANC95FA078AFatalities: 5.0\",\"Accident Number: ANC95FA086Fatalities: 4.0\",\"Accident Number: ANC95FA090Fatalities: 4.0\",\"Accident Number: ANC95FA095Fatalities: 1.0\",\"Accident Number: ANC95FA101Fatalities: 6.0\",\"Accident Number: ANC95FA104BFatalities: 2.0\",\"Accident Number: ANC95FA104AFatalities: 2.0\",\"Accident Number: ANC95LA119Fatalities: 4.0\",\"Accident Number: ANC95FA129Fatalities: 2.0\",\"Accident Number: ANC95FA157Fatalities: 1.0\",\"Accident Number: ANC95FA169Fatalities: 1.0\",\"Accident Number: ANC95FA147Fatalities: 2.0\",\"Accident Number: ANC95FA150Fatalities: 2.0\",\"Accident Number: ANC95LA158Fatalities: 1.0\",\"Accident Number: ANC95FA167Fatalities: 2.0\",\"Accident Number: ANC96FA059Fatalities: 1.0\",\"Accident Number: ANC96FA079Fatalities: 2.0\",\"Accident Number: ANC96FA081Fatalities: 1.0\",\"Accident Number: ANC96FA098Fatalities: 1.0\",\"Accident Number: ANC96FA099Fatalities: 1.0\",\"Accident Number: ANC96FA101Fatalities: 1.0\",\"Accident Number: ANC96FA102Fatalities: 4.0\",\"Accident Number: ANC96FA109Fatalities: 2.0\",\"Accident Number: ANC96FA118Fatalities: 1.0\",\"Accident Number: ANC96FAMS1Fatalities: 2.0\",\"Accident Number: ANC96FA131Fatalities: 2.0\",\"Accident Number: ANC96FA139Fatalities: 1.0\",\"Accident Number: ANC96FA141Fatalities: 3.0\",\"Accident Number: ANC96FA149Fatalities: 2.0\",\"Accident Number: ANC96FA158Fatalities: 2.0\",\"Accident Number: ANC96FA161Fatalities: 1.0\",\"Accident Number: ANC96FA162Fatalities: 3.0\",\"Accident Number: ANC97FA002Fatalities: 1.0\",\"Accident Number: ANC97FA001Fatalities: 3.0\",\"Accident Number: ANC97FA008Fatalities: 1.0\",\"Accident Number: ANC97FA009Fatalities: 2.0\",\"Accident Number: ANC97LA014Fatalities: 1.0\",\"Accident Number: ANC97FA024Fatalities: 1.0\",\"Accident Number: ANC97LA025Fatalities: 3.0\",\"Accident Number: ANC97FA026Fatalities: 1.0\",\"Accident Number: ANC97FA031Fatalities: 2.0\",\"Accident Number: ANC97FA037BFatalities: 2.0\",\"Accident Number: ANC97FA037AFatalities: 2.0\",\"Accident Number: ANC97FA051BFatalities: 2.0\",\"Accident Number: ANC97FA051AFatalities: 2.0\",\"Accident Number: ANC97MA161Fatalities: 5.0\",\"Accident Number: ANC97LA054Fatalities: 2.0\",\"Accident Number: ANC97FA092Fatalities: 2.0\",\"Accident Number: ANC97FAMS1Fatalities: 4.0\",\"Accident Number: ANC97FA097Fatalities: 4.0\",\"Accident Number: ANC97FA099Fatalities: 4.0\",\"Accident Number: ANC97FA121Fatalities: 3.0\",\"Accident Number: ANC97GA126Fatalities: 1.0\",\"Accident Number: ANC97FA143Fatalities: 2.0\",\"Accident Number: ANC97FA155Fatalities: 1.0\",\"Accident Number: ANC97FA159Fatalities: 1.0\",\"Accident Number: ANC98LA001Fatalities: 1.0\",\"Accident Number: ANC98FA006Fatalities: 2.0\",\"Accident Number: ANC98MA008Fatalities: 8.0\",\"Accident Number: ANC98FA019Fatalities: 1.0\",\"Accident Number: ANC98GA036Fatalities: 2.0\",\"Accident Number: ANC98FA043Fatalities: 1.0\",\"Accident Number: ANC98FA048Fatalities: 2.0\",\"Accident Number: ANC98FA061BFatalities: 2.0\",\"Accident Number: ANC98FA061AFatalities: 2.0\",\"Accident Number: ANC98FA079Fatalities: 1.0\",\"Accident Number: ANC98FA091Fatalities: 2.0\",\"Accident Number: ANC98FA110Fatalities: 2.0\",\"Accident Number: ANC98LA112Fatalities: 1.0\",\"Accident Number: ANC98LA105Fatalities: 1.0\",\"Accident Number: ANC98FA116Fatalities: 1.0\",\"Accident Number: ANC98FA145Fatalities: 5.0\",\"Accident Number: ANC98FA152Fatalities: 1.0\",\"Accident Number: ANC98FA168Fatalities: 1.0\",\"Accident Number: ANC99FA047Fatalities: 1.0\",\"Accident Number: ANC99FAMS1Fatalities: 2.0\",\"Accident Number: ANC99TA058Fatalities: 1.0\",\"Accident Number: ANC99LA065Fatalities: 1.0\",\"Accident Number: ANC99FA070Fatalities: 1.0\",\"Accident Number: ANC99FA073Fatalities: 7.0\",\"Accident Number: ANC99FA074Fatalities: 1.0\",\"Accident Number: ANC99FA106Fatalities: 2.0\",\"Accident Number: ANC99FA110Fatalities: 2.0\",\"Accident Number: ANC99FA108Fatalities: 4.0\",\"Accident Number: ANC99FAMS2Fatalities: 1.0\",\"Accident Number: ANC99FA128Fatalities: 2.0\",\"Accident Number: ANC99FA130Fatalities: 1.0\",\"Accident Number: ANC00FA018Fatalities: 6.0\",\"Accident Number: ANC00FA024Fatalities: 6.0\",\"Accident Number: ANC00FA052Fatalities: 1.0\",\"Accident Number: ANC00GA071Fatalities: 4.0\",\"Accident Number: ANC00FA076Fatalities: 1.0\",\"Accident Number: ANC00FA081Fatalities: 1.0\",\"Accident Number: ANC00FA082Fatalities: 1.0\",\"Accident Number: ANC00FA093Fatalities: 1.0\",\"Accident Number: ANC00LA108Fatalities: 3.0\",\"Accident Number: ANC00FA110Fatalities: 1.0\",\"Accident Number: ANC00MA125Fatalities: 5.0\",\"Accident Number: ANC00FA128Fatalities: 1.0\",\"Accident Number: ANC01FA012Fatalities: 1.0\",\"Accident Number: ANC01FA026Fatalities: 2.0\",\"Accident Number: ANC01FAMS1Fatalities: 2.0\",\"Accident Number: ANC01FA033Fatalities: 2.0\",\"Accident Number: ANC01GA075Fatalities: 1.0\",\"Accident Number: ANC01FA084Fatalities: 4.0\",\"Accident Number: ANC01WA091Fatalities: 1.0\",\"Accident Number: ANC01FA093Fatalities: 6.0\",\"Accident Number: ANC01FA102Fatalities: 1.0\",\"Accident Number: ANC01FA106Fatalities: 1.0\",\"Accident Number: DCA02MA003Fatalities: 10.0\",\"Accident Number: SEA02FA008Fatalities: 3.0\",\"Accident Number: ANC02FA010Fatalities: 1.0\",\"Accident Number: ANC02FA014Fatalities: 1.0\",\"Accident Number: ANC02FA025Fatalities: 1.0\",\"Accident Number: ANC02FA028Fatalities: 1.0\",\"Accident Number: ANC02FA038Fatalities: 2.0\",\"Accident Number: ANC02FA057Fatalities: 1.0\",\"Accident Number: ANC02FA064Fatalities: 1.0\",\"Accident Number: ANC02FA070Fatalities: 2.0\",\"Accident Number: ANC02FA075Fatalities: 4.0\",\"Accident Number: ANC02FA097Fatalities: 2.0\",\"Accident Number: ANC02FA107Fatalities: 2.0\",\"Accident Number: ANC02FA108Fatalities: 2.0\",\"Accident Number: ANC02FA106Fatalities: 1.0\",\"Accident Number: ANC03LA022Fatalities: 1.0\",\"Accident Number: ANC03GA020Fatalities: 1.0\",\"Accident Number: ANC03FA051Fatalities: 4.0\",\"Accident Number: ANC03FA061Fatalities: 2.0\",\"Accident Number: ANC03LA067Fatalities: 3.0\",\"Accident Number: ANC03FA066Fatalities: 5.0\",\"Accident Number: ANC03FA075Fatalities: 1.0\",\"Accident Number: ANC03LA076Fatalities: 4.0\",\"Accident Number: ANC03FA094Fatalities: 3.0\",\"Accident Number: ANC03FA096Fatalities: 2.0\",\"Accident Number: ANC03FAMS1Fatalities: 2.0\",\"Accident Number: ANC03FA106Fatalities: 3.0\",\"Accident Number: ANC04FA049Fatalities: 1.0\",\"Accident Number: ANC04FA056Fatalities: 1.0\",\"Accident Number: ANC04FA063Fatalities: 1.0\",\"Accident Number: ANC04FA070Fatalities: 1.0\",\"Accident Number: ANC04FA080Fatalities: 4.0\",\"Accident Number: ANC04FA084Fatalities: 4.0\",\"Accident Number: ANC04FA092Fatalities: 2.0\",\"Accident Number: ANC04LA093Fatalities: 1.0\",\"Accident Number: ANC04LA098Fatalities: 1.0\",\"Accident Number: ANC04FA102Fatalities: 2.0\",\"Accident Number: ANC04FAMS2Fatalities: 5.0\",\"Accident Number: ANC05FA008Fatalities: 1.0\",\"Accident Number: ANC05LA027Fatalities: 3.0\",\"Accident Number: ANC05FA070Fatalities: 1.0\",\"Accident Number: ANC05FA090Fatalities: 3.0\",\"Accident Number: ANC05FA098Fatalities: 1.0\",\"Accident Number: ANC05FA116Fatalities: 2.0\",\"Accident Number: ANC05FA121Fatalities: 2.0\",\"Accident Number: ANC05FA144Fatalities: 2.0\",\"Accident Number: ANC06LA015Fatalities: 1.0\",\"Accident Number: ANC06FA018Fatalities: 1.0\",\"Accident Number: ANC06FA048BFatalities: 5.0\",\"Accident Number: ANC06FA048AFatalities: 5.0\",\"Accident Number: ANC06FA080Fatalities: 1.0\",\"Accident Number: ANC06FA089Fatalities: 1.0\",\"Accident Number: ANC06FAMS1Fatalities: 3.0\",\"Accident Number: ANC06GA121Fatalities: 1.0\",\"Accident Number: ANC06FA131Fatalities: 2.0\",\"Accident Number: ANC06FA136Fatalities: 1.0\",\"Accident Number: ANC07FA006Fatalities: 1.0\",\"Accident Number: ANC07FA007Fatalities: 2.0\",\"Accident Number: ANC07FA013Fatalities: 1.0\",\"Accident Number: ANC07FA037Fatalities: 1.0\",\"Accident Number: ANC07FA054Fatalities: 2.0\",\"Accident Number: ANC07FA068Fatalities: 5.0\",\"Accident Number: ANC07FA073Fatalities: 4.0\",\"Accident Number: ANC07FA082Fatalities: 2.0\",\"Accident Number: ANC07MA083Fatalities: 5.0\",\"Accident Number: ANC07FA103Fatalities: 1.0\",\"Accident Number: ANC07FA102Fatalities: 1.0\",\"Accident Number: ANC07FA109Fatalities: 4.0\",\"Accident Number: ANC08FA025Fatalities: 4.0\",\"Accident Number: ANC08MA038Fatalities: 6.0\",\"Accident Number: ANC08FA037Fatalities: 1.0\",\"Accident Number: ANC08FA053Fatalities: 4.0\",\"Accident Number: ANC08FA072Fatalities: 1.0\",\"Accident Number: ANC08FA079Fatalities: 1.0\",\"Accident Number: ANC08FA087Fatalities: 3.0\",\"Accident Number: ANC08FA133Fatalities: 2.0\",\"Accident Number: ANC08FA104Fatalities: 2.0\",\"Accident Number: ANC08LA122Fatalities: 1.0\",\"Accident Number: ANC09FA001Fatalities: 2.0\",\"Accident Number: ANC09FA003Fatalities: 1.0\",\"Accident Number: ANC09FA052Fatalities: 2.0\",\"Accident Number: ANC09FAMS1Fatalities: 2.0\",\"Accident Number: ANC09FA062Fatalities: 2.0\",\"Accident Number: ANC10FA004Fatalities: 1.0\",\"Accident Number: ANC10FA014Fatalities: 2.0\",\"Accident Number: ANC10FA022Fatalities: 1.0\",\"Accident Number: ANC10FA038Fatalities: 1.0\",\"Accident Number: ANC10FA048Fatalities: 1.0\",\"Accident Number: ANC10LA053Fatalities: 1.0\",\"Accident Number: ANC10FA064Fatalities: 1.0\",\"Accident Number: ANC10FA067Fatalities: 3.0\",\"Accident Number: ANC10MA068Fatalities: 5.0\",\"Accident Number: ANC10FA069Fatalities: 2.0\",\"Accident Number: ANC10FA100Fatalities: 4.0\",\"Accident Number: ANC10FA076Fatalities: 2.0\",\"Accident Number: ANC11FA037Fatalities: 5.0\",\"Accident Number: ANC11FA055Fatalities: 1.0\",\"Accident Number: ANC11FA065Fatalities: 1.0\",\"Accident Number: ANC11FA069Fatalities: 2.0\",\"Accident Number: ANC11FA071Fatalities: 4.0\",\"Accident Number: ANC11FA077Fatalities: 2.0\",\"Accident Number: ANC11LA080Fatalities: 2.0\",\"Accident Number: ANC11FA091Fatalities: 1.0\",\"Accident Number: ANC11FA107Fatalities: 1.0\",\"Accident Number: ANC12FA006Fatalities: 1.0\",\"Accident Number: ANC12FA009Fatalities: 1.0\",\"Accident Number: ANC12FA028Fatalities: 2.0\",\"Accident Number: ANC12FA073Fatalities: 1.0\",\"Accident Number: ANC12FA066Fatalities: 2.0\",\"Accident Number: ANC12FA083Fatalities: 1.0\",\"Accident Number: ANC12FA084Fatalities: 1.0\",\"Accident Number: ANC12FA095Fatalities: 1.0\",\"Accident Number: ANC13FA001Fatalities: 1.0\",\"Accident Number: ANC13FAMS1Fatalities: 1.0\",\"Accident Number: ANC13FA004Fatalities: 1.0\",\"Accident Number: ANC13FA027Fatalities: 3.0\",\"Accident Number: ANC13FA030Fatalities: 2.0\",\"Accident Number: ANC13GA036Fatalities: 3.0\",\"Accident Number: ANC13FA054Fatalities: 1.0\",\"Accident Number: ANC13FA058Fatalities: 3.0\",\"Accident Number: DCA13MA121Fatalities: 10.0\",\"Accident Number: ANC13FA084Fatalities: 2.0\",\"Accident Number: ANC13FA090Fatalities: 2.0\",\"Accident Number: ANC13FA091Fatalities: 1.0\",\"Accident Number: ANC13FA093Fatalities: 1.0\",\"Accident Number: ANC13FA095Fatalities: 1.0\",\"Accident Number: ANC13FAMS2Fatalities: 1.0\",\"Accident Number: ANC14FA002Fatalities: 1.0\",\"Accident Number: ANC14MA008Fatalities: 4.0\",\"Accident Number: ANC14FA022Fatalities: 2.0\",\"Accident Number: ANC14FA030Fatalities: 1.0\",\"Accident Number: ANC14FA050Fatalities: 1.0\",\"Accident Number: ANC14FA062Fatalities: 1.0\",\"Accident Number: ANC15FA021Fatalities: 1.0\",\"Accident Number: ANC15FA032Fatalities: 1.0\",\"Accident Number: ANC15LA035Fatalities: 1.0\",\"Accident Number: ANC15MA041Fatalities: 9.0\",\"Accident Number: ANC15FA049Fatalities: 1.0\",\"Accident Number: ANC15FA050Fatalities: 1.0\",\"Accident Number: ANC15FA062Fatalities: 2.0\",\"Accident Number: ANC15FA066Fatalities: 2.0\",\"Accident Number: ANC15FA071Fatalities: 3.0\",\"Accident Number: ANC16FA001Fatalities: 1.0\",\"Accident Number: ANC16LA011Fatalities: 1.0\",\"Accident Number: ANC16FA017Fatalities: 3.0\",\"Accident Number: ANC16FA019Fatalities: 4.0\",\"Accident Number: ANC16FA023Fatalities: 1.0\",\"Accident Number: ANC16FA057Fatalities: 1.0\",\"Accident Number: ANC16FA061Fatalities: 5.0\",\"Accident Number: ANC16FA065Fatalities: 1.0\",\"Accident Number: ANC17MA001Fatalities: 3.0\",\"Accident Number: ANC17FA003Fatalities: 1.0\",\"Accident Number: ANC17FA004Fatalities: 1.0\",\"Accident Number: ANC17FA009Fatalities: 1.0\",\"Accident Number: ANC17FA010Fatalities: 4.0\",\"Accident Number: ANC17FA012Fatalities: 2.0\",\"Accident Number: ANC17FA018Fatalities: 1.0\",\"Accident Number: ANC17FA021Fatalities: 1.0\",\"Accident Number: WPR17FA108Fatalities: 2.0\",\"Accident Number: ANC17FA026Fatalities: 2.0\",\"Accident Number: ANC17FA035Fatalities: 1.0\",\"Accident Number: ANC17FA039Fatalities: 1.0\",\"Accident Number: ANC17FA049Fatalities: 1.0\",\"Accident Number: ANC18FA003Fatalities: 1.0\",\"Accident Number: ANC18FA036Fatalities: 1.0\",\"Accident Number: ANC18FA044Fatalities: 2.0\",\"Accident Number: ANC18FA045Fatalities: 1.0\",\"Accident Number: ANC18FA050Fatalities: 2.0\",\"Accident Number: ANC18FA055Fatalities: 1.0\",\"Accident Number: ANC18FA063Fatalities: 5.0\",\"Accident Number: ANC18FA071Fatalities: 2.0\",\"Accident Number: CEN18FA386Fatalities: 1.0\",\"Accident Number: CEN18FA391Fatalities: 3.0\",\"Accident Number: ANC19FA012Fatalities: 3.0\",\"Accident Number: ANC19FA038Fatalities: 1.0\",\"Accident Number: CEN19MA141Fatalities: 6.0\",\"Accident Number: ANC19FA019Fatalities: 2.0\",\"Accident Number: WPR19FA152Fatalities: 1.0\",\"Accident Number: ANC19FA021Fatalities: 1.0\",\"Accident Number: ANC19FA026Fatalities: 3.0\",\"Accident Number: ANC19FA029Fatalities: 3.0\",\"Accident Number: ANC19FA033Fatalities: 1.0\",\"Accident Number: ANC19FA035Fatalities: 1.0\",\"Accident Number: ANC19FA042Fatalities: 4.0\",\"Accident Number: DCA20MA002Fatalities: 1.0\",\"Accident Number: ANC20FA007Fatalities: 3.0\",\"Accident Number: ANC20FA017Fatalities: 5.0\",\"Accident Number: ANC20LA046Fatalities: 1.0\",\"Accident Number: ANC20LA074Fatalities: 7.0\",\"Accident Number: ANC20LA085Fatalities: 2.0\",\"Accident Number: ANC21FA015Fatalities: 2.0\",\"Accident Number: ANC21LA020Fatalities: 1.0\",\"Accident Number: WPR21FA143Fatalities: 5.0\",\"Accident Number: ANC21FA065Fatalities: 2.0\",\"Accident Number: ANC21FA069Fatalities: 6.0\",\"Accident Number: ANC22LA004Fatalities: 1.0\",\"Accident Number: ANC22FA005Fatalities: 1.0\"],\"type\":\"scattergeo\"}],                        {\"template\":{\"data\":{\"histogram2dcontour\":[{\"type\":\"histogram2dcontour\",\"colorbar\":{\"outlinewidth\":0,\"ticks\":\"\"},\"colorscale\":[[0.0,\"#0d0887\"],[0.1111111111111111,\"#46039f\"],[0.2222222222222222,\"#7201a8\"],[0.3333333333333333,\"#9c179e\"],[0.4444444444444444,\"#bd3786\"],[0.5555555555555556,\"#d8576b\"],[0.6666666666666666,\"#ed7953\"],[0.7777777777777778,\"#fb9f3a\"],[0.8888888888888888,\"#fdca26\"],[1.0,\"#f0f921\"]]}],\"choropleth\":[{\"type\":\"choropleth\",\"colorbar\":{\"outlinewidth\":0,\"ticks\":\"\"}}],\"histogram2d\":[{\"type\":\"histogram2d\",\"colorbar\":{\"outlinewidth\":0,\"ticks\":\"\"},\"colorscale\":[[0.0,\"#0d0887\"],[0.1111111111111111,\"#46039f\"],[0.2222222222222222,\"#7201a8\"],[0.3333333333333333,\"#9c179e\"],[0.4444444444444444,\"#bd3786\"],[0.5555555555555556,\"#d8576b\"],[0.6666666666666666,\"#ed7953\"],[0.7777777777777778,\"#fb9f3a\"],[0.8888888888888888,\"#fdca26\"],[1.0,\"#f0f921\"]]}],\"heatmap\":[{\"type\":\"heatmap\",\"colorbar\":{\"outlinewidth\":0,\"ticks\":\"\"},\"colorscale\":[[0.0,\"#0d0887\"],[0.1111111111111111,\"#46039f\"],[0.2222222222222222,\"#7201a8\"],[0.3333333333333333,\"#9c179e\"],[0.4444444444444444,\"#bd3786\"],[0.5555555555555556,\"#d8576b\"],[0.6666666666666666,\"#ed7953\"],[0.7777777777777778,\"#fb9f3a\"],[0.8888888888888888,\"#fdca26\"],[1.0,\"#f0f921\"]]}],\"heatmapgl\":[{\"type\":\"heatmapgl\",\"colorbar\":{\"outlinewidth\":0,\"ticks\":\"\"},\"colorscale\":[[0.0,\"#0d0887\"],[0.1111111111111111,\"#46039f\"],[0.2222222222222222,\"#7201a8\"],[0.3333333333333333,\"#9c179e\"],[0.4444444444444444,\"#bd3786\"],[0.5555555555555556,\"#d8576b\"],[0.6666666666666666,\"#ed7953\"],[0.7777777777777778,\"#fb9f3a\"],[0.8888888888888888,\"#fdca26\"],[1.0,\"#f0f921\"]]}],\"contourcarpet\":[{\"type\":\"contourcarpet\",\"colorbar\":{\"outlinewidth\":0,\"ticks\":\"\"}}],\"contour\":[{\"type\":\"contour\",\"colorbar\":{\"outlinewidth\":0,\"ticks\":\"\"},\"colorscale\":[[0.0,\"#0d0887\"],[0.1111111111111111,\"#46039f\"],[0.2222222222222222,\"#7201a8\"],[0.3333333333333333,\"#9c179e\"],[0.4444444444444444,\"#bd3786\"],[0.5555555555555556,\"#d8576b\"],[0.6666666666666666,\"#ed7953\"],[0.7777777777777778,\"#fb9f3a\"],[0.8888888888888888,\"#fdca26\"],[1.0,\"#f0f921\"]]}],\"surface\":[{\"type\":\"surface\",\"colorbar\":{\"outlinewidth\":0,\"ticks\":\"\"},\"colorscale\":[[0.0,\"#0d0887\"],[0.1111111111111111,\"#46039f\"],[0.2222222222222222,\"#7201a8\"],[0.3333333333333333,\"#9c179e\"],[0.4444444444444444,\"#bd3786\"],[0.5555555555555556,\"#d8576b\"],[0.6666666666666666,\"#ed7953\"],[0.7777777777777778,\"#fb9f3a\"],[0.8888888888888888,\"#fdca26\"],[1.0,\"#f0f921\"]]}],\"mesh3d\":[{\"type\":\"mesh3d\",\"colorbar\":{\"outlinewidth\":0,\"ticks\":\"\"}}],\"scatter\":[{\"fillpattern\":{\"fillmode\":\"overlay\",\"size\":10,\"solidity\":0.2},\"type\":\"scatter\"}],\"parcoords\":[{\"type\":\"parcoords\",\"line\":{\"colorbar\":{\"outlinewidth\":0,\"ticks\":\"\"}}}],\"scatterpolargl\":[{\"type\":\"scatterpolargl\",\"marker\":{\"colorbar\":{\"outlinewidth\":0,\"ticks\":\"\"}}}],\"bar\":[{\"error_x\":{\"color\":\"#2a3f5f\"},\"error_y\":{\"color\":\"#2a3f5f\"},\"marker\":{\"line\":{\"color\":\"#E5ECF6\",\"width\":0.5},\"pattern\":{\"fillmode\":\"overlay\",\"size\":10,\"solidity\":0.2}},\"type\":\"bar\"}],\"scattergeo\":[{\"type\":\"scattergeo\",\"marker\":{\"colorbar\":{\"outlinewidth\":0,\"ticks\":\"\"}}}],\"scatterpolar\":[{\"type\":\"scatterpolar\",\"marker\":{\"colorbar\":{\"outlinewidth\":0,\"ticks\":\"\"}}}],\"histogram\":[{\"marker\":{\"pattern\":{\"fillmode\":\"overlay\",\"size\":10,\"solidity\":0.2}},\"type\":\"histogram\"}],\"scattergl\":[{\"type\":\"scattergl\",\"marker\":{\"colorbar\":{\"outlinewidth\":0,\"ticks\":\"\"}}}],\"scatter3d\":[{\"type\":\"scatter3d\",\"line\":{\"colorbar\":{\"outlinewidth\":0,\"ticks\":\"\"}},\"marker\":{\"colorbar\":{\"outlinewidth\":0,\"ticks\":\"\"}}}],\"scattermapbox\":[{\"type\":\"scattermapbox\",\"marker\":{\"colorbar\":{\"outlinewidth\":0,\"ticks\":\"\"}}}],\"scatterternary\":[{\"type\":\"scatterternary\",\"marker\":{\"colorbar\":{\"outlinewidth\":0,\"ticks\":\"\"}}}],\"scattercarpet\":[{\"type\":\"scattercarpet\",\"marker\":{\"colorbar\":{\"outlinewidth\":0,\"ticks\":\"\"}}}],\"carpet\":[{\"aaxis\":{\"endlinecolor\":\"#2a3f5f\",\"gridcolor\":\"white\",\"linecolor\":\"white\",\"minorgridcolor\":\"white\",\"startlinecolor\":\"#2a3f5f\"},\"baxis\":{\"endlinecolor\":\"#2a3f5f\",\"gridcolor\":\"white\",\"linecolor\":\"white\",\"minorgridcolor\":\"white\",\"startlinecolor\":\"#2a3f5f\"},\"type\":\"carpet\"}],\"table\":[{\"cells\":{\"fill\":{\"color\":\"#EBF0F8\"},\"line\":{\"color\":\"white\"}},\"header\":{\"fill\":{\"color\":\"#C8D4E3\"},\"line\":{\"color\":\"white\"}},\"type\":\"table\"}],\"barpolar\":[{\"marker\":{\"line\":{\"color\":\"#E5ECF6\",\"width\":0.5},\"pattern\":{\"fillmode\":\"overlay\",\"size\":10,\"solidity\":0.2}},\"type\":\"barpolar\"}],\"pie\":[{\"automargin\":true,\"type\":\"pie\"}]},\"layout\":{\"autotypenumbers\":\"strict\",\"colorway\":[\"#636efa\",\"#EF553B\",\"#00cc96\",\"#ab63fa\",\"#FFA15A\",\"#19d3f3\",\"#FF6692\",\"#B6E880\",\"#FF97FF\",\"#FECB52\"],\"font\":{\"color\":\"#2a3f5f\"},\"hovermode\":\"closest\",\"hoverlabel\":{\"align\":\"left\"},\"paper_bgcolor\":\"white\",\"plot_bgcolor\":\"#E5ECF6\",\"polar\":{\"bgcolor\":\"#E5ECF6\",\"angularaxis\":{\"gridcolor\":\"white\",\"linecolor\":\"white\",\"ticks\":\"\"},\"radialaxis\":{\"gridcolor\":\"white\",\"linecolor\":\"white\",\"ticks\":\"\"}},\"ternary\":{\"bgcolor\":\"#E5ECF6\",\"aaxis\":{\"gridcolor\":\"white\",\"linecolor\":\"white\",\"ticks\":\"\"},\"baxis\":{\"gridcolor\":\"white\",\"linecolor\":\"white\",\"ticks\":\"\"},\"caxis\":{\"gridcolor\":\"white\",\"linecolor\":\"white\",\"ticks\":\"\"}},\"coloraxis\":{\"colorbar\":{\"outlinewidth\":0,\"ticks\":\"\"}},\"colorscale\":{\"sequential\":[[0.0,\"#0d0887\"],[0.1111111111111111,\"#46039f\"],[0.2222222222222222,\"#7201a8\"],[0.3333333333333333,\"#9c179e\"],[0.4444444444444444,\"#bd3786\"],[0.5555555555555556,\"#d8576b\"],[0.6666666666666666,\"#ed7953\"],[0.7777777777777778,\"#fb9f3a\"],[0.8888888888888888,\"#fdca26\"],[1.0,\"#f0f921\"]],\"sequentialminus\":[[0.0,\"#0d0887\"],[0.1111111111111111,\"#46039f\"],[0.2222222222222222,\"#7201a8\"],[0.3333333333333333,\"#9c179e\"],[0.4444444444444444,\"#bd3786\"],[0.5555555555555556,\"#d8576b\"],[0.6666666666666666,\"#ed7953\"],[0.7777777777777778,\"#fb9f3a\"],[0.8888888888888888,\"#fdca26\"],[1.0,\"#f0f921\"]],\"diverging\":[[0,\"#8e0152\"],[0.1,\"#c51b7d\"],[0.2,\"#de77ae\"],[0.3,\"#f1b6da\"],[0.4,\"#fde0ef\"],[0.5,\"#f7f7f7\"],[0.6,\"#e6f5d0\"],[0.7,\"#b8e186\"],[0.8,\"#7fbc41\"],[0.9,\"#4d9221\"],[1,\"#276419\"]]},\"xaxis\":{\"gridcolor\":\"white\",\"linecolor\":\"white\",\"ticks\":\"\",\"title\":{\"standoff\":15},\"zerolinecolor\":\"white\",\"automargin\":true,\"zerolinewidth\":2},\"yaxis\":{\"gridcolor\":\"white\",\"linecolor\":\"white\",\"ticks\":\"\",\"title\":{\"standoff\":15},\"zerolinecolor\":\"white\",\"automargin\":true,\"zerolinewidth\":2},\"scene\":{\"xaxis\":{\"backgroundcolor\":\"#E5ECF6\",\"gridcolor\":\"white\",\"linecolor\":\"white\",\"showbackground\":true,\"ticks\":\"\",\"zerolinecolor\":\"white\",\"gridwidth\":2},\"yaxis\":{\"backgroundcolor\":\"#E5ECF6\",\"gridcolor\":\"white\",\"linecolor\":\"white\",\"showbackground\":true,\"ticks\":\"\",\"zerolinecolor\":\"white\",\"gridwidth\":2},\"zaxis\":{\"backgroundcolor\":\"#E5ECF6\",\"gridcolor\":\"white\",\"linecolor\":\"white\",\"showbackground\":true,\"ticks\":\"\",\"zerolinecolor\":\"white\",\"gridwidth\":2}},\"shapedefaults\":{\"line\":{\"color\":\"#2a3f5f\"}},\"annotationdefaults\":{\"arrowcolor\":\"#2a3f5f\",\"arrowhead\":0,\"arrowwidth\":1},\"geo\":{\"bgcolor\":\"white\",\"landcolor\":\"#E5ECF6\",\"subunitcolor\":\"white\",\"showland\":true,\"showlakes\":true,\"lakecolor\":\"white\"},\"title\":{\"x\":0.05},\"mapbox\":{\"style\":\"light\"}}},\"geo\":{\"resolution\":50,\"fitbounds\":\"locations\",\"showland\":true,\"landcolor\":\"darkkhaki\",\"showocean\":true,\"oceancolor\":\"lightseagreen\",\"showlakes\":true,\"lakecolor\":\"darkblue\",\"showrivers\":true,\"rivercolor\":\"mediumblue\",\"scope\":\"usa\"},\"title\":{\"text\":\"Fatal Injuries in Alaska\"}},                        {\"responsive\": true}                    ).then(function(){\n",
              "                            \n",
              "var gd = document.getElementById('43ea318f-9e6b-4fd1-8a43-24c193db7407');\n",
              "var x = new MutationObserver(function (mutations, observer) {{\n",
              "        var display = window.getComputedStyle(gd).display;\n",
              "        if (!display || display === 'none') {{\n",
              "            console.log([gd, 'removed!']);\n",
              "            Plotly.purge(gd);\n",
              "            observer.disconnect();\n",
              "        }}\n",
              "}});\n",
              "\n",
              "// Listen for the removal of the full notebook cells\n",
              "var notebookContainer = gd.closest('#notebook-container');\n",
              "if (notebookContainer) {{\n",
              "    x.observe(notebookContainer, {childList: true});\n",
              "}}\n",
              "\n",
              "// Listen for the clearing of the current output cell\n",
              "var outputEl = gd.closest('.output');\n",
              "if (outputEl) {{\n",
              "    x.observe(outputEl, {childList: true});\n",
              "}}\n",
              "\n",
              "                        })                };                            </script>        </div>\n",
              "</body>\n",
              "</html>"
            ]
          },
          "metadata": {}
        }
      ],
      "source": [
        "akAviation.loc[:, 'text'] = 'Accident Number: ' + akAviation['Accident.Number'].astype(str) + 'Fatalities: ' + akAviation['Total.Fatal.Injuries'].astype(str)\n",
        "\n",
        "limits = [(0, 100)]\n",
        "accidentState = []\n",
        "\n",
        "fig = go.Figure()\n",
        "\n",
        "for i in range(len(limits)):\n",
        "    lim = limits[i]\n",
        "    # Use .loc to avoid SettingWithCopyWarning\n",
        "    Injuries_Count = akAviation.loc[((akAviation['Total.Fatal.Injuries'] > lim[0]) & (akAviation['Total.Fatal.Injuries'] < lim[1])), :]\n",
        "    fig.add_trace(go.Scattergeo(\n",
        "        lon = Injuries_Count['Longitude'],\n",
        "        lat = Injuries_Count['Latitude'],\n",
        "        opacity = 1,\n",
        "        text = Injuries_Count['text'],\n",
        "        marker = dict(\n",
        "            size = Injuries_Count['Total.Fatal.Injuries'],\n",
        "            line_color='darkred',\n",
        "            line_width= 2,\n",
        "            sizemode = 'area'\n",
        "        ),\n",
        "        name = '{0} - {1}'.format(lim[0],lim[1])))\n",
        "    accidentState.append(Injuries_Count)\n",
        "\n",
        "fig.update_geos(\n",
        "    resolution=50,\n",
        "    fitbounds=\"locations\",\n",
        "    showland=True, landcolor=\"darkkhaki\",\n",
        "    showocean=True, oceancolor=\"lightseagreen\",\n",
        "    showlakes=True, lakecolor=\"darkblue\",\n",
        "    showrivers=True, rivercolor=\"mediumblue\")\n",
        "fig.update_layout(\n",
        "        title_text = 'Fatal Injuries in Alaska',\n",
        "        geo = dict(\n",
        "            scope = 'usa',\n",
        "        )\n",
        "\n",
        "\n",
        "    )\n",
        "fig.show()"
      ]
    },
    {
      "cell_type": "code",
      "source": [
        "import plotly.graph_objs as go\n",
        "\n",
        "# Assuming akAviation is your DataFrame\n",
        "akAviation['text'] = 'Accident Number: ' + akAviation['Accident.Number'].astype(str) + ' Fatalities: ' + akAviation['Total.Fatal.Injuries'].astype(str)\n",
        "\n",
        "limits = [(0, 100)]\n",
        "accidentState = []\n",
        "\n",
        "fig = go.Figure()\n",
        "\n",
        "for lim in limits:\n",
        "    # Use .loc to avoid SettingWithCopyWarning\n",
        "    Injuries_Count = akAviation.loc[((akAviation['Total.Fatal.Injuries'] > lim[0]) & (akAviation['Total.Fatal.Injuries'] < lim[1])), :]\n",
        "    fig.add_trace(go.Scattergeo(\n",
        "        lon = Injuries_Count['Longitude'],\n",
        "        lat = Injuries_Count['Latitude'],\n",
        "        opacity = 1,\n",
        "        text = Injuries_Count['text'],\n",
        "        marker = dict(\n",
        "            size = Injuries_Count['Total.Fatal.Injuries'],\n",
        "            line_color='darkred',\n",
        "            line_width=2,\n",
        "            sizemode='area'\n",
        "        ),\n",
        "        name = '{0} - {1}'.format(lim[0], lim[1])\n",
        "    ))\n",
        "    accidentState.append(Injuries_Count)\n",
        "\n",
        "fig.update_geos(\n",
        "    resolution=50,\n",
        "    fitbounds=\"locations\",\n",
        "    showland=True, landcolor=\"darkkhaki\",\n",
        "    showocean=True, oceancolor=\"lightseagreen\",\n",
        "    showlakes=True, lakecolor=\"darkblue\",\n",
        "    showrivers=True, rivercolor=\"mediumblue\"\n",
        ")\n",
        "fig.update_layout(\n",
        "    title_text='Fatal Injuries in Alaska',\n",
        "    geo=dict(\n",
        "        scope='usa',\n",
        "    )\n",
        ")\n",
        "\n",
        "fig.show()\n"
      ],
      "metadata": {
        "id": "lul-6tRD48uP",
        "outputId": "826a2c08-eabe-4bfb-b81d-c6a718c5ce66",
        "colab": {
          "base_uri": "https://localhost:8080/",
          "height": 705
        }
      },
      "execution_count": 61,
      "outputs": [
        {
          "output_type": "stream",
          "name": "stderr",
          "text": [
            "<ipython-input-61-e903da736bf8>:4: SettingWithCopyWarning:\n",
            "\n",
            "\n",
            "A value is trying to be set on a copy of a slice from a DataFrame.\n",
            "Try using .loc[row_indexer,col_indexer] = value instead\n",
            "\n",
            "See the caveats in the documentation: https://pandas.pydata.org/pandas-docs/stable/user_guide/indexing.html#returning-a-view-versus-a-copy\n",
            "\n"
          ]
        },
        {
          "output_type": "display_data",
          "data": {
            "text/html": [
              "<html>\n",
              "<head><meta charset=\"utf-8\" /></head>\n",
              "<body>\n",
              "    <div>            <script src=\"https://cdnjs.cloudflare.com/ajax/libs/mathjax/2.7.5/MathJax.js?config=TeX-AMS-MML_SVG\"></script><script type=\"text/javascript\">if (window.MathJax && window.MathJax.Hub && window.MathJax.Hub.Config) {window.MathJax.Hub.Config({SVG: {font: \"STIX-Web\"}});}</script>                <script type=\"text/javascript\">window.PlotlyConfig = {MathJaxConfig: 'local'};</script>\n",
              "        <script charset=\"utf-8\" src=\"https://cdn.plot.ly/plotly-2.24.1.min.js\"></script>                <div id=\"e159f7e3-07e3-4e4d-bdc7-c28ebe367053\" class=\"plotly-graph-div\" style=\"height:525px; width:100%;\"></div>            <script type=\"text/javascript\">                                    window.PLOTLYENV=window.PLOTLYENV || {};                                    if (document.getElementById(\"e159f7e3-07e3-4e4d-bdc7-c28ebe367053\")) {                    Plotly.newPlot(                        \"e159f7e3-07e3-4e4d-bdc7-c28ebe367053\",                        [{\"lat\":[null,null,null,null,null,null,null,null,null,null,null,null,null,null,null,null,null,null,null,null,null,null,null,null,null,null,null,null,null,null,null,null,null,null,null,null,null,null,null,null,null,null,null,null,null,null,null,null,null,null,null,null,null,null,null,null,null,null,null,null,null,null,null,null,null,null,null,null,null,null,null,null,null,null,null,null,null,null,null,null,null,null,null,null,null,null,null,null,null,null,null,null,null,null,null,null,null,null,null,null,null,null,null,null,null,null,null,null,null,null,null,null,null,null,null,null,null,null,null,null,null,null,null,null,null,null,null,null,null,null,null,null,null,null,null,null,null,null,null,null,null,null,null,null,null,null,null,null,null,null,null,null,null,null,null,null,null,null,null,null,null,null,null,null,null,null,null,null,null,null,null,null,null,null,null,null,null,null,null,null,null,null,null,null,null,null,null,null,null,null,null,null,null,null,null,null,null,null,null,null,null,null,null,null,null,null,null,null,null,null,null,null,null,null,null,null,\"70.333333\",null,null,null,null,null,null,null,null,null,null,null,null,null,null,null,null,null,null,null,null,null,null,null,null,null,null,null,null,null,null,null,null,null,null,null,null,null,null,null,null,null,null,null,null,null,null,null,null,null,null,null,null,null,null,null,null,null,null,null,null,null,null,null,null,null,null,null,null,null,null,null,null,null,null,null,null,null,null,null,null,null,null,null,null,null,null,null,null,null,null,null,null,null,null,null,null,null,null,null,null,null,null,null,null,null,null,null,null,null,null,null,null,null,null,null,null,null,null,null,null,null,null,null,null,null,null,null,null,null,null,null,null,null,null,null,null,null,null,null,null,null,null,null,null,null,null,null,null,null,null,null,null,null,null,null,null,null,null,null,null,null,null,null,null,null,null,null,null,null,null,null,null,null,null,null,null,\"60.8\",null,null,null,\"70.205556\",\"61.040277\",null,\"60.363056\",\"58.358333\",\"53.96\",\"60\",\"66.060833\",\"59.189722\",\"59.066667\",\"61.385277\",\"66.833333\",null,\"61.168611\",\"59.273889\",\"61.267223\",\"58.939166\",\"58.358333\",\"61.865556\",\"65.501944\",\"61.594722\",\"63.293611\",\"60.126667\",\"61.95\",\"57.646111\",\"55.425\",\"59.433333\",\"56.8\",\"57.619445\",\"62.878889\",\"59.585555\",\"59.765278\",\"57.097777\",\"59.353611\",\"58.431111\",\"59.466945\",\"70.9825\",null,\"61.817223\",\"69.466667\",\"55.261667\",\"57.761667\",\"62.987222\",\"61.934166\",\"60.773889\",\"60.116667\",\"61.646111\",\"63.172223\",\"59.9125\",\"57.047222\",\"61.226389\",\"60.282223\",\"64.813889\",\"58.943055\",\"60.007222\",\"64.318889\",\"63.5\",\"64.634444\",\"60.155278\",\"55.358333\",\"61.5\",\"61.5\",\"60.621945\",\"64.753333\",\"61.03\",\"70.309722\",\"62.580556\",\"58.601667\",\"60.557778\",\"57.176389\",\"60.681945\",\"61.636666\",\"61.521667\",\"55.551389\",\"57.051111\",\"68.76\",\"55.7\",\"62.858333\",\"60.635833\",\"58.968056\",\"60.809722\",\"057452N\",\"061147N\",\"615018N\",\"059285N\",\"613512N\",\"605242N\",\"005895N\",\"573922N\",\"622417N\",\"611249N\",\"061240N\",\"643818N\",\"625741N\",\"613541N\",\"633710N\",\"551958N\",\"612616N\",\"615442N\",\"611256N\",\"532723N\",\"055242N\",\"634334N\",\"591926N\",\"632946N\",\"565739N\",\"603017N\",\"612453N\",\"612536N\",\"064151N\",\"058160N\",\"621054N\",\"006367N\",\"060222N\",\"603620N\",\"057417N\",\"594037N\",\"613426N\",\"615627N\",\"593824N\",\"652714N\",\"581533N\",\"642632N\",\"593134N\",\"595820N\",\"602822N\",\"061501N\",\"621428N\",\"059194N\",\"621917N\",\"056475N\",\"631526N\",\"602831N\",\"611257N\",\"614728N\",\"621733N\",\"062324N\",\"612734N\",\"593012N\",\"644746N\",\"006233N\",\"603129N\",\"061254N\",\"611252N\",\"611926N\",\"604226N\",\"601957N\",\"062559N\",\"552723N\",\"058207N\",\"621938N\",\"612545N\",\"601820N\",\"594640N\",\"613519N\",\"061139N\",\"571640N\",\"612319N\",\"059271N\",\"612514N\",\"614753N\",\"061731N\",\"059956N\",\"612856N\",\"061541N\",\"643231N\",\"601750N\",\"605640N\",\"642653N\",\"056825N\",\"059538N\",\"643851N\",\"613623N\",\"602217N\",\"611140N\",\"613824N\",\"604550N\",\"571018N\",\"611615N\",\"635131N\",\"614356N\",\"624725N\",\"063541N\",\"062422N\",\"583543N\",\"565942N\",\"062637N\",\"552532N\",\"055754N\",\"605438N\",\"613433N\",\"595630N\",\"603221N\",\"055184N\",\"059289N\",\"061213N\",\"535354N\",\"603015N\",\"060216N\",\"070447N\",\"602944N\",\"644842N\",\"061355N\",\"585221N\",\"061276N\",\"611154N\",\"552857N\",\"061438N\",\"574820N\"],\"lon\":[null,null,null,null,null,null,null,null,null,null,null,null,null,null,null,null,null,null,null,null,null,null,null,null,null,null,null,null,null,null,null,null,null,null,null,null,null,null,null,null,null,null,null,null,null,null,null,null,null,null,null,null,null,null,null,null,null,null,null,null,null,null,null,null,null,null,null,null,null,null,null,null,null,null,null,null,null,null,null,null,null,null,null,null,null,null,null,null,null,null,null,null,null,null,null,null,null,null,null,null,null,null,null,null,null,null,null,null,null,null,null,null,null,null,null,null,null,null,null,null,null,null,null,null,null,null,null,null,null,null,null,null,null,null,null,null,null,null,null,null,null,null,null,null,null,null,null,null,null,null,null,null,null,null,null,null,null,null,null,null,null,null,null,null,null,null,null,null,null,null,null,null,null,null,null,null,null,null,null,null,null,null,null,null,null,null,null,null,null,null,null,null,null,null,null,null,null,null,null,null,null,null,null,null,null,null,null,null,null,null,null,null,null,null,null,null,\"-150.933333\",null,null,null,null,null,null,null,null,null,null,null,null,null,null,null,null,null,null,null,null,null,null,null,null,null,null,null,null,null,null,null,null,null,null,null,null,null,null,null,null,null,null,null,null,null,null,null,null,null,null,null,null,null,null,null,null,null,null,null,null,null,null,null,null,null,null,null,null,null,null,null,null,null,null,null,null,null,null,null,null,null,null,null,null,null,null,null,null,null,null,null,null,null,null,null,null,null,null,null,null,null,null,null,null,null,null,null,null,null,null,null,null,null,null,null,null,null,null,null,null,null,null,null,null,null,null,null,null,null,null,null,null,null,null,null,null,null,null,null,null,null,null,null,null,null,null,null,null,null,null,null,null,null,null,null,null,null,null,null,null,null,null,null,null,null,null,null,null,null,null,null,null,null,null,null,null,\"-148.25\",null,null,null,\"-151.019167\",\"-157.173056\",null,\"-152.616945\",\"-134.582778\",\"-166.621389\",\"-156.715556\",\"-151.333333\",\"-138.443055\",\"-135.783333\",\"-151.389166\",\"-162.55\",null,\"-150.087777\",\"-135.3675\",\"-164.263611\",\"-159.253056\",\"-134.582778\",\"-154.268334\",\"-145.386111\",\"-149.088889\",\"-150.254167\",\"-154.111667\",\"-151.166667\",\"-153.307222\",\"-130.808333\",\"-158.85\",\"-132.933333\",\"-165.5025\",\"-151.066667\",\"-135.166945\",\"-152.050833\",\"-135.368889\",\"-151.930834\",\"-135.7125\",\"-135.311389\",\"-158.083333\",null,\"-147.634444\",\"-149.783333\",\"-162.726667\",\"-152.303056\",\"-149.892222\",\"-150.075556\",\"-151.902222\",\"-149.420278\",\"-149.2925\",\"-156.812222\",\"-157.0125\",\"-135.361667\",\"-149.988611\",\"-154.208333\",\"-147.918611\",\"-152.021667\",\"-148.767778\",\"-147.818334\",\"-149\",\"-148.617223\",\"-149.215556\",\"-131.695833\",\"-149.5525\",\"-149.5525\",\"-149.752222\",\"-150.195\",\"-150.618611\",\"-152.056111\",\"-152.583333\",\"-153.75\",\"-145.837777\",\"-158.416667\",\"-151.725834\",\"-149.308889\",\"-149.540277\",\"-130.685555\",\"-135.340555\",\"-145.334722\",\"-131.633333\",\"-152.626667\",\"-148.335\",\"-155.468334\",\"-148.555278\",\"0152287W\",\"1512355W\",\"1472237W\",\"0161475W\",\"0149145W\",\"0152454W\",\"1343019W\",\"1351950W\",\"1484740W\",\"1495040W\",\"1493050W\",\"0162140W\",\"1415545W\",\"1492813W\",\"0149544W\",\"1603228W\",\"0149269W\",\"0015050W\",\"0149522W\",\"1675220W\",\"1314411W\",\"1485423W\",\"1582215W\",\"1545455W\",\"1583445W\",\"0150337W\",\"1493024W\",\"1514651W\",\"1453513W\",\"0134320W\",\"1503024W\",\"1565925W\",\"0143359W\",\"1643555W\",\"1523033W\",\"0155612W\",\"1591725W\",\"1573713W\",\"0151304W\",\"1473322W\",\"0135711W\",\"0144535W\",\"1512030W\",\"0158211W\",\"0151120W\",\"1503338W\",\"0153916W\",\"0158214W\",\"0149562W\",\"0132345W\",\"0149152W\",\"0151237W\",\"1495122W\",\"0149050W\",\"1522112W\",\"1473635W\",\"0150525W\",\"1393937W\",\"1475251W\",\"0163169W\",\"0161514W\",\"0149303W\",\"0149511W\",\"1492924W\",\"0148613W\",\"0161316W\",\"1453148W\",\"0131846W\",\"0013541W\",\"0150168W\",\"1493337W\",\"1512245W\",\"0154554W\",\"1494852W\",\"0149549W\",\"1341434W\",\"1493342W\",\"1351220W\",\"1492942W\",\"1612956W\",\"1494456W\",\"1603912W\",\"1484626W\",\"1532649W\",\"1474528W\",\"0015472W\",\"1593715W\",\"0165529W\",\"1584818W\",\"1352236W\",\"1455243W\",\"1503024W\",\"1541432W\",\"0152139W\",\"1612644W\",\"1484257W\",\"1351636W\",\"0150338W\",\"1462935W\",\"0150253W\",\"1511331W\",\"0147440W\",\"0153115W\",\"1373540W\",\"0134282W\",\"0152104W\",\"1313018W\",\"1313414W\",\"1474615W\",\"1493154W\",\"1483952W\",\"1493240W\",\"0131397W\",\"1512921W\",\"0149243W\",\"1663239W\",\"0015095W\",\"0163123W\",\"1534416W\",\"0015111W\",\"1475528W\",\"0144245W\",\"0152815W\",\"1482156W\",\"0149750W\",\"1311331W\",\"0150315W\",\"1522156W\"],\"marker\":{\"line\":{\"color\":\"darkred\",\"width\":2},\"size\":[3.0,2.0,3.0,2.0,1.0,1.0,4.0,1.0,2.0,1.0,1.0,1.0,2.0,4.0,1.0,1.0,1.0,3.0,1.0,2.0,3.0,4.0,4.0,1.0,2.0,2.0,8.0,1.0,3.0,3.0,1.0,2.0,2.0,1.0,1.0,1.0,1.0,1.0,1.0,2.0,2.0,3.0,3.0,3.0,1.0,2.0,1.0,4.0,1.0,2.0,2.0,1.0,2.0,2.0,2.0,3.0,2.0,2.0,1.0,4.0,5.0,2.0,2.0,4.0,2.0,1.0,1.0,1.0,1.0,2.0,1.0,1.0,1.0,1.0,1.0,1.0,9.0,1.0,1.0,1.0,1.0,3.0,2.0,1.0,1.0,1.0,3.0,1.0,2.0,4.0,2.0,2.0,4.0,3.0,1.0,6.0,6.0,1.0,3.0,4.0,2.0,4.0,2.0,1.0,1.0,3.0,1.0,2.0,1.0,1.0,3.0,1.0,1.0,1.0,1.0,2.0,2.0,2.0,3.0,2.0,1.0,2.0,1.0,1.0,1.0,1.0,2.0,1.0,2.0,1.0,1.0,2.0,1.0,1.0,1.0,2.0,2.0,1.0,1.0,1.0,1.0,2.0,3.0,5.0,3.0,18.0,3.0,1.0,6.0,2.0,1.0,1.0,2.0,1.0,1.0,1.0,3.0,1.0,4.0,4.0,3.0,1.0,1.0,1.0,4.0,2.0,1.0,1.0,3.0,2.0,2.0,1.0,4.0,1.0,2.0,1.0,2.0,1.0,2.0,2.0,1.0,1.0,3.0,1.0,4.0,2.0,1.0,1.0,4.0,2.0,1.0,1.0,1.0,6.0,1.0,1.0,1.0,1.0,2.0,1.0,2.0,5.0,2.0,1.0,3.0,1.0,2.0,2.0,2.0,2.0,5.0,3.0,2.0,2.0,2.0,1.0,3.0,1.0,1.0,2.0,4.0,1.0,1.0,1.0,1.0,2.0,1.0,1.0,1.0,2.0,6.0,3.0,4.0,3.0,2.0,1.0,1.0,1.0,1.0,6.0,2.0,5.0,1.0,1.0,1.0,6.0,1.0,2.0,4.0,2.0,3.0,1.0,4.0,2.0,3.0,2.0,1.0,2.0,1.0,2.0,2.0,2.0,1.0,1.0,4.0,4.0,2.0,2.0,1.0,1.0,1.0,3.0,2.0,1.0,1.0,1.0,1.0,1.0,1.0,1.0,1.0,7.0,3.0,3.0,6.0,2.0,3.0,3.0,2.0,2.0,1.0,2.0,1.0,1.0,5.0,1.0,2.0,2.0,1.0,5.0,5.0,4.0,4.0,1.0,6.0,2.0,2.0,4.0,2.0,1.0,1.0,2.0,2.0,1.0,2.0,1.0,2.0,1.0,1.0,1.0,1.0,4.0,2.0,1.0,2.0,2.0,1.0,3.0,2.0,2.0,1.0,3.0,1.0,3.0,1.0,2.0,1.0,1.0,3.0,1.0,2.0,2.0,2.0,2.0,2.0,5.0,2.0,2.0,4.0,4.0,4.0,3.0,1.0,2.0,1.0,1.0,1.0,2.0,8.0,1.0,2.0,1.0,2.0,2.0,2.0,1.0,2.0,2.0,1.0,1.0,1.0,5.0,1.0,1.0,1.0,2.0,1.0,1.0,1.0,7.0,1.0,2.0,2.0,4.0,1.0,2.0,1.0,6.0,6.0,1.0,4.0,1.0,1.0,1.0,1.0,3.0,1.0,5.0,1.0,1.0,2.0,2.0,2.0,1.0,4.0,1.0,6.0,1.0,1.0,10.0,3.0,1.0,1.0,1.0,1.0,2.0,1.0,1.0,2.0,4.0,2.0,2.0,2.0,1.0,1.0,1.0,4.0,2.0,3.0,5.0,1.0,4.0,3.0,2.0,2.0,3.0,1.0,1.0,1.0,1.0,4.0,4.0,2.0,1.0,1.0,2.0,5.0,1.0,3.0,1.0,3.0,1.0,2.0,2.0,2.0,1.0,1.0,5.0,5.0,1.0,1.0,3.0,1.0,2.0,1.0,1.0,2.0,1.0,1.0,2.0,5.0,4.0,2.0,5.0,1.0,1.0,4.0,4.0,6.0,1.0,4.0,1.0,1.0,3.0,2.0,2.0,1.0,2.0,1.0,2.0,2.0,2.0,1.0,2.0,1.0,1.0,1.0,1.0,1.0,3.0,5.0,2.0,4.0,2.0,5.0,1.0,1.0,2.0,4.0,2.0,2.0,1.0,1.0,1.0,1.0,2.0,1.0,2.0,1.0,1.0,1.0,1.0,1.0,1.0,3.0,2.0,3.0,1.0,3.0,10.0,2.0,2.0,1.0,1.0,1.0,1.0,1.0,4.0,2.0,1.0,1.0,1.0,1.0,1.0,1.0,9.0,1.0,1.0,2.0,2.0,3.0,1.0,1.0,3.0,4.0,1.0,1.0,5.0,1.0,3.0,1.0,1.0,1.0,4.0,2.0,1.0,1.0,2.0,2.0,1.0,1.0,1.0,1.0,1.0,2.0,1.0,2.0,1.0,5.0,2.0,1.0,3.0,3.0,1.0,6.0,2.0,1.0,1.0,3.0,3.0,1.0,1.0,4.0,1.0,3.0,5.0,1.0,7.0,2.0,2.0,1.0,5.0,2.0,6.0,1.0,1.0],\"sizemode\":\"area\"},\"name\":\"0 - 100\",\"opacity\":1,\"text\":[\"Accident Number: ANC82FAG14 Fatalities: 3.0\",\"Accident Number: ANC82DAG16 Fatalities: 2.0\",\"Accident Number: ANC82FA036 Fatalities: 3.0\",\"Accident Number: ANC82FA035 Fatalities: 2.0\",\"Accident Number: ANC82FA037 Fatalities: 1.0\",\"Accident Number: ANC82DAG26 Fatalities: 1.0\",\"Accident Number: ANC82DAG27 Fatalities: 4.0\",\"Accident Number: ANC82DAG28 Fatalities: 1.0\",\"Accident Number: ANC82FAG30 Fatalities: 2.0\",\"Accident Number: ANC82FAG32 Fatalities: 1.0\",\"Accident Number: ANC82DA050 Fatalities: 1.0\",\"Accident Number: ANC82DAG33 Fatalities: 1.0\",\"Accident Number: ANC82FAA07 Fatalities: 2.0\",\"Accident Number: SEA82FA129 Fatalities: 4.0\",\"Accident Number: ANC82DA062 Fatalities: 1.0\",\"Accident Number: SEA82FAD01 Fatalities: 1.0\",\"Accident Number: ANC82DAG48 Fatalities: 1.0\",\"Accident Number: ANC82DAG60 Fatalities: 3.0\",\"Accident Number: ANC82FA079 Fatalities: 1.0\",\"Accident Number: ANC82DAG53 Fatalities: 2.0\",\"Accident Number: ANC82DAG59 Fatalities: 3.0\",\"Accident Number: ANC82FA091 Fatalities: 4.0\",\"Accident Number: ANC82FA094 Fatalities: 4.0\",\"Accident Number: ANC82DAA20 Fatalities: 1.0\",\"Accident Number: ANC83LAA02 Fatalities: 2.0\",\"Accident Number: SEA83FAD01 Fatalities: 2.0\",\"Accident Number: SEA83AA028 Fatalities: 8.0\",\"Accident Number: ANC83FA032 Fatalities: 1.0\",\"Accident Number: ANC83FAG03 Fatalities: 3.0\",\"Accident Number: ANC83FA042 Fatalities: 3.0\",\"Accident Number: ANC83FU002 Fatalities: 1.0\",\"Accident Number: ANC83FA064 Fatalities: 2.0\",\"Accident Number: ANC83FA068 Fatalities: 2.0\",\"Accident Number: ANC83FU003 Fatalities: 1.0\",\"Accident Number: ANC83FA071 Fatalities: 1.0\",\"Accident Number: ANC83FAA06 Fatalities: 1.0\",\"Accident Number: ANC83LA085 Fatalities: 1.0\",\"Accident Number: ANC83FA126 Fatalities: 1.0\",\"Accident Number: ANC83FA137 Fatalities: 1.0\",\"Accident Number: ANC83FA139 Fatalities: 2.0\",\"Accident Number: ANC83FA146 Fatalities: 2.0\",\"Accident Number: ANC83FA152 Fatalities: 3.0\",\"Accident Number: ANC83FA154 Fatalities: 3.0\",\"Accident Number: ANC83FA161 Fatalities: 3.0\",\"Accident Number: ANC83FA167 Fatalities: 1.0\",\"Accident Number: ANC83FA180 Fatalities: 2.0\",\"Accident Number: ANC84FA004 Fatalities: 1.0\",\"Accident Number: ANC84FA013 Fatalities: 4.0\",\"Accident Number: ANC84FA016 Fatalities: 1.0\",\"Accident Number: SEA84FA055 Fatalities: 2.0\",\"Accident Number: ANC84FA042 Fatalities: 2.0\",\"Accident Number: ANC84FA051 Fatalities: 1.0\",\"Accident Number: ANC84FA073B Fatalities: 2.0\",\"Accident Number: ANC84FA073A Fatalities: 2.0\",\"Accident Number: ANC84FA074 Fatalities: 2.0\",\"Accident Number: ANC84FA078 Fatalities: 3.0\",\"Accident Number: ANC84FA080A Fatalities: 2.0\",\"Accident Number: ANC84FA080B Fatalities: 2.0\",\"Accident Number: ANC84FA120 Fatalities: 1.0\",\"Accident Number: ANC84FA119 Fatalities: 4.0\",\"Accident Number: ANC84LAMS1 Fatalities: 5.0\",\"Accident Number: SEA84FA185 Fatalities: 2.0\",\"Accident Number: ANC84FA132 Fatalities: 2.0\",\"Accident Number: ANC84FA141 Fatalities: 4.0\",\"Accident Number: ANC84LA148 Fatalities: 2.0\",\"Accident Number: ANC84FA166 Fatalities: 1.0\",\"Accident Number: ANC84FA169 Fatalities: 1.0\",\"Accident Number: ANC84LA185 Fatalities: 1.0\",\"Accident Number: ANC84FAMS3 Fatalities: 1.0\",\"Accident Number: ANC84FAMS2 Fatalities: 2.0\",\"Accident Number: ANC85LA009 Fatalities: 1.0\",\"Accident Number: ANC85FA026 Fatalities: 1.0\",\"Accident Number: ANC85FA036 Fatalities: 1.0\",\"Accident Number: ANC85FA095 Fatalities: 1.0\",\"Accident Number: ANC85FA040 Fatalities: 1.0\",\"Accident Number: ANC85LA187 Fatalities: 1.0\",\"Accident Number: DCA85AA012 Fatalities: 9.0\",\"Accident Number: ANC85LA046 Fatalities: 1.0\",\"Accident Number: ANC85FA047 Fatalities: 1.0\",\"Accident Number: ANC85FA052 Fatalities: 1.0\",\"Accident Number: ANC85FA056 Fatalities: 1.0\",\"Accident Number: ANC85FA078 Fatalities: 3.0\",\"Accident Number: ANC85FA085 Fatalities: 2.0\",\"Accident Number: SEA85FA134 Fatalities: 1.0\",\"Accident Number: ANC85FA099 Fatalities: 1.0\",\"Accident Number: ANC85FA107 Fatalities: 1.0\",\"Accident Number: ANC85FA111 Fatalities: 3.0\",\"Accident Number: ANC85LA132 Fatalities: 1.0\",\"Accident Number: ANC85FA135 Fatalities: 2.0\",\"Accident Number: ANC85FA138 Fatalities: 4.0\",\"Accident Number: ANC85FA146 Fatalities: 2.0\",\"Accident Number: ANC85LA188 Fatalities: 2.0\",\"Accident Number: ANC85FA154 Fatalities: 4.0\",\"Accident Number: ANC85MA157 Fatalities: 3.0\",\"Accident Number: ANC85LA159 Fatalities: 1.0\",\"Accident Number: ANC85FA163B Fatalities: 6.0\",\"Accident Number: ANC85FA163A Fatalities: 6.0\",\"Accident Number: ANC85LA171 Fatalities: 1.0\",\"Accident Number: ANC85FA184 Fatalities: 3.0\",\"Accident Number: SEA86MA018 Fatalities: 4.0\",\"Accident Number: ANC86FA007 Fatalities: 2.0\",\"Accident Number: ANC86FA009 Fatalities: 4.0\",\"Accident Number: ANC86FA020 Fatalities: 2.0\",\"Accident Number: SEA86FA041 Fatalities: 1.0\",\"Accident Number: ANC86LA026 Fatalities: 1.0\",\"Accident Number: ANC86MA027 Fatalities: 3.0\",\"Accident Number: ANC86FA032 Fatalities: 1.0\",\"Accident Number: ANC86FA037 Fatalities: 2.0\",\"Accident Number: ANC86FA055 Fatalities: 1.0\",\"Accident Number: ANC86LA060 Fatalities: 1.0\",\"Accident Number: ANC86LA062 Fatalities: 3.0\",\"Accident Number: ANC86FA074 Fatalities: 1.0\",\"Accident Number: ANC86FA081 Fatalities: 1.0\",\"Accident Number: ANC86FA078 Fatalities: 1.0\",\"Accident Number: ANC86LA105 Fatalities: 1.0\",\"Accident Number: ANC86FA116 Fatalities: 2.0\",\"Accident Number: ANC86FA114 Fatalities: 2.0\",\"Accident Number: SEA86FA213 Fatalities: 2.0\",\"Accident Number: ANC86FA130 Fatalities: 3.0\",\"Accident Number: ANC86LA149 Fatalities: 2.0\",\"Accident Number: ANC86FA151 Fatalities: 1.0\",\"Accident Number: ANC86FA167 Fatalities: 2.0\",\"Accident Number: ANC87LA007 Fatalities: 1.0\",\"Accident Number: SEA87LA030 Fatalities: 1.0\",\"Accident Number: ANC87FA023 Fatalities: 1.0\",\"Accident Number: ANC87FA051 Fatalities: 1.0\",\"Accident Number: ANC87MA057 Fatalities: 2.0\",\"Accident Number: ANC87FA067 Fatalities: 1.0\",\"Accident Number: SEA87FA135 Fatalities: 2.0\",\"Accident Number: ANC87FA097 Fatalities: 1.0\",\"Accident Number: ANC87FA101 Fatalities: 1.0\",\"Accident Number: ANC87LA113 Fatalities: 2.0\",\"Accident Number: ANC87LA114 Fatalities: 1.0\",\"Accident Number: ANC87FA115 Fatalities: 1.0\",\"Accident Number: ANC87FA117 Fatalities: 1.0\",\"Accident Number: SEA87FA162A Fatalities: 2.0\",\"Accident Number: SEA87FA162B Fatalities: 2.0\",\"Accident Number: SEA87FA180 Fatalities: 1.0\",\"Accident Number: ANC87LA142 Fatalities: 1.0\",\"Accident Number: ANC87FA140 Fatalities: 1.0\",\"Accident Number: ANC87FA137 Fatalities: 1.0\",\"Accident Number: ANC87FA146 Fatalities: 2.0\",\"Accident Number: ANC87FA153 Fatalities: 3.0\",\"Accident Number: ANC87FA165 Fatalities: 5.0\",\"Accident Number: ANC88FA011 Fatalities: 3.0\",\"Accident Number: DCA88MA005 Fatalities: 18.0\",\"Accident Number: ANC88FA021 Fatalities: 3.0\",\"Accident Number: ANC88FA020 Fatalities: 1.0\",\"Accident Number: DCA88MA011 Fatalities: 6.0\",\"Accident Number: SEA88LA043 Fatalities: 2.0\",\"Accident Number: ANC88FA037 Fatalities: 1.0\",\"Accident Number: ANC88FA045 Fatalities: 1.0\",\"Accident Number: ANC88FA051 Fatalities: 2.0\",\"Accident Number: ANC88LA053 Fatalities: 1.0\",\"Accident Number: ANC88FA052B Fatalities: 1.0\",\"Accident Number: ANC88FA052A Fatalities: 1.0\",\"Accident Number: ANC88FA059 Fatalities: 3.0\",\"Accident Number: ANC88FA062 Fatalities: 1.0\",\"Accident Number: ANC88FA063B Fatalities: 4.0\",\"Accident Number: ANC88FA063A Fatalities: 4.0\",\"Accident Number: ANC88FA065 Fatalities: 3.0\",\"Accident Number: ANC88FA067 Fatalities: 1.0\",\"Accident Number: ANC88LA152 Fatalities: 1.0\",\"Accident Number: ANC88LA081 Fatalities: 1.0\",\"Accident Number: ANC88FA083 Fatalities: 4.0\",\"Accident Number: ANC88DAG05 Fatalities: 2.0\",\"Accident Number: ANC88LA085 Fatalities: 1.0\",\"Accident Number: ANC88LA151 Fatalities: 1.0\",\"Accident Number: SEA88FA140 Fatalities: 3.0\",\"Accident Number: ANC88LA107 Fatalities: 2.0\",\"Accident Number: ANC88FA111 Fatalities: 2.0\",\"Accident Number: SEA88FA156 Fatalities: 1.0\",\"Accident Number: SEA88FA169 Fatalities: 4.0\",\"Accident Number: SEA88FA167 Fatalities: 1.0\",\"Accident Number: ANC89FA009 Fatalities: 2.0\",\"Accident Number: SEA89FA027 Fatalities: 1.0\",\"Accident Number: SEA89FA036 Fatalities: 2.0\",\"Accident Number: ANC89FA041 Fatalities: 1.0\",\"Accident Number: ANC89FA057 Fatalities: 2.0\",\"Accident Number: SEA89FA074 Fatalities: 2.0\",\"Accident Number: SEA89FA092 Fatalities: 1.0\",\"Accident Number: ANC89FA084 Fatalities: 1.0\",\"Accident Number: ANC89FA090 Fatalities: 3.0\",\"Accident Number: ANC89FA092 Fatalities: 1.0\",\"Accident Number: ANC89FA094 Fatalities: 4.0\",\"Accident Number: SEA89FA143 Fatalities: 2.0\",\"Accident Number: ANC89FA133 Fatalities: 1.0\",\"Accident Number: ANC89FA137 Fatalities: 1.0\",\"Accident Number: ANC89LA181 Fatalities: 4.0\",\"Accident Number: ANC89FA144 Fatalities: 2.0\",\"Accident Number: ANC89FA160 Fatalities: 1.0\",\"Accident Number: ANC89DAG02 Fatalities: 1.0\",\"Accident Number: ANC90FA021 Fatalities: 1.0\",\"Accident Number: DEN90FA053 Fatalities: 6.0\",\"Accident Number: ANC90FA034 Fatalities: 1.0\",\"Accident Number: ANC90FA039 Fatalities: 1.0\",\"Accident Number: ANC90FA042 Fatalities: 1.0\",\"Accident Number: ANC90FA061 Fatalities: 1.0\",\"Accident Number: ANC90FA075 Fatalities: 2.0\",\"Accident Number: ANC90FA086 Fatalities: 1.0\",\"Accident Number: ANC90FA088 Fatalities: 2.0\",\"Accident Number: ANC90FA101 Fatalities: 5.0\",\"Accident Number: ANC90FA105 Fatalities: 2.0\",\"Accident Number: ANC90LA112 Fatalities: 1.0\",\"Accident Number: ANC90FA134 Fatalities: 3.0\",\"Accident Number: SEA90FA163 Fatalities: 1.0\",\"Accident Number: ANC90LA190 Fatalities: 2.0\",\"Accident Number: ANC90LA143 Fatalities: 2.0\",\"Accident Number: ANC90FA146 Fatalities: 2.0\",\"Accident Number: ANC90FA158 Fatalities: 2.0\",\"Accident Number: ANC90FA164 Fatalities: 5.0\",\"Accident Number: ANC90FA161 Fatalities: 3.0\",\"Accident Number: ANC90LA173 Fatalities: 2.0\",\"Accident Number: ANC90FA167B Fatalities: 2.0\",\"Accident Number: ANC90FA167A Fatalities: 2.0\",\"Accident Number: ANC90LA189 Fatalities: 1.0\",\"Accident Number: ANC91GAMS1 Fatalities: 3.0\",\"Accident Number: ANC91FA014 Fatalities: 1.0\",\"Accident Number: ANC91FA018 Fatalities: 1.0\",\"Accident Number: ANC91LA036 Fatalities: 2.0\",\"Accident Number: ANC91FA042 Fatalities: 4.0\",\"Accident Number: ANC91FA050B Fatalities: 1.0\",\"Accident Number: ANC91FA050A Fatalities: 1.0\",\"Accident Number: ANC91LA058 Fatalities: 1.0\",\"Accident Number: ANC91LA061 Fatalities: 1.0\",\"Accident Number: ANC91LA076 Fatalities: 2.0\",\"Accident Number: ANC91LA077 Fatalities: 1.0\",\"Accident Number: ANC91FA094 Fatalities: 1.0\",\"Accident Number: ANC91FA107 Fatalities: 1.0\",\"Accident Number: ANC91FA115 Fatalities: 2.0\",\"Accident Number: SEA91FA207 Fatalities: 6.0\",\"Accident Number: ANC91FA128 Fatalities: 3.0\",\"Accident Number: SEA91FA216 Fatalities: 4.0\",\"Accident Number: ANC91FA132 Fatalities: 3.0\",\"Accident Number: ANC91FA147 Fatalities: 2.0\",\"Accident Number: ANC92FA083 Fatalities: 1.0\",\"Accident Number: ANC92LA019 Fatalities: 1.0\",\"Accident Number: ANC92FA022 Fatalities: 1.0\",\"Accident Number: ANC92LA033 Fatalities: 1.0\",\"Accident Number: ANC92FA040 Fatalities: 6.0\",\"Accident Number: ANC92LA056 Fatalities: 2.0\",\"Accident Number: ANC92FAMS2 Fatalities: 5.0\",\"Accident Number: ANC92LA085 Fatalities: 1.0\",\"Accident Number: ANC92FA106 Fatalities: 1.0\",\"Accident Number: ANC92LA115 Fatalities: 1.0\",\"Accident Number: ANC92FA116 Fatalities: 6.0\",\"Accident Number: ANC92LA132 Fatalities: 1.0\",\"Accident Number: ANC92FAMS3 Fatalities: 2.0\",\"Accident Number: ANC92FA141 Fatalities: 4.0\",\"Accident Number: ANC92FA162 Fatalities: 2.0\",\"Accident Number: ANC92FA164 Fatalities: 3.0\",\"Accident Number: ANC93FA148 Fatalities: 1.0\",\"Accident Number: ANC93FA067 Fatalities: 4.0\",\"Accident Number: ANC93FA012 Fatalities: 2.0\",\"Accident Number: ANC93FA013 Fatalities: 3.0\",\"Accident Number: ANC93GA020 Fatalities: 2.0\",\"Accident Number: ANC93FA027 Fatalities: 1.0\",\"Accident Number: ANC93FA033 Fatalities: 2.0\",\"Accident Number: ANC93FA045 Fatalities: 1.0\",\"Accident Number: ANC93FA050 Fatalities: 2.0\",\"Accident Number: DCA93MA037 Fatalities: 2.0\",\"Accident Number: ANC93FA054 Fatalities: 2.0\",\"Accident Number: ANC93LA055 Fatalities: 1.0\",\"Accident Number: ANC93FA056 Fatalities: 1.0\",\"Accident Number: ANC93FA114B Fatalities: 4.0\",\"Accident Number: ANC93FA114A Fatalities: 4.0\",\"Accident Number: ANC93LA130 Fatalities: 2.0\",\"Accident Number: ANC93LA143 Fatalities: 2.0\",\"Accident Number: ANC93FA134 Fatalities: 1.0\",\"Accident Number: ANC93LA159 Fatalities: 1.0\",\"Accident Number: ANC93LA170 Fatalities: 1.0\",\"Accident Number: ANC93FA161 Fatalities: 3.0\",\"Accident Number: ANC93FA167 Fatalities: 2.0\",\"Accident Number: ANC93LA171 Fatalities: 1.0\",\"Accident Number: ANC93LA174 Fatalities: 1.0\",\"Accident Number: ANC93FA175 Fatalities: 1.0\",\"Accident Number: ANC94FA001 Fatalities: 1.0\",\"Accident Number: ANC94LA003 Fatalities: 1.0\",\"Accident Number: ANC94FA011 Fatalities: 1.0\",\"Accident Number: ANC94FA029 Fatalities: 1.0\",\"Accident Number: ANC94FA032 Fatalities: 1.0\",\"Accident Number: ANC94FA070 Fatalities: 7.0\",\"Accident Number: ANC94FA074 Fatalities: 3.0\",\"Accident Number: ANC94FA080 Fatalities: 3.0\",\"Accident Number: ANC94FA100 Fatalities: 6.0\",\"Accident Number: ANC94FA104 Fatalities: 2.0\",\"Accident Number: ANC94FA105 Fatalities: 3.0\",\"Accident Number: ANC94FA106 Fatalities: 3.0\",\"Accident Number: ANC94FA109 Fatalities: 2.0\",\"Accident Number: ANC94LA124 Fatalities: 2.0\",\"Accident Number: ANC94FA130 Fatalities: 1.0\",\"Accident Number: SEA94FA245 Fatalities: 2.0\",\"Accident Number: ANC95LA012 Fatalities: 1.0\",\"Accident Number: ANC95FAMS1 Fatalities: 1.0\",\"Accident Number: ANC95FA016 Fatalities: 5.0\",\"Accident Number: LAX95FA120 Fatalities: 1.0\",\"Accident Number: ANC95FA044 Fatalities: 2.0\",\"Accident Number: ANC95FA073 Fatalities: 2.0\",\"Accident Number: ANC95FA056 Fatalities: 1.0\",\"Accident Number: ANC95FA078B Fatalities: 5.0\",\"Accident Number: ANC95FA078A Fatalities: 5.0\",\"Accident Number: ANC95FA086 Fatalities: 4.0\",\"Accident Number: ANC95FA090 Fatalities: 4.0\",\"Accident Number: ANC95FA095 Fatalities: 1.0\",\"Accident Number: ANC95FA101 Fatalities: 6.0\",\"Accident Number: ANC95FA104B Fatalities: 2.0\",\"Accident Number: ANC95FA104A Fatalities: 2.0\",\"Accident Number: ANC95LA119 Fatalities: 4.0\",\"Accident Number: ANC95FA129 Fatalities: 2.0\",\"Accident Number: ANC95FA157 Fatalities: 1.0\",\"Accident Number: ANC95FA169 Fatalities: 1.0\",\"Accident Number: ANC95FA147 Fatalities: 2.0\",\"Accident Number: ANC95FA150 Fatalities: 2.0\",\"Accident Number: ANC95LA158 Fatalities: 1.0\",\"Accident Number: ANC95FA167 Fatalities: 2.0\",\"Accident Number: ANC96FA059 Fatalities: 1.0\",\"Accident Number: ANC96FA079 Fatalities: 2.0\",\"Accident Number: ANC96FA081 Fatalities: 1.0\",\"Accident Number: ANC96FA098 Fatalities: 1.0\",\"Accident Number: ANC96FA099 Fatalities: 1.0\",\"Accident Number: ANC96FA101 Fatalities: 1.0\",\"Accident Number: ANC96FA102 Fatalities: 4.0\",\"Accident Number: ANC96FA109 Fatalities: 2.0\",\"Accident Number: ANC96FA118 Fatalities: 1.0\",\"Accident Number: ANC96FAMS1 Fatalities: 2.0\",\"Accident Number: ANC96FA131 Fatalities: 2.0\",\"Accident Number: ANC96FA139 Fatalities: 1.0\",\"Accident Number: ANC96FA141 Fatalities: 3.0\",\"Accident Number: ANC96FA149 Fatalities: 2.0\",\"Accident Number: ANC96FA158 Fatalities: 2.0\",\"Accident Number: ANC96FA161 Fatalities: 1.0\",\"Accident Number: ANC96FA162 Fatalities: 3.0\",\"Accident Number: ANC97FA002 Fatalities: 1.0\",\"Accident Number: ANC97FA001 Fatalities: 3.0\",\"Accident Number: ANC97FA008 Fatalities: 1.0\",\"Accident Number: ANC97FA009 Fatalities: 2.0\",\"Accident Number: ANC97LA014 Fatalities: 1.0\",\"Accident Number: ANC97FA024 Fatalities: 1.0\",\"Accident Number: ANC97LA025 Fatalities: 3.0\",\"Accident Number: ANC97FA026 Fatalities: 1.0\",\"Accident Number: ANC97FA031 Fatalities: 2.0\",\"Accident Number: ANC97FA037B Fatalities: 2.0\",\"Accident Number: ANC97FA037A Fatalities: 2.0\",\"Accident Number: ANC97FA051B Fatalities: 2.0\",\"Accident Number: ANC97FA051A Fatalities: 2.0\",\"Accident Number: ANC97MA161 Fatalities: 5.0\",\"Accident Number: ANC97LA054 Fatalities: 2.0\",\"Accident Number: ANC97FA092 Fatalities: 2.0\",\"Accident Number: ANC97FAMS1 Fatalities: 4.0\",\"Accident Number: ANC97FA097 Fatalities: 4.0\",\"Accident Number: ANC97FA099 Fatalities: 4.0\",\"Accident Number: ANC97FA121 Fatalities: 3.0\",\"Accident Number: ANC97GA126 Fatalities: 1.0\",\"Accident Number: ANC97FA143 Fatalities: 2.0\",\"Accident Number: ANC97FA155 Fatalities: 1.0\",\"Accident Number: ANC97FA159 Fatalities: 1.0\",\"Accident Number: ANC98LA001 Fatalities: 1.0\",\"Accident Number: ANC98FA006 Fatalities: 2.0\",\"Accident Number: ANC98MA008 Fatalities: 8.0\",\"Accident Number: ANC98FA019 Fatalities: 1.0\",\"Accident Number: ANC98GA036 Fatalities: 2.0\",\"Accident Number: ANC98FA043 Fatalities: 1.0\",\"Accident Number: ANC98FA048 Fatalities: 2.0\",\"Accident Number: ANC98FA061B Fatalities: 2.0\",\"Accident Number: ANC98FA061A Fatalities: 2.0\",\"Accident Number: ANC98FA079 Fatalities: 1.0\",\"Accident Number: ANC98FA091 Fatalities: 2.0\",\"Accident Number: ANC98FA110 Fatalities: 2.0\",\"Accident Number: ANC98LA112 Fatalities: 1.0\",\"Accident Number: ANC98LA105 Fatalities: 1.0\",\"Accident Number: ANC98FA116 Fatalities: 1.0\",\"Accident Number: ANC98FA145 Fatalities: 5.0\",\"Accident Number: ANC98FA152 Fatalities: 1.0\",\"Accident Number: ANC98FA168 Fatalities: 1.0\",\"Accident Number: ANC99FA047 Fatalities: 1.0\",\"Accident Number: ANC99FAMS1 Fatalities: 2.0\",\"Accident Number: ANC99TA058 Fatalities: 1.0\",\"Accident Number: ANC99LA065 Fatalities: 1.0\",\"Accident Number: ANC99FA070 Fatalities: 1.0\",\"Accident Number: ANC99FA073 Fatalities: 7.0\",\"Accident Number: ANC99FA074 Fatalities: 1.0\",\"Accident Number: ANC99FA106 Fatalities: 2.0\",\"Accident Number: ANC99FA110 Fatalities: 2.0\",\"Accident Number: ANC99FA108 Fatalities: 4.0\",\"Accident Number: ANC99FAMS2 Fatalities: 1.0\",\"Accident Number: ANC99FA128 Fatalities: 2.0\",\"Accident Number: ANC99FA130 Fatalities: 1.0\",\"Accident Number: ANC00FA018 Fatalities: 6.0\",\"Accident Number: ANC00FA024 Fatalities: 6.0\",\"Accident Number: ANC00FA052 Fatalities: 1.0\",\"Accident Number: ANC00GA071 Fatalities: 4.0\",\"Accident Number: ANC00FA076 Fatalities: 1.0\",\"Accident Number: ANC00FA081 Fatalities: 1.0\",\"Accident Number: ANC00FA082 Fatalities: 1.0\",\"Accident Number: ANC00FA093 Fatalities: 1.0\",\"Accident Number: ANC00LA108 Fatalities: 3.0\",\"Accident Number: ANC00FA110 Fatalities: 1.0\",\"Accident Number: ANC00MA125 Fatalities: 5.0\",\"Accident Number: ANC00FA128 Fatalities: 1.0\",\"Accident Number: ANC01FA012 Fatalities: 1.0\",\"Accident Number: ANC01FA026 Fatalities: 2.0\",\"Accident Number: ANC01FAMS1 Fatalities: 2.0\",\"Accident Number: ANC01FA033 Fatalities: 2.0\",\"Accident Number: ANC01GA075 Fatalities: 1.0\",\"Accident Number: ANC01FA084 Fatalities: 4.0\",\"Accident Number: ANC01WA091 Fatalities: 1.0\",\"Accident Number: ANC01FA093 Fatalities: 6.0\",\"Accident Number: ANC01FA102 Fatalities: 1.0\",\"Accident Number: ANC01FA106 Fatalities: 1.0\",\"Accident Number: DCA02MA003 Fatalities: 10.0\",\"Accident Number: SEA02FA008 Fatalities: 3.0\",\"Accident Number: ANC02FA010 Fatalities: 1.0\",\"Accident Number: ANC02FA014 Fatalities: 1.0\",\"Accident Number: ANC02FA025 Fatalities: 1.0\",\"Accident Number: ANC02FA028 Fatalities: 1.0\",\"Accident Number: ANC02FA038 Fatalities: 2.0\",\"Accident Number: ANC02FA057 Fatalities: 1.0\",\"Accident Number: ANC02FA064 Fatalities: 1.0\",\"Accident Number: ANC02FA070 Fatalities: 2.0\",\"Accident Number: ANC02FA075 Fatalities: 4.0\",\"Accident Number: ANC02FA097 Fatalities: 2.0\",\"Accident Number: ANC02FA107 Fatalities: 2.0\",\"Accident Number: ANC02FA108 Fatalities: 2.0\",\"Accident Number: ANC02FA106 Fatalities: 1.0\",\"Accident Number: ANC03LA022 Fatalities: 1.0\",\"Accident Number: ANC03GA020 Fatalities: 1.0\",\"Accident Number: ANC03FA051 Fatalities: 4.0\",\"Accident Number: ANC03FA061 Fatalities: 2.0\",\"Accident Number: ANC03LA067 Fatalities: 3.0\",\"Accident Number: ANC03FA066 Fatalities: 5.0\",\"Accident Number: ANC03FA075 Fatalities: 1.0\",\"Accident Number: ANC03LA076 Fatalities: 4.0\",\"Accident Number: ANC03FA094 Fatalities: 3.0\",\"Accident Number: ANC03FA096 Fatalities: 2.0\",\"Accident Number: ANC03FAMS1 Fatalities: 2.0\",\"Accident Number: ANC03FA106 Fatalities: 3.0\",\"Accident Number: ANC04FA049 Fatalities: 1.0\",\"Accident Number: ANC04FA056 Fatalities: 1.0\",\"Accident Number: ANC04FA063 Fatalities: 1.0\",\"Accident Number: ANC04FA070 Fatalities: 1.0\",\"Accident Number: ANC04FA080 Fatalities: 4.0\",\"Accident Number: ANC04FA084 Fatalities: 4.0\",\"Accident Number: ANC04FA092 Fatalities: 2.0\",\"Accident Number: ANC04LA093 Fatalities: 1.0\",\"Accident Number: ANC04LA098 Fatalities: 1.0\",\"Accident Number: ANC04FA102 Fatalities: 2.0\",\"Accident Number: ANC04FAMS2 Fatalities: 5.0\",\"Accident Number: ANC05FA008 Fatalities: 1.0\",\"Accident Number: ANC05LA027 Fatalities: 3.0\",\"Accident Number: ANC05FA070 Fatalities: 1.0\",\"Accident Number: ANC05FA090 Fatalities: 3.0\",\"Accident Number: ANC05FA098 Fatalities: 1.0\",\"Accident Number: ANC05FA116 Fatalities: 2.0\",\"Accident Number: ANC05FA121 Fatalities: 2.0\",\"Accident Number: ANC05FA144 Fatalities: 2.0\",\"Accident Number: ANC06LA015 Fatalities: 1.0\",\"Accident Number: ANC06FA018 Fatalities: 1.0\",\"Accident Number: ANC06FA048B Fatalities: 5.0\",\"Accident Number: ANC06FA048A Fatalities: 5.0\",\"Accident Number: ANC06FA080 Fatalities: 1.0\",\"Accident Number: ANC06FA089 Fatalities: 1.0\",\"Accident Number: ANC06FAMS1 Fatalities: 3.0\",\"Accident Number: ANC06GA121 Fatalities: 1.0\",\"Accident Number: ANC06FA131 Fatalities: 2.0\",\"Accident Number: ANC06FA136 Fatalities: 1.0\",\"Accident Number: ANC07FA006 Fatalities: 1.0\",\"Accident Number: ANC07FA007 Fatalities: 2.0\",\"Accident Number: ANC07FA013 Fatalities: 1.0\",\"Accident Number: ANC07FA037 Fatalities: 1.0\",\"Accident Number: ANC07FA054 Fatalities: 2.0\",\"Accident Number: ANC07FA068 Fatalities: 5.0\",\"Accident Number: ANC07FA073 Fatalities: 4.0\",\"Accident Number: ANC07FA082 Fatalities: 2.0\",\"Accident Number: ANC07MA083 Fatalities: 5.0\",\"Accident Number: ANC07FA103 Fatalities: 1.0\",\"Accident Number: ANC07FA102 Fatalities: 1.0\",\"Accident Number: ANC07FA109 Fatalities: 4.0\",\"Accident Number: ANC08FA025 Fatalities: 4.0\",\"Accident Number: ANC08MA038 Fatalities: 6.0\",\"Accident Number: ANC08FA037 Fatalities: 1.0\",\"Accident Number: ANC08FA053 Fatalities: 4.0\",\"Accident Number: ANC08FA072 Fatalities: 1.0\",\"Accident Number: ANC08FA079 Fatalities: 1.0\",\"Accident Number: ANC08FA087 Fatalities: 3.0\",\"Accident Number: ANC08FA133 Fatalities: 2.0\",\"Accident Number: ANC08FA104 Fatalities: 2.0\",\"Accident Number: ANC08LA122 Fatalities: 1.0\",\"Accident Number: ANC09FA001 Fatalities: 2.0\",\"Accident Number: ANC09FA003 Fatalities: 1.0\",\"Accident Number: ANC09FA052 Fatalities: 2.0\",\"Accident Number: ANC09FAMS1 Fatalities: 2.0\",\"Accident Number: ANC09FA062 Fatalities: 2.0\",\"Accident Number: ANC10FA004 Fatalities: 1.0\",\"Accident Number: ANC10FA014 Fatalities: 2.0\",\"Accident Number: ANC10FA022 Fatalities: 1.0\",\"Accident Number: ANC10FA038 Fatalities: 1.0\",\"Accident Number: ANC10FA048 Fatalities: 1.0\",\"Accident Number: ANC10LA053 Fatalities: 1.0\",\"Accident Number: ANC10FA064 Fatalities: 1.0\",\"Accident Number: ANC10FA067 Fatalities: 3.0\",\"Accident Number: ANC10MA068 Fatalities: 5.0\",\"Accident Number: ANC10FA069 Fatalities: 2.0\",\"Accident Number: ANC10FA100 Fatalities: 4.0\",\"Accident Number: ANC10FA076 Fatalities: 2.0\",\"Accident Number: ANC11FA037 Fatalities: 5.0\",\"Accident Number: ANC11FA055 Fatalities: 1.0\",\"Accident Number: ANC11FA065 Fatalities: 1.0\",\"Accident Number: ANC11FA069 Fatalities: 2.0\",\"Accident Number: ANC11FA071 Fatalities: 4.0\",\"Accident Number: ANC11FA077 Fatalities: 2.0\",\"Accident Number: ANC11LA080 Fatalities: 2.0\",\"Accident Number: ANC11FA091 Fatalities: 1.0\",\"Accident Number: ANC11FA107 Fatalities: 1.0\",\"Accident Number: ANC12FA006 Fatalities: 1.0\",\"Accident Number: ANC12FA009 Fatalities: 1.0\",\"Accident Number: ANC12FA028 Fatalities: 2.0\",\"Accident Number: ANC12FA073 Fatalities: 1.0\",\"Accident Number: ANC12FA066 Fatalities: 2.0\",\"Accident Number: ANC12FA083 Fatalities: 1.0\",\"Accident Number: ANC12FA084 Fatalities: 1.0\",\"Accident Number: ANC12FA095 Fatalities: 1.0\",\"Accident Number: ANC13FA001 Fatalities: 1.0\",\"Accident Number: ANC13FAMS1 Fatalities: 1.0\",\"Accident Number: ANC13FA004 Fatalities: 1.0\",\"Accident Number: ANC13FA027 Fatalities: 3.0\",\"Accident Number: ANC13FA030 Fatalities: 2.0\",\"Accident Number: ANC13GA036 Fatalities: 3.0\",\"Accident Number: ANC13FA054 Fatalities: 1.0\",\"Accident Number: ANC13FA058 Fatalities: 3.0\",\"Accident Number: DCA13MA121 Fatalities: 10.0\",\"Accident Number: ANC13FA084 Fatalities: 2.0\",\"Accident Number: ANC13FA090 Fatalities: 2.0\",\"Accident Number: ANC13FA091 Fatalities: 1.0\",\"Accident Number: ANC13FA093 Fatalities: 1.0\",\"Accident Number: ANC13FA095 Fatalities: 1.0\",\"Accident Number: ANC13FAMS2 Fatalities: 1.0\",\"Accident Number: ANC14FA002 Fatalities: 1.0\",\"Accident Number: ANC14MA008 Fatalities: 4.0\",\"Accident Number: ANC14FA022 Fatalities: 2.0\",\"Accident Number: ANC14FA030 Fatalities: 1.0\",\"Accident Number: ANC14FA050 Fatalities: 1.0\",\"Accident Number: ANC14FA062 Fatalities: 1.0\",\"Accident Number: ANC15FA021 Fatalities: 1.0\",\"Accident Number: ANC15FA032 Fatalities: 1.0\",\"Accident Number: ANC15LA035 Fatalities: 1.0\",\"Accident Number: ANC15MA041 Fatalities: 9.0\",\"Accident Number: ANC15FA049 Fatalities: 1.0\",\"Accident Number: ANC15FA050 Fatalities: 1.0\",\"Accident Number: ANC15FA062 Fatalities: 2.0\",\"Accident Number: ANC15FA066 Fatalities: 2.0\",\"Accident Number: ANC15FA071 Fatalities: 3.0\",\"Accident Number: ANC16FA001 Fatalities: 1.0\",\"Accident Number: ANC16LA011 Fatalities: 1.0\",\"Accident Number: ANC16FA017 Fatalities: 3.0\",\"Accident Number: ANC16FA019 Fatalities: 4.0\",\"Accident Number: ANC16FA023 Fatalities: 1.0\",\"Accident Number: ANC16FA057 Fatalities: 1.0\",\"Accident Number: ANC16FA061 Fatalities: 5.0\",\"Accident Number: ANC16FA065 Fatalities: 1.0\",\"Accident Number: ANC17MA001 Fatalities: 3.0\",\"Accident Number: ANC17FA003 Fatalities: 1.0\",\"Accident Number: ANC17FA004 Fatalities: 1.0\",\"Accident Number: ANC17FA009 Fatalities: 1.0\",\"Accident Number: ANC17FA010 Fatalities: 4.0\",\"Accident Number: ANC17FA012 Fatalities: 2.0\",\"Accident Number: ANC17FA018 Fatalities: 1.0\",\"Accident Number: ANC17FA021 Fatalities: 1.0\",\"Accident Number: WPR17FA108 Fatalities: 2.0\",\"Accident Number: ANC17FA026 Fatalities: 2.0\",\"Accident Number: ANC17FA035 Fatalities: 1.0\",\"Accident Number: ANC17FA039 Fatalities: 1.0\",\"Accident Number: ANC17FA049 Fatalities: 1.0\",\"Accident Number: ANC18FA003 Fatalities: 1.0\",\"Accident Number: ANC18FA036 Fatalities: 1.0\",\"Accident Number: ANC18FA044 Fatalities: 2.0\",\"Accident Number: ANC18FA045 Fatalities: 1.0\",\"Accident Number: ANC18FA050 Fatalities: 2.0\",\"Accident Number: ANC18FA055 Fatalities: 1.0\",\"Accident Number: ANC18FA063 Fatalities: 5.0\",\"Accident Number: ANC18FA071 Fatalities: 2.0\",\"Accident Number: CEN18FA386 Fatalities: 1.0\",\"Accident Number: CEN18FA391 Fatalities: 3.0\",\"Accident Number: ANC19FA012 Fatalities: 3.0\",\"Accident Number: ANC19FA038 Fatalities: 1.0\",\"Accident Number: CEN19MA141 Fatalities: 6.0\",\"Accident Number: ANC19FA019 Fatalities: 2.0\",\"Accident Number: WPR19FA152 Fatalities: 1.0\",\"Accident Number: ANC19FA021 Fatalities: 1.0\",\"Accident Number: ANC19FA026 Fatalities: 3.0\",\"Accident Number: ANC19FA029 Fatalities: 3.0\",\"Accident Number: ANC19FA033 Fatalities: 1.0\",\"Accident Number: ANC19FA035 Fatalities: 1.0\",\"Accident Number: ANC19FA042 Fatalities: 4.0\",\"Accident Number: DCA20MA002 Fatalities: 1.0\",\"Accident Number: ANC20FA007 Fatalities: 3.0\",\"Accident Number: ANC20FA017 Fatalities: 5.0\",\"Accident Number: ANC20LA046 Fatalities: 1.0\",\"Accident Number: ANC20LA074 Fatalities: 7.0\",\"Accident Number: ANC20LA085 Fatalities: 2.0\",\"Accident Number: ANC21FA015 Fatalities: 2.0\",\"Accident Number: ANC21LA020 Fatalities: 1.0\",\"Accident Number: WPR21FA143 Fatalities: 5.0\",\"Accident Number: ANC21FA065 Fatalities: 2.0\",\"Accident Number: ANC21FA069 Fatalities: 6.0\",\"Accident Number: ANC22LA004 Fatalities: 1.0\",\"Accident Number: ANC22FA005 Fatalities: 1.0\"],\"type\":\"scattergeo\"}],                        {\"template\":{\"data\":{\"histogram2dcontour\":[{\"type\":\"histogram2dcontour\",\"colorbar\":{\"outlinewidth\":0,\"ticks\":\"\"},\"colorscale\":[[0.0,\"#0d0887\"],[0.1111111111111111,\"#46039f\"],[0.2222222222222222,\"#7201a8\"],[0.3333333333333333,\"#9c179e\"],[0.4444444444444444,\"#bd3786\"],[0.5555555555555556,\"#d8576b\"],[0.6666666666666666,\"#ed7953\"],[0.7777777777777778,\"#fb9f3a\"],[0.8888888888888888,\"#fdca26\"],[1.0,\"#f0f921\"]]}],\"choropleth\":[{\"type\":\"choropleth\",\"colorbar\":{\"outlinewidth\":0,\"ticks\":\"\"}}],\"histogram2d\":[{\"type\":\"histogram2d\",\"colorbar\":{\"outlinewidth\":0,\"ticks\":\"\"},\"colorscale\":[[0.0,\"#0d0887\"],[0.1111111111111111,\"#46039f\"],[0.2222222222222222,\"#7201a8\"],[0.3333333333333333,\"#9c179e\"],[0.4444444444444444,\"#bd3786\"],[0.5555555555555556,\"#d8576b\"],[0.6666666666666666,\"#ed7953\"],[0.7777777777777778,\"#fb9f3a\"],[0.8888888888888888,\"#fdca26\"],[1.0,\"#f0f921\"]]}],\"heatmap\":[{\"type\":\"heatmap\",\"colorbar\":{\"outlinewidth\":0,\"ticks\":\"\"},\"colorscale\":[[0.0,\"#0d0887\"],[0.1111111111111111,\"#46039f\"],[0.2222222222222222,\"#7201a8\"],[0.3333333333333333,\"#9c179e\"],[0.4444444444444444,\"#bd3786\"],[0.5555555555555556,\"#d8576b\"],[0.6666666666666666,\"#ed7953\"],[0.7777777777777778,\"#fb9f3a\"],[0.8888888888888888,\"#fdca26\"],[1.0,\"#f0f921\"]]}],\"heatmapgl\":[{\"type\":\"heatmapgl\",\"colorbar\":{\"outlinewidth\":0,\"ticks\":\"\"},\"colorscale\":[[0.0,\"#0d0887\"],[0.1111111111111111,\"#46039f\"],[0.2222222222222222,\"#7201a8\"],[0.3333333333333333,\"#9c179e\"],[0.4444444444444444,\"#bd3786\"],[0.5555555555555556,\"#d8576b\"],[0.6666666666666666,\"#ed7953\"],[0.7777777777777778,\"#fb9f3a\"],[0.8888888888888888,\"#fdca26\"],[1.0,\"#f0f921\"]]}],\"contourcarpet\":[{\"type\":\"contourcarpet\",\"colorbar\":{\"outlinewidth\":0,\"ticks\":\"\"}}],\"contour\":[{\"type\":\"contour\",\"colorbar\":{\"outlinewidth\":0,\"ticks\":\"\"},\"colorscale\":[[0.0,\"#0d0887\"],[0.1111111111111111,\"#46039f\"],[0.2222222222222222,\"#7201a8\"],[0.3333333333333333,\"#9c179e\"],[0.4444444444444444,\"#bd3786\"],[0.5555555555555556,\"#d8576b\"],[0.6666666666666666,\"#ed7953\"],[0.7777777777777778,\"#fb9f3a\"],[0.8888888888888888,\"#fdca26\"],[1.0,\"#f0f921\"]]}],\"surface\":[{\"type\":\"surface\",\"colorbar\":{\"outlinewidth\":0,\"ticks\":\"\"},\"colorscale\":[[0.0,\"#0d0887\"],[0.1111111111111111,\"#46039f\"],[0.2222222222222222,\"#7201a8\"],[0.3333333333333333,\"#9c179e\"],[0.4444444444444444,\"#bd3786\"],[0.5555555555555556,\"#d8576b\"],[0.6666666666666666,\"#ed7953\"],[0.7777777777777778,\"#fb9f3a\"],[0.8888888888888888,\"#fdca26\"],[1.0,\"#f0f921\"]]}],\"mesh3d\":[{\"type\":\"mesh3d\",\"colorbar\":{\"outlinewidth\":0,\"ticks\":\"\"}}],\"scatter\":[{\"fillpattern\":{\"fillmode\":\"overlay\",\"size\":10,\"solidity\":0.2},\"type\":\"scatter\"}],\"parcoords\":[{\"type\":\"parcoords\",\"line\":{\"colorbar\":{\"outlinewidth\":0,\"ticks\":\"\"}}}],\"scatterpolargl\":[{\"type\":\"scatterpolargl\",\"marker\":{\"colorbar\":{\"outlinewidth\":0,\"ticks\":\"\"}}}],\"bar\":[{\"error_x\":{\"color\":\"#2a3f5f\"},\"error_y\":{\"color\":\"#2a3f5f\"},\"marker\":{\"line\":{\"color\":\"#E5ECF6\",\"width\":0.5},\"pattern\":{\"fillmode\":\"overlay\",\"size\":10,\"solidity\":0.2}},\"type\":\"bar\"}],\"scattergeo\":[{\"type\":\"scattergeo\",\"marker\":{\"colorbar\":{\"outlinewidth\":0,\"ticks\":\"\"}}}],\"scatterpolar\":[{\"type\":\"scatterpolar\",\"marker\":{\"colorbar\":{\"outlinewidth\":0,\"ticks\":\"\"}}}],\"histogram\":[{\"marker\":{\"pattern\":{\"fillmode\":\"overlay\",\"size\":10,\"solidity\":0.2}},\"type\":\"histogram\"}],\"scattergl\":[{\"type\":\"scattergl\",\"marker\":{\"colorbar\":{\"outlinewidth\":0,\"ticks\":\"\"}}}],\"scatter3d\":[{\"type\":\"scatter3d\",\"line\":{\"colorbar\":{\"outlinewidth\":0,\"ticks\":\"\"}},\"marker\":{\"colorbar\":{\"outlinewidth\":0,\"ticks\":\"\"}}}],\"scattermapbox\":[{\"type\":\"scattermapbox\",\"marker\":{\"colorbar\":{\"outlinewidth\":0,\"ticks\":\"\"}}}],\"scatterternary\":[{\"type\":\"scatterternary\",\"marker\":{\"colorbar\":{\"outlinewidth\":0,\"ticks\":\"\"}}}],\"scattercarpet\":[{\"type\":\"scattercarpet\",\"marker\":{\"colorbar\":{\"outlinewidth\":0,\"ticks\":\"\"}}}],\"carpet\":[{\"aaxis\":{\"endlinecolor\":\"#2a3f5f\",\"gridcolor\":\"white\",\"linecolor\":\"white\",\"minorgridcolor\":\"white\",\"startlinecolor\":\"#2a3f5f\"},\"baxis\":{\"endlinecolor\":\"#2a3f5f\",\"gridcolor\":\"white\",\"linecolor\":\"white\",\"minorgridcolor\":\"white\",\"startlinecolor\":\"#2a3f5f\"},\"type\":\"carpet\"}],\"table\":[{\"cells\":{\"fill\":{\"color\":\"#EBF0F8\"},\"line\":{\"color\":\"white\"}},\"header\":{\"fill\":{\"color\":\"#C8D4E3\"},\"line\":{\"color\":\"white\"}},\"type\":\"table\"}],\"barpolar\":[{\"marker\":{\"line\":{\"color\":\"#E5ECF6\",\"width\":0.5},\"pattern\":{\"fillmode\":\"overlay\",\"size\":10,\"solidity\":0.2}},\"type\":\"barpolar\"}],\"pie\":[{\"automargin\":true,\"type\":\"pie\"}]},\"layout\":{\"autotypenumbers\":\"strict\",\"colorway\":[\"#636efa\",\"#EF553B\",\"#00cc96\",\"#ab63fa\",\"#FFA15A\",\"#19d3f3\",\"#FF6692\",\"#B6E880\",\"#FF97FF\",\"#FECB52\"],\"font\":{\"color\":\"#2a3f5f\"},\"hovermode\":\"closest\",\"hoverlabel\":{\"align\":\"left\"},\"paper_bgcolor\":\"white\",\"plot_bgcolor\":\"#E5ECF6\",\"polar\":{\"bgcolor\":\"#E5ECF6\",\"angularaxis\":{\"gridcolor\":\"white\",\"linecolor\":\"white\",\"ticks\":\"\"},\"radialaxis\":{\"gridcolor\":\"white\",\"linecolor\":\"white\",\"ticks\":\"\"}},\"ternary\":{\"bgcolor\":\"#E5ECF6\",\"aaxis\":{\"gridcolor\":\"white\",\"linecolor\":\"white\",\"ticks\":\"\"},\"baxis\":{\"gridcolor\":\"white\",\"linecolor\":\"white\",\"ticks\":\"\"},\"caxis\":{\"gridcolor\":\"white\",\"linecolor\":\"white\",\"ticks\":\"\"}},\"coloraxis\":{\"colorbar\":{\"outlinewidth\":0,\"ticks\":\"\"}},\"colorscale\":{\"sequential\":[[0.0,\"#0d0887\"],[0.1111111111111111,\"#46039f\"],[0.2222222222222222,\"#7201a8\"],[0.3333333333333333,\"#9c179e\"],[0.4444444444444444,\"#bd3786\"],[0.5555555555555556,\"#d8576b\"],[0.6666666666666666,\"#ed7953\"],[0.7777777777777778,\"#fb9f3a\"],[0.8888888888888888,\"#fdca26\"],[1.0,\"#f0f921\"]],\"sequentialminus\":[[0.0,\"#0d0887\"],[0.1111111111111111,\"#46039f\"],[0.2222222222222222,\"#7201a8\"],[0.3333333333333333,\"#9c179e\"],[0.4444444444444444,\"#bd3786\"],[0.5555555555555556,\"#d8576b\"],[0.6666666666666666,\"#ed7953\"],[0.7777777777777778,\"#fb9f3a\"],[0.8888888888888888,\"#fdca26\"],[1.0,\"#f0f921\"]],\"diverging\":[[0,\"#8e0152\"],[0.1,\"#c51b7d\"],[0.2,\"#de77ae\"],[0.3,\"#f1b6da\"],[0.4,\"#fde0ef\"],[0.5,\"#f7f7f7\"],[0.6,\"#e6f5d0\"],[0.7,\"#b8e186\"],[0.8,\"#7fbc41\"],[0.9,\"#4d9221\"],[1,\"#276419\"]]},\"xaxis\":{\"gridcolor\":\"white\",\"linecolor\":\"white\",\"ticks\":\"\",\"title\":{\"standoff\":15},\"zerolinecolor\":\"white\",\"automargin\":true,\"zerolinewidth\":2},\"yaxis\":{\"gridcolor\":\"white\",\"linecolor\":\"white\",\"ticks\":\"\",\"title\":{\"standoff\":15},\"zerolinecolor\":\"white\",\"automargin\":true,\"zerolinewidth\":2},\"scene\":{\"xaxis\":{\"backgroundcolor\":\"#E5ECF6\",\"gridcolor\":\"white\",\"linecolor\":\"white\",\"showbackground\":true,\"ticks\":\"\",\"zerolinecolor\":\"white\",\"gridwidth\":2},\"yaxis\":{\"backgroundcolor\":\"#E5ECF6\",\"gridcolor\":\"white\",\"linecolor\":\"white\",\"showbackground\":true,\"ticks\":\"\",\"zerolinecolor\":\"white\",\"gridwidth\":2},\"zaxis\":{\"backgroundcolor\":\"#E5ECF6\",\"gridcolor\":\"white\",\"linecolor\":\"white\",\"showbackground\":true,\"ticks\":\"\",\"zerolinecolor\":\"white\",\"gridwidth\":2}},\"shapedefaults\":{\"line\":{\"color\":\"#2a3f5f\"}},\"annotationdefaults\":{\"arrowcolor\":\"#2a3f5f\",\"arrowhead\":0,\"arrowwidth\":1},\"geo\":{\"bgcolor\":\"white\",\"landcolor\":\"#E5ECF6\",\"subunitcolor\":\"white\",\"showland\":true,\"showlakes\":true,\"lakecolor\":\"white\"},\"title\":{\"x\":0.05},\"mapbox\":{\"style\":\"light\"}}},\"geo\":{\"resolution\":50,\"fitbounds\":\"locations\",\"showland\":true,\"landcolor\":\"darkkhaki\",\"showocean\":true,\"oceancolor\":\"lightseagreen\",\"showlakes\":true,\"lakecolor\":\"darkblue\",\"showrivers\":true,\"rivercolor\":\"mediumblue\",\"scope\":\"usa\"},\"title\":{\"text\":\"Fatal Injuries in Alaska\"}},                        {\"responsive\": true}                    ).then(function(){\n",
              "                            \n",
              "var gd = document.getElementById('e159f7e3-07e3-4e4d-bdc7-c28ebe367053');\n",
              "var x = new MutationObserver(function (mutations, observer) {{\n",
              "        var display = window.getComputedStyle(gd).display;\n",
              "        if (!display || display === 'none') {{\n",
              "            console.log([gd, 'removed!']);\n",
              "            Plotly.purge(gd);\n",
              "            observer.disconnect();\n",
              "        }}\n",
              "}});\n",
              "\n",
              "// Listen for the removal of the full notebook cells\n",
              "var notebookContainer = gd.closest('#notebook-container');\n",
              "if (notebookContainer) {{\n",
              "    x.observe(notebookContainer, {childList: true});\n",
              "}}\n",
              "\n",
              "// Listen for the clearing of the current output cell\n",
              "var outputEl = gd.closest('.output');\n",
              "if (outputEl) {{\n",
              "    x.observe(outputEl, {childList: true});\n",
              "}}\n",
              "\n",
              "                        })                };                            </script>        </div>\n",
              "</body>\n",
              "</html>"
            ]
          },
          "metadata": {}
        }
      ]
    },
    {
      "cell_type": "markdown",
      "source": [],
      "metadata": {
        "id": "qzRcv2GBUbuT"
      }
    },
    {
      "cell_type": "markdown",
      "source": [
        "# Search: Accident Number"
      ],
      "metadata": {
        "id": "Vogt7WLSUcBE"
      }
    },
    {
      "cell_type": "markdown",
      "source": [
        "*   Search database with an Accident Number.\n",
        "*   Example Accident Number: ANC82FAG14"
      ],
      "metadata": {
        "id": "QSZ9W2FoUj4S"
      }
    },
    {
      "cell_type": "code",
      "source": [
        "inputAccidentNumber = input(\"Input Accident Number: \")\n",
        "print(akAviation.loc[akAviation['Accident.Number']==inputAccidentNumber])"
      ],
      "metadata": {
        "id": "-mBb6NDpUiKT"
      },
      "execution_count": null,
      "outputs": []
    },
    {
      "cell_type": "markdown",
      "source": [
        "# Machine Learning: Linear Regression for Accident Prediction"
      ],
      "metadata": {
        "id": "uz-_9AjslKTj"
      }
    },
    {
      "cell_type": "code",
      "source": [
        "yearly_accidents = akAviation.groupby(['Year'])['Event.Id'].count().reset_index(name=\"Total Accidents\")\n",
        "yearly_accidents.head()"
      ],
      "metadata": {
        "id": "UjrYXx-cMghM",
        "colab": {
          "base_uri": "https://localhost:8080/",
          "height": 0
        },
        "outputId": "978bed20-09f3-40ff-e834-3358252736be"
      },
      "execution_count": 28,
      "outputs": [
        {
          "output_type": "execute_result",
          "data": {
            "text/plain": [
              "   Year  Total Accidents\n",
              "0  1982              190\n",
              "1  1983              193\n",
              "2  1984              215\n",
              "3  1985              202\n",
              "4  1986              182"
            ],
            "text/html": [
              "\n",
              "  <div id=\"df-a8743cce-6e82-4b3f-a274-6c82c3e03fb3\" class=\"colab-df-container\">\n",
              "    <div>\n",
              "<style scoped>\n",
              "    .dataframe tbody tr th:only-of-type {\n",
              "        vertical-align: middle;\n",
              "    }\n",
              "\n",
              "    .dataframe tbody tr th {\n",
              "        vertical-align: top;\n",
              "    }\n",
              "\n",
              "    .dataframe thead th {\n",
              "        text-align: right;\n",
              "    }\n",
              "</style>\n",
              "<table border=\"1\" class=\"dataframe\">\n",
              "  <thead>\n",
              "    <tr style=\"text-align: right;\">\n",
              "      <th></th>\n",
              "      <th>Year</th>\n",
              "      <th>Total Accidents</th>\n",
              "    </tr>\n",
              "  </thead>\n",
              "  <tbody>\n",
              "    <tr>\n",
              "      <th>0</th>\n",
              "      <td>1982</td>\n",
              "      <td>190</td>\n",
              "    </tr>\n",
              "    <tr>\n",
              "      <th>1</th>\n",
              "      <td>1983</td>\n",
              "      <td>193</td>\n",
              "    </tr>\n",
              "    <tr>\n",
              "      <th>2</th>\n",
              "      <td>1984</td>\n",
              "      <td>215</td>\n",
              "    </tr>\n",
              "    <tr>\n",
              "      <th>3</th>\n",
              "      <td>1985</td>\n",
              "      <td>202</td>\n",
              "    </tr>\n",
              "    <tr>\n",
              "      <th>4</th>\n",
              "      <td>1986</td>\n",
              "      <td>182</td>\n",
              "    </tr>\n",
              "  </tbody>\n",
              "</table>\n",
              "</div>\n",
              "    <div class=\"colab-df-buttons\">\n",
              "\n",
              "  <div class=\"colab-df-container\">\n",
              "    <button class=\"colab-df-convert\" onclick=\"convertToInteractive('df-a8743cce-6e82-4b3f-a274-6c82c3e03fb3')\"\n",
              "            title=\"Convert this dataframe to an interactive table.\"\n",
              "            style=\"display:none;\">\n",
              "\n",
              "  <svg xmlns=\"http://www.w3.org/2000/svg\" height=\"24px\" viewBox=\"0 -960 960 960\">\n",
              "    <path d=\"M120-120v-720h720v720H120Zm60-500h600v-160H180v160Zm220 220h160v-160H400v160Zm0 220h160v-160H400v160ZM180-400h160v-160H180v160Zm440 0h160v-160H620v160ZM180-180h160v-160H180v160Zm440 0h160v-160H620v160Z\"/>\n",
              "  </svg>\n",
              "    </button>\n",
              "\n",
              "  <style>\n",
              "    .colab-df-container {\n",
              "      display:flex;\n",
              "      gap: 12px;\n",
              "    }\n",
              "\n",
              "    .colab-df-convert {\n",
              "      background-color: #E8F0FE;\n",
              "      border: none;\n",
              "      border-radius: 50%;\n",
              "      cursor: pointer;\n",
              "      display: none;\n",
              "      fill: #1967D2;\n",
              "      height: 32px;\n",
              "      padding: 0 0 0 0;\n",
              "      width: 32px;\n",
              "    }\n",
              "\n",
              "    .colab-df-convert:hover {\n",
              "      background-color: #E2EBFA;\n",
              "      box-shadow: 0px 1px 2px rgba(60, 64, 67, 0.3), 0px 1px 3px 1px rgba(60, 64, 67, 0.15);\n",
              "      fill: #174EA6;\n",
              "    }\n",
              "\n",
              "    .colab-df-buttons div {\n",
              "      margin-bottom: 4px;\n",
              "    }\n",
              "\n",
              "    [theme=dark] .colab-df-convert {\n",
              "      background-color: #3B4455;\n",
              "      fill: #D2E3FC;\n",
              "    }\n",
              "\n",
              "    [theme=dark] .colab-df-convert:hover {\n",
              "      background-color: #434B5C;\n",
              "      box-shadow: 0px 1px 3px 1px rgba(0, 0, 0, 0.15);\n",
              "      filter: drop-shadow(0px 1px 2px rgba(0, 0, 0, 0.3));\n",
              "      fill: #FFFFFF;\n",
              "    }\n",
              "  </style>\n",
              "\n",
              "    <script>\n",
              "      const buttonEl =\n",
              "        document.querySelector('#df-a8743cce-6e82-4b3f-a274-6c82c3e03fb3 button.colab-df-convert');\n",
              "      buttonEl.style.display =\n",
              "        google.colab.kernel.accessAllowed ? 'block' : 'none';\n",
              "\n",
              "      async function convertToInteractive(key) {\n",
              "        const element = document.querySelector('#df-a8743cce-6e82-4b3f-a274-6c82c3e03fb3');\n",
              "        const dataTable =\n",
              "          await google.colab.kernel.invokeFunction('convertToInteractive',\n",
              "                                                    [key], {});\n",
              "        if (!dataTable) return;\n",
              "\n",
              "        const docLinkHtml = 'Like what you see? Visit the ' +\n",
              "          '<a target=\"_blank\" href=https://colab.research.google.com/notebooks/data_table.ipynb>data table notebook</a>'\n",
              "          + ' to learn more about interactive tables.';\n",
              "        element.innerHTML = '';\n",
              "        dataTable['output_type'] = 'display_data';\n",
              "        await google.colab.output.renderOutput(dataTable, element);\n",
              "        const docLink = document.createElement('div');\n",
              "        docLink.innerHTML = docLinkHtml;\n",
              "        element.appendChild(docLink);\n",
              "      }\n",
              "    </script>\n",
              "  </div>\n",
              "\n",
              "\n",
              "<div id=\"df-ef9ffb5b-da35-455b-b9bc-a1d09a6c6b5e\">\n",
              "  <button class=\"colab-df-quickchart\" onclick=\"quickchart('df-ef9ffb5b-da35-455b-b9bc-a1d09a6c6b5e')\"\n",
              "            title=\"Suggest charts\"\n",
              "            style=\"display:none;\">\n",
              "\n",
              "<svg xmlns=\"http://www.w3.org/2000/svg\" height=\"24px\"viewBox=\"0 0 24 24\"\n",
              "     width=\"24px\">\n",
              "    <g>\n",
              "        <path d=\"M19 3H5c-1.1 0-2 .9-2 2v14c0 1.1.9 2 2 2h14c1.1 0 2-.9 2-2V5c0-1.1-.9-2-2-2zM9 17H7v-7h2v7zm4 0h-2V7h2v10zm4 0h-2v-4h2v4z\"/>\n",
              "    </g>\n",
              "</svg>\n",
              "  </button>\n",
              "\n",
              "<style>\n",
              "  .colab-df-quickchart {\n",
              "      --bg-color: #E8F0FE;\n",
              "      --fill-color: #1967D2;\n",
              "      --hover-bg-color: #E2EBFA;\n",
              "      --hover-fill-color: #174EA6;\n",
              "      --disabled-fill-color: #AAA;\n",
              "      --disabled-bg-color: #DDD;\n",
              "  }\n",
              "\n",
              "  [theme=dark] .colab-df-quickchart {\n",
              "      --bg-color: #3B4455;\n",
              "      --fill-color: #D2E3FC;\n",
              "      --hover-bg-color: #434B5C;\n",
              "      --hover-fill-color: #FFFFFF;\n",
              "      --disabled-bg-color: #3B4455;\n",
              "      --disabled-fill-color: #666;\n",
              "  }\n",
              "\n",
              "  .colab-df-quickchart {\n",
              "    background-color: var(--bg-color);\n",
              "    border: none;\n",
              "    border-radius: 50%;\n",
              "    cursor: pointer;\n",
              "    display: none;\n",
              "    fill: var(--fill-color);\n",
              "    height: 32px;\n",
              "    padding: 0;\n",
              "    width: 32px;\n",
              "  }\n",
              "\n",
              "  .colab-df-quickchart:hover {\n",
              "    background-color: var(--hover-bg-color);\n",
              "    box-shadow: 0 1px 2px rgba(60, 64, 67, 0.3), 0 1px 3px 1px rgba(60, 64, 67, 0.15);\n",
              "    fill: var(--button-hover-fill-color);\n",
              "  }\n",
              "\n",
              "  .colab-df-quickchart-complete:disabled,\n",
              "  .colab-df-quickchart-complete:disabled:hover {\n",
              "    background-color: var(--disabled-bg-color);\n",
              "    fill: var(--disabled-fill-color);\n",
              "    box-shadow: none;\n",
              "  }\n",
              "\n",
              "  .colab-df-spinner {\n",
              "    border: 2px solid var(--fill-color);\n",
              "    border-color: transparent;\n",
              "    border-bottom-color: var(--fill-color);\n",
              "    animation:\n",
              "      spin 1s steps(1) infinite;\n",
              "  }\n",
              "\n",
              "  @keyframes spin {\n",
              "    0% {\n",
              "      border-color: transparent;\n",
              "      border-bottom-color: var(--fill-color);\n",
              "      border-left-color: var(--fill-color);\n",
              "    }\n",
              "    20% {\n",
              "      border-color: transparent;\n",
              "      border-left-color: var(--fill-color);\n",
              "      border-top-color: var(--fill-color);\n",
              "    }\n",
              "    30% {\n",
              "      border-color: transparent;\n",
              "      border-left-color: var(--fill-color);\n",
              "      border-top-color: var(--fill-color);\n",
              "      border-right-color: var(--fill-color);\n",
              "    }\n",
              "    40% {\n",
              "      border-color: transparent;\n",
              "      border-right-color: var(--fill-color);\n",
              "      border-top-color: var(--fill-color);\n",
              "    }\n",
              "    60% {\n",
              "      border-color: transparent;\n",
              "      border-right-color: var(--fill-color);\n",
              "    }\n",
              "    80% {\n",
              "      border-color: transparent;\n",
              "      border-right-color: var(--fill-color);\n",
              "      border-bottom-color: var(--fill-color);\n",
              "    }\n",
              "    90% {\n",
              "      border-color: transparent;\n",
              "      border-bottom-color: var(--fill-color);\n",
              "    }\n",
              "  }\n",
              "</style>\n",
              "\n",
              "  <script>\n",
              "    async function quickchart(key) {\n",
              "      const quickchartButtonEl =\n",
              "        document.querySelector('#' + key + ' button');\n",
              "      quickchartButtonEl.disabled = true;  // To prevent multiple clicks.\n",
              "      quickchartButtonEl.classList.add('colab-df-spinner');\n",
              "      try {\n",
              "        const charts = await google.colab.kernel.invokeFunction(\n",
              "            'suggestCharts', [key], {});\n",
              "      } catch (error) {\n",
              "        console.error('Error during call to suggestCharts:', error);\n",
              "      }\n",
              "      quickchartButtonEl.classList.remove('colab-df-spinner');\n",
              "      quickchartButtonEl.classList.add('colab-df-quickchart-complete');\n",
              "    }\n",
              "    (() => {\n",
              "      let quickchartButtonEl =\n",
              "        document.querySelector('#df-ef9ffb5b-da35-455b-b9bc-a1d09a6c6b5e button');\n",
              "      quickchartButtonEl.style.display =\n",
              "        google.colab.kernel.accessAllowed ? 'block' : 'none';\n",
              "    })();\n",
              "  </script>\n",
              "</div>\n",
              "\n",
              "    </div>\n",
              "  </div>\n"
            ]
          },
          "metadata": {},
          "execution_count": 28
        }
      ]
    },
    {
      "cell_type": "code",
      "source": [
        "x = yearly_accidents['Year'].to_numpy()\n",
        "y = yearly_accidents['Total Accidents'].to_numpy()\n",
        "\n",
        "print (x.shape)\n",
        "print (y.shape)"
      ],
      "metadata": {
        "id": "prv92PeyNPU1",
        "colab": {
          "base_uri": "https://localhost:8080/"
        },
        "outputId": "3a2e85cf-144e-45d4-aff4-a2109af8e8d1"
      },
      "execution_count": 29,
      "outputs": [
        {
          "output_type": "stream",
          "name": "stdout",
          "text": [
            "(40,)\n",
            "(40,)\n"
          ]
        }
      ]
    },
    {
      "cell_type": "code",
      "source": [
        "x = x.reshape((-1, 1))\n",
        "print (x.shape)"
      ],
      "metadata": {
        "id": "SSkHRD4COXln",
        "colab": {
          "base_uri": "https://localhost:8080/"
        },
        "outputId": "5165db96-11a8-49f7-b6ab-e6c686ccd5c2"
      },
      "execution_count": 30,
      "outputs": [
        {
          "output_type": "stream",
          "name": "stdout",
          "text": [
            "(40, 1)\n"
          ]
        }
      ]
    },
    {
      "cell_type": "markdown",
      "source": [
        "Split into Training/Test Data"
      ],
      "metadata": {
        "id": "EfDTfrB2RBtt"
      }
    },
    {
      "cell_type": "code",
      "source": [
        "from sklearn.model_selection import train_test_split\n",
        "\n",
        "x_train, x_test, y_train, y_test = train_test_split(x, y, train_size=0.7 , random_state=0000)"
      ],
      "metadata": {
        "id": "ikRXN-XTQYyG"
      },
      "execution_count": 31,
      "outputs": []
    },
    {
      "cell_type": "code",
      "source": [
        "from sklearn.linear_model import LinearRegression\n",
        "\n",
        "lr = LinearRegression()\n",
        "\n",
        "lr.fit(x_train, y_train)"
      ],
      "metadata": {
        "id": "R0IbaMAZS9NN",
        "colab": {
          "base_uri": "https://localhost:8080/",
          "height": 0
        },
        "outputId": "811a1ee8-9242-4ec8-d04b-89dbbf3be707"
      },
      "execution_count": 32,
      "outputs": [
        {
          "output_type": "execute_result",
          "data": {
            "text/plain": [
              "LinearRegression()"
            ],
            "text/html": [
              "<style>#sk-container-id-1 {color: black;background-color: white;}#sk-container-id-1 pre{padding: 0;}#sk-container-id-1 div.sk-toggleable {background-color: white;}#sk-container-id-1 label.sk-toggleable__label {cursor: pointer;display: block;width: 100%;margin-bottom: 0;padding: 0.3em;box-sizing: border-box;text-align: center;}#sk-container-id-1 label.sk-toggleable__label-arrow:before {content: \"▸\";float: left;margin-right: 0.25em;color: #696969;}#sk-container-id-1 label.sk-toggleable__label-arrow:hover:before {color: black;}#sk-container-id-1 div.sk-estimator:hover label.sk-toggleable__label-arrow:before {color: black;}#sk-container-id-1 div.sk-toggleable__content {max-height: 0;max-width: 0;overflow: hidden;text-align: left;background-color: #f0f8ff;}#sk-container-id-1 div.sk-toggleable__content pre {margin: 0.2em;color: black;border-radius: 0.25em;background-color: #f0f8ff;}#sk-container-id-1 input.sk-toggleable__control:checked~div.sk-toggleable__content {max-height: 200px;max-width: 100%;overflow: auto;}#sk-container-id-1 input.sk-toggleable__control:checked~label.sk-toggleable__label-arrow:before {content: \"▾\";}#sk-container-id-1 div.sk-estimator input.sk-toggleable__control:checked~label.sk-toggleable__label {background-color: #d4ebff;}#sk-container-id-1 div.sk-label input.sk-toggleable__control:checked~label.sk-toggleable__label {background-color: #d4ebff;}#sk-container-id-1 input.sk-hidden--visually {border: 0;clip: rect(1px 1px 1px 1px);clip: rect(1px, 1px, 1px, 1px);height: 1px;margin: -1px;overflow: hidden;padding: 0;position: absolute;width: 1px;}#sk-container-id-1 div.sk-estimator {font-family: monospace;background-color: #f0f8ff;border: 1px dotted black;border-radius: 0.25em;box-sizing: border-box;margin-bottom: 0.5em;}#sk-container-id-1 div.sk-estimator:hover {background-color: #d4ebff;}#sk-container-id-1 div.sk-parallel-item::after {content: \"\";width: 100%;border-bottom: 1px solid gray;flex-grow: 1;}#sk-container-id-1 div.sk-label:hover label.sk-toggleable__label {background-color: #d4ebff;}#sk-container-id-1 div.sk-serial::before {content: \"\";position: absolute;border-left: 1px solid gray;box-sizing: border-box;top: 0;bottom: 0;left: 50%;z-index: 0;}#sk-container-id-1 div.sk-serial {display: flex;flex-direction: column;align-items: center;background-color: white;padding-right: 0.2em;padding-left: 0.2em;position: relative;}#sk-container-id-1 div.sk-item {position: relative;z-index: 1;}#sk-container-id-1 div.sk-parallel {display: flex;align-items: stretch;justify-content: center;background-color: white;position: relative;}#sk-container-id-1 div.sk-item::before, #sk-container-id-1 div.sk-parallel-item::before {content: \"\";position: absolute;border-left: 1px solid gray;box-sizing: border-box;top: 0;bottom: 0;left: 50%;z-index: -1;}#sk-container-id-1 div.sk-parallel-item {display: flex;flex-direction: column;z-index: 1;position: relative;background-color: white;}#sk-container-id-1 div.sk-parallel-item:first-child::after {align-self: flex-end;width: 50%;}#sk-container-id-1 div.sk-parallel-item:last-child::after {align-self: flex-start;width: 50%;}#sk-container-id-1 div.sk-parallel-item:only-child::after {width: 0;}#sk-container-id-1 div.sk-dashed-wrapped {border: 1px dashed gray;margin: 0 0.4em 0.5em 0.4em;box-sizing: border-box;padding-bottom: 0.4em;background-color: white;}#sk-container-id-1 div.sk-label label {font-family: monospace;font-weight: bold;display: inline-block;line-height: 1.2em;}#sk-container-id-1 div.sk-label-container {text-align: center;}#sk-container-id-1 div.sk-container {/* jupyter's `normalize.less` sets `[hidden] { display: none; }` but bootstrap.min.css set `[hidden] { display: none !important; }` so we also need the `!important` here to be able to override the default hidden behavior on the sphinx rendered scikit-learn.org. See: https://github.com/scikit-learn/scikit-learn/issues/21755 */display: inline-block !important;position: relative;}#sk-container-id-1 div.sk-text-repr-fallback {display: none;}</style><div id=\"sk-container-id-1\" class=\"sk-top-container\"><div class=\"sk-text-repr-fallback\"><pre>LinearRegression()</pre><b>In a Jupyter environment, please rerun this cell to show the HTML representation or trust the notebook. <br />On GitHub, the HTML representation is unable to render, please try loading this page with nbviewer.org.</b></div><div class=\"sk-container\" hidden><div class=\"sk-item\"><div class=\"sk-estimator sk-toggleable\"><input class=\"sk-toggleable__control sk-hidden--visually\" id=\"sk-estimator-id-1\" type=\"checkbox\" checked><label for=\"sk-estimator-id-1\" class=\"sk-toggleable__label sk-toggleable__label-arrow\">LinearRegression</label><div class=\"sk-toggleable__content\"><pre>LinearRegression()</pre></div></div></div></div></div>"
            ]
          },
          "metadata": {},
          "execution_count": 32
        }
      ]
    },
    {
      "cell_type": "code",
      "source": [
        "x_predict=[[y] for y in range (1982, 2022)]\n",
        "y_predict=lr.predict(x_predict)\n",
        "\n",
        "f, axes = plt.subplots(1,1, figsize=(20,8))\n",
        "plt.plot(x,y)\n",
        "plt.plot(x_predict, y_predict, alpha = 0.5)\n",
        "\n",
        "#Predict next 7 years of accidents\n",
        "\n",
        "print('Accident predictions for the next 7 years:')\n",
        "for i in range (0,7):\n",
        "  year=2022+i\n",
        "  n=-7+i\n",
        "  print('%d: %d' % (year, y_predict[n]))\n",
        "print('Slope: ', lr.coef_)"
      ],
      "metadata": {
        "id": "mFeHLffcTYk6",
        "colab": {
          "base_uri": "https://localhost:8080/",
          "height": 0
        },
        "outputId": "4d056f7d-4aaa-4a49-9ee3-2ec3af117339"
      },
      "execution_count": 33,
      "outputs": [
        {
          "output_type": "stream",
          "name": "stdout",
          "text": [
            "Accident predictions for the next 7 years:\n",
            "2022: 91\n",
            "2023: 88\n",
            "2024: 85\n",
            "2025: 81\n",
            "2026: 78\n",
            "2027: 75\n",
            "2028: 71\n",
            "Slope:  [-3.39263247]\n"
          ]
        },
        {
          "output_type": "display_data",
          "data": {
            "text/plain": [
              "<Figure size 2000x800 with 1 Axes>"
            ],
            "image/png": "[encoded data removed]"
          },
          "metadata": {}
        }
      ]
    },
    {
      "cell_type": "markdown",
      "source": [
        "This linear regression model is predicting the number of aviation accidents in Alaska will go down by approximately 3 per year."
      ],
      "metadata": {
        "id": "1tmY20UBQ6Zj"
      }
    },
    {
      "cell_type": "markdown",
      "source": [
        "Accident Prediction: Input a year to predict the number of aviation accidents."
      ],
      "metadata": {
        "id": "Xf1e2lqt2WM9"
      }
    },
    {
      "cell_type": "code",
      "source": [
        "print(lr.predict([[2023]]))"
      ],
      "metadata": {
        "id": "ZdCO73sw5NPp",
        "colab": {
          "base_uri": "https://localhost:8080/"
        },
        "outputId": "b9990091-d380-493c-a257-b398f0959723"
      },
      "execution_count": 34,
      "outputs": [
        {
          "output_type": "stream",
          "name": "stdout",
          "text": [
            "[64.84674752]\n"
          ]
        }
      ]
    },
    {
      "cell_type": "markdown",
      "source": [
        "Mean Square Error"
      ],
      "metadata": {
        "id": "PnFU581iRTfr"
      }
    },
    {
      "cell_type": "code",
      "source": [
        "print(y.shape)\n",
        "print(y_predict.shape)"
      ],
      "metadata": {
        "id": "TggJi8Y5VUPk",
        "colab": {
          "base_uri": "https://localhost:8080/"
        },
        "outputId": "ae68e019-7bda-4d47-87f0-875bb92ab988"
      },
      "execution_count": 35,
      "outputs": [
        {
          "output_type": "stream",
          "name": "stdout",
          "text": [
            "(40,)\n",
            "(40,)\n"
          ]
        }
      ]
    },
    {
      "cell_type": "code",
      "source": [
        "from sklearn.metrics import mean_squared_error, r2_score\n",
        "mse = mean_squared_error(y, y_predict)\n",
        "print('Mean Square Error: ', mse)\n",
        "\n",
        "r2 = r2_score(y, y_predict)\n",
        "print('R2: ', r2)"
      ],
      "metadata": {
        "id": "RhJ-YTKtRU6C",
        "colab": {
          "base_uri": "https://localhost:8080/"
        },
        "outputId": "4214e3ff-d242-4384-ea7f-fe3bff196b05"
      },
      "execution_count": 36,
      "outputs": [
        {
          "output_type": "stream",
          "name": "stdout",
          "text": [
            "Mean Square Error:  185.79312556807238\n",
            "R2:  0.8992758827802363\n"
          ]
        }
      ]
    }
  ],
  "metadata": {
    "colab": {
      "toc_visible": true,
      "provenance": [],
      "history_visible": true,
      "collapsed_sections": [
        "pKdl4EUI2lue",
        "F5FeClzz7URa",
        "Vogt7WLSUcBE",
        "uz-_9AjslKTj"
      ],
      "include_colab_link": true
    },
    "kernelspec": {
      "display_name": "Python 3",
      "name": "python3"
    },
    "language_info": {
      "name": "python"
    }
  },
  "nbformat": 4,
  "nbformat_minor": 0
}